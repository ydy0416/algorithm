{
 "cells": [
  {
   "cell_type": "code",
   "execution_count": 14,
   "metadata": {},
   "outputs": [
    {
     "name": "stdout",
     "output_type": "stream",
     "text": [
      "12\n",
      "1 2\n",
      "1 3\n",
      "2 4\n",
      "3 5\n",
      "3 6\n",
      "4 7\n",
      "4 8\n",
      "5 9\n",
      "5 10\n",
      "6 11\n",
      "6 12\n",
      "1\n",
      "1\n",
      "2\n",
      "3\n",
      "3\n",
      "4\n",
      "4\n",
      "5\n",
      "5\n",
      "6\n",
      "6\n"
     ]
    }
   ],
   "source": [
    "n=int(input())\n",
    "tree=[[] for i in range(n+1)]\n",
    "one=[]\n",
    "visited=[[False] for i in range(n+1)]\n",
    "for i in range(n-1):\n",
    "    a,b=map(int, input().split())\n",
    "    if a==1:\n",
    "        tree[a].append(b)\n",
    "        one.append(b)\n",
    "        visited[a]=True\n",
    "        visited[b]=True\n",
    "        continue\n",
    "    elif b==1:\n",
    "        tree[b].append(a)\n",
    "        one.append(a)\n",
    "        visited[a]=True\n",
    "        visited[b]=True\n",
    "        continue\n",
    "    if visited[a] is True:\n",
    "        tree[a].append(b)\n",
    "        visited[a]=True\n",
    "        visited[b]=True\n",
    "    else:\n",
    "        tree[b].append(a)\n",
    "        visited[a]=True\n",
    "        visited[b]=True\n",
    "\n",
    "for i in range(1,n+1):\n",
    "    for a,b in enumerate(tree):\n",
    "        if i in b:\n",
    "            print(a)\n",
    "\n",
    "    "
   ]
  }
 ],
 "metadata": {
  "kernelspec": {
   "display_name": "Python 3",
   "language": "python",
   "name": "python3"
  },
  "language_info": {
   "codemirror_mode": {
    "name": "ipython",
    "version": 3
   },
   "file_extension": ".py",
   "mimetype": "text/x-python",
   "name": "python",
   "nbconvert_exporter": "python",
   "pygments_lexer": "ipython3",
   "version": "3.7.6"
  }
 },
 "nbformat": 4,
 "nbformat_minor": 4
}
