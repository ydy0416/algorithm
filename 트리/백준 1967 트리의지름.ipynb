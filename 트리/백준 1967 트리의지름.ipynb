{
 "cells": [
  {
   "cell_type": "code",
   "execution_count": 70,
   "metadata": {},
   "outputs": [
    {
     "name": "stdout",
     "output_type": "stream",
     "text": [
      "3\n",
      "1 3 2\n",
      "2 1 3\n",
      "5\n"
     ]
    }
   ],
   "source": [
    "from collections import deque\n",
    "def bfs(graph,start,visited,res):\n",
    "    visited[start]=True\n",
    "    q=deque()\n",
    "    q.append((start,0))\n",
    "    maximum=0\n",
    "    while q:\n",
    "        now,ndis=q.popleft()\n",
    "        res[now]=ndis\n",
    "        for a,b in graph[now]:\n",
    "#             print(a,b)\n",
    "            if not visited[a]:\n",
    "                visited[a]=True\n",
    "                q.append((a,ndis+b))\n",
    "                \n",
    "n=int(input())\n",
    "graph=[[] for i in range(n+1)]\n",
    "for i in range(n-1):\n",
    "    a,b,c=map(int,input().split())\n",
    "    graph[a].append((b,c))\n",
    "    graph[b].append((a,c))\n",
    "# print(graph)\n",
    "res=[0 for i in range(n+1)]\n",
    "visited=[False]*(n+1)\n",
    "\n",
    "bfs(graph,1,visited,res)\n",
    "res[1]=0\n",
    "max_value=0\n",
    "for i in range(1,n+1):\n",
    "    if max_value<res[i]:\n",
    "        max_value=res[i]\n",
    "        start=i\n",
    "\n",
    "#두번째 bfs\n",
    "res=[0 for i in range(n+1)]\n",
    "visited=[False]*(n+1)\n",
    "bfs(graph,start,visited,res)\n",
    "print(max(res))"
   ]
  }
 ],
 "metadata": {
  "kernelspec": {
   "display_name": "Python 3",
   "language": "python",
   "name": "python3"
  },
  "language_info": {
   "codemirror_mode": {
    "name": "ipython",
    "version": 3
   },
   "file_extension": ".py",
   "mimetype": "text/x-python",
   "name": "python",
   "nbconvert_exporter": "python",
   "pygments_lexer": "ipython3",
   "version": "3.7.6"
  }
 },
 "nbformat": 4,
 "nbformat_minor": 4
}
