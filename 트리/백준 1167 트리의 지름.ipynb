{
 "cells": [
  {
   "cell_type": "code",
   "execution_count": 26,
   "metadata": {},
   "outputs": [
    {
     "name": "stdout",
     "output_type": "stream",
     "text": [
      "5\n",
      "1 3 2 -1\n",
      "['1', '3', '2', '-1']\n",
      "2 4 4 -1\n",
      "['2', '4', '4', '-1']\n",
      "3 1 2 4 3 -1\n",
      "['3', '1', '2', '4', '3', '-1']\n",
      "4 2 4 3 3 5 6 -1\n",
      "['4', '2', '4', '3', '3', '5', '6', '-1']\n",
      "5 4 6 -1\n",
      "['5', '4', '6', '-1']\n"
     ]
    }
   ],
   "source": [
    "n=int(input())\n",
    "graph=[[] for i in range(n+1)]\n",
    "tmp=[]\n",
    "visited=[]\n",
    "for i in range(n):\n",
    "    tmp=list(input().split())\n",
    "    tmp1=1\n",
    "    print(tmp)\n",
    "    for i in range((len(tmp)-2)//2):\n",
    "        graph[int(tmp[0])].append((int(tmp[tmp1]),int(tmp[tmp1+1])))\n",
    "        tmp1+=1"
   ]
  },
  {
   "cell_type": "code",
   "execution_count": 27,
   "metadata": {},
   "outputs": [
    {
     "data": {
      "text/plain": [
       "[[], [(3, 2)], [(4, 4)], [(1, 2), (2, 4)], [(2, 4), (4, 3), (3, 3)], [(4, 6)]]"
      ]
     },
     "execution_count": 27,
     "metadata": {},
     "output_type": "execute_result"
    }
   ],
   "source": [
    "graph"
   ]
  },
  {
   "cell_type": "code",
   "execution_count": 30,
   "metadata": {},
   "outputs": [
    {
     "name": "stdout",
     "output_type": "stream",
     "text": [
      "11\n"
     ]
    }
   ],
   "source": [
    "max_len = 0\n",
    "def dfs(graph, v, len, visited):\n",
    "    global max_len\n",
    "    for i in graph[v]:\n",
    "        if visited[i[0]] == False:\n",
    "            visited[i[0]] = True\n",
    "            dfs(graph, i[0], len+i[1], visited)\n",
    "    max_len = max(max_len, len)\n",
    "\n",
    "for i in range(1, n+1):\n",
    "    visited = [False] * (n+1)\n",
    "    visited[i] = True\n",
    "    dfs(graph, i, 0, visited)\n",
    "print(max_len)"
   ]
  }
 ],
 "metadata": {
  "kernelspec": {
   "display_name": "Python 3",
   "language": "python",
   "name": "python3"
  },
  "language_info": {
   "codemirror_mode": {
    "name": "ipython",
    "version": 3
   },
   "file_extension": ".py",
   "mimetype": "text/x-python",
   "name": "python",
   "nbconvert_exporter": "python",
   "pygments_lexer": "ipython3",
   "version": "3.7.6"
  }
 },
 "nbformat": 4,
 "nbformat_minor": 4
}
