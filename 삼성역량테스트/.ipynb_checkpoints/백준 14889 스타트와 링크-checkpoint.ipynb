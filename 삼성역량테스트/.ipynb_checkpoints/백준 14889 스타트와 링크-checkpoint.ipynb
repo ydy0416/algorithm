{
 "cells": [
  {
   "cell_type": "code",
   "execution_count": 38,
   "metadata": {},
   "outputs": [
    {
     "name": "stdout",
     "output_type": "stream",
     "text": [
      "8\n",
      "0 5 4 5 4 5 4 5\n",
      "4 0 5 1 2 3 4 5\n",
      "9 8 0 1 2 3 1 2\n",
      "9 9 9 0 9 9 9 9\n",
      "1 1 1 1 0 1 1 1\n",
      "8 7 6 5 4 0 3 2\n",
      "9 1 9 1 9 1 0 9\n",
      "6 5 4 3 2 1 9 0\n",
      "1\n"
     ]
    }
   ],
   "source": [
    "from itertools import combinations\n",
    "n=int(input())\n",
    "graph=[]\n",
    "for i in range(n):\n",
    "    graph.append(list(map(int, input().split())))\n",
    "#총 인원\n",
    "members=[]\n",
    "for i in range(n):\n",
    "    members.append(i)\n",
    "\n",
    "ans=2147000000\n",
    "for cand in combinations(members,n//2):\n",
    "    start_team=list(cand)\n",
    "    link_team=list(set(members)-set(cand))\n",
    "#     print(start_team,link_team)\n",
    "    \n",
    "    start_sum=0\n",
    "    for a,b in combinations(start_team,2):\n",
    "        start_sum+=graph[a][b]+graph[b][a]\n",
    "    link_sum=0\n",
    "    for a,b in combinations(link_team,2):\n",
    "        link_sum+=graph[a][b]+graph[b][a]\n",
    "    if ans>abs(start_sum-link_sum):\n",
    "        ans=abs(start_sum-link_sum)\n",
    "print(ans)"
   ]
  }
 ],
 "metadata": {
  "kernelspec": {
   "display_name": "Python 3",
   "language": "python",
   "name": "python3"
  },
  "language_info": {
   "codemirror_mode": {
    "name": "ipython",
    "version": 3
   },
   "file_extension": ".py",
   "mimetype": "text/x-python",
   "name": "python",
   "nbconvert_exporter": "python",
   "pygments_lexer": "ipython3",
   "version": "3.7.6"
  }
 },
 "nbformat": 4,
 "nbformat_minor": 4
}
