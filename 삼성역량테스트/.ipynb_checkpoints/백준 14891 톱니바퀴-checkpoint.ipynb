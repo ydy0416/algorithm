{
 "cells": [
  {
   "cell_type": "code",
   "execution_count": 155,
   "metadata": {},
   "outputs": [
    {
     "name": "stdout",
     "output_type": "stream",
     "text": [
      "10010011\n",
      "01010011\n",
      "11100011\n",
      "01010101\n",
      "8\n",
      "1 1\n",
      "2 1\n",
      "3 1\n",
      "4 1\n",
      "1 -1\n",
      "2 -1\n",
      "3 -1\n",
      "4 -1\n",
      "5\n"
     ]
    }
   ],
   "source": [
    "# https://pacific-ocean.tistory.com/369\n",
    "\n",
    "def isRotate(n,d):\n",
    "    isRotate=[False]*4\n",
    "    direction=[0]*4\n",
    "    tempn=n\n",
    "    tempd=d\n",
    "    isRotate[n]=True\n",
    "    direction[n]=d\n",
    "    #오른쪽방향으로 확인\n",
    "    for i in range(n+1,4):\n",
    "        #톱니가 서로 다르다\n",
    "        if s[tempn][2]!=s[i][6]:\n",
    "            isRotate[i]=True\n",
    "            tempd=-tempd\n",
    "            direction[i]=tempd\n",
    "            tempn=i\n",
    "        else:\n",
    "            break\n",
    "    tempn=n\n",
    "    tempd=d\n",
    "    #왼쪽방향으로 확인\n",
    "    for i in range(n-1,-1,-1):\n",
    "        if s[tempn][6]!=s[i][2]:\n",
    "            isRotate[i]=True\n",
    "            tempd=-tempd\n",
    "            direction[i]=tempd\n",
    "            tempn=i\n",
    "        else:\n",
    "            break\n",
    "    \n",
    "    for i in range(4):\n",
    "        #회전 True\n",
    "        if isRotate[i]==True:\n",
    "            #회전방향이 시계방향\n",
    "            if direction[i]==1:\n",
    "                temp=s[i].pop()\n",
    "                s[i]=[temp]+s[i]\n",
    "            #반시계방향\n",
    "            else:\n",
    "                temp=s[i][0]\n",
    "                del s[i][0]\n",
    "                s[i].append(temp)\n",
    "        #회전 False\n",
    "        else:\n",
    "            continue\n",
    "\n",
    "s=[]\n",
    "for i in range(4):\n",
    "    s.append(list(map(int,input())))\n",
    "k=int(input())\n",
    "order=[]\n",
    "for _ in range(k):\n",
    "    order.append(list(map(int,input().split())))\n",
    "# s=[[1, 0, 1, 0, 1, 1, 1, 1],\n",
    "#  [0, 1, 1, 1, 1, 1, 0, 1],\n",
    "#  [1, 1, 0, 0, 1, 1, 1, 0],\n",
    "#  [0, 0, 0, 0, 0, 0, 1, 0]]\n",
    "# k=2\n",
    "# order=[[3, -1], [1, 1]]\n",
    "\n",
    "for n,d in order:\n",
    "    isRotate(n-1,d)\n",
    "\n",
    "ans=0\n",
    "for i in range(4):\n",
    "    if s[i][0]==1:\n",
    "        ans+=(2**i)\n",
    "print(ans)"
   ]
  },
  {
   "cell_type": "code",
   "execution_count": null,
   "metadata": {},
   "outputs": [],
   "source": [
    "10010011\n",
    "01010011\n",
    "11100011\n",
    "01010101\n",
    "8\n",
    "1 1\n",
    "2 1\n",
    "3 1\n",
    "4 1\n",
    "1 -1\n",
    "2 -1\n",
    "3 -1\n",
    "4 -1"
   ]
  },
  {
   "cell_type": "code",
   "execution_count": 150,
   "metadata": {},
   "outputs": [
    {
     "name": "stdout",
     "output_type": "stream",
     "text": [
      "7\n"
     ]
    }
   ],
   "source": []
  }
 ],
 "metadata": {
  "kernelspec": {
   "display_name": "Python 3",
   "language": "python",
   "name": "python3"
  },
  "language_info": {
   "codemirror_mode": {
    "name": "ipython",
    "version": 3
   },
   "file_extension": ".py",
   "mimetype": "text/x-python",
   "name": "python",
   "nbconvert_exporter": "python",
   "pygments_lexer": "ipython3",
   "version": "3.7.6"
  }
 },
 "nbformat": 4,
 "nbformat_minor": 4
}
