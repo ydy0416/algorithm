{
 "cells": [
  {
   "cell_type": "code",
   "execution_count": 1,
   "metadata": {},
   "outputs": [
    {
     "name": "stdout",
     "output_type": "stream",
     "text": [
      "2\n",
      "5 6\n",
      "0 0 1 0\n",
      "2 [5, 6] [0, 0, 1, 0]\n"
     ]
    }
   ],
   "source": [
    "def mmin(num,oper):\n",
    "    tmp=num[0]\n",
    "    for i in range(1,n):\n",
    "        \n",
    "\n",
    "def mmax(num,oper):\n",
    "    pass\n",
    "\n",
    "\n",
    "n=int(input())\n",
    "num=list(map(int,input().split()))\n",
    "oper=list(map(int,input().split()))\n",
    "\n",
    "result_min=0\n",
    "result_max=0\n",
    "#최소값 구하기\n",
    "mmin(num,oper)\n",
    "    "
   ]
  }
 ],
 "metadata": {
  "kernelspec": {
   "display_name": "Python 3",
   "language": "python",
   "name": "python3"
  },
  "language_info": {
   "codemirror_mode": {
    "name": "ipython",
    "version": 3
   },
   "file_extension": ".py",
   "mimetype": "text/x-python",
   "name": "python",
   "nbconvert_exporter": "python",
   "pygments_lexer": "ipython3",
   "version": "3.7.6"
  }
 },
 "nbformat": 4,
 "nbformat_minor": 4
}
