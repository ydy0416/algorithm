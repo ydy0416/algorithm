{
 "cells": [
  {
   "cell_type": "code",
   "execution_count": 9,
   "metadata": {},
   "outputs": [
    {
     "name": "stdout",
     "output_type": "stream",
     "text": [
      "deque([(7, 4, 0)])\n"
     ]
    }
   ],
   "source": [
    "from collections import deque\n",
    "# n,m=map(int, input().split())\n",
    "# r,c,d=map(int,input().split())\n",
    "# graph=[]\n",
    "# for i in range(n):\n",
    "#     graph.append(list(map(int, input().split())))\n",
    "n,m=11,10\n",
    "r,c,d=7,4,0\n",
    "graph=[[1, 1, 1, 1, 1, 1, 1, 1, 1, 1],\n",
    " [1, 0, 0, 0, 0, 0, 0, 0, 0, 1],\n",
    " [1, 0, 0, 0, 1, 1, 1, 1, 0, 1],\n",
    " [1, 0, 0, 1, 1, 0, 0, 0, 0, 1],\n",
    " [1, 0, 1, 1, 0, 0, 0, 0, 0, 1],\n",
    " [1, 0, 0, 0, 0, 0, 0, 0, 0, 1],\n",
    " [1, 0, 0, 0, 0, 0, 0, 1, 0, 1],\n",
    " [1, 0, 0, 0, 0, 0, 1, 1, 0, 1],\n",
    " [1, 0, 0, 0, 0, 0, 1, 1, 0, 1],\n",
    " [1, 0, 0, 0, 0, 0, 0, 0, 0, 1],\n",
    " [1, 1, 1, 1, 1, 1, 1, 1, 1, 1]]\n",
    "queue=deque()\n",
    "queue.append((r,c,d))\n",
    "print(queue)"
   ]
  },
  {
   "cell_type": "code",
   "execution_count": 10,
   "metadata": {},
   "outputs": [
    {
     "name": "stdout",
     "output_type": "stream",
     "text": [
      "7 4 0\n"
     ]
    }
   ],
   "source": [
    "#d가 0인 경우에는 북쪽을, 1인 경우에는 동쪽을, 2인 경우에는 남쪽을, 3인 경우에는 서쪽을 바라보고 있는 것이다.\n",
    "while queue:\n",
    "    #현재위치와 방향추출\n",
    "    x,y,dir=queue.popleft()\n",
    "    #빈공간일때\n",
    "    if graph[x][y]==0:\n",
    "        #청소\n",
    "        graph[x][y]=2\n",
    "        if dir==0:\n",
    "            queue.append((x,y-1))\n",
    "        elif dir==1:\n",
    "            queue.append((x-1,y))\n",
    "        elif dir==2:\n",
    "            queue.append((x,y+1))\n",
    "        elif dir==3:\n",
    "            queue.append((x+1,y))\n",
    "\n",
    "    #빈 공간이 아닐 때\n",
    "    else:\n",
    "    "
   ]
  },
  {
   "cell_type": "code",
   "execution_count": null,
   "metadata": {},
   "outputs": [],
   "source": [
    "# 1현재 위치를 청소한다. d가 0인 경우에는 북쪽을, 1인 경우에는 동쪽을, 2인 경우에는 남쪽을, 3인 경우에는 서쪽을 바라보고 있는 것이다.\n",
    "# 2 현재 위치에서 현재 방향을 기준으로 왼쪽방향부터 차례대로 탐색을 진행한다.\n",
    "#  a 왼쪽 방향에 아직 청소하지 않은 공간이 존재한다면, 그 방향으로 회전한 다음 한 칸을 전진하고 1번부터 진행한다.\n",
    "#  b 왼쪽 방향에 청소할 공간이 없다면, 그 방향으로 회전하고 2번으로 돌아간다.\n",
    "#  c 네 방향 모두 청소가 이미 되어있거나 벽인 경우에는, 바라보는 방향을 유지한 채로 한 칸 후진을 하고 2번으로 돌아간다.\n",
    "#  d 네 방향 모두 청소가 이미 되어있거나 벽이면서, 뒤쪽 방향이 벽이라 후진도 할 수 없는 경우에는 작동을 멈춘다."
   ]
  },
  {
   "cell_type": "code",
   "execution_count": null,
   "metadata": {},
   "outputs": [],
   "source": [
    "11 10\n",
    "7 4 0\n",
    "1  1  1  1  1  1  1  1  1  1\n",
    "1  0  0  0  0  0  0  0  0  1\n",
    "1  0  0  0  1  1  1  1  0  1\n",
    "1  0  0  1  1  0  0  0  0  1\n",
    "1  0  1  1  0  0  0  0  0  1\n",
    "1  0  0  12 11 0  0  0  0  1\n",
    "1  0  14 13 10 9  0  1  0  1\n",
    "1  16 15 2  1  8  1  1  0  1\n",
    "1  17 18 3  4  7  1  1  0  1\n",
    "1  21 19 20 5  6  0  0  0  1\n",
    "1  1  1  1  1  1  1  1  1  1"
   ]
  }
 ],
 "metadata": {
  "kernelspec": {
   "display_name": "Python 3",
   "language": "python",
   "name": "python3"
  },
  "language_info": {
   "codemirror_mode": {
    "name": "ipython",
    "version": 3
   },
   "file_extension": ".py",
   "mimetype": "text/x-python",
   "name": "python",
   "nbconvert_exporter": "python",
   "pygments_lexer": "ipython3",
   "version": "3.7.6"
  }
 },
 "nbformat": 4,
 "nbformat_minor": 4
}
