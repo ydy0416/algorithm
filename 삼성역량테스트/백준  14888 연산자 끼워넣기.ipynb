{
 "cells": [
  {
   "cell_type": "code",
   "execution_count": 52,
   "metadata": {},
   "outputs": [
    {
     "name": "stdout",
     "output_type": "stream",
     "text": [
      "2\n",
      "-7 6\n",
      "0 0 0 1\n",
      "-1\n",
      "-1\n"
     ]
    }
   ],
   "source": [
    "from itertools import permutations\n",
    "n=int(input())\n",
    "num=list(map(int,input().split()))\n",
    "plus,minus,multiple,division=list(map(int,input().split()))\n",
    "\n",
    "new=[]\n",
    "new+=[1]*plus\n",
    "new+=[2]*minus\n",
    "new+=[3]*multiple\n",
    "new+=[4]*division\n",
    "\n",
    "order=list(permutations(new,n-1))\n",
    "\n",
    "max_value=-2147000000\n",
    "min_value=2147000000\n",
    "for i in order:\n",
    "    #최대최소 초기화\n",
    "    result=num[0]\n",
    "    start=1\n",
    "    for j in i:\n",
    "        if j==1:\n",
    "            result+=num[start]\n",
    "        elif j==2:\n",
    "            result-=num[start]\n",
    "        elif j==3:\n",
    "            result*=num[start]\n",
    "        else :\n",
    "            if result>0:\n",
    "                result=result//num[start]\n",
    "            else:\n",
    "                result=-(-result//num[start])\n",
    "        start+=1\n",
    "    if result>max_value:\n",
    "        max_value=result\n",
    "    if result<min_value:\n",
    "        min_value=result\n",
    "print(max_value)\n",
    "print(min_value)"
   ]
  },
  {
   "cell_type": "code",
   "execution_count": 43,
   "metadata": {},
   "outputs": [
    {
     "data": {
      "text/plain": [
       "[3]"
      ]
     },
     "execution_count": 43,
     "metadata": {},
     "output_type": "execute_result"
    }
   ],
   "source": [
    "new"
   ]
  },
  {
   "cell_type": "code",
   "execution_count": 1,
   "metadata": {},
   "outputs": [
    {
     "data": {
      "text/plain": [
       "39916800"
      ]
     },
     "execution_count": 1,
     "metadata": {},
     "output_type": "execute_result"
    }
   ],
   "source": [
    "11*10*9*8*7*6*5*4*3*2*1"
   ]
  }
 ],
 "metadata": {
  "kernelspec": {
   "display_name": "Python 3",
   "language": "python",
   "name": "python3"
  },
  "language_info": {
   "codemirror_mode": {
    "name": "ipython",
    "version": 3
   },
   "file_extension": ".py",
   "mimetype": "text/x-python",
   "name": "python",
   "nbconvert_exporter": "python",
   "pygments_lexer": "ipython3",
   "version": "3.7.6"
  }
 },
 "nbformat": 4,
 "nbformat_minor": 4
}
