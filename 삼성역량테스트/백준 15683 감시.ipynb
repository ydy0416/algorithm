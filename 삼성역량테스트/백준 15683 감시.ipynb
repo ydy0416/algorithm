{
 "cells": [
  {
   "cell_type": "code",
   "execution_count": 34,
   "metadata": {},
   "outputs": [
    {
     "name": "stdout",
     "output_type": "stream",
     "text": [
      "[(5, 5)]\n",
      "deque([(1, 1, 2), (3, 4, 2)])\n",
      "[[0, 0, 0, 0, 0, '#'], [0, 2, 0, 0, 0, '#'], [0, 0, 0, 0, 6, '#'], [0, 6, 0, 0, 2, '#'], [0, 0, 0, 0, 0, '#'], ['#', '#', '#', '#', '#', 5]]\n"
     ]
    }
   ],
   "source": [
    "from collections import deque\n",
    "def bfs(graph,queue):\n",
    "    pass\n",
    "\n",
    "# n,m=map(int,input().split())\n",
    "# graph=[]\n",
    "n,m=6,6\n",
    "graph=[[0,0,0,0,0,0],[0,2,0,0,0,0],[0,0,0,0,6,0],[0,6,0,0,2,0],[0,0,0,0,0,0],[0,0,0,0,0,5]]\n",
    "\n",
    "queue=deque()\n",
    "CCTV5=[]\n",
    "for i in range(n):\n",
    "#     graph.append(list(map(int,input().split())))\n",
    "    for j in range(m):\n",
    "        #CCTV 큐에 넣기\n",
    "        if graph[i][j]!=0 and graph[i][j]!=6 and graph[i][j]!=5:\n",
    "            queue.append((i,j,graph[i][j]))\n",
    "        elif graph[i][j]==5:\n",
    "            CCTV5.append((i,j))\n",
    "            \n",
    "for a,b in CCTV5:\n",
    "    for i in range(m):\n",
    "        if graph[a][i]==0:\n",
    "            graph[a][i]='#'\n",
    "    for j in range(n):\n",
    "        if graph[j][b]==0:\n",
    "            graph[j][b]='#'\n",
    "print(graph)\n",
    "dx=[0,0,1,-1]\n",
    "dy=[1,-1,0,0]\n",
    "# while queue:\n",
    "#     x,y,CCTV=queue.popleft()\n",
    "    \n",
    "    "
   ]
  }
 ],
 "metadata": {
  "kernelspec": {
   "display_name": "Python 3",
   "language": "python",
   "name": "python3"
  },
  "language_info": {
   "codemirror_mode": {
    "name": "ipython",
    "version": 3
   },
   "file_extension": ".py",
   "mimetype": "text/x-python",
   "name": "python",
   "nbconvert_exporter": "python",
   "pygments_lexer": "ipython3",
   "version": "3.7.6"
  }
 },
 "nbformat": 4,
 "nbformat_minor": 4
}
