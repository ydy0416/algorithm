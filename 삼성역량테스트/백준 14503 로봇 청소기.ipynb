{
 "cells": [
  {
   "cell_type": "code",
   "execution_count": 79,
   "metadata": {},
   "outputs": [
    {
     "name": "stdout",
     "output_type": "stream",
     "text": [
      "3 3\n",
      "1 1 0\n",
      "1 1 1\n",
      "1 0 1\n",
      "1 1 1\n",
      "1\n"
     ]
    }
   ],
   "source": [
    "from collections import deque\n",
    "n,m=map(int, input().split())\n",
    "r,c,d=map(int,input().split())\n",
    "graph=[]\n",
    "for i in range(n):\n",
    "    graph.append(list(map(int, input().split())))\n",
    "# n,m=11,10\n",
    "# r,c,d=7,4,0\n",
    "# graph=[[1, 1, 1, 1, 1, 1, 1, 1, 1, 1],\n",
    "#  [1, 0, 0, 0, 0, 0, 0, 0, 0, 1],\n",
    "#  [1, 0, 0, 0, 1, 1, 1, 1, 0, 1],\n",
    "#  [1, 0, 0, 1, 1, 0, 0, 0, 0, 1],\n",
    "#  [1, 0, 1, 1, 0, 0, 0, 0, 0, 1],\n",
    "#  [1, 0, 0, 0, 0, 0, 0, 0, 0, 1],\n",
    "#  [1, 0, 0, 0, 0, 0, 0, 1, 0, 1],\n",
    "#  [1, 0, 0, 0, 0, 0, 1, 1, 0, 1],\n",
    "#  [1, 0, 0, 0, 0, 0, 1, 1, 0, 1],\n",
    "#  [1, 0, 0, 0, 0, 0, 0, 0, 0, 1],\n",
    "#  [1, 1, 1, 1, 1, 1, 1, 1, 1, 1]]\n",
    "queue=deque()\n",
    "queue.append((r,c,d))\n",
    "# print(queue)\n",
    "\n",
    "#북,동,남,서 방향\n",
    "dx=[-1,0,1,0]\n",
    "dy=[0,1,0,-1]\n",
    "\n",
    "#방향을 왼쪽으로 전환하는 함수\n",
    "def left_direction(d):\n",
    "    if d==0:\n",
    "        d=3\n",
    "    elif d==1:\n",
    "        d=0\n",
    "    elif d==2:\n",
    "        d=1\n",
    "    elif d==3:\n",
    "        d=2\n",
    "    return d\n",
    "    \n",
    "#d가 0인 경우에는 북쪽을, 1인 경우에는 동쪽을, 2인 경우에는 남쪽을, 3인 경우에는 서쪽을 바라보고 있는 것이다.\n",
    "def clean(queue):\n",
    "    ans=0\n",
    "    while queue:\n",
    "        #현재위치와 방향추출\n",
    "        x,y,dir=queue.popleft()\n",
    "#         print(x,y)\n",
    "        if graph[x][y]==0:\n",
    "            graph[x][y]=2\n",
    "            ans+=1\n",
    "        #그래프 출력기\n",
    "#         for i in range(11):\n",
    "#             for j in range(10):\n",
    "#                 print(graph[i][j], end='')\n",
    "#             print()\n",
    "#         print('dir',dir)\n",
    "\n",
    "        for _ in range(4):\n",
    "            dir=left_direction(dir)\n",
    "            nx=x+dx[dir]\n",
    "            ny=y+dy[dir]\n",
    "            if graph[nx][ny]==0:\n",
    "                queue.append((nx,ny,dir))\n",
    "                break\n",
    "            else :\n",
    "                nx=x-dx[dir]\n",
    "                ny=y-dy[dir]\n",
    "        \n",
    "        #후진\n",
    "        if not queue:\n",
    "            nx=x-dx[dir]\n",
    "            ny=y-dy[dir]\n",
    "            if graph[nx][ny]==2:\n",
    "                queue.append((nx,ny,dir))\n",
    "            elif graph[nx][ny]==1 or (nx<0 or nx>=n or ny<0 or ny>=m):\n",
    "                print(ans)\n",
    "                return  \n",
    "\n",
    "clean(queue)"
   ]
  },
  {
   "cell_type": "code",
   "execution_count": null,
   "metadata": {},
   "outputs": [],
   "source": [
    "0  0  0  0  0  0  0  0  0  0\n",
    " 0 56 57 46 45 44 43 42 41  0\n",
    " 0 55 48 47  0  0  0  0 40  0\n",
    " 0 50 49  0  0 36 37 38 39  0\n",
    " 0 51  0  0 35 34 31 30  0  0\n",
    " 0 52 53 12 11 33 32 29 28  0\n",
    " 0 54 14 13 10  9  0  0 27  0\n",
    " 0 16 15  2  1  8  0  0 26  0\n",
    " 0 17 18  3  4  7  0  0 25  0\n",
    " 0 21 19 20  5  6 22 23 24  0\n",
    " 0  0  0  0  0  0  0  0  0  0"
   ]
  },
  {
   "cell_type": "code",
   "execution_count": null,
   "metadata": {},
   "outputs": [],
   "source": [
    "# 1현재 위치를 청소한다. d가 0인 경우에는 북쪽을, 1인 경우에는 동쪽을, 2인 경우에는 남쪽을, 3인 경우에는 서쪽을 바라보고 있는 것이다.\n",
    "# 2 현재 위치에서 현재 방향을 기준으로 왼쪽방향부터 차례대로 탐색을 진행한다.\n",
    "#  a 왼쪽 방향에 아직 청소하지 않은 공간이 존재한다면, 그 방향으로 회전한 다음 한 칸을 전진하고 1번부터 진행한다.\n",
    "#  b 왼쪽 방향에 청소할 공간이 없다면, 그 방향으로 회전하고 2번으로 돌아간다.\n",
    "#  c 네 방향 모두 청소가 이미 되어있거나 벽인 경우에는, 바라보는 방향을 유지한 채로 한 칸 후진을 하고 2번으로 돌아간다.\n",
    "#  d 네 방향 모두 청소가 이미 되어있거나 벽이면서, 뒤쪽 방향이 벽이라 후진도 할 수 없는 경우에는 작동을 멈춘다."
   ]
  },
  {
   "cell_type": "code",
   "execution_count": null,
   "metadata": {},
   "outputs": [],
   "source": [
    "11 10\n",
    "7 4 0\n",
    "1  1  1  1  1  1  1  1  1  1\n",
    "1  0  0  0  0  0  0  0  0  1\n",
    "1  0  0  0  1  1  1  1  0  1\n",
    "1  0  0  1  1  0  0  0  0  1\n",
    "1  0  1  1  0  0  0  0  0  1\n",
    "1  0  0  12 11 0  0  0  0  1\n",
    "1  0  14 13 10 9  0  1  0  1\n",
    "1  16 15 2  1  8  1  1  0  1\n",
    "1  17 18 3  4  7  1  1  0  1\n",
    "1  21 19 20 5  6  22 23 0  1\n",
    "1  1  1  1  1  1  1  1  1  1"
   ]
  },
  {
   "cell_type": "code",
   "execution_count": null,
   "metadata": {},
   "outputs": [],
   "source": []
  }
 ],
 "metadata": {
  "kernelspec": {
   "display_name": "Python 3",
   "language": "python",
   "name": "python3"
  },
  "language_info": {
   "codemirror_mode": {
    "name": "ipython",
    "version": 3
   },
   "file_extension": ".py",
   "mimetype": "text/x-python",
   "name": "python",
   "nbconvert_exporter": "python",
   "pygments_lexer": "ipython3",
   "version": "3.7.6"
  }
 },
 "nbformat": 4,
 "nbformat_minor": 4
}
