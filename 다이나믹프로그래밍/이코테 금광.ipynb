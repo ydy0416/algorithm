{
 "cells": [
  {
   "cell_type": "code",
   "execution_count": 10,
   "metadata": {},
   "outputs": [
    {
     "name": "stdout",
     "output_type": "stream",
     "text": [
      "5\n",
      "8\n",
      "10\n",
      "9\n",
      "12\n",
      "9\n",
      "14\n",
      "12\n",
      "15\n"
     ]
    }
   ],
   "source": [
    "n=2\n",
    "m=3\n",
    "data=[[1,3,3,2],[2,1,4,1],[0,6,4,7]]\n",
    "dp=[0]*(m+1)\n",
    "max_value=0\n",
    "for i in range(n+1):\n",
    "    for j in range(1,m+1):\n",
    "        if i==0:\n",
    "            plus=max(data[i][j-1],data[i+1][j-1])\n",
    "        \n",
    "        data[i][j]=data[i][j]+plus\n",
    "        print(data[i][j])"
   ]
  },
  {
   "cell_type": "code",
   "execution_count": 11,
   "metadata": {},
   "outputs": [
    {
     "data": {
      "text/plain": [
       "[[1, 5, 8, 10], [2, 9, 12, 9], [0, 14, 12, 15]]"
      ]
     },
     "execution_count": 11,
     "metadata": {},
     "output_type": "execute_result"
    }
   ],
   "source": [
    "data"
   ]
  }
 ],
 "metadata": {
  "kernelspec": {
   "display_name": "Python 3",
   "language": "python",
   "name": "python3"
  },
  "language_info": {
   "codemirror_mode": {
    "name": "ipython",
    "version": 3
   },
   "file_extension": ".py",
   "mimetype": "text/x-python",
   "name": "python",
   "nbconvert_exporter": "python",
   "pygments_lexer": "ipython3",
   "version": "3.7.6"
  }
 },
 "nbformat": 4,
 "nbformat_minor": 4
}
