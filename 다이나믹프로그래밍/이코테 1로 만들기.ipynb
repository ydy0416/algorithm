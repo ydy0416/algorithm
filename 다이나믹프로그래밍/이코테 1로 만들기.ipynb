{
 "cells": [
  {
   "cell_type": "code",
   "execution_count": 6,
   "metadata": {},
   "outputs": [
    {
     "name": "stdout",
     "output_type": "stream",
     "text": [
      "26\n",
      "26\n",
      "13\n",
      "12\n",
      "4\n",
      "2\n",
      "5\n"
     ]
    }
   ],
   "source": [
    "n=int(input())\n",
    "cnt=0\n",
    "while n>1:\n",
    "    print(n)\n",
    "    if n%5==0:\n",
    "        n=n//5\n",
    "        cnt+=1\n",
    "    elif n%3==0:\n",
    "        n=n//3\n",
    "        cnt+=1\n",
    "    elif n%2==0:\n",
    "        n=n//2\n",
    "        cnt+=1\n",
    "    else :\n",
    "        n=n-1\n",
    "        cnt+=1\n",
    "print(cnt)"
   ]
  },
  {
   "cell_type": "code",
   "execution_count": 14,
   "metadata": {},
   "outputs": [
    {
     "name": "stdout",
     "output_type": "stream",
     "text": [
      "6\n",
      "0 0 1 1 2 1 2 \n",
      " 2\n"
     ]
    }
   ],
   "source": [
    "x=int(input())\n",
    "d=[0]*30001\n",
    "#바텀업\n",
    "for i in range(2, x+1):\n",
    "    #현재의 수에서 1을 빼는 경우\n",
    "    d[i]=d[i-1]+1\n",
    "    \n",
    "    #현재의 수가 2로 나누어 떨어지는 경우\n",
    "    if i%2==0:\n",
    "        d[i]=min(d[i],d[i//2]+1)\n",
    "    #현재의 수가 3으로 나누어 떨어지는 경우\n",
    "    if i%3==0:\n",
    "        d[i]=min(d[i],d[i//3]+1)\n",
    "    #현재의 수가 5로 나누어 떨어지는 경우\n",
    "    if i%5==0:\n",
    "        d[i]=min(d[i],d[i//5]+1)\n",
    "for i in range(x+1):\n",
    "    print(d[i], end=' ')\n",
    "print('\\n',d[x])"
   ]
  }
 ],
 "metadata": {
  "kernelspec": {
   "display_name": "Python 3",
   "language": "python",
   "name": "python3"
  },
  "language_info": {
   "codemirror_mode": {
    "name": "ipython",
    "version": 3
   },
   "file_extension": ".py",
   "mimetype": "text/x-python",
   "name": "python",
   "nbconvert_exporter": "python",
   "pygments_lexer": "ipython3",
   "version": "3.7.6"
  }
 },
 "nbformat": 4,
 "nbformat_minor": 4
}
