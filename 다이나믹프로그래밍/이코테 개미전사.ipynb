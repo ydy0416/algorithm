{
 "cells": [
  {
   "cell_type": "code",
   "execution_count": 33,
   "metadata": {},
   "outputs": [
    {
     "name": "stdout",
     "output_type": "stream",
     "text": [
      "[1, 3, 2, 8, 7, 14, 18]\n",
      "18\n"
     ]
    }
   ],
   "source": [
    "# n=int(input())\n",
    "# store=list(map(int,input().split()))\n",
    "n=7\n",
    "store=[1,3,1,5,4,6,10]\n",
    "#최대로 털 수 있는 식량\n",
    "dp=[0]*n\n",
    "dp[0]=store[0]\n",
    "dp[1]=max(store[0],store[1])\n",
    "#바텀업 다이나믹 프로그래밍\n",
    "for i in range(2,n):\n",
    "    for j in range(i-1):\n",
    "        dp[i]=max(dp[j]+store[i], dp[i])\n",
    "        \n",
    "print(dp)\n",
    "print(max(dp))"
   ]
  },
  {
   "cell_type": "code",
   "execution_count": 24,
   "metadata": {},
   "outputs": [
    {
     "data": {
      "text/plain": [
       "[1, 3, 2, 8, 6, 14]"
      ]
     },
     "execution_count": 24,
     "metadata": {},
     "output_type": "execute_result"
    }
   ],
   "source": [
    "dp"
   ]
  }
 ],
 "metadata": {
  "kernelspec": {
   "display_name": "Python 3",
   "language": "python",
   "name": "python3"
  },
  "language_info": {
   "codemirror_mode": {
    "name": "ipython",
    "version": 3
   },
   "file_extension": ".py",
   "mimetype": "text/x-python",
   "name": "python",
   "nbconvert_exporter": "python",
   "pygments_lexer": "ipython3",
   "version": "3.7.6"
  }
 },
 "nbformat": 4,
 "nbformat_minor": 4
}
