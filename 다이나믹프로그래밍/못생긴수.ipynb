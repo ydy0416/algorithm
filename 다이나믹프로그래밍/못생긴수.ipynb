{
 "cells": [
  {
   "cell_type": "code",
   "execution_count": 14,
   "metadata": {},
   "outputs": [
    {
     "name": "stdout",
     "output_type": "stream",
     "text": [
      "12\n",
      "16\n"
     ]
    }
   ],
   "source": [
    "n=int(input())\n",
    "data=[1,2,3,4,5,6,8,9,10,12,15]\n",
    "tmp=16\n",
    "while len(data)<n:\n",
    "    target=tmp\n",
    "    while target!=1:\n",
    "        if target%2==0:\n",
    "            target/=2\n",
    "            continue\n",
    "        elif target%3==0:\n",
    "            target/=3\n",
    "            continue\n",
    "        elif target%5==0:\n",
    "            target/=5\n",
    "            continue\n",
    "        else:\n",
    "            break\n",
    "    if target==1:\n",
    "        data.append(tmp)\n",
    "    tmp+=1\n",
    "print(data[n-1])"
   ]
  }
 ],
 "metadata": {
  "kernelspec": {
   "display_name": "Python 3",
   "language": "python",
   "name": "python3"
  },
  "language_info": {
   "codemirror_mode": {
    "name": "ipython",
    "version": 3
   },
   "file_extension": ".py",
   "mimetype": "text/x-python",
   "name": "python",
   "nbconvert_exporter": "python",
   "pygments_lexer": "ipython3",
   "version": "3.7.6"
  }
 },
 "nbformat": 4,
 "nbformat_minor": 4
}
