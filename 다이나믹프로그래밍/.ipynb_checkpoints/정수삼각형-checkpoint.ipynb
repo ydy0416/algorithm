{
 "cells": [
  {
   "cell_type": "code",
   "execution_count": 9,
   "metadata": {},
   "outputs": [
    {
     "name": "stdout",
     "output_type": "stream",
     "text": [
      "up_left=0, up=7\n",
      "i=1 j=0 frame[1][0]=10\n",
      "up_left=7, up=0\n",
      "i=1 j=1 frame[1][1]=15\n",
      "up_left=0, up=10\n",
      "i=2 j=0 frame[2][0]=18\n",
      "up_left=10, up=15\n",
      "i=2 j=1 frame[2][1]=16\n",
      "up_left=15, up=0\n",
      "i=2 j=2 frame[2][2]=15\n",
      "up_left=0, up=18\n",
      "i=3 j=0 frame[3][0]=20\n",
      "up_left=18, up=16\n",
      "i=3 j=1 frame[3][1]=25\n",
      "up_left=16, up=15\n",
      "i=3 j=2 frame[3][2]=20\n",
      "up_left=15, up=0\n",
      "i=3 j=3 frame[3][3]=19\n",
      "up_left=0, up=20\n",
      "i=4 j=0 frame[4][0]=24\n",
      "up_left=20, up=25\n",
      "i=4 j=1 frame[4][1]=30\n",
      "up_left=25, up=20\n",
      "i=4 j=2 frame[4][2]=27\n",
      "up_left=20, up=19\n",
      "i=4 j=3 frame[4][3]=26\n",
      "up_left=19, up=0\n",
      "i=4 j=4 frame[4][4]=24\n",
      "30\n"
     ]
    }
   ],
   "source": [
    "# n=int(input())\n",
    "# frame=[]\n",
    "# for _ in range(n):\n",
    "#     frame.append(list(map(int,input().split())))\n",
    "n=5\n",
    "frame=[[7], [3, 8], [8, 1, 0], [2, 7, 4, 4], [4, 5, 2, 6, 5]]\n",
    "frame\n",
    "\n",
    "for i in range(1,n):\n",
    "    for j in range(i+1):\n",
    "        #왼쪽에서 내려옴\n",
    "        if j==0:\n",
    "            up_left=0\n",
    "        else:\n",
    "            up_left=frame[i-1][j-1]\n",
    "        #바로 위에서 내려옴\n",
    "        if j==i:\n",
    "            up=0\n",
    "        else:\n",
    "            up=frame[i-1][j]\n",
    "        frame[i][j]=frame[i][j]+max(up_left,up)\n",
    "        print('up_left=%d, up=%d'%(up_left,up))\n",
    "        print('i=%d j=%d frame[%d][%d]=%d'%(i,j,i,j,frame[i][j]))\n",
    "\n",
    "print(max(frame[n-1]))"
   ]
  },
  {
   "cell_type": "code",
   "execution_count": 8,
   "metadata": {},
   "outputs": [
    {
     "data": {
      "text/plain": [
       "[[7], [10, 15], [18, 16, 15], [20, 25, 20, 19], [24, 30, 27, 26, 24]]"
      ]
     },
     "execution_count": 8,
     "metadata": {},
     "output_type": "execute_result"
    }
   ],
   "source": [
    "frame"
   ]
  }
 ],
 "metadata": {
  "kernelspec": {
   "display_name": "Python 3",
   "language": "python",
   "name": "python3"
  },
  "language_info": {
   "codemirror_mode": {
    "name": "ipython",
    "version": 3
   },
   "file_extension": ".py",
   "mimetype": "text/x-python",
   "name": "python",
   "nbconvert_exporter": "python",
   "pygments_lexer": "ipython3",
   "version": "3.7.6"
  }
 },
 "nbformat": 4,
 "nbformat_minor": 4
}
