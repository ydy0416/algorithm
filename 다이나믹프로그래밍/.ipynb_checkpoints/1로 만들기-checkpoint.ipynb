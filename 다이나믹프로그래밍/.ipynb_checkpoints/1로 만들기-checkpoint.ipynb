{
 "cells": [
  {
   "cell_type": "code",
   "execution_count": 2,
   "metadata": {},
   "outputs": [
    {
     "name": "stdout",
     "output_type": "stream",
     "text": [
      "5\n",
      "1\n"
     ]
    }
   ],
   "source": [
    "x=int(input())\n",
    "#DP테이블 초기화\n",
    "d=[0]*30001\n",
    "\n",
    "#다이나믹 프로그래밍 진행\n",
    "for i in range(2,x+1):\n",
    "    #현재의 수에서 1을 빼는 경우\n",
    "    d[i]=d[i-1]+1\n",
    "    #현재의 수가 2로 나누어 떨어지는 경우\n",
    "    if i%2==0:\n",
    "        d[i]=min(d[i],d[i//2]+1)\n",
    "    #현재의 수가 3으로 나누어 떨어지는 경우\n",
    "    if i%3==0:\n",
    "        d[i]=min(d[i],d[i//3]+1)\n",
    "    #현재의 수가 5로 나누어 떨어지는 경우\n",
    "    if i%5==0:\n",
    "        d[i]=min(d[i],d[i//5]+1)\n",
    "print(d[x])"
   ]
  },
  {
   "cell_type": "code",
   "execution_count": null,
   "metadata": {},
   "outputs": [],
   "source": []
  }
 ],
 "metadata": {
  "kernelspec": {
   "display_name": "Python 3",
   "language": "python",
   "name": "python3"
  },
  "language_info": {
   "codemirror_mode": {
    "name": "ipython",
    "version": 3
   },
   "file_extension": ".py",
   "mimetype": "text/x-python",
   "name": "python",
   "nbconvert_exporter": "python",
   "pygments_lexer": "ipython3",
   "version": "3.7.6"
  }
 },
 "nbformat": 4,
 "nbformat_minor": 4
}
