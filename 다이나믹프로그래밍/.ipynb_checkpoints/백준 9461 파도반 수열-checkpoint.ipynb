{
 "cells": [
  {
   "cell_type": "code",
   "execution_count": 13,
   "metadata": {},
   "outputs": [
    {
     "name": "stdout",
     "output_type": "stream",
     "text": [
      "2\n",
      "6\n",
      "12\n",
      "3\n",
      "16\n"
     ]
    }
   ],
   "source": [
    "T=int(input())\n",
    "m=[]\n",
    "for _ in range(T):\n",
    "    m.append(int(input())) \n",
    "n=max(m)\n",
    "P=[1,1,1,2,2]\n",
    "for i in range(5,n+1):\n",
    "    P.append(P[i-3]+P[i-2])\n",
    "for j in m:\n",
    "    print(P[j-1])"
   ]
  }
 ],
 "metadata": {
  "kernelspec": {
   "display_name": "Python 3",
   "language": "python",
   "name": "python3"
  },
  "language_info": {
   "codemirror_mode": {
    "name": "ipython",
    "version": 3
   },
   "file_extension": ".py",
   "mimetype": "text/x-python",
   "name": "python",
   "nbconvert_exporter": "python",
   "pygments_lexer": "ipython3",
   "version": "3.7.6"
  }
 },
 "nbformat": 4,
 "nbformat_minor": 4
}
