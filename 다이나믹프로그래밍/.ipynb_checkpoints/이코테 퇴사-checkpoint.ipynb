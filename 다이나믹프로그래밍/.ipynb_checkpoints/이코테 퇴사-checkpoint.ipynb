{
 "cells": [
  {
   "cell_type": "code",
   "execution_count": 7,
   "metadata": {
    "scrolled": true
   },
   "outputs": [
    {
     "name": "stdout",
     "output_type": "stream",
     "text": [
      "3\n",
      "2\n",
      "2\n",
      "4\n"
     ]
    },
    {
     "ename": "IndexError",
     "evalue": "list index out of range",
     "output_type": "error",
     "traceback": [
      "\u001b[1;31m---------------------------------------------------------------------------\u001b[0m",
      "\u001b[1;31mIndexError\u001b[0m                                Traceback (most recent call last)",
      "\u001b[1;32m<ipython-input-7-4a3784eed570>\u001b[0m in \u001b[0;36m<module>\u001b[1;34m\u001b[0m\n\u001b[0;32m      9\u001b[0m     \u001b[1;32mif\u001b[0m \u001b[0mcnt\u001b[0m\u001b[1;33m>\u001b[0m\u001b[1;36m7\u001b[0m\u001b[1;33m:\u001b[0m\u001b[1;33m\u001b[0m\u001b[1;33m\u001b[0m\u001b[0m\n\u001b[0;32m     10\u001b[0m         \u001b[1;32mbreak\u001b[0m\u001b[1;33m\u001b[0m\u001b[1;33m\u001b[0m\u001b[0m\n\u001b[1;32m---> 11\u001b[1;33m     \u001b[0mcnt\u001b[0m\u001b[1;33m=\u001b[0m\u001b[0mframe\u001b[0m\u001b[1;33m[\u001b[0m\u001b[0mi\u001b[0m\u001b[1;33m+\u001b[0m\u001b[0mcnt\u001b[0m\u001b[1;33m]\u001b[0m\u001b[1;33m[\u001b[0m\u001b[1;36m0\u001b[0m\u001b[1;33m]\u001b[0m\u001b[1;33m\u001b[0m\u001b[1;33m\u001b[0m\u001b[0m\n\u001b[0m\u001b[0;32m     12\u001b[0m \u001b[1;33m\u001b[0m\u001b[0m\n\u001b[0;32m     13\u001b[0m     \u001b[0mprint\u001b[0m\u001b[1;33m(\u001b[0m\u001b[0mcnt\u001b[0m\u001b[1;33m)\u001b[0m\u001b[1;33m\u001b[0m\u001b[1;33m\u001b[0m\u001b[0m\n",
      "\u001b[1;31mIndexError\u001b[0m: list index out of range"
     ]
    }
   ],
   "source": [
    "# n=int(input())\n",
    "# # frame=[[0,0]]\n",
    "# for i in range(n):\n",
    "#     frame.append(list(map(int,input().split())))\n",
    "n=7\n",
    "cnt=0\n",
    "frame=[[0, 0], [3, 10], [5, 20], [1, 10], [1, 20], [2, 15], [4, 40], [2, 200]]\n",
    "for i in range(1,n+1):\n",
    "    if cnt>n:\n",
    "        break\n",
    "    cnt=frame[i+cnt][0]\n",
    "    \n",
    "    print(cnt)\n",
    "    "
   ]
  },
  {
   "cell_type": "code",
   "execution_count": 16,
   "metadata": {},
   "outputs": [
    {
     "name": "stdout",
     "output_type": "stream",
     "text": [
      "0\n",
      "15\n",
      "35\n",
      "0\n",
      "35\n",
      "45\n"
     ]
    }
   ],
   "source": [
    "# n = int(input())\n",
    "\n",
    "# t = [] # 각 상담을 완료하는 데 걸리는 시간\n",
    "# p = [] # 각 상담을 완료했을 때 받을 수 있는 금액\n",
    "dp = [0] * (n+1) # dp 테이블 초기화\n",
    "\n",
    "max_value = 0\n",
    "\n",
    "# for _ in range(n):\n",
    "#     a, b = map(int, input().split())\n",
    "#     t.append(a)\n",
    "#     p.append(b)\n",
    "n=7\n",
    "t=[3, 5, 1, 1, 2, 4, 2]\n",
    "p=[10, 20, 10, 20, 15, 40, 200]\n",
    "# 리스트를 뒤에서 거꾸로 확인 ( 다이나믹 프로그래밍 - 탑다운 방식 )\n",
    "for i in range(n-1, -1, -1):\n",
    "    time = t[i] + i\n",
    "    # 상담이 기간 안에 끝나는 경우\n",
    "    if time <= n:\n",
    "        # 현재까지의 최고 이익 계산\n",
    "        print(dp[time])\n",
    "        dp[i] = max(p[i] + dp[time], max_value)\n",
    "        max_value = dp[i]\n",
    "    # 상담 기간 벗어나는 경우\n",
    "    else:\n",
    "        #dp[i]= i번째 날 부터 마지막날까지 낼수있는 최대 이익\n",
    "        dp[i] = max_value\n",
    "\n",
    "print(max_value)"
   ]
  },
  {
   "cell_type": "code",
   "execution_count": 17,
   "metadata": {
    "scrolled": false
   },
   "outputs": [
    {
     "data": {
      "text/plain": [
       "[45, 45, 45, 35, 15, 0, 0, 0]"
      ]
     },
     "execution_count": 17,
     "metadata": {},
     "output_type": "execute_result"
    }
   ],
   "source": [
    "dp"
   ]
  },
  {
   "cell_type": "code",
   "execution_count": 18,
   "metadata": {},
   "outputs": [
    {
     "data": {
      "text/plain": [
       "[10, 20, 10, 20, 15, 40, 200]"
      ]
     },
     "execution_count": 18,
     "metadata": {},
     "output_type": "execute_result"
    }
   ],
   "source": [
    "p"
   ]
  }
 ],
 "metadata": {
  "kernelspec": {
   "display_name": "Python 3",
   "language": "python",
   "name": "python3"
  },
  "language_info": {
   "codemirror_mode": {
    "name": "ipython",
    "version": 3
   },
   "file_extension": ".py",
   "mimetype": "text/x-python",
   "name": "python",
   "nbconvert_exporter": "python",
   "pygments_lexer": "ipython3",
   "version": "3.7.6"
  }
 },
 "nbformat": 4,
 "nbformat_minor": 4
}
