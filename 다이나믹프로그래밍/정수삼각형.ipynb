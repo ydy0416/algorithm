{
 "cells": [
  {
   "cell_type": "code",
   "execution_count": 13,
   "metadata": {
    "scrolled": true
   },
   "outputs": [
    {
     "name": "stdout",
     "output_type": "stream",
     "text": [
      "up_left=0, up=7, 처음frame[1][0]=3\n",
      "i=1 j=0 이후frame[1][0]=10\n",
      "--------------------------------------------------\n",
      "up_left=7, up=0, 처음frame[1][1]=8\n",
      "i=1 j=1 이후frame[1][1]=15\n",
      "--------------------------------------------------\n",
      "up_left=0, up=10, 처음frame[2][0]=8\n",
      "i=2 j=0 이후frame[2][0]=18\n",
      "--------------------------------------------------\n",
      "up_left=10, up=15, 처음frame[2][1]=1\n",
      "i=2 j=1 이후frame[2][1]=16\n",
      "--------------------------------------------------\n",
      "up_left=15, up=0, 처음frame[2][2]=0\n",
      "i=2 j=2 이후frame[2][2]=15\n",
      "--------------------------------------------------\n",
      "up_left=0, up=18, 처음frame[3][0]=2\n",
      "i=3 j=0 이후frame[3][0]=20\n",
      "--------------------------------------------------\n",
      "up_left=18, up=16, 처음frame[3][1]=7\n",
      "i=3 j=1 이후frame[3][1]=25\n",
      "--------------------------------------------------\n",
      "up_left=16, up=15, 처음frame[3][2]=4\n",
      "i=3 j=2 이후frame[3][2]=20\n",
      "--------------------------------------------------\n",
      "up_left=15, up=0, 처음frame[3][3]=4\n",
      "i=3 j=3 이후frame[3][3]=19\n",
      "--------------------------------------------------\n",
      "up_left=0, up=20, 처음frame[4][0]=4\n",
      "i=4 j=0 이후frame[4][0]=24\n",
      "--------------------------------------------------\n",
      "up_left=20, up=25, 처음frame[4][1]=5\n",
      "i=4 j=1 이후frame[4][1]=30\n",
      "--------------------------------------------------\n",
      "up_left=25, up=20, 처음frame[4][2]=2\n",
      "i=4 j=2 이후frame[4][2]=27\n",
      "--------------------------------------------------\n",
      "up_left=20, up=19, 처음frame[4][3]=6\n",
      "i=4 j=3 이후frame[4][3]=26\n",
      "--------------------------------------------------\n",
      "up_left=19, up=0, 처음frame[4][4]=5\n",
      "i=4 j=4 이후frame[4][4]=24\n",
      "--------------------------------------------------\n",
      "30\n"
     ]
    }
   ],
   "source": [
    "# n=int(input())\n",
    "# frame=[]\n",
    "# for _ in range(n):\n",
    "#     frame.append(list(map(int,input().split())))\n",
    "n=5\n",
    "frame=[[7], [3, 8], [8, 1, 0], [2, 7, 4, 4], [4, 5, 2, 6, 5]]\n",
    "\n",
    "for i in range(1,n):\n",
    "    for j in range(i+1):\n",
    "        #왼쪽에서 내려옴\n",
    "        if j==0:\n",
    "            up_left=0\n",
    "        else:\n",
    "            up_left=frame[i-1][j-1]\n",
    "        #바로 위에서 내려옴\n",
    "        if j==i:\n",
    "            up=0\n",
    "        else:\n",
    "            up=frame[i-1][j]\n",
    "        print('up_left=%d, up=%d, 처음frame[%d][%d]=%d'%(up_left,up,i,j,frame[i][j]))\n",
    "        frame[i][j]=frame[i][j]+max(up_left,up)\n",
    "        print('i=%d j=%d 이후frame[%d][%d]=%d'%(i,j,i,j,frame[i][j]))\n",
    "        print('-'*50)\n",
    "print(max(frame[n-1]))"
   ]
  },
  {
   "cell_type": "code",
   "execution_count": 2,
   "metadata": {},
   "outputs": [
    {
     "name": "stdout",
     "output_type": "stream",
     "text": [
      "5\n",
      "7\n",
      "3 8\n",
      "8 1 0\n",
      "2 7 4 4\n",
      "4 5 2 6 5\n",
      "30\n"
     ]
    }
   ],
   "source": [
    "n=int(input())\n",
    "frame=[]\n",
    "for _ in range(n):\n",
    "    frame.append(list(map(int,input().split())))\n",
    "\n",
    "for i in range(1,n):\n",
    "    for j in range(i+1):\n",
    "        #왼쪽에서 내려옴\n",
    "        if j==0:\n",
    "            up_left=0\n",
    "        else:\n",
    "            up_left=frame[i-1][j-1]\n",
    "        #바로 위에서 내려옴\n",
    "        if j==i:\n",
    "            up=0\n",
    "        else:\n",
    "            up=frame[i-1][j]\n",
    "        frame[i][j]=frame[i][j]+max(up_left,up)\n",
    "print(max(frame[n-1]))"
   ]
  },
  {
   "cell_type": "code",
   "execution_count": 1,
   "metadata": {},
   "outputs": [
    {
     "ename": "SyntaxError",
     "evalue": "invalid syntax (<ipython-input-1-44482e84f146>, line 8)",
     "output_type": "error",
     "traceback": [
      "\u001b[1;36m  File \u001b[1;32m\"<ipython-input-1-44482e84f146>\"\u001b[1;36m, line \u001b[1;32m8\u001b[0m\n\u001b[1;33m    data[i][j]=data[i-1][]\u001b[0m\n\u001b[1;37m                         ^\u001b[0m\n\u001b[1;31mSyntaxError\u001b[0m\u001b[1;31m:\u001b[0m invalid syntax\n"
     ]
    }
   ],
   "source": [
    "n=int(input())\n",
    "data=[[7],[3,8],[8,1,0],[2,7,4,4],[4,5,2,6,5]]\n",
    "for i in range(1,n):\n",
    "    for j in range(i+1):\n",
    "        if j==0:\n",
    "            data[i][j]=data[i-1][j]+data[i][j]\n",
    "        if j==i:\n",
    "            data[i][j]=data[i-1][]\n",
    "        frame[i][j]=frame[i][j]+max()"
   ]
  }
 ],
 "metadata": {
  "kernelspec": {
   "display_name": "Python 3",
   "language": "python",
   "name": "python3"
  },
  "language_info": {
   "codemirror_mode": {
    "name": "ipython",
    "version": 3
   },
   "file_extension": ".py",
   "mimetype": "text/x-python",
   "name": "python",
   "nbconvert_exporter": "python",
   "pygments_lexer": "ipython3",
   "version": "3.7.6"
  }
 },
 "nbformat": 4,
 "nbformat_minor": 4
}
