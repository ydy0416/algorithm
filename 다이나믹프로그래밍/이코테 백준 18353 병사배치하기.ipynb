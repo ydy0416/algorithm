{
 "cells": [
  {
   "cell_type": "code",
   "execution_count": 18,
   "metadata": {
    "scrolled": true
   },
   "outputs": [
    {
     "name": "stdout",
     "output_type": "stream",
     "text": [
      "i=0 frame[0]=15\n",
      "i=1 frame[1]=10\n",
      "i=2 frame[2]=9\n",
      "i=3 frame[3]=14\n",
      "i=4 frame[4]=13\n",
      "i=5 frame[5]=12\n",
      "0\n"
     ]
    }
   ],
   "source": [
    "# n=int(input())\n",
    "# frame=list(map(int,input().split()))\n",
    "n=7\n",
    "frame=[15, 10,9,14,13,12,11]\n",
    "cnt=0\n",
    "for i in range(n-1):\n",
    "    print('i=%d frame[%d]=%d'%(i,i,frame[i]))\n",
    "    #맨 앞\n",
    "    if i==0:\n",
    "        if frame[i]>frame[i+1]:\n",
    "            continue\n",
    "        else :\n",
    "            print('열외')\n",
    "            cnt+=1\n",
    "   #맨 앞이 아닐때\n",
    "    else:\n",
    "         #현재가 다음수보다 클 때\n",
    "        if frame[i]>frame[i+1]:\n",
    "            continue\n",
    "        #현재가 다음 수보다 작을 때\n",
    "        else:   \n",
    "            for j in range(i+1):\n",
    "                if frame[i]>frame[j]:\n",
    "                    cnt+=1\n",
    "                    print('열외')\n",
    "print(cnt)"
   ]
  },
  {
   "cell_type": "code",
   "execution_count": 1,
   "metadata": {},
   "outputs": [
    {
     "name": "stdout",
     "output_type": "stream",
     "text": [
      "array=[4, 2, 5, 8, 4, 11, 15]\n",
      "i=2 j=0 dp=[1, 1, 1, 1, 1, 1, 1]\n",
      "i=2 j=1 dp=[1, 1, 2, 1, 1, 1, 1]\n",
      "i=3 j=0 dp=[1, 1, 2, 1, 1, 1, 1]\n",
      "i=3 j=1 dp=[1, 1, 2, 2, 1, 1, 1]\n",
      "i=3 j=2 dp=[1, 1, 2, 2, 1, 1, 1]\n",
      "i=4 j=1 dp=[1, 1, 2, 3, 1, 1, 1]\n",
      "i=5 j=0 dp=[1, 1, 2, 3, 2, 1, 1]\n",
      "i=5 j=1 dp=[1, 1, 2, 3, 2, 2, 1]\n",
      "i=5 j=2 dp=[1, 1, 2, 3, 2, 2, 1]\n",
      "i=5 j=3 dp=[1, 1, 2, 3, 2, 3, 1]\n",
      "i=5 j=4 dp=[1, 1, 2, 3, 2, 4, 1]\n",
      "i=6 j=0 dp=[1, 1, 2, 3, 2, 4, 1]\n",
      "i=6 j=1 dp=[1, 1, 2, 3, 2, 4, 2]\n",
      "i=6 j=2 dp=[1, 1, 2, 3, 2, 4, 2]\n",
      "i=6 j=3 dp=[1, 1, 2, 3, 2, 4, 3]\n",
      "i=6 j=4 dp=[1, 1, 2, 3, 2, 4, 4]\n",
      "i=6 j=5 dp=[1, 1, 2, 3, 2, 4, 4]\n",
      "2\n"
     ]
    }
   ],
   "source": [
    "n=7\n",
    "array=[15,11,4,8,5,2,4]\n",
    "array.reverse()\n",
    "print('array=%s'%array)\n",
    "#1차원 dp테이블 초기화\n",
    "dp=[1]*n\n",
    "\n",
    "#LIS알고리즘\n",
    "for i in range(1,n):\n",
    "    for j in range(0,i):\n",
    "        if array[j]<array[i]:\n",
    "            print('i=%d j=%d dp=%s'%(i,j,dp))\n",
    "            dp[i]=max(dp[i], dp[j]+1)\n",
    "\n",
    "print(n-max(dp))"
   ]
  },
  {
   "cell_type": "code",
   "execution_count": 3,
   "metadata": {},
   "outputs": [
    {
     "data": {
      "text/plain": [
       "[1, 1, 2, 3, 2, 4, 5]"
      ]
     },
     "execution_count": 3,
     "metadata": {},
     "output_type": "execute_result"
    }
   ],
   "source": [
    "dp"
   ]
  },
  {
   "cell_type": "code",
   "execution_count": 2,
   "metadata": {},
   "outputs": [
    {
     "name": "stdout",
     "output_type": "stream",
     "text": [
      "7\n",
      "15 11 4 8 5 2 4\n",
      "[4, 2, 5, 8, 4, 11, 15]\n",
      "i: 1 j: 0\n",
      "[1, 1, 1, 1, 1, 1, 1]\n",
      "i: 2 j: 0\n",
      "[1, 1, 2, 1, 1, 1, 1]\n",
      "i: 2 j: 1\n",
      "[1, 1, 2, 1, 1, 1, 1]\n",
      "i: 3 j: 0\n",
      "[1, 1, 2, 2, 1, 1, 1]\n",
      "i: 3 j: 1\n",
      "[1, 1, 2, 2, 1, 1, 1]\n",
      "i: 3 j: 2\n",
      "[1, 1, 2, 3, 1, 1, 1]\n",
      "i: 4 j: 0\n",
      "[1, 1, 2, 3, 1, 1, 1]\n",
      "i: 4 j: 1\n",
      "[1, 1, 2, 3, 2, 1, 1]\n",
      "i: 4 j: 2\n",
      "[1, 1, 2, 3, 2, 1, 1]\n",
      "i: 4 j: 3\n",
      "[1, 1, 2, 3, 2, 1, 1]\n",
      "i: 5 j: 0\n",
      "[1, 1, 2, 3, 2, 2, 1]\n",
      "i: 5 j: 1\n",
      "[1, 1, 2, 3, 2, 2, 1]\n",
      "i: 5 j: 2\n",
      "[1, 1, 2, 3, 2, 3, 1]\n",
      "i: 5 j: 3\n",
      "[1, 1, 2, 3, 2, 4, 1]\n",
      "i: 5 j: 4\n",
      "[1, 1, 2, 3, 2, 4, 1]\n",
      "i: 6 j: 0\n",
      "[1, 1, 2, 3, 2, 4, 2]\n",
      "i: 6 j: 1\n",
      "[1, 1, 2, 3, 2, 4, 2]\n",
      "i: 6 j: 2\n",
      "[1, 1, 2, 3, 2, 4, 3]\n",
      "i: 6 j: 3\n",
      "[1, 1, 2, 3, 2, 4, 4]\n",
      "i: 6 j: 4\n",
      "[1, 1, 2, 3, 2, 4, 4]\n",
      "i: 6 j: 5\n",
      "[1, 1, 2, 3, 2, 4, 5]\n",
      "2\n"
     ]
    }
   ],
   "source": [
    "# 병사 배치하기\n",
    "# '가장 긴 감소하는 부분 수열' 구하기 문제\n",
    "\n",
    "n = int(input())\n",
    "sd = list(map(int, input().split()))\n",
    "\n",
    "arr = [1]*n   # n>=1 조건이므로 1로 초기화 \n",
    "sd.reverse()   # 역순 -> '가장 긴 증가하는 부분 수열' 문제로 변경\n",
    "print(sd)\n",
    "# LIS / 가장 긴 증가하는 부분수열 구하기\n",
    "for i in range(1,n):\n",
    "    for j in range(i):\n",
    "        # 최대 길이를 갱신\n",
    "        if sd[j] < sd[i]:\n",
    "            # arr[j]+1 : if에서 증가함을 확인했기 때문에 이전의 최댓값 arr[j]에 1을 더함\n",
    "            arr[i] = max(arr[i], arr[j]+1)\n",
    "        print('i:', i, 'j:',j)\n",
    "        print(arr)\n",
    "# 전체 길이에서 값이 증가한 길이를 빼줌\n",
    "print(n-max(arr))"
   ]
  }
 ],
 "metadata": {
  "kernelspec": {
   "display_name": "Python 3",
   "language": "python",
   "name": "python3"
  },
  "language_info": {
   "codemirror_mode": {
    "name": "ipython",
    "version": 3
   },
   "file_extension": ".py",
   "mimetype": "text/x-python",
   "name": "python",
   "nbconvert_exporter": "python",
   "pygments_lexer": "ipython3",
   "version": "3.7.6"
  }
 },
 "nbformat": 4,
 "nbformat_minor": 4
}
