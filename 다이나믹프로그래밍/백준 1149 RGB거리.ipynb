{
 "cells": [
  {
   "cell_type": "code",
   "execution_count": 20,
   "metadata": {},
   "outputs": [],
   "source": [
    "# n=int(input())\n",
    "# RGB=[]\n",
    "# for i in range(n):\n",
    "#     RGB.append(list(map(int,input().split())))\n",
    "n=3\n",
    "RGB=[[0],[26, 40, 83], [49, 60, 57], [13, 89, 99]]\n",
    "dp=[2147000000]*(n+1)\n",
    "dp[1]=min(RGB[1])\n",
    "check=0\n",
    "for i in range(2,n+1):\n",
    "    #이전 집과 현재 집이 같은 색이 아닐 때\n",
    "    if min(RGB[i])!=RGB[i][check]:\n",
    "        dp[i]=min(RGB[i])\n",
    "        check="
   ]
  },
  {
   "cell_type": "code",
   "execution_count": 21,
   "metadata": {},
   "outputs": [
    {
     "data": {
      "text/plain": [
       "[2147000000, 26, 2147000000, 2147000000]"
      ]
     },
     "execution_count": 21,
     "metadata": {},
     "output_type": "execute_result"
    }
   ],
   "source": [
    "dp"
   ]
  },
  {
   "cell_type": "code",
   "execution_count": 33,
   "metadata": {},
   "outputs": [
    {
     "name": "stdout",
     "output_type": "stream",
     "text": [
      "3\n",
      "26 40 83\n",
      "49 60 57\n",
      "13 89 99\n",
      "96\n"
     ]
    }
   ],
   "source": [
    "n = int(input())\n",
    "RGB=[]\n",
    "for i in range(n):\n",
    "    RGB.append(list(map(int, input().split())))\n",
    "# n=3\n",
    "# RGB = [[26,40,83],[49,60,57],[13,89,99]]\n",
    "for i in range(1, n):\n",
    "    RGB[i][0] = min(RGB[i - 1][1], RGB[i - 1][2]) + RGB[i][0]\n",
    "    RGB[i][1] = min(RGB[i - 1][0], RGB[i - 1][2]) + RGB[i][1]\n",
    "    RGB[i][2] = min(RGB[i - 1][0], RGB[i - 1][1]) + RGB[i][2]\n",
    "print(min(RGB[n - 1][0], RGB[n - 1][1], RGB[n - 1][2]))"
   ]
  },
  {
   "cell_type": "code",
   "execution_count": 34,
   "metadata": {},
   "outputs": [
    {
     "data": {
      "text/plain": [
       "[[26, 40, 83], [89, 86, 83], [96, 172, 185]]"
      ]
     },
     "execution_count": 34,
     "metadata": {},
     "output_type": "execute_result"
    }
   ],
   "source": [
    "RGB"
   ]
  }
 ],
 "metadata": {
  "kernelspec": {
   "display_name": "Python 3",
   "language": "python",
   "name": "python3"
  },
  "language_info": {
   "codemirror_mode": {
    "name": "ipython",
    "version": 3
   },
   "file_extension": ".py",
   "mimetype": "text/x-python",
   "name": "python",
   "nbconvert_exporter": "python",
   "pygments_lexer": "ipython3",
   "version": "3.7.6"
  }
 },
 "nbformat": 4,
 "nbformat_minor": 4
}
