{
 "cells": [
  {
   "cell_type": "code",
   "execution_count": 27,
   "metadata": {
    "scrolled": true
   },
   "outputs": [
    {
     "name": "stdout",
     "output_type": "stream",
     "text": [
      "3\n",
      "0\n",
      "1\n",
      "3\n",
      "1 0\n",
      "0 1\n",
      "1 2\n"
     ]
    }
   ],
   "source": [
    "T=int(input())\n",
    "n=[]\n",
    "for i in range(T):\n",
    "    n.append(int(input()))\n",
    "    \n",
    "#n중에서 가장 큰 수\n",
    "maximum=max(n)\n",
    "dp=[[0,0] for i in range(maximum+1)]\n",
    "dp[0]=[1,0]\n",
    "dp[1]=[0,1]\n",
    "for i in range(2,maximum+1):\n",
    "    dp[i][0]=dp[i-2][0]+dp[i-1][0]\n",
    "    dp[i][1]=dp[i-2][1]+dp[i-1][1]\n",
    "for i in n:\n",
    "    a,b=dp[i]\n",
    "    print(a,b)   \n"
   ]
  }
 ],
 "metadata": {
  "kernelspec": {
   "display_name": "Python 3",
   "language": "python",
   "name": "python3"
  },
  "language_info": {
   "codemirror_mode": {
    "name": "ipython",
    "version": 3
   },
   "file_extension": ".py",
   "mimetype": "text/x-python",
   "name": "python",
   "nbconvert_exporter": "python",
   "pygments_lexer": "ipython3",
   "version": "3.7.6"
  }
 },
 "nbformat": 4,
 "nbformat_minor": 4
}
