{
 "cells": [
  {
   "cell_type": "code",
   "execution_count": 10,
   "metadata": {},
   "outputs": [
    {
     "name": "stdout",
     "output_type": "stream",
     "text": [
      "4\n",
      "6\n",
      "2\n",
      "2\n",
      "3\n",
      "3\n",
      "4\n",
      "4\n",
      "1\n"
     ]
    }
   ],
   "source": [
    "G=int(input())\n",
    "P=int(input())\n",
    "\n",
    "#도킹할 게이트 입력받기\n",
    "gate=[]\n",
    "for i in range(P):\n",
    "    gate.append(int(input()))\n",
    "\n",
    "#도킹했는지 안했는지 확인하는 리스트\n",
    "check=[]\n",
    "cnt=0\n",
    "for i in gate:\n",
    "    #이미 도킹한 게이트라면 탈출\n",
    "    if i in check:\n",
    "        break\n",
    "    #도킹하지 않았다면  +1\n",
    "    else:\n",
    "        cnt+=1\n",
    "        check.append(i)\n",
    "        \n",
    "print(cnt)"
   ]
  },
  {
   "cell_type": "code",
   "execution_count": 24,
   "metadata": {},
   "outputs": [
    {
     "name": "stdout",
     "output_type": "stream",
     "text": [
      "4\n",
      "6\n",
      "2\n",
      "2\n",
      "3\n",
      "3\n",
      "4\n",
      "4\n",
      "[2, 2, 3, 3, 4, 4]\n"
     ]
    }
   ],
   "source": [
    "G=int(input())\n",
    "P=int(input())\n",
    "\n",
    "#도킹할 게이트 입력받기\n",
    "gate=[]\n",
    "for i in range(P):\n",
    "    gate.append(int(input()))\n",
    "\n",
    "check=[[] for i in range(G+1)]\n",
    "start=1\n",
    "for i in range(P):\n",
    "    #1번게이트부터 i번 게이트까지 탐색\n",
    "    for j in range(start,gate[i]+1):\n",
    "        if len(check[j])==0:\n",
    "            check[j].append(i)\n",
    "            start+=1\n",
    "            break\n",
    "        else:\n",
    "            "
   ]
  },
  {
   "cell_type": "code",
   "execution_count": 28,
   "metadata": {},
   "outputs": [
    {
     "name": "stdout",
     "output_type": "stream",
     "text": [
      "4\n",
      "6\n",
      "2\n",
      "2\n",
      "3\n",
      "3\n",
      "3\n"
     ]
    }
   ],
   "source": [
    "# 특정 원소가 속한 집합을 찾기\n",
    "def find_parent(parent, x):\n",
    "    # 루트 노드가 아니라면, 루트 노드를 찾을 때까지 재귀적으로 호출\n",
    "    if parent[x] != x:\n",
    "        parent[x] = find_parent(parent, parent[x])\n",
    "    return parent[x]\n",
    "\n",
    "# 두 원소가 속한 집합을 합치기\n",
    "def union_parent(parent, a, b):\n",
    "    a = find_parent(parent, a)\n",
    "    b = find_parent(parent, b)\n",
    "    if a<b:\n",
    "        parent[b]=a\n",
    "    else:\n",
    "        parent[a]=b\n",
    "\n",
    "# 탑승구의 개수 입력받기\n",
    "g = int(input())\n",
    "# 비행기의 개수 입력받기\n",
    "p = int(input())\n",
    "parent = [0] * (g+1) # 부모 테이블 초기화\n",
    "\n",
    "# 부모 테이블상에서, 부모를 자기 자신으로 초기화\n",
    "for i in range(1, g+1):\n",
    "    parent[i] = i\n",
    "\n",
    "result = 0\n",
    "for _ in range(p):\n",
    "    data = find_parent(parent, int(input())) # 현재 비행기와 탑승구의 루트 확인\n",
    "    if data == 0: # 현재 루트가 0이라면, 종료\n",
    "        break\n",
    "    union_parent(parent, data, data-1) # 그렇지 않다면 바로 왼쪽의 집합과 합치기\n",
    "    result+=1\n",
    "\n",
    "print(result)"
   ]
  },
  {
   "cell_type": "code",
   "execution_count": 31,
   "metadata": {},
   "outputs": [
    {
     "data": {
      "text/plain": [
       "[0, 0, 0, 0, 4]"
      ]
     },
     "execution_count": 31,
     "metadata": {},
     "output_type": "execute_result"
    }
   ],
   "source": [
    "parent"
   ]
  }
 ],
 "metadata": {
  "kernelspec": {
   "display_name": "Python 3",
   "language": "python",
   "name": "python3"
  },
  "language_info": {
   "codemirror_mode": {
    "name": "ipython",
    "version": 3
   },
   "file_extension": ".py",
   "mimetype": "text/x-python",
   "name": "python",
   "nbconvert_exporter": "python",
   "pygments_lexer": "ipython3",
   "version": "3.7.6"
  }
 },
 "nbformat": 4,
 "nbformat_minor": 4
}
