{
 "cells": [
  {
   "cell_type": "code",
   "execution_count": 11,
   "metadata": {
    "scrolled": true
   },
   "outputs": [
    {
     "name": "stdout",
     "output_type": "stream",
     "text": [
      "5 4\n",
      "0 1 0 1 1\n",
      "1 0 1 1 0\n",
      "0 1 0 0 0\n",
      "1 1 0 0 0\n",
      "1 0 0 0 0\n",
      "2 3 4 3\n",
      "YES\n"
     ]
    }
   ],
   "source": [
    "def find_parent(parent,x):\n",
    "    #루트 노드가 아니라면, 루트 노드를 찾을 때까지 재귀적으로 호출\n",
    "    if parent[x]!=x:\n",
    "        parent[x]=find_parent(parent,parent[x])\n",
    "    return parent[x]\n",
    "\n",
    "def union_parent(parent,a,b):\n",
    "    \n",
    "    a=find_parent(parent,a)\n",
    "    b=find_parent(parent,b)\n",
    "    if a<b:\n",
    "        parent[b]=a\n",
    "    else:\n",
    "        parent[a]=b\n",
    "        \n",
    "n,m=map(int,input().split())\n",
    "#부모 테이블 초기화\n",
    "parent=[0]*(n+1)\n",
    "\n",
    "#부모 테이블 상에서 자기 자신을 초기화\n",
    "for i in range(1,n+1):\n",
    "    parent[i]=i\n",
    "\n",
    "#union 연산 수행\n",
    "for i in range(n):\n",
    "    data=list(map(int,input().split()))\n",
    "    for j in range(n):\n",
    "        #연결되면 union연산 수행\n",
    "        if data[j]==1:\n",
    "            union_parent(parent,i+1,j+1)\n",
    "    \n",
    "#여행 계획 입력받기\n",
    "plan=list(map(int,input().split()))\n",
    "\n",
    "result=True\n",
    "\n",
    "#여행계획에 속하는 모든 노드의 루트가 동일한지 확인\n",
    "for i in range(m-1):\n",
    "    if find_parent(parent,plan[i])!=find_parent(parent,plan[i+1]):\n",
    "        result=False\n",
    "        \n",
    "# for i in range(m-1):\n",
    "#     if parent[plan[i]] != parent[plan[i+1]]:\n",
    "#         result=False\n",
    "\n",
    "#여행계획에 속하는 모든 노드가 서로 연결되어 있는지 확인\n",
    "if result:\n",
    "    print('YES')\n",
    "else:\n",
    "    print('NO')"
   ]
  },
  {
   "cell_type": "code",
   "execution_count": 9,
   "metadata": {},
   "outputs": [
    {
     "data": {
      "text/plain": [
       "[0, 1, 1, 1, 1, 1]"
      ]
     },
     "execution_count": 9,
     "metadata": {},
     "output_type": "execute_result"
    }
   ],
   "source": [
    "parent"
   ]
  }
 ],
 "metadata": {
  "kernelspec": {
   "display_name": "Python 3",
   "language": "python",
   "name": "python3"
  },
  "language_info": {
   "codemirror_mode": {
    "name": "ipython",
    "version": 3
   },
   "file_extension": ".py",
   "mimetype": "text/x-python",
   "name": "python",
   "nbconvert_exporter": "python",
   "pygments_lexer": "ipython3",
   "version": "3.7.6"
  }
 },
 "nbformat": 4,
 "nbformat_minor": 4
}
