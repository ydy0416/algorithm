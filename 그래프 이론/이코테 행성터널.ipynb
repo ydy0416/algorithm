{
 "cells": [
  {
   "cell_type": "code",
   "execution_count": 17,
   "metadata": {},
   "outputs": [
    {
     "name": "stdout",
     "output_type": "stream",
     "text": [
      "[(0, 19, -4, 19), (7.14142842854285, 14, -5, -15), (12.727922061357855, 10, -4, -1), (15.7797338380595, 11, -15, -15), (28.442925306655784, -1, -1, -5)]\n",
      "13\n"
     ]
    }
   ],
   "source": [
    "#참고 https://hooongs.tistory.com/319\n",
    "import math\n",
    "# n=int(input())\n",
    "# plate=[]\n",
    "# for i in range(n):\n",
    "#     a,b,c=map(int,input().split())\n",
    "#     d=math.sqrt(a**2+b**2+c**2)\n",
    "#     plate.append((d,a,b,c))\n",
    "# plate.sort()\n",
    "n=5\n",
    "plate=[(5.196152422706632, -1, -1, -5), (10.816653826391969, 10, -4, -1),\n",
    "       (21.118712081942874, 14, -5, -15), (23.895606290697042, 11, -15, -15), (27.16615541441225, 19, -4, 19)]\n",
    "new_plate=[]\n",
    "for i in range(n-1):\n",
    "    d=math.sqrt((plate[n-1][1]-plate[i][1])**2+(plate[n-1][2]-plate[i][2])**2 +(plate[n-1][3]-plate[i][1])**2)\n",
    "    new_plate.append((d,plate[i][1],plate[i][2],plate[i][3]))\n",
    "    \n",
    "new_plate.append((0,plate[n-1][1],plate[n-1][2],plate[n-1][3]))\n",
    "new_plate.sort()\n",
    "print(new_plate)\n",
    "result=0\n",
    "for i in range(n-1):\n",
    "    result+=min(abs(new_plate[i][1]-new_plate[i+1][1]),abs(new_plate[i][2]-new_plate[i+1][2]),abs(new_plate[i][3]-new_plate[i+1][3]))\n",
    "print(result)\n",
    "    "
   ]
  },
  {
   "cell_type": "code",
   "execution_count": 16,
   "metadata": {},
   "outputs": [
    {
     "data": {
      "text/plain": [
       "[(0, 19, -4, 19),\n",
       " (7.14142842854285, 14, -5, -15),\n",
       " (12.727922061357855, 10, -4, -1),\n",
       " (15.7797338380595, 11, -15, -15),\n",
       " (28.442925306655784, -1, -1, -5)]"
      ]
     },
     "execution_count": 16,
     "metadata": {},
     "output_type": "execute_result"
    }
   ],
   "source": [
    "new_plate"
   ]
  },
  {
   "cell_type": "code",
   "execution_count": null,
   "metadata": {},
   "outputs": [],
   "source": []
  }
 ],
 "metadata": {
  "kernelspec": {
   "display_name": "Python 3",
   "language": "python",
   "name": "python3"
  },
  "language_info": {
   "codemirror_mode": {
    "name": "ipython",
    "version": 3
   },
   "file_extension": ".py",
   "mimetype": "text/x-python",
   "name": "python",
   "nbconvert_exporter": "python",
   "pygments_lexer": "ipython3",
   "version": "3.7.6"
  }
 },
 "nbformat": 4,
 "nbformat_minor": 4
}
