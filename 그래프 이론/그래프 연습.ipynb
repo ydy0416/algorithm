{
 "cells": [
  {
   "cell_type": "code",
   "execution_count": 2,
   "metadata": {
    "scrolled": true
   },
   "outputs": [
    {
     "name": "stdout",
     "output_type": "stream",
     "text": [
      "6 4 \n",
      "1 4\n",
      "2 3\n",
      "2 4\n",
      "5 6\n",
      "각 원소가 속한 집합:  1 1 1 1 5 5 \n",
      "부모 테이블:  1 1 2 1 5 5 "
     ]
    }
   ],
   "source": [
    "#특정 원소가 속한 집합을 찾기\n",
    "def find_parent(parent,x):\n",
    "    #루트노드가 아니라면 루트 노드를 찾을 때 가지 재귀적으로 호출\n",
    "    if parent[x]!=x:\n",
    "        return find_parent(parent,parent[x])\n",
    "    return x\n",
    "\n",
    "#두 원소가 속한 집합을 합치기\n",
    "def union_parent(parent,a,b):\n",
    "    a=find_parent(parent,a)\n",
    "    b=find_parent(parent,b)\n",
    "    if a<b:\n",
    "        parent[b]=a\n",
    "    else:\n",
    "        parent[a]=b\n",
    "#노드의 개수가 간선(union 연산)의 개수 입력받기\n",
    "v,e=map(int,input().split())\n",
    "parent=[0]*(v+1) #부모 b테이블 초기화\n",
    "\n",
    "#부모 테이블상에서, 부모를 자기 자신으로 초기화\n",
    "for i in range(1,v+1):\n",
    "    parent[i]=i\n",
    "\n",
    "#union 연산을 각각 수행\n",
    "for i in range(e):\n",
    "    a,b=map(int,input().split())\n",
    "    union_parent(parent,a,b)\n",
    "\n",
    "#각 원소가 속한 집합 출력\n",
    "print('각 원소가 속한 집합: ', end=' ')\n",
    "for i in range(1,v+1):\n",
    "    print(find_parent(parent,i), end=' ')\n",
    "\n",
    "print()\n",
    "\n",
    "#부모 테이블 내용 출력\n",
    "print('부모 테이블: ', end=' ')\n",
    "for i in range(1,v+1):\n",
    "    print(parent[i], end=' ')"
   ]
  },
  {
   "cell_type": "code",
   "execution_count": 4,
   "metadata": {},
   "outputs": [
    {
     "name": "stdout",
     "output_type": "stream",
     "text": [
      "7 9\n",
      "1 2 29\n",
      "1 5 75\n",
      "2 3 35\n",
      "2 6 34\n",
      "3 4 7\n",
      "4 6 23\n",
      "4 7 13\n",
      "5 6 53\n",
      "6 7 25\n",
      "159\n"
     ]
    }
   ],
   "source": [
    "#크루스칼 알고리즘\n",
    "#특정 원소가 속한 집합을 찾기\n",
    "def find_parent(parent,x):\n",
    "    #루트노드가 아니라면, 루트 노드를 찾을 때 까지 재귀적으로 호출\n",
    "    if parent[x]!=x:\n",
    "        parent[x]=find_parent(parent,parent[x])\n",
    "    return parent[x]\n",
    "\n",
    "#두 원소가 속한 집합을 합치기\n",
    "def union_parent(parent,a,b):\n",
    "    a=find_parent(parent,a)\n",
    "    b=find_parent(parent,b)\n",
    "    if a<b:\n",
    "        parent[b]=a\n",
    "    else:\n",
    "        parent[a]=b\n",
    "        \n",
    "#노드의 개수와 간선(union 연산)의 개수 입력받기\n",
    "v,e=map(int,input().split())\n",
    "parent=[0]*(v+1) #부모 테이블 초기화\n",
    "\n",
    "#모든 간선을 담을 리스트와 최종 비용을 담을 변수\n",
    "edges=[]\n",
    "result=0\n",
    "\n",
    "#부모 테이블상에서, 부모를 자기 자신으로 초기화\n",
    "for i in range(1,v+1):\n",
    "    parent[i]=i\n",
    "    \n",
    "#모든 간선에 대한 정보를 입력받기\n",
    "for _ in range(e):\n",
    "    a,b,cost=map(int,input().split())\n",
    "    #비용순으로 정렬하기 위해서 튜플의 첫 번째 원소를 비용으로 설정\n",
    "    edges.append((cost,a,b))\n",
    "\n",
    "#간선을 비용순으로 정렬\n",
    "edges.sort()\n",
    "\n",
    "#간선을 하나씩 확인하며\n",
    "for edge in edges:\n",
    "    cost,a,b=edge\n",
    "    #사이클이 발생하지 않는 경우에만 집합에 포함\n",
    "    if find_parent(parent,a)!=find_parent(parent,b):\n",
    "        union_parent(parent,a,b)\n",
    "        result+=cost\n",
    "print(result)"
   ]
  }
 ],
 "metadata": {
  "kernelspec": {
   "display_name": "Python 3",
   "language": "python",
   "name": "python3"
  },
  "language_info": {
   "codemirror_mode": {
    "name": "ipython",
    "version": 3
   },
   "file_extension": ".py",
   "mimetype": "text/x-python",
   "name": "python",
   "nbconvert_exporter": "python",
   "pygments_lexer": "ipython3",
   "version": "3.7.6"
  }
 },
 "nbformat": 4,
 "nbformat_minor": 4
}
