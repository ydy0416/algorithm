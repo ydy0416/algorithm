{
 "cells": [
  {
   "cell_type": "code",
   "execution_count": 18,
   "metadata": {},
   "outputs": [
    {
     "name": "stdout",
     "output_type": "stream",
     "text": [
      "a,b 0 3\n",
      "해당간선 0 3\n",
      "a,b 2 4\n",
      "해당간선 2 4\n",
      "a,b 3 5\n",
      "해당간선 3 5\n",
      "a,b 0 1\n",
      "해당간선 0 1\n",
      "a,b 1 4\n",
      "해당간선 1 4\n",
      "a,b 1 2\n",
      "a,b 4 5\n",
      "a,b 1 3\n",
      "a,b 4 6\n",
      "해당간선 4 6\n",
      "a,b 5 6\n",
      "a,b 3 4\n",
      "51\n"
     ]
    }
   ],
   "source": [
    "#특정 원소가 속한 집합을 찾기\n",
    "def find_parent(parent,x):\n",
    "    #루트노드가 아니라면, 루트 노드를 찾을 때 까지 재귀적으로 호출\n",
    "    if parent[x]!=x:\n",
    "        parent[x]=find_parent(parent,parent[x])\n",
    "    return parent[x]\n",
    "\n",
    "#두 원소가 속한 집합을 합치기\n",
    "def union_parent(parent,a,b):\n",
    "    a=find_parent(parent,a)\n",
    "    b=find_parent(parent,b)\n",
    "    if a<b:\n",
    "        parent[b]=a\n",
    "    else:\n",
    "        parent[a]=b\n",
    "        \n",
    "# n,m=map(int,input().split())\n",
    "n,m=7,11\n",
    "\n",
    "graph=[[] for i in range(n)]\n",
    "parent=[0]*n\n",
    "\n",
    "edges=[]\n",
    "for i in range(n):\n",
    "    parent[i]=i\n",
    "\n",
    "# for i in range(m):\n",
    "#     a,b,cost=map(int,input().split())\n",
    "#     edges.append((cost,a,b))\n",
    "# edges.sort()\n",
    "edges=[(5, 0, 3),\n",
    " (5, 2, 4),\n",
    " (6, 3, 5),\n",
    " (7, 0, 1),\n",
    " (7, 1, 4),\n",
    " (8, 1, 2),\n",
    " (8, 4, 5),\n",
    " (9, 1, 3),\n",
    " (9, 4, 6),\n",
    " (11, 5, 6),\n",
    " (15, 3, 4)]\n",
    "\n",
    "result=0\n",
    "#간선을 하나씩 확인하며\n",
    "for edge in edges:\n",
    "    cost,a,b=edge\n",
    "    print('a,b',a,b)\n",
    "    #사이클이 발생하지 않는 경우에만 집합에 포함\n",
    "    if find_parent(parent,a)!=find_parent(parent,b):\n",
    "        #해당 간선\n",
    "        print('해당간선',a,b)\n",
    "        union_parent(parent,a,b)\n",
    "        result+=cost\n",
    "        \n",
    "#가로등을 모두 켤때의 비용\n",
    "hap=0\n",
    "for i in edges:\n",
    "    hap+=i[0]\n",
    "print(hap-result)"
   ]
  },
  {
   "cell_type": "code",
   "execution_count": 14,
   "metadata": {},
   "outputs": [
    {
     "data": {
      "text/plain": [
       "[0, 0, 0, 0, 0, 0, 0]"
      ]
     },
     "execution_count": 14,
     "metadata": {},
     "output_type": "execute_result"
    }
   ],
   "source": [
    "parent"
   ]
  }
 ],
 "metadata": {
  "kernelspec": {
   "display_name": "Python 3",
   "language": "python",
   "name": "python3"
  },
  "language_info": {
   "codemirror_mode": {
    "name": "ipython",
    "version": 3
   },
   "file_extension": ".py",
   "mimetype": "text/x-python",
   "name": "python",
   "nbconvert_exporter": "python",
   "pygments_lexer": "ipython3",
   "version": "3.7.6"
  }
 },
 "nbformat": 4,
 "nbformat_minor": 4
}
