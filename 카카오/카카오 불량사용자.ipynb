{
 "cells": [
  {
   "cell_type": "code",
   "execution_count": 38,
   "metadata": {
    "scrolled": true
   },
   "outputs": [
    {
     "data": {
      "text/plain": [
       "3"
      ]
     },
     "execution_count": 38,
     "metadata": {},
     "output_type": "execute_result"
    }
   ],
   "source": [
    "from itertools import permutations\n",
    "\n",
    "def matchid(case, banned_id):\n",
    "    for k in range(len(banned_id)):\n",
    "        if banned_id[k]=='*': continue\n",
    "        elif case[k]!=banned_id[k]: return False\n",
    "    return True\n",
    "\n",
    "def check(case,banned_id):\n",
    "    for i in range(len(banned_id)):\n",
    "        if len(case[i])!=len(banned_id[i]):\n",
    "            return False\n",
    "        if matchid(case[i], banned_id[i]) is False:\n",
    "            return False\n",
    "    return True\n",
    "\n",
    "\n",
    "def solution(user_id, banned_id):\n",
    "    answer=[]\n",
    "    n=len(user_id)\n",
    "    k=len(banned_id)\n",
    "    case_set=list(permutations(user_id,k))\n",
    "    for case in case_set:\n",
    "        if check(case, banned_id) is True:\n",
    "            case=set(case)\n",
    "            if case not in answer:\n",
    "                answer.append(case)\n",
    "\n",
    "    return len(answer)\n",
    "\n",
    "user_id=[\"frodo\", \"fradi\", \"crodo\", \"abc123\", \"frodoc\"]\n",
    "banned_id=[\"fr*d*\", \"*rodo\", \"******\", \"******\"]\n",
    "solution(user_id, banned_id)\n",
    "        "
   ]
  },
  {
   "cell_type": "code",
   "execution_count": 35,
   "metadata": {},
   "outputs": [
    {
     "data": {
      "text/plain": [
       "3"
      ]
     },
     "execution_count": 35,
     "metadata": {},
     "output_type": "execute_result"
    }
   ],
   "source": [
    "#연습 7/17\n",
    "user_id=[\"frodo\", \"fradi\", \"crodo\", \"abc123\", \"frodoc\"]\n",
    "banned_id=[\"fr*d*\", \"*rodo\", \"******\", \"******\"]\n",
    "\n",
    "from itertools import permutations\n",
    "\n",
    "def matchid(user, banned_id):\n",
    "    for i in range(len(user)):\n",
    "        if banned_id[i]=='*':\n",
    "            continue\n",
    "        elif user[i]!=banned_id[i]:\n",
    "            return False\n",
    "    return True\n",
    "\n",
    "def check(user, banned_id):\n",
    "    for i in range(len(banned_id)):\n",
    "        if len(user[i])==len(banned_id[i]):\n",
    "            if matchid(user[i], banned_id[i]) is False:\n",
    "                return False\n",
    "        else:\n",
    "            return False\n",
    "#     print(user, banned_id)\n",
    "    return True\n",
    "        \n",
    "    \n",
    "\n",
    "def solution(user_id, banned_id):\n",
    "    user_set=list(permutations(user_id,len(banned_id)))\n",
    "    ans=[]\n",
    "    \n",
    "    for user in user_set:\n",
    "        if check(user, banned_id) is True:\n",
    "            case=set(user)\n",
    "            if case not in ans:\n",
    "                ans.append(case)\n",
    "    return len(ans)\n",
    "solution(user_id, banned_id)"
   ]
  }
 ],
 "metadata": {
  "kernelspec": {
   "display_name": "Python 3",
   "language": "python",
   "name": "python3"
  },
  "language_info": {
   "codemirror_mode": {
    "name": "ipython",
    "version": 3
   },
   "file_extension": ".py",
   "mimetype": "text/x-python",
   "name": "python",
   "nbconvert_exporter": "python",
   "pygments_lexer": "ipython3",
   "version": "3.7.6"
  }
 },
 "nbformat": 4,
 "nbformat_minor": 4
}
