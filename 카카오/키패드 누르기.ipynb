{
 "cells": [
  {
   "cell_type": "code",
   "execution_count": 23,
   "metadata": {},
   "outputs": [
    {
     "name": "stdout",
     "output_type": "stream",
     "text": [
      "LRLLRRLLLRR\n"
     ]
    }
   ],
   "source": [
    "def nowindex(x):\n",
    "    if x==1:\n",
    "        return [0,0]\n",
    "    elif x==2:\n",
    "        return [0,1]\n",
    "    elif x==3:\n",
    "        return [0,2]\n",
    "    elif x==4:\n",
    "        return [1,0]\n",
    "    elif x==5:\n",
    "        return [1,1]\n",
    "    elif x==6:\n",
    "        return [1,2]\n",
    "    elif x==7:\n",
    "        return [2,0]\n",
    "    elif x==8:\n",
    "        return [2,1]\n",
    "    elif x==9:\n",
    "        return [2,2]\n",
    "    elif x==0:\n",
    "        return [3,1]\n",
    "    \n",
    "numbers=[7, 0, 8, 2, 8, 3, 1, 5, 7, 6, 2]\n",
    "hand='left'\n",
    "ans=\"\"\n",
    "Lnow=[3,0]\n",
    "Rnow=[3,2]\n",
    "for i in numbers:\n",
    "    if i==1 or i==4 or i==7:\n",
    "        ans+=\"L\"\n",
    "        Lnow=nowindex(i)\n",
    "    elif i==3 or i==6 or i==9:\n",
    "        ans+=\"R\"\n",
    "        Rnow=nowindex(i)\n",
    "    #가운데숫자\n",
    "    else:\n",
    "        center=nowindex(i)\n",
    "#         print('center[0],Lnow[0], center[1],Lnow[1]', center[0], center[1],Lnow[0],Lnow[1])\n",
    "        Ldistance=abs(center[0]-Lnow[0])+abs(center[1]-Lnow[1])\n",
    "#         print('Ldistance', Ldistance)\n",
    "        Rdistance=abs(center[0]-Rnow[0])+abs(center[1]-Rnow[1])\n",
    "        #왼손의 거리가 오른손의 거리보다 짧으면\n",
    "        if Ldistance<Rdistance:\n",
    "            ans+='L'\n",
    "            Lnow=[center[0],center[1]]\n",
    "        elif Ldistance>Rdistance:\n",
    "            ans+='R'\n",
    "            Rnow=[center[0],center[1]]\n",
    "        else:\n",
    "            if hand=='right':\n",
    "                ans+='R'\n",
    "                Rnow=[center[0],center[1]]\n",
    "            else:\n",
    "                ans+='L'\n",
    "                Lnow=[center[0],center[1]]\n",
    "print(ans)\n"
   ]
  }
 ],
 "metadata": {
  "kernelspec": {
   "display_name": "Python 3",
   "language": "python",
   "name": "python3"
  },
  "language_info": {
   "codemirror_mode": {
    "name": "ipython",
    "version": 3
   },
   "file_extension": ".py",
   "mimetype": "text/x-python",
   "name": "python",
   "nbconvert_exporter": "python",
   "pygments_lexer": "ipython3",
   "version": "3.7.6"
  }
 },
 "nbformat": 4,
 "nbformat_minor": 4
}
