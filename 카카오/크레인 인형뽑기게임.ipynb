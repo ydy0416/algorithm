{
 "cells": [
  {
   "cell_type": "code",
   "execution_count": 16,
   "metadata": {
    "scrolled": true
   },
   "outputs": [
    {
     "data": {
      "text/plain": [
       "[[0, 0, 0, 0, 0],\n",
       " [0, 0, 1, 0, 3],\n",
       " [0, 2, 5, 0, 1],\n",
       " [4, 2, 4, 4, 2],\n",
       " [3, 5, 1, 3, 1]]"
      ]
     },
     "execution_count": 16,
     "metadata": {},
     "output_type": "execute_result"
    }
   ],
   "source": [
    "board=[[0,0,0,0,0],[0,0,1,0,3],[0,2,5,0,1],[4,2,4,4,2],[3,5,1,3,1]]\n",
    "moves=[1,5,3,5,1,2,1,4]\n",
    "board"
   ]
  },
  {
   "cell_type": "markdown",
   "metadata": {},
   "source": [
    "1. 열을 고정시키고 행만 이동하여 0이 아닌것 찾기\n",
    "2. 해당 원소값이 lastvalue 값과 비교하여 같으면 cnt+2하고 다르면 바구니에 쌓기 \n",
    "3. 인형이 터뜨려지면 lastvalue에 마지막 스택값 넣기\n"
   ]
  },
  {
   "cell_type": "code",
   "execution_count": 17,
   "metadata": {},
   "outputs": [
    {
     "name": "stdout",
     "output_type": "stream",
     "text": [
      "[4]\n",
      "[4, 3]\n",
      "[4, 3, 1]\n",
      "[4, 3]\n",
      "[4]\n",
      "[4, 2]\n",
      "[4, 2, 4]\n",
      "[4, 2, 4]\n"
     ]
    }
   ],
   "source": [
    "n=len(board)\n",
    "basket=[]\n",
    "lastvalue=-1\n",
    "ans=0\n",
    "for i in moves:\n",
    "    for j in range(n):\n",
    "        if board[j][i-1]:\n",
    "            #처음값\n",
    "            if lastvalue==-1:\n",
    "                lastvalue=board[j][i-1]\n",
    "                basket.append(board[j][i-1])\n",
    "                board[j][i-1]=0\n",
    "            \n",
    "            #같은 인형이 겹칠때\n",
    "            elif board[j][i-1]==lastvalue:\n",
    "                board[j][i-1]=0\n",
    "                basket.pop()\n",
    "                lastvalue=basket[len(basket)-1]\n",
    "                ans+=2\n",
    "                \n",
    "            #안겹칠때\n",
    "            else:\n",
    "                basket.append(board[j][i-1])\n",
    "                lastvalue=board[j][i-1]\n",
    "                board[j][i-1]=0\n",
    "            print(basket)\n",
    "            break\n",
    "            "
   ]
  }
 ],
 "metadata": {
  "kernelspec": {
   "display_name": "Python 3",
   "language": "python",
   "name": "python3"
  },
  "language_info": {
   "codemirror_mode": {
    "name": "ipython",
    "version": 3
   },
   "file_extension": ".py",
   "mimetype": "text/x-python",
   "name": "python",
   "nbconvert_exporter": "python",
   "pygments_lexer": "ipython3",
   "version": "3.7.6"
  }
 },
 "nbformat": 4,
 "nbformat_minor": 4
}
