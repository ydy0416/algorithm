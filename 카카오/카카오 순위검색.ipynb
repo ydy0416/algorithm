{
 "cells": [
  {
   "cell_type": "code",
   "execution_count": 11,
   "metadata": {
    "scrolled": false
   },
   "outputs": [
    {
     "data": {
      "text/plain": [
       "[1, 1, 1, 1, 2, 4]"
      ]
     },
     "execution_count": 11,
     "metadata": {},
     "output_type": "execute_result"
    }
   ],
   "source": [
    "#정확성만 통과\n",
    "info=[\"java backend junior pizza 150\",\n",
    "      \"python frontend senior chicken 210\",\n",
    "      \"python frontend senior chicken 150\",\n",
    "      \"cpp backend senior pizza 260\",\n",
    "      \"java backend junior chicken 80\",\n",
    "      \"python backend senior chicken 50\"]\n",
    "\n",
    "query=[\"java and backend and junior and pizza 100\",\n",
    "       \"python and frontend and senior and chicken 200\",\n",
    "       \"cpp and - and senior and pizza 250\",\n",
    "       \"- and backend and senior and - 150\",\n",
    "       \"- and - and - and chicken 100\",\n",
    "       \"- and - and - and - 150\"]\n",
    "def solution(info,query):\n",
    "    answer=[]\n",
    "    #인포 원소분리\n",
    "    i=0\n",
    "    for info_case in info:\n",
    "        info[i]=info_case.split()\n",
    "        i+=1\n",
    "\n",
    "    #쿼리 원소분리\n",
    "    i=0\n",
    "    for query_case in query:\n",
    "        query[i]=query_case.split(' and ')\n",
    "        i+=1\n",
    "\n",
    "    for i in range(len(query)):\n",
    "        a,b=query[i][3].split()\n",
    "        query[i].pop()\n",
    "        query[i].append(a)\n",
    "        query[i].append(b)\n",
    "\n",
    "\n",
    "\n",
    "    #쿼리의 갯수만큼 반복\n",
    "    for i in range(len(query)):\n",
    "        tmp=0\n",
    "        #인포의 갯수만큼 반복\n",
    "        for j in range(len(info)):\n",
    "            #쿼리의 원소만큼 반복\n",
    "            for k in range(5):\n",
    "                #쿼리가 '-'이면 무시\n",
    "                if query[i][k]=='-':\n",
    "                    continue\n",
    "                elif k==4:\n",
    "                    #점수비교\n",
    "                    if int(query[i][k])<=int(info[j][k]):\n",
    "                        tmp+=1\n",
    "                elif query[i][k]!=info[j][k]:\n",
    "                    break\n",
    "        answer.append(tmp)\n",
    "    return answer\n",
    "\n",
    "solution(info, query)\n"
   ]
  },
  {
   "cell_type": "code",
   "execution_count": 6,
   "metadata": {
    "scrolled": true
   },
   "outputs": [
    {
     "name": "stdout",
     "output_type": "stream",
     "text": [
      "[['java', 'backend', 'junior', 'pizza', '150'], ['python', 'frontend', 'senior', 'chicken', '210'], ['python', 'frontend', 'senior', 'chicken', '150'], ['cpp', 'backend', 'senior', 'pizza', '260'], ['java', 'backend', 'junior', 'chicken', '80'], ['python', 'backend', 'senior', 'chicken', '50']]\n",
      "----------------------------------------------------------------------------------------------------\n",
      "[['java', 'backend', 'junior', 'pizza', '100'], ['python', 'frontend', 'senior', 'chicken', '200'], ['cpp', '-', 'senior', 'pizza', '250'], ['-', 'backend', 'senior', '-', '150'], ['-', '-', '-', 'chicken', '100'], ['-', '-', '-', '-', '150']]\n"
     ]
    }
   ],
   "source": [
    "print(info)\n",
    "print('-'*100)\n",
    "print(query)"
   ]
  },
  {
   "cell_type": "code",
   "execution_count": 57,
   "metadata": {},
   "outputs": [
    {
     "name": "stdout",
     "output_type": "stream",
     "text": [
      "defaultdict(<class 'list'>, {'': [50, 80, 150, 150, 210, 260], 'java': [80, 150], 'backend': [50, 80, 150, 260], 'junior': [80, 150], 'pizza': [150, 260], 'javabackend': [80, 150], 'javajunior': [80, 150], 'javapizza': [150], 'backendjunior': [80, 150], 'backendpizza': [150, 260], 'juniorpizza': [150], 'javabackendjunior': [80, 150], 'javabackendpizza': [150], 'javajuniorpizza': [150], 'backendjuniorpizza': [150], 'javabackendjuniorpizza': [150], 'python': [50, 150, 210], 'frontend': [150, 210], 'senior': [50, 150, 210, 260], 'chicken': [50, 80, 150, 210], 'pythonfrontend': [150, 210], 'pythonsenior': [50, 150, 210], 'pythonchicken': [50, 150, 210], 'frontendsenior': [150, 210], 'frontendchicken': [150, 210], 'seniorchicken': [50, 150, 210], 'pythonfrontendsenior': [150, 210], 'pythonfrontendchicken': [150, 210], 'pythonseniorchicken': [50, 150, 210], 'frontendseniorchicken': [150, 210], 'pythonfrontendseniorchicken': [150, 210], 'cpp': [260], 'cppbackend': [260], 'cppsenior': [260], 'cpppizza': [260], 'backendsenior': [50, 260], 'seniorpizza': [260], 'cppbackendsenior': [260], 'cppbackendpizza': [260], 'cppseniorpizza': [260], 'backendseniorpizza': [260], 'cppbackendseniorpizza': [260], 'javachicken': [80], 'backendchicken': [50, 80], 'juniorchicken': [80], 'javabackendchicken': [80], 'javajuniorchicken': [80], 'backendjuniorchicken': [80], 'javabackendjuniorchicken': [80], 'pythonbackend': [50], 'pythonbackendsenior': [50], 'pythonbackendchicken': [50], 'backendseniorchicken': [50], 'pythonbackendseniorchicken': [50]})\n",
      "[1, 1, 1, 1, 2, 4]\n"
     ]
    }
   ],
   "source": [
    "#https://whwl.tistory.com/193\n",
    "#정확성 효율성 둘 다 통과하는 코드\n",
    "from collections import defaultdict\n",
    "from itertools import combinations\n",
    "answer=[]\n",
    "infos=[\"java backend junior pizza 150\",\n",
    "      \"python frontend senior chicken 210\",\n",
    "      \"python frontend senior chicken 150\",\n",
    "      \"cpp backend senior pizza 260\",\n",
    "      \"java backend junior chicken 80\",\n",
    "      \"python backend senior chicken 50\"]\n",
    "\n",
    "queries=[\"java and backend and junior and pizza 100\",\n",
    "       \"python and frontend and senior and chicken 200\",\n",
    "       \"cpp and - and senior and pizza 250\",\n",
    "       \"- and backend and senior and - 150\",\n",
    "       \"- and - and - and chicken 100\",\n",
    "       \"- and - and - and - 150\"]\n",
    "info_dict=defaultdict(list)\n",
    "for info in infos:\n",
    "    info=info.split()\n",
    "#     print(info)\n",
    "    info_key=info[:-1]\n",
    "#     print(info_key)\n",
    "    info_val=int(info[-1])\n",
    "#     print(info_val)\n",
    "    for i in range(5):\n",
    "        for c in combinations(info_key,i):\n",
    "#             print(c)\n",
    "            tmp_key=''.join(c)\n",
    "#             print(tmp_key)\n",
    "            info_dict[tmp_key].append(info_val)\n",
    "#             print(info_dict[tmp_key])\n",
    "    \n",
    "for key in info_dict.keys():\n",
    "    info_dict[key].sort()\n",
    "print(info_dict)\n",
    "for query in queries:\n",
    "    query=query.split(' ')\n",
    "    query_score=int(query[-1])\n",
    "    query=query[:-1]\n",
    "    for i in range(3):\n",
    "        query.remove('and')\n",
    "    while '-' in query:\n",
    "        query.remove('-')\n",
    "    tmp_q=''.join(query)\n",
    "#       print(tmp_q)\n",
    "        \n",
    "    #lower bound 사용해 query_score 보다 큰 점수들의 개수 구하기\n",
    "    if tmp_q in info_dict:\n",
    "        scores=info_dict[tmp_q]\n",
    "        if len(scores)>=0:\n",
    "            start, end=0, len(scores)\n",
    "            while end>start:\n",
    "                mid=(start+end)//2\n",
    "                if scores[mid]>=query_score:\n",
    "                    end=mid\n",
    "                else:\n",
    "                    start=mid+1\n",
    "            answer.append(len(scores)-start)\n",
    "    else:\n",
    "        answer.append(0)\n",
    "print(answer)"
   ]
  }
 ],
 "metadata": {
  "kernelspec": {
   "display_name": "Python 3",
   "language": "python",
   "name": "python3"
  },
  "language_info": {
   "codemirror_mode": {
    "name": "ipython",
    "version": 3
   },
   "file_extension": ".py",
   "mimetype": "text/x-python",
   "name": "python",
   "nbconvert_exporter": "python",
   "pygments_lexer": "ipython3",
   "version": "3.7.6"
  }
 },
 "nbformat": 4,
 "nbformat_minor": 4
}
