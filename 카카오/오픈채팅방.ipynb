{
 "cells": [
  {
   "cell_type": "code",
   "execution_count": 14,
   "metadata": {},
   "outputs": [
    {
     "name": "stdout",
     "output_type": "stream",
     "text": [
      "['Prodo님이 들어왔습니다.', 'Ryan님이 들어왔습니다.', 'Prodo님이 나갔습니다.', 'Prodo님이 들어왔습니다.']\n"
     ]
    }
   ],
   "source": [
    "record=[\"Enter uid1234 Muzi\", \"Enter uid4567 Prodo\",\"Leave uid1234\",\"Enter uid1234 Prodo\",\"Change uid4567 Ryan\"]\n",
    "iddict={}\n",
    "\n",
    "act=[]\n",
    "for i in record:\n",
    "    if i[0:5]=='Enter':\n",
    "        act.append((i.split()[1],i[0:5]))\n",
    "\n",
    "    elif i[0:5]=='Leave':\n",
    "        act.append((i.split()[1],i[0:5]))\n",
    "\n",
    "    else :\n",
    "        act.append((i.split()[1],i[0:6])) \n",
    "\n",
    "    if i[0:5]!='Leave':\n",
    "        iddict[i.split()[1]]=i.split()[2]\n",
    "answer=[]\n",
    "for i in act:\n",
    "    if i[1]=='Enter':\n",
    "        answer.append(str(iddict[i[0]])+'님이 들어왔습니다.')\n",
    "    elif i[1]=='Leave':\n",
    "        answer.append(str(iddict[i[0]])+'님이 나갔습니다.')\n"
   ]
  },
  {
   "cell_type": "code",
   "execution_count": 9,
   "metadata": {
    "scrolled": true
   },
   "outputs": [
    {
     "data": {
      "text/plain": [
       "{'uid1234': 'Prodo', 'uid4567': 'Ryan'}"
      ]
     },
     "execution_count": 9,
     "metadata": {},
     "output_type": "execute_result"
    }
   ],
   "source": [
    "#제출용\n",
    "def solution(record):\n",
    "    answer = []\n",
    "    iddict={}\n",
    "\n",
    "    act=[]\n",
    "    for i in record:\n",
    "        if i[0:5]=='Enter':\n",
    "            act.append((i.split()[1],i[0:5]))\n",
    "\n",
    "        elif i[0:5]=='Leave':\n",
    "            act.append((i.split()[1],i[0:5]))\n",
    "\n",
    "        else :\n",
    "            act.append((i.split()[1],i[0:6])) \n",
    "\n",
    "        if i[0:5]!='Leave':\n",
    "            iddict[i.split()[1]]=i.split()[2]\n",
    "    answer=[]\n",
    "    for i in act:\n",
    "        if i[1]=='Enter':\n",
    "            answer.append(str(iddict[i[0]])+'님이 들어왔습니다.')\n",
    "        elif i[1]=='Leave':\n",
    "            answer.append(str(iddict[i[0]])+'님이 나갔습니다.')\n",
    "    return answer"
   ]
  }
 ],
 "metadata": {
  "kernelspec": {
   "display_name": "Python 3",
   "language": "python",
   "name": "python3"
  },
  "language_info": {
   "codemirror_mode": {
    "name": "ipython",
    "version": 3
   },
   "file_extension": ".py",
   "mimetype": "text/x-python",
   "name": "python",
   "nbconvert_exporter": "python",
   "pygments_lexer": "ipython3",
   "version": "3.7.6"
  }
 },
 "nbformat": 4,
 "nbformat_minor": 4
}
