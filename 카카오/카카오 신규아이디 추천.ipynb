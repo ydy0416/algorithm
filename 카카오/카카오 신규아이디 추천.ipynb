{
 "cells": [
  {
   "cell_type": "code",
   "execution_count": 49,
   "metadata": {},
   "outputs": [
    {
     "name": "stdout",
     "output_type": "stream",
     "text": [
      "bat.y.abcdefghijklm\n",
      "bat.y.abcdefghi\n"
     ]
    }
   ],
   "source": [
    "import re\n",
    "\n",
    "def cleanText(readData):\n",
    "    #텍스트에 포함되어 있는 특수 문자 제거\n",
    "    text = re.sub('[=+,#/\\?:^$@*\\\"※~&%ㆍ!』\\\\‘|\\(\\)\\[\\]\\<\\>`\\'…》]', '', readData)\n",
    "    return text\n",
    "\n",
    "def solution(new_id):\n",
    "\n",
    "    # new_id=input()\n",
    "    #1단계\n",
    "    new_id=new_id.lower()\n",
    "#     print(new_id)\n",
    "    \n",
    "    #2단계\n",
    "    new_id=cleanText(new_id)\n",
    "#     print(new_id)\n",
    "    \n",
    "    #3단계 \n",
    "    while '..' in new_id:\n",
    "        new_id = new_id.replace('..', '.')\n",
    "\n",
    "    #4단계\n",
    "    if len(new_id)>0:\n",
    "        if new_id[0]=='.':\n",
    "            new_id=new_id[1:]\n",
    "#         print(new_id)\n",
    "        if new_id[len(new_id)-1]=='.':\n",
    "            new_id=new_id[:-2]\n",
    "    print(new_id)\n",
    "    #5단계\n",
    "    if len(new_id)==0:\n",
    "        new_id=[]\n",
    "        new_id.append('a')\n",
    "\n",
    "    #6단계\n",
    "    if len(new_id)>=16:\n",
    "        new_id=new_id[:15]\n",
    "        if new_id[len(new_id)-1]=='.':\n",
    "            new_id=new_id[:14]\n",
    "\n",
    "    #7단계\n",
    "    while len(new_id)<=2:\n",
    "        new_id.append(new_id[len(new_id)-1])\n",
    "#     print(new_id)\n",
    "    return new_id\n",
    "\n",
    "new_id=\"...!@BaT#*..y.abcdefghijklm\"\n",
    "ans=solution(new_id)"
   ]
  },
  {
   "cell_type": "code",
   "execution_count": 40,
   "metadata": {},
   "outputs": [
    {
     "name": "stdout",
     "output_type": "stream",
     "text": [
      "..bat..y.abcdefg\n"
     ]
    }
   ],
   "source": [
    "print(new_id)"
   ]
  }
 ],
 "metadata": {
  "kernelspec": {
   "display_name": "Python 3",
   "language": "python",
   "name": "python3"
  },
  "language_info": {
   "codemirror_mode": {
    "name": "ipython",
    "version": 3
   },
   "file_extension": ".py",
   "mimetype": "text/x-python",
   "name": "python",
   "nbconvert_exporter": "python",
   "pygments_lexer": "ipython3",
   "version": "3.7.6"
  }
 },
 "nbformat": 4,
 "nbformat_minor": 4
}
