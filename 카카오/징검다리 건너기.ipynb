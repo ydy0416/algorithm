{
 "cells": [
  {
   "cell_type": "code",
   "execution_count": 13,
   "metadata": {},
   "outputs": [
    {
     "name": "stdout",
     "output_type": "stream",
     "text": [
      "0 2 5\n",
      "2: 3 2 5\n",
      "3 4 5\n",
      "2: 3 4 3\n",
      "3 3 3\n",
      "2: 3 3 2\n"
     ]
    },
    {
     "data": {
      "text/plain": [
       "3"
      ]
     },
     "execution_count": 13,
     "metadata": {},
     "output_type": "execute_result"
    }
   ],
   "source": [
    "# stones의 크기는 200000이하\n",
    "# k는 1이상 stones 길이 이하 자연수\n",
    "\n",
    "def solution(stones, k):\n",
    "    start=0\n",
    "    end=max(stones)\n",
    "    \n",
    "    while start<=end:\n",
    "        cnt=0\n",
    "        mid=(start+end)//2\n",
    "#         print(start,mid,end)\n",
    "        for s in stones:\n",
    "            if s-mid<=0:\n",
    "                cnt+=1\n",
    "            else:\n",
    "                cnt=0\n",
    "            #0인횟수가 k이면 break\n",
    "            if cnt==k:\n",
    "                break\n",
    "        \n",
    "        #0인 횟수가 k보다 작게되면 건널수 있는 사람이 mid보다 많음 \n",
    "        if cnt<k:\n",
    "            start=mid+1\n",
    "        #0인 횟수가 k보다 크거나 같게되면 건널수 있는 사람이 mid보다 많음\n",
    "        else:\n",
    "            end=mid-1\n",
    "            answer=mid\n",
    "    \n",
    "    return answer\n",
    "    \n",
    "    \n",
    "    \n",
    "        \n",
    "\n",
    "#테스트케이스\n",
    "stones=[2, 4, 5, 3, 2, 1, 4, 2, 5, 1]\n",
    "k=3\n",
    "solution(stones,k)"
   ]
  },
  {
   "cell_type": "code",
   "execution_count": 6,
   "metadata": {},
   "outputs": [
    {
     "data": {
      "text/plain": [
       "3"
      ]
     },
     "execution_count": 6,
     "metadata": {},
     "output_type": "execute_result"
    }
   ],
   "source": [
    "(3+4)//2"
   ]
  }
 ],
 "metadata": {
  "kernelspec": {
   "display_name": "Python 3",
   "language": "python",
   "name": "python3"
  },
  "language_info": {
   "codemirror_mode": {
    "name": "ipython",
    "version": 3
   },
   "file_extension": ".py",
   "mimetype": "text/x-python",
   "name": "python",
   "nbconvert_exporter": "python",
   "pygments_lexer": "ipython3",
   "version": "3.7.6"
  }
 },
 "nbformat": 4,
 "nbformat_minor": 4
}
