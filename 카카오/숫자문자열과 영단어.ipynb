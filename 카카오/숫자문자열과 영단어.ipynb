{
 "cells": [
  {
   "cell_type": "code",
   "execution_count": 45,
   "metadata": {},
   "outputs": [
    {
     "data": {
      "text/plain": [
       "1111"
      ]
     },
     "execution_count": 45,
     "metadata": {},
     "output_type": "execute_result"
    }
   ],
   "source": [
    "def solution(s):\n",
    "    s=s.replace('one','1')\n",
    "    s=s.replace('two','2')\n",
    "    s=s.replace('three','3')\n",
    "    s=s.replace('four','4')\n",
    "    s=s.replace('five','5')\n",
    "    s=s.replace('six','6')\n",
    "    s=s.replace('seven','7')\n",
    "    s=s.replace('eight','8')\n",
    "    s=s.replace('nine','9')\n",
    "    s=s.replace('zero','0')\n",
    "    \n",
    "    return int(s)\n",
    "s=\"oneone11\"\n",
    "solution(s)"
   ]
  }
 ],
 "metadata": {
  "kernelspec": {
   "display_name": "Python 3",
   "language": "python",
   "name": "python3"
  },
  "language_info": {
   "codemirror_mode": {
    "name": "ipython",
    "version": 3
   },
   "file_extension": ".py",
   "mimetype": "text/x-python",
   "name": "python",
   "nbconvert_exporter": "python",
   "pygments_lexer": "ipython3",
   "version": "3.7.6"
  }
 },
 "nbformat": 4,
 "nbformat_minor": 4
}
