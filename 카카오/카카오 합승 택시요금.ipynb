{
 "cells": [
  {
   "cell_type": "code",
   "execution_count": 24,
   "metadata": {
    "scrolled": false
   },
   "outputs": [
    {
     "name": "stdout",
     "output_type": "stream",
     "text": [
      "0 4\n",
      "10 1\n",
      "35 6\n",
      "50 6\n"
     ]
    }
   ],
   "source": [
    "import heapq\n",
    "n,s,a,b=6,4,6,2\n",
    "fares=[[4, 1, 10], [3, 5, 24], [5, 6, 2],\n",
    "       [3, 1, 41], [5, 1, 24], [4, 6, 50],\n",
    "       [2, 4, 66], [2, 3, 22], [1, 6, 25]]\n",
    "\n",
    "graph=[[] for i in range(n+1)]\n",
    "for i in fares:\n",
    "    graph[i[0]].append((i[1],i[2]))\n",
    "\n",
    "INF=int(1e9)\n",
    "q=[]\n",
    "heapq.heappush(q,(0,s))\n",
    "distance=[INF]*len(fares)\n",
    "distance[s]=0\n",
    "while q:\n",
    "    dist,now=heapq.heappop(q)\n",
    "    print(dist,now)\n",
    "    if distance[now]<dist:\n",
    "        continue\n",
    "    for i in graph[now]:\n",
    "        cost=dist+i[1]\n",
    "        if cost <distance[i[0]]:\n",
    "            distance[i[0]]=cost\n",
    "            heapq.heappush(q,(cost,i[0]))\n",
    "            \n",
    "# for i in range(1,n+1):\n",
    "#     if distance[i]==INF:\n",
    "#         print(\"도착x\")\n",
    "#     else:\n",
    "#         print(distance[i])\n"
   ]
  },
  {
   "cell_type": "code",
   "execution_count": 16,
   "metadata": {},
   "outputs": [
    {
     "data": {
      "text/plain": [
       "[1000000000,\n",
       " 1000000000,\n",
       " 1000000000,\n",
       " 1000000000,\n",
       " 0,\n",
       " 1000000000,\n",
       " 1000000000,\n",
       " 1000000000,\n",
       " 1000000000]"
      ]
     },
     "execution_count": 16,
     "metadata": {},
     "output_type": "execute_result"
    }
   ],
   "source": [
    "distance"
   ]
  }
 ],
 "metadata": {
  "kernelspec": {
   "display_name": "Python 3",
   "language": "python",
   "name": "python3"
  },
  "language_info": {
   "codemirror_mode": {
    "name": "ipython",
    "version": 3
   },
   "file_extension": ".py",
   "mimetype": "text/x-python",
   "name": "python",
   "nbconvert_exporter": "python",
   "pygments_lexer": "ipython3",
   "version": "3.7.6"
  }
 },
 "nbformat": 4,
 "nbformat_minor": 4
}
