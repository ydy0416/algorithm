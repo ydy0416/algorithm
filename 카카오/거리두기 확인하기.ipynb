{
 "cells": [
  {
   "cell_type": "code",
   "execution_count": 35,
   "metadata": {
    "scrolled": true
   },
   "outputs": [
    {
     "name": "stdout",
     "output_type": "stream",
     "text": [
      "[[(0, 0), (0, 4), (2, 1), (2, 3), (4, 0), (4, 4)], [(0, 0), (0, 3), (1, 2), (1, 4), (2, 0), (4, 3), (4, 4)], [(0, 0), (0, 3), (1, 4), (2, 2), (3, 4), (4, 0), (4, 2)], [], [(0, 0), (0, 2), (0, 4), (1, 1), (1, 3), (2, 0), (2, 2), (2, 4), (3, 1), (3, 3), (4, 0), (4, 2), (4, 4)]]\n",
      "4 4\n",
      "4 0\n",
      "2 3\n",
      "2 1\n",
      "0 4\n",
      "0 0\n",
      "4 4\n",
      "4 3\n",
      "2 0\n",
      "1 4\n",
      "1 2\n",
      "0 3\n",
      "0 0\n",
      "4 2\n",
      "4 0\n",
      "3 4\n",
      "2 2\n",
      "1 4\n",
      "0 3\n",
      "0 0\n",
      "4 4\n",
      "4 2\n",
      "4 0\n",
      "3 3\n",
      "3 1\n",
      "2 4\n",
      "2 2\n",
      "2 0\n",
      "1 3\n",
      "1 1\n",
      "0 4\n",
      "0 2\n",
      "0 0\n"
     ]
    }
   ],
   "source": [
    "from collections import deque\n",
    "\n",
    "places=[[\"POOOP\", \"OXXOX\", \"OPXPX\", \"OOXOX\", \"POXXP\"],\n",
    "        [\"POOPX\", \"OXPXP\", \"PXXXO\", \"OXXXO\", \"OOOPP\"],\n",
    "        [\"PXOPX\", \"OXOXP\", \"OXPOX\", \"OXXOP\", \"PXPOX\"],\n",
    "        [\"OOOXX\", \"XOOOX\", \"OOOXX\", \"OXOOX\", \"OOOOO\"],\n",
    "        [\"PXPXP\", \"XPXPX\", \"PXPXP\", \"XPXPX\", \"PXPXP\"]]\n",
    "\n",
    "pxy=[[] for i in range(5)]\n",
    "for i in range(5):\n",
    "    for x in range(5):\n",
    "        for y in range(5):\n",
    "            if places[i][x][y]=='P':\n",
    "                pxy[i].append((x,y))\n",
    "            \n",
    "#동서남북\n",
    "nx=[0,0,1,-1]\n",
    "ny=[1,-1,0,0]\n",
    "print(pxy)\n",
    "for i in range(5):\n",
    "    while pxy[i]:\n",
    "        x,y=pxy[i].pop()\n",
    "        "
   ]
  }
 ],
 "metadata": {
  "kernelspec": {
   "display_name": "Python 3",
   "language": "python",
   "name": "python3"
  },
  "language_info": {
   "codemirror_mode": {
    "name": "ipython",
    "version": 3
   },
   "file_extension": ".py",
   "mimetype": "text/x-python",
   "name": "python",
   "nbconvert_exporter": "python",
   "pygments_lexer": "ipython3",
   "version": "3.7.6"
  }
 },
 "nbformat": 4,
 "nbformat_minor": 4
}
