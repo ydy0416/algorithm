{
 "cells": [
  {
   "cell_type": "code",
   "execution_count": 1,
   "metadata": {},
   "outputs": [
    {
     "data": {
      "text/plain": [
       "[[4, 1, 10],\n",
       " [3, 5, 24],\n",
       " [5, 6, 2],\n",
       " [3, 1, 41],\n",
       " [5, 1, 24],\n",
       " [4, 6, 50],\n",
       " [2, 4, 66],\n",
       " [2, 3, 22],\n",
       " [1, 6, 25]]"
      ]
     },
     "execution_count": 1,
     "metadata": {},
     "output_type": "execute_result"
    }
   ],
   "source": [
    "n,s,a,b=6,4,6,2\n",
    "fares=[[4, 1, 10], [3, 5, 24], [5, 6, 2],\n",
    "       [3, 1, 41], [5, 1, 24], [4, 6, 50],\n",
    "       [2, 4, 66], [2, 3, 22], [1, 6, 25]]\n",
    "\n",
    "fares"
   ]
  }
 ],
 "metadata": {
  "kernelspec": {
   "display_name": "Python 3",
   "language": "python",
   "name": "python3"
  },
  "language_info": {
   "codemirror_mode": {
    "name": "ipython",
    "version": 3
   },
   "file_extension": ".py",
   "mimetype": "text/x-python",
   "name": "python",
   "nbconvert_exporter": "python",
   "pygments_lexer": "ipython3",
   "version": "3.7.6"
  }
 },
 "nbformat": 4,
 "nbformat_minor": 4
}
