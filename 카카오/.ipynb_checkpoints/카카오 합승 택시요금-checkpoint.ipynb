{
 "cells": [
  {
   "cell_type": "code",
   "execution_count": 24,
   "metadata": {
    "scrolled": false
   },
   "outputs": [
    {
     "name": "stdout",
     "output_type": "stream",
     "text": [
      "0 4\n",
      "10 1\n",
      "35 6\n",
      "50 6\n"
     ]
    }
   ],
   "source": [
    "import heapq\n",
    "n,s,a,b=6,4,6,2\n",
    "fares=[[4, 1, 10], [3, 5, 24], [5, 6, 2],\n",
    "       [3, 1, 41], [5, 1, 24], [4, 6, 50],\n",
    "       [2, 4, 66], [2, 3, 22], [1, 6, 25]]\n",
    "\n",
    "graph=[[] for i in range(n+1)]\n",
    "for i in fares:\n",
    "    graph[i[0]].append((i[1],i[2]))\n",
    "\n",
    "INF=int(1e9)\n",
    "q=[]\n",
    "heapq.heappush(q,(0,s))\n",
    "distance=[INF]*len(fares)\n",
    "distance[s]=0\n",
    "while q:\n",
    "    dist,now=heapq.heappop(q)\n",
    "    print(dist,now)\n",
    "    if distance[now]<dist:\n",
    "        continue\n",
    "    for i in graph[now]:\n",
    "        cost=dist+i[1]\n",
    "        if cost <distance[i[0]]:\n",
    "            distance[i[0]]=cost\n",
    "            heapq.heappush(q,(cost,i[0]))\n",
    "            \n",
    "# for i in range(1,n+1):\n",
    "#     if distance[i]==INF:\n",
    "#         print(\"도착x\")\n",
    "#     else:\n",
    "#         print(distance[i])\n"
   ]
  },
  {
   "cell_type": "code",
   "execution_count": 25,
   "metadata": {
    "scrolled": true
   },
   "outputs": [
    {
     "data": {
      "text/plain": [
       "82"
      ]
     },
     "execution_count": 25,
     "metadata": {},
     "output_type": "execute_result"
    }
   ],
   "source": [
    "import heapq\n",
    "\n",
    "#다익스트라 구현\n",
    "def dijkstra(graph,s):\n",
    "    INF=int(1e9)\n",
    "    distance=[INF]*(n+1)\n",
    "    distance[s]=0\n",
    "    \n",
    "    q=[]\n",
    "    heapq.heappush(q,(0,s))\n",
    "    \n",
    "    while q:\n",
    "        dist,now=heapq.heappop(q)\n",
    "#         print('dist,now',dist, now)\n",
    "#         print('distance',distance)\n",
    "        #처리됐을때\n",
    "        if distance[now]<dist:\n",
    "#             print(distance[now])\n",
    "            continue\n",
    "        for i in graph[now]:\n",
    "            cost=dist+i[1]\n",
    "            if cost<distance[i[0]]:\n",
    "                distance[i[0]]=cost\n",
    "                heapq.heappush(q,(cost,i[0]))\n",
    "    return distance\n",
    "        \n",
    "def solution(n, s, a, b, fares):\n",
    "    answer = 0\n",
    "    \n",
    "    graph=[[] for i in range(n+1)]\n",
    "    for i in range(len(fares)):\n",
    "        graph[fares[i][0]].append((fares[i][1],fares[i][2]))\n",
    "        graph[fares[i][1]].append((fares[i][0], fares[i][2]))\n",
    "#     print('그래프')\n",
    "    for i in range(len(graph)):\n",
    "        graph[i].sort()\n",
    "#         print(graph[i])\n",
    "#     print('-'*50)\n",
    "    \n",
    "\n",
    "    \n",
    "    first_distance= dijkstra(graph,s)\n",
    "#     print('첫번째 다익스트라',first_distance)\n",
    "    \n",
    "    #합승없이 최소 거리\n",
    "    min_dist=first_distance[a]+first_distance[b]\n",
    "    max_value=max(first_distance[a],first_distance[b])\n",
    "    \n",
    "    dist_dict=[]\n",
    "    for i in range(1,n+1):\n",
    "        dist_dict.append((first_distance[i],i))\n",
    "#     print(dist_dict)\n",
    "    dist_dict.sort()\n",
    "#     print(dist_dict)\n",
    "    \n",
    "    for i in dist_dict:\n",
    "        dist,start=i[0],i[1]\n",
    "        if dist>max_value:\n",
    "            break\n",
    "        dist_list=dijkstra(graph,start)\n",
    "        min_dist=min(min_dist,(dist_list[a]+dist_list[b]+dist))\n",
    "    answer=min_dist\n",
    "    return answer\n",
    "\n",
    "\n",
    "n,s,a,b=6,4,6,2\n",
    "fares=[[4, 1, 10], [3, 5, 24], [5, 6, 2],\n",
    "       [3, 1, 41], [5, 1, 24], [4, 6, 50],\n",
    "       [2, 4, 66], [2, 3, 22], [1, 6, 25]]\n",
    "\n",
    "solution(n,s,a,b,fares)\n",
    "\n",
    "\n",
    "\n",
    "\n"
   ]
  }
 ],
 "metadata": {
  "kernelspec": {
   "display_name": "Python 3",
   "language": "python",
   "name": "python3"
  },
  "language_info": {
   "codemirror_mode": {
    "name": "ipython",
    "version": 3
   },
   "file_extension": ".py",
   "mimetype": "text/x-python",
   "name": "python",
   "nbconvert_exporter": "python",
   "pygments_lexer": "ipython3",
   "version": "3.7.6"
  }
 },
 "nbformat": 4,
 "nbformat_minor": 4
}
