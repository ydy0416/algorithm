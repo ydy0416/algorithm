{
 "cells": [
  {
   "cell_type": "code",
   "execution_count": 18,
   "metadata": {},
   "outputs": [],
   "source": [
    "gems=[\"ZZZ\", \"YYY\", \"NNNN\", \"YYY\", \"BBB\"]\n",
    "gemlen=len(set(gems))\n",
    "gemdict={}\n",
    "\n",
    "start=0\n",
    "end=0\n",
    "while len(gemdict)<gemlen:\n",
    "    #새로운 종류추가\n",
    "    if gems[end] not in gemdict:\n",
    "        gemdict[gems[end]]=1\n",
    "    else:\n",
    "        gemdict[gems[end]]+=1\n",
    "    \n",
    "    end+=1\n",
    "    #모든 종류가 다있으면 하나씩줄이기\n",
    "    if len(gemdict)==gemlen:\n",
    "        while start<end:\n",
    "            if gemdict[gems[start]]>1:\n",
    "                gemdict[gems[start]]-=1\n",
    "                start+=1\n",
    "                \n",
    "            else:\n",
    "                start+=1\n",
    "                break\n",
    "                "
   ]
  },
  {
   "cell_type": "code",
   "execution_count": 38,
   "metadata": {},
   "outputs": [
    {
     "data": {
      "text/plain": [
       "[3, 7]"
      ]
     },
     "execution_count": 38,
     "metadata": {},
     "output_type": "execute_result"
    }
   ],
   "source": [
    "def solution(gems):\n",
    "    gemlen=len(gems)\n",
    "    gemdict={}\n",
    "    shortest=len(gems)+1\n",
    "    start=0\n",
    "    end=0\n",
    "    while end<gemlen:\n",
    "        #새로운 종류추가\n",
    "        if gems[end] not in gemdict:\n",
    "            gemdict[gems[end]]=1\n",
    "        else:\n",
    "            gemdict[gems[end]]+=1\n",
    "\n",
    "        end+=1\n",
    "        #모든 종류가 다있으면 하나씩줄이기\n",
    "        if len(gemdict)==len(set(gems)):\n",
    "            while start<end:\n",
    "                if gemdict[gems[start]]>1:\n",
    "                    gemdict[gems[start]]-=1\n",
    "                    start+=1\n",
    "                    \n",
    "                elif shortest > end - start: # 기존의 구간 최단거리보다 현재의 구간거리가 더 짧다면\n",
    "                    shortest = end - start\n",
    "                    answer = [start+1, end] # answer와 최단거리 갱신\n",
    "                else :\n",
    "                    break\n",
    "                \n",
    "    return answer\n",
    "\n",
    "gems=[\"DIA\", \"RUBY\", \"RUBY\", \"DIA\", \"DIA\", \"EMERALD\", \"SAPPHIRE\", \"DIA\"]\n",
    "solution(gems)"
   ]
  },
  {
   "cell_type": "code",
   "execution_count": null,
   "metadata": {},
   "outputs": [],
   "source": []
  },
  {
   "cell_type": "code",
   "execution_count": null,
   "metadata": {},
   "outputs": [],
   "source": []
  }
 ],
 "metadata": {
  "kernelspec": {
   "display_name": "Python 3",
   "language": "python",
   "name": "python3"
  },
  "language_info": {
   "codemirror_mode": {
    "name": "ipython",
    "version": 3
   },
   "file_extension": ".py",
   "mimetype": "text/x-python",
   "name": "python",
   "nbconvert_exporter": "python",
   "pygments_lexer": "ipython3",
   "version": "3.7.6"
  }
 },
 "nbformat": 4,
 "nbformat_minor": 4
}
