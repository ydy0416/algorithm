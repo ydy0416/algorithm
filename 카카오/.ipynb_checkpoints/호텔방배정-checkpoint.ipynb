{
 "cells": [
  {
   "cell_type": "code",
   "execution_count": null,
   "metadata": {},
   "outputs": [],
   "source": [
    "#정확도O, 효율성X\n",
    "\n",
    "#1. 원하는 방이 비어있는 상태이면 바로 배정\n",
    "#2. 원하는 방이 차있는 상태이면 하나씩 배정\n",
    "#3. 원하는 방이 이미 배정되어 있을 때, 방번호를 증가시키면서 빈 방을 찾을 때 까지 탐색\n",
    "#4. 빈 방을 찾으면 배정\n",
    "\n",
    "#테스트케이스\n",
    "k=10\n",
    "room_number=[1,3,4,1,3,1]\n",
    "\n",
    "\n",
    "#인덱스 조정\n",
    "room_number=[i-1 for i in room_number]\n",
    "#현재 방 상태\n",
    "now_room=[False for i in range(k)]\n",
    "answer=[]\n",
    "for i in room_number:\n",
    "    #원하는 방이 비워져 있을 때\n",
    "    if now_room[i]==False:\n",
    "        now_room[i]=True\n",
    "        answer.append(i+1)\n",
    "    \n",
    "    #원하는 방이 이미 배정되어 있을 때\n",
    "    else:\n",
    "        #숫자가 더 큰 방 배정\n",
    "        for j in range(i+1,k):\n",
    "            if now_room[j]==False:\n",
    "                now_room[j]=True\n",
    "                answer.append(j+1)\n",
    "                break\n",
    "                \n",
    "print(answer)\n"
   ]
  },
  {
   "cell_type": "code",
   "execution_count": 15,
   "metadata": {
    "scrolled": true
   },
   "outputs": [
    {
     "name": "stdout",
     "output_type": "stream",
     "text": [
      "{1: 2}\n",
      "{1: 2, 3: 4}\n",
      "{1: 2, 3: 4, 4: 5}\n",
      "{1: 3, 3: 4, 4: 5, 2: 3}\n",
      "{1: 3, 3: 6, 4: 6, 2: 3, 5: 6}\n",
      "{1: 7, 3: 7, 4: 6, 2: 3, 5: 6, 6: 7}\n",
      "dict_keys([1, 3, 4, 2, 5, 6])\n"
     ]
    }
   ],
   "source": [
    "#정확도O, 효율성O\n",
    "\n",
    "#1. 현재 방 딕셔너리 생성\n",
    "#2. 원하는 방이 비어있으면 딕셔너리에 추가 {원하는 방 : 원하는방+1}\n",
    "#3. 원하는 방이 채워져있으면 재귀함수로 빈방 찾기 find_emptyroom(원하는 방+1)\n",
    "\n",
    "#예시 room_number=[1,3,4,1,3,1]\n",
    "#1 : {1:2}\n",
    "#2 : {1:2, 3:4}\n",
    "#3 : {1:2, 3:4, 4:5}\n",
    "#4 : {1:3, 3:4, 4:5, 2:3}\n",
    "#5 : {1:3, 3:4, 4:5, 2:3, 5:6}\n",
    "\n",
    "\n",
    "def find_emptyroom(chk, now_room): # 재귀함수\n",
    "    if chk not in now_room.keys(): # 빈 방이면\n",
    "        now_room[chk] = chk+1 # rooms에 새 노드 추가\n",
    "        return chk # 요청한 방\n",
    "    empty = find_emptyroom(now_room[chk], now_room) # 재귀함수 호출\n",
    "    now_room[chk] = empty+1 # (배정된 방+1)을 부모노드로 변경\n",
    "    return empty # 새로 찾은 빈 방\n",
    "\n",
    "#테스트케이스\n",
    "k=10\n",
    "room_number=[1,3,4,1,3,1]\n",
    "\n",
    "#인덱스 조정\n",
    "\n",
    "\n",
    "#현재 방 상태\n",
    "now_room={}\n",
    "answer=[]\n",
    "for i in room_number:\n",
    "    \n",
    "    tmp=find_emptyroom(i, now_room)\n",
    "    answer.append(tmp)\n",
    "    print(now_room)       \n",
    "print(now_room.keys())\n"
   ]
  },
  {
   "cell_type": "code",
   "execution_count": null,
   "metadata": {},
   "outputs": [],
   "source": [
    "import math\n",
    "math.log(200000, 2)\n",
    "200000**2"
   ]
  }
 ],
 "metadata": {
  "kernelspec": {
   "display_name": "Python 3",
   "language": "python",
   "name": "python3"
  },
  "language_info": {
   "codemirror_mode": {
    "name": "ipython",
    "version": 3
   },
   "file_extension": ".py",
   "mimetype": "text/x-python",
   "name": "python",
   "nbconvert_exporter": "python",
   "pygments_lexer": "ipython3",
   "version": "3.7.6"
  }
 },
 "nbformat": 4,
 "nbformat_minor": 4
}
