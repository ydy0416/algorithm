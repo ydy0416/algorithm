{
 "cells": [
  {
   "cell_type": "code",
   "execution_count": 11,
   "metadata": {
    "scrolled": false
   },
   "outputs": [
    {
     "data": {
      "text/plain": [
       "[1, 1, 1, 1, 2, 4]"
      ]
     },
     "execution_count": 11,
     "metadata": {},
     "output_type": "execute_result"
    }
   ],
   "source": [
    "#정확성만 통과\n",
    "info=[\"java backend junior pizza 150\",\n",
    "      \"python frontend senior chicken 210\",\n",
    "      \"python frontend senior chicken 150\",\n",
    "      \"cpp backend senior pizza 260\",\n",
    "      \"java backend junior chicken 80\",\n",
    "      \"python backend senior chicken 50\"]\n",
    "\n",
    "query=[\"java and backend and junior and pizza 100\",\n",
    "       \"python and frontend and senior and chicken 200\",\n",
    "       \"cpp and - and senior and pizza 250\",\n",
    "       \"- and backend and senior and - 150\",\n",
    "       \"- and - and - and chicken 100\",\n",
    "       \"- and - and - and - 150\"]\n",
    "def solution(info,query):\n",
    "    answer=[]\n",
    "    #인포 원소분리\n",
    "    i=0\n",
    "    for info_case in info:\n",
    "        info[i]=info_case.split()\n",
    "        i+=1\n",
    "\n",
    "    #쿼리 원소분리\n",
    "    i=0\n",
    "    for query_case in query:\n",
    "        query[i]=query_case.split(' and ')\n",
    "        i+=1\n",
    "\n",
    "    for i in range(len(query)):\n",
    "        a,b=query[i][3].split()\n",
    "        query[i].pop()\n",
    "        query[i].append(a)\n",
    "        query[i].append(b)\n",
    "\n",
    "\n",
    "\n",
    "    #쿼리의 갯수만큼 반복\n",
    "    for i in range(len(query)):\n",
    "        tmp=0\n",
    "        #인포의 갯수만큼 반복\n",
    "        for j in range(len(info)):\n",
    "            #쿼리의 원소만큼 반복\n",
    "            for k in range(5):\n",
    "                #쿼리가 '-'이면 무시\n",
    "                if query[i][k]=='-':\n",
    "                    continue\n",
    "                elif k==4:\n",
    "                    #점수비교\n",
    "                    if int(query[i][k])<=int(info[j][k]):\n",
    "                        tmp+=1\n",
    "                elif query[i][k]!=info[j][k]:\n",
    "                    break\n",
    "        answer.append(tmp)\n",
    "    return answer\n",
    "\n",
    "solution(info, query)\n"
   ]
  },
  {
   "cell_type": "code",
   "execution_count": 9,
   "metadata": {},
   "outputs": [
    {
     "data": {
      "text/plain": [
       "'150'"
      ]
     },
     "execution_count": 9,
     "metadata": {},
     "output_type": "execute_result"
    }
   ],
   "source": [
    "info[0][4]"
   ]
  },
  {
   "cell_type": "code",
   "execution_count": 6,
   "metadata": {},
   "outputs": [
    {
     "name": "stdout",
     "output_type": "stream",
     "text": [
      "[['java', 'backend', 'junior', 'pizza', '150'], ['python', 'frontend', 'senior', 'chicken', '210'], ['python', 'frontend', 'senior', 'chicken', '150'], ['cpp', 'backend', 'senior', 'pizza', '260'], ['java', 'backend', 'junior', 'chicken', '80'], ['python', 'backend', 'senior', 'chicken', '50']]\n",
      "----------------------------------------------------------------------------------------------------\n",
      "[['java', 'backend', 'junior', 'pizza', '100'], ['python', 'frontend', 'senior', 'chicken', '200'], ['cpp', '-', 'senior', 'pizza', '250'], ['-', 'backend', 'senior', '-', '150'], ['-', '-', '-', 'chicken', '100'], ['-', '-', '-', '-', '150']]\n"
     ]
    }
   ],
   "source": [
    "print(info)\n",
    "print('-'*100)\n",
    "print(query)"
   ]
  },
  {
   "cell_type": "code",
   "execution_count": 105,
   "metadata": {},
   "outputs": [
    {
     "name": "stdout",
     "output_type": "stream",
     "text": [
      "defaultdict(<class 'list'>, {})\n"
     ]
    }
   ],
   "source": [
    "#https://whwl.tistory.com/193\n",
    "from collections import defaultdict\n",
    "info_dict=defaultdict(list)\n",
    "print(info_dict)"
   ]
  }
 ],
 "metadata": {
  "kernelspec": {
   "display_name": "Python 3",
   "language": "python",
   "name": "python3"
  },
  "language_info": {
   "codemirror_mode": {
    "name": "ipython",
    "version": 3
   },
   "file_extension": ".py",
   "mimetype": "text/x-python",
   "name": "python",
   "nbconvert_exporter": "python",
   "pygments_lexer": "ipython3",
   "version": "3.7.6"
  }
 },
 "nbformat": 4,
 "nbformat_minor": 4
}
