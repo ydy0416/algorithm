{
 "cells": [
  {
   "cell_type": "code",
   "execution_count": 87,
   "metadata": {},
   "outputs": [
    {
     "name": "stdout",
     "output_type": "stream",
     "text": [
      "1: ['2', '2,1', '2,1,3', '2,1,3,4']\n",
      "2: {2: 4, 1: 3, 3: 2, 4: 1}\n",
      "3: [(2, 4), (1, 3), (3, 2), (4, 1)]\n",
      "4: [2, 1, 3, 4]\n"
     ]
    }
   ],
   "source": [
    "s=\"{{2},{2,1},{2,1,3},{2,1,3,4}}\"\n",
    "s=s[2:-2]\n",
    "s=s.split('},{')\n",
    "print('1:',s)\n",
    "dict={}\n",
    "for i in s:\n",
    "    for j in i.split(','):\n",
    "        if int(j) in dict:\n",
    "            dict[int(j)]+=1\n",
    "        else:\n",
    "            dict[int(j)]=1\n",
    "print('2:',dict)\n",
    "dict=sorted(dict.items(), key=lambda x : x[1], reverse=True)\n",
    "answer=[]\n",
    "print('3:',dict)\n",
    "for i in dict:\n",
    "    answer.append(i[0])\n",
    "print('4:',answer)"
   ]
  },
  {
   "cell_type": "code",
   "execution_count": 78,
   "metadata": {},
   "outputs": [
    {
     "data": {
      "text/plain": [
       "[111, 20]"
      ]
     },
     "execution_count": 78,
     "metadata": {},
     "output_type": "execute_result"
    }
   ],
   "source": [
    "ans"
   ]
  }
 ],
 "metadata": {
  "kernelspec": {
   "display_name": "Python 3",
   "language": "python",
   "name": "python3"
  },
  "language_info": {
   "codemirror_mode": {
    "name": "ipython",
    "version": 3
   },
   "file_extension": ".py",
   "mimetype": "text/x-python",
   "name": "python",
   "nbconvert_exporter": "python",
   "pygments_lexer": "ipython3",
   "version": "3.7.6"
  }
 },
 "nbformat": 4,
 "nbformat_minor": 4
}
