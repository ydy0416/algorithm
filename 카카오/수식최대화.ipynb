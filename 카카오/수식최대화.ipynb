{
 "cells": [
  {
   "cell_type": "code",
   "execution_count": 62,
   "metadata": {},
   "outputs": [
    {
     "name": "stdout",
     "output_type": "stream",
     "text": [
      "['', '', '', '', '-', '', '', '', '', '*', '', '', '', '', '-', '', '', '', '', '+', '', '', '']\n"
     ]
    }
   ],
   "source": [
    "from itertools import permutations\n",
    "expression='100-200*300-500+20'\n",
    "oper=[]\n",
    "expressionlist=[]\n",
    "index=0\n",
    "index1=0\n",
    "for i in expression:\n",
    "    index1+=1\n",
    "    expressionlist.append(expression[index:index1-1])\n",
    "    index=index1\n",
    "    if (i!='1') & (i!='2') & (i!='3') & (i!='4') & (i!='5') & (i!='6') & (i!='7') & (i!='8') & (i!='9') & (i!='0'):\n",
    "        oper.append(i)\n",
    "        expressionlist.append(i)\n",
    "        index=index1\n",
    "expressionlist.append(expression[index:])\n",
    "\n",
    "print(expressionlist)\n",
    "# operlist=list(permutations(oper,len(oper)))\n",
    "# for oper_set in operlist:\n",
    "#     for i in oper_set:\n",
    "#         for j in expression:\n",
    "#             if i==j:\n",
    "#                 print(find(j))"
   ]
  },
  {
   "cell_type": "code",
   "execution_count": 53,
   "metadata": {},
   "outputs": [
    {
     "name": "stdout",
     "output_type": "stream",
     "text": [
      "3\n"
     ]
    }
   ],
   "source": [
    "expression='100-200*300-500+20'\n",
    "oper='-'\n",
    "print(expression.find('-'))\n",
    "# for i in expression:\n",
    "\n",
    "    "
   ]
  }
 ],
 "metadata": {
  "kernelspec": {
   "display_name": "Python 3",
   "language": "python",
   "name": "python3"
  },
  "language_info": {
   "codemirror_mode": {
    "name": "ipython",
    "version": 3
   },
   "file_extension": ".py",
   "mimetype": "text/x-python",
   "name": "python",
   "nbconvert_exporter": "python",
   "pygments_lexer": "ipython3",
   "version": "3.7.6"
  }
 },
 "nbformat": 4,
 "nbformat_minor": 4
}
