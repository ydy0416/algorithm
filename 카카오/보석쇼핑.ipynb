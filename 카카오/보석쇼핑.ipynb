{
 "cells": [
  {
   "cell_type": "code",
   "execution_count": 12,
   "metadata": {},
   "outputs": [
    {
     "name": "stdout",
     "output_type": "stream",
     "text": [
      "{'DIA': 1, 'RUBY': 1, 'EMERALD': 1, 'SAPPHIRE': 1}\n"
     ]
    },
    {
     "data": {
      "text/plain": [
       "[8, 11]"
      ]
     },
     "execution_count": 12,
     "metadata": {},
     "output_type": "execute_result"
    }
   ],
   "source": [
    "def solution(gems):\n",
    "    gemdict={}\n",
    "    shortest=len(gems)\n",
    "    start=0\n",
    "    end=0\n",
    "    while end<len(gems):\n",
    "        #새로운 종류추가\n",
    "        if gems[end] not in gemdict:\n",
    "            gemdict[gems[end]]=1\n",
    "        else:\n",
    "            gemdict[gems[end]]+=1\n",
    "        end+=1\n",
    "        \n",
    "        #모든 종류가 다있으면 하나씩줄이기\n",
    "        if len(gemdict)==len(set(gems)):\n",
    "            while start<end:\n",
    "                if gemdict[gems[start]]>1:\n",
    "                    gemdict[gems[start]]-=1\n",
    "                    start+=1\n",
    "                    \n",
    "                elif shortest > end - start: # 기존의 구간 최단거리보다 현재의 구간거리가 더 짧다면\n",
    "                    shortest = end - start\n",
    "                    answer = [start+1, end] # answer와 최단거리 갱신\n",
    "                else :\n",
    "                    break\n",
    "    print(gemdict)\n",
    "    return answer\n",
    "\n",
    "gems=[\"DIA\", \"RUBY\", \"RUBY\", \"DIA\", \"DIA\", \"EMERALD\", \"SAPPHIRE\", \"SAPPHIRE\", \"DIA\",'RUBY', \"EMERALD\", \"SAPPHIRE\"]\n",
    "solution(gems)"
   ]
  }
 ],
 "metadata": {
  "kernelspec": {
   "display_name": "Python 3",
   "language": "python",
   "name": "python3"
  },
  "language_info": {
   "codemirror_mode": {
    "name": "ipython",
    "version": 3
   },
   "file_extension": ".py",
   "mimetype": "text/x-python",
   "name": "python",
   "nbconvert_exporter": "python",
   "pygments_lexer": "ipython3",
   "version": "3.7.6"
  }
 },
 "nbformat": 4,
 "nbformat_minor": 4
}
