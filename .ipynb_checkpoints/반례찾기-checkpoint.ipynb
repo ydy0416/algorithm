{
 "cells": [
  {
   "cell_type": "code",
   "execution_count": 6,
   "metadata": {},
   "outputs": [
    {
     "name": "stdout",
     "output_type": "stream",
     "text": [
      "-10 -3 7\n",
      "-10 -1 7\n",
      "-10 2 7\n",
      "-10 4 7\n",
      "-10 6 7\n",
      "-7 -3 7\n",
      "-7 -1 7\n",
      "-7 2 7\n",
      "-7 4 7\n",
      "-7 6 7\n",
      "-6 -1 7\n",
      "[-10, -7, -6, -5, -4, -3, -1, 2, 4, 6, 7] None 0\n"
     ]
    }
   ],
   "source": [
    "#내 코드\n",
    "def solve1(n, data):\n",
    "    left=0\n",
    "    right=n-1\n",
    "    mid=(left+right)//2\n",
    "    ans_list=[]\n",
    "    ans=21470000000\n",
    "    while left<mid<right:\n",
    "        num1=data[left]\n",
    "        num2=data[mid]\n",
    "        num3=data[right]\n",
    "#         print('left, mid, right:', left,mid,right)\n",
    "#         print('num1, num2, num3:',num1, num2, num3)\n",
    "        #세 수의 총합이 0일때 탈출\n",
    "        if num1+num2+num3==0:\n",
    "            ans_list=[num1,num2,num3]\n",
    "            break\n",
    "        #최솟값 갱신\n",
    "        if abs(num1+num2+num3)<ans:\n",
    "                ans=abs(num1+num2+num3)\n",
    "                ans_list=[num1,num2,num3]\n",
    "\n",
    "        #세 수의 합이 0보다 작을 때\n",
    "        if num1+num2+num3<0:\n",
    "            tmp_mid=mid\n",
    "            while tmp_mid<right:\n",
    "                tmp_num2=data[tmp_mid]\n",
    "                if abs(num1+tmp_num2+num3)<ans:\n",
    "                    ans=abs(num1+tmp_num2+num3)\n",
    "                    ans_list=[num1,tmp_num2,num3]\n",
    "                tmp_mid+=1\n",
    "                print(num1,tmp_num2,num3)\n",
    "            left+=1\n",
    "        #세 수의 합이 0보다 클 때     \n",
    "        elif num1+num2+num3>0:\n",
    "            tmp_mid=mid\n",
    "            while tmp_mid>left:\n",
    "                tmp_num2=data[tmp_mid]\n",
    "                if abs(num1+tmp_num2+num3)<ans:\n",
    "                    ans=abs(num1+tmp_num2+num3)\n",
    "                    ans_list=[num1,tmp_num2,num3]\n",
    "                tmp_mid-=1\n",
    "            right-=1\n",
    "        mid=(left+right)//2\n",
    "    return print(ans_list[0],ans_list[1],ans_list[2])\n",
    "\n",
    "#정답코드\n",
    "def solve2(n, data):\n",
    "    vv = 1e10\n",
    "    for i in range(n):\n",
    "        for j in range(i+1,n):\n",
    "            for k in range(j+1,n):\n",
    "                vv = min(abs(data[i]+data[j]+data[k]),vv)\n",
    "    return vv\n",
    "\n",
    "#랜덤수 배정\n",
    "import random\n",
    "while True:\n",
    "    n=13\n",
    "    data = [random.randrange(-10,10) for _ in range(n)]\n",
    "    data = list(set(data))\n",
    "    data.sort()\n",
    "    v1= solve1(len(data),data)\n",
    "    v2= solve2(len(data),data)\n",
    "    if v1 != v2:\n",
    "        print(data,v1,v2)\n",
    "        break\n"
   ]
  }
 ],
 "metadata": {
  "kernelspec": {
   "display_name": "Python 3",
   "language": "python",
   "name": "python3"
  },
  "language_info": {
   "codemirror_mode": {
    "name": "ipython",
    "version": 3
   },
   "file_extension": ".py",
   "mimetype": "text/x-python",
   "name": "python",
   "nbconvert_exporter": "python",
   "pygments_lexer": "ipython3",
   "version": "3.7.6"
  }
 },
 "nbformat": 4,
 "nbformat_minor": 4
}
