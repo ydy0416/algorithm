{
 "cells": [
  {
   "cell_type": "code",
   "execution_count": 31,
   "metadata": {},
   "outputs": [
    {
     "name": "stdout",
     "output_type": "stream",
     "text": [
      "3 3\n",
      "110\n",
      "000\n",
      "000\n",
      "[[[1, 1, 0]], [], []]\n"
     ]
    },
    {
     "ename": "IndexError",
     "evalue": "list index out of range",
     "output_type": "error",
     "traceback": [
      "\u001b[1;31m---------------------------------------------------------------------------\u001b[0m",
      "\u001b[1;31mIndexError\u001b[0m                                Traceback (most recent call last)",
      "\u001b[1;32m<ipython-input-31-05582077d77e>\u001b[0m in \u001b[0;36m<module>\u001b[1;34m\u001b[0m\n\u001b[0;32m     39\u001b[0m         \u001b[0mtmp_graph\u001b[0m\u001b[1;33m[\u001b[0m\u001b[0mi\u001b[0m\u001b[1;33m]\u001b[0m\u001b[1;33m.\u001b[0m\u001b[0mappend\u001b[0m\u001b[1;33m(\u001b[0m\u001b[0mgraph\u001b[0m\u001b[1;33m[\u001b[0m\u001b[0mi\u001b[0m\u001b[1;33m]\u001b[0m\u001b[1;33m)\u001b[0m\u001b[1;33m\u001b[0m\u001b[1;33m\u001b[0m\u001b[0m\n\u001b[0;32m     40\u001b[0m         \u001b[1;32mfor\u001b[0m \u001b[0mj\u001b[0m \u001b[1;32min\u001b[0m \u001b[0mrange\u001b[0m\u001b[1;33m(\u001b[0m\u001b[0mm\u001b[0m\u001b[1;33m)\u001b[0m\u001b[1;33m:\u001b[0m\u001b[1;33m\u001b[0m\u001b[1;33m\u001b[0m\u001b[0m\n\u001b[1;32m---> 41\u001b[1;33m             \u001b[1;32mif\u001b[0m \u001b[0mtmp_graph\u001b[0m\u001b[1;33m[\u001b[0m\u001b[0mi\u001b[0m\u001b[1;33m]\u001b[0m\u001b[1;33m[\u001b[0m\u001b[0mj\u001b[0m\u001b[1;33m]\u001b[0m\u001b[1;33m==\u001b[0m\u001b[1;36m1\u001b[0m\u001b[1;33m:\u001b[0m\u001b[1;33m\u001b[0m\u001b[1;33m\u001b[0m\u001b[0m\n\u001b[0m\u001b[0;32m     42\u001b[0m                 \u001b[0mtmp_graph\u001b[0m\u001b[1;33m[\u001b[0m\u001b[0mi\u001b[0m\u001b[1;33m]\u001b[0m\u001b[1;33m[\u001b[0m\u001b[0mj\u001b[0m\u001b[1;33m]\u001b[0m\u001b[1;33m=\u001b[0m\u001b[1;36m0\u001b[0m\u001b[1;33m\u001b[0m\u001b[1;33m\u001b[0m\u001b[0m\n\u001b[0;32m     43\u001b[0m             \u001b[0mprint\u001b[0m\u001b[1;33m(\u001b[0m\u001b[0mtmp_graph\u001b[0m\u001b[1;33m)\u001b[0m\u001b[1;33m\u001b[0m\u001b[1;33m\u001b[0m\u001b[0m\n",
      "\u001b[1;31mIndexError\u001b[0m: list index out of range"
     ]
    }
   ],
   "source": [
    "from collections import deque\n",
    "def bfs(graph,s,queue):\n",
    "    tmp_graph=graph\n",
    "    tmp_s=s\n",
    "    tmp_graph[0][0]=1\n",
    "    print(tmp_graph)\n",
    "    print(graph)\n",
    "#     for i in range(n):\n",
    "#         for j in range(m):\n",
    "#             #tmp_graph가 1인 경우\n",
    "#             if tmp_graph[i][j]==1:\n",
    "#                 tmp_graph[i][j]=0\n",
    "                \n",
    "                \n",
    "    \n",
    "    \n",
    "    \n",
    "n,m=map(int,input().split())\n",
    "graph=[]\n",
    "one_cnt=0\n",
    "for i in range(n):\n",
    "    graph.append(list(map(int,input())))\n",
    "    for j in range(m):\n",
    "        #1의 갯수 카운트\n",
    "        if graph[i][j]==1:\n",
    "            one_cnt+=1\n",
    "\n",
    "#동서남북\n",
    "dx=[0,0,1,-1]\n",
    "dy=[1,-1,0,0]\n",
    "queue=deque()\n",
    "queue.append((0,0))\n",
    "s=0\n",
    "\n",
    "for _ in range(one_cnt):\n",
    "    tmp_graph= [[] for i in range(n)]\n",
    "    #graph 복사\n",
    "    for i in range(n):\n",
    "        tmp_graph[i].append(graph[i])\n",
    "        for j in range(m):\n",
    "            if tmp_graph[i][j]==1:\n",
    "                tmp_graph[i][j]=0\n",
    "            print(tmp_graph)\n",
    "    print(tmp_graph)    \n",
    "# bfs(graph,s,queue)\n"
   ]
  }
 ],
 "metadata": {
  "kernelspec": {
   "display_name": "Python 3",
   "language": "python",
   "name": "python3"
  },
  "language_info": {
   "codemirror_mode": {
    "name": "ipython",
    "version": 3
   },
   "file_extension": ".py",
   "mimetype": "text/x-python",
   "name": "python",
   "nbconvert_exporter": "python",
   "pygments_lexer": "ipython3",
   "version": "3.7.6"
  }
 },
 "nbformat": 4,
 "nbformat_minor": 4
}
