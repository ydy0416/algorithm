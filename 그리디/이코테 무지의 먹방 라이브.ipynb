{
 "cells": [
  {
   "cell_type": "code",
   "execution_count": 57,
   "metadata": {},
   "outputs": [
    {
     "name": "stdout",
     "output_type": "stream",
     "text": [
      "2\n",
      "[[0, 1], [2, 2], [3, 0]]\n"
     ]
    }
   ],
   "source": [
    "#1.food_times의 최솟값을 구한다.\n",
    "#2.최솟값 x food_time의 길이를 k에서 뺀다.\n",
    "#3.기존에 구한 최솟값이 0이 되면 0을 제외한 다른 최솟값을 구한다.\n",
    "#4.2~3번 반복\n",
    "#5.k가 food_time 원소의 길이보다 작으면 k를 하나씩 빼주면서 계산\n",
    "k=5\n",
    "food_times=[3,1,2]\n",
    "new_food=[]\n",
    "j=0\n",
    "for i in food_times:\n",
    "    new_food.append([i,j])\n",
    "    j+=1\n",
    "new_food.sort()    \n",
    "#k가 원소의 길이보다 크면 진행\n",
    "# while k>=len(new_food):\n",
    "#k에서 원소 중 최솟값x원소의 길이를 빼준다.\n",
    "k-=new_food[0][0]*len(new_food)\n",
    "print(k)\n",
    "for i in range(3):\n",
    "    #각 원소에 최솟값을 빼준다\n",
    "    new_food[i][0]=new_food[i][0]-new_food[0][0]\n",
    "print(new_food)\n",
    "    #k값 갱신\n",
    "    "
   ]
  },
  {
   "cell_type": "code",
   "execution_count": 41,
   "metadata": {},
   "outputs": [
    {
     "data": {
      "text/plain": [
       "3"
      ]
     },
     "execution_count": 41,
     "metadata": {},
     "output_type": "execute_result"
    }
   ],
   "source": [
    "len(new_food)"
   ]
  }
 ],
 "metadata": {
  "kernelspec": {
   "display_name": "Python 3",
   "language": "python",
   "name": "python3"
  },
  "language_info": {
   "codemirror_mode": {
    "name": "ipython",
    "version": 3
   },
   "file_extension": ".py",
   "mimetype": "text/x-python",
   "name": "python",
   "nbconvert_exporter": "python",
   "pygments_lexer": "ipython3",
   "version": "3.7.6"
  }
 },
 "nbformat": 4,
 "nbformat_minor": 4
}
