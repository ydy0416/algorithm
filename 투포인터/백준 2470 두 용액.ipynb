{
 "cells": [
  {
   "cell_type": "code",
   "execution_count": 19,
   "metadata": {},
   "outputs": [
    {
     "name": "stdout",
     "output_type": "stream",
     "text": [
      "7\n",
      "-99 -2 -1 1 98 100 101\n",
      "-1 1\n"
     ]
    }
   ],
   "source": [
    "#투포인터로 풀기\n",
    "n=int(input())\n",
    "data=list(map(int,input().split()))\n",
    "data.sort()\n",
    "left=0\n",
    "right=n-1\n",
    "ans=2147000000\n",
    "ans_list=[]\n",
    "while left<right:\n",
    "    num1=data[left]\n",
    "    num2=data[right]\n",
    "    #두 수의합이 0이될때 종료\n",
    "    if num1+num2==0:\n",
    "        ans_list=[num1,num2]\n",
    "        break\n",
    "    #두 수의합이 0보다 작을때\n",
    "    elif num1+num2<0:\n",
    "        left+=1\n",
    "    #두 수의 합이 0보다 클 때\n",
    "    elif num1+num2>0:\n",
    "        right-=1\n",
    "    if abs(num1+num2)<ans:\n",
    "        ans=abs(num1+num2)\n",
    "        ans_list=[num1,num2]\n",
    "print(ans_list[0],ans_list[1])\n",
    "        \n",
    "    "
   ]
  }
 ],
 "metadata": {
  "kernelspec": {
   "display_name": "Python 3",
   "language": "python",
   "name": "python3"
  },
  "language_info": {
   "codemirror_mode": {
    "name": "ipython",
    "version": 3
   },
   "file_extension": ".py",
   "mimetype": "text/x-python",
   "name": "python",
   "nbconvert_exporter": "python",
   "pygments_lexer": "ipython3",
   "version": "3.7.6"
  }
 },
 "nbformat": 4,
 "nbformat_minor": 4
}
