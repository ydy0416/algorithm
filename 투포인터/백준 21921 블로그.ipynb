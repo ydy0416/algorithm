{
 "cells": [
  {
   "cell_type": "code",
   "execution_count": 17,
   "metadata": {},
   "outputs": [
    {
     "name": "stdout",
     "output_type": "stream",
     "text": [
      "5 3\n",
      "0 0 0 0 0\n",
      "SAD\n"
     ]
    }
   ],
   "source": [
    "n,x=map(int, input().split())\n",
    "data=list(map(int,input().split()))\n",
    "\n",
    "visitor=0\n",
    "for i in range(x):\n",
    "    visitor+=data[i]\n",
    "\n",
    "start=0\n",
    "end=x\n",
    "maximum=0\n",
    "cnt=0\n",
    "for i in range(n-x+1):\n",
    "    visitor=0\n",
    "    while start<end:\n",
    "        visitor+=data[start]\n",
    "        start+=1\n",
    "    end+=1\n",
    "    start=end-x\n",
    "#     print('start:', start)\n",
    "#     print('end:', end)\n",
    "    \n",
    "    #최대값 갱신\n",
    "    if visitor>maximum:\n",
    "        maximum=visitor\n",
    "        cnt=1\n",
    "    #최대값과 같은 값이 나왔을 때\n",
    "    elif visitor==maximum:\n",
    "        cnt+=1\n",
    "\n",
    "if maximum==0:\n",
    "    print('SAD')\n",
    "else:\n",
    "    print(maximum)\n",
    "    print(cnt)"
   ]
  },
  {
   "cell_type": "code",
   "execution_count": 42,
   "metadata": {},
   "outputs": [
    {
     "name": "stdout",
     "output_type": "stream",
     "text": [
      "5 2\n",
      "1 4 2 5 1\n",
      "7\n",
      "1\n"
     ]
    }
   ],
   "source": [
    "n,x=map(int, input().split())\n",
    "data=list(map(int,input().split()))\n",
    "\n",
    "ans=[]\n",
    "tmp=0\n",
    "for i in range(x):\n",
    "    tmp+=data[i]\n",
    "ans.append(tmp)\n",
    "ans=[]\n",
    "tmp=0\n",
    "for i in range(len(data)):\n",
    "    data[i]+=tmp\n",
    "    tmp=data[i]\n",
    "\n",
    "for i in range(x,len(data)):\n",
    "    ans.append(data[i]-data[i-x])\n",
    "    \n",
    "maximum=max(ans)\n",
    "cnt=0\n",
    "for i in ans:\n",
    "    if i==maximum:\n",
    "        cnt+=1\n",
    "if maximum==0:\n",
    "    print('SAD')\n",
    "else:\n",
    "    print(maximum)\n",
    "    print(cnt)"
   ]
  },
  {
   "cell_type": "code",
   "execution_count": 43,
   "metadata": {},
   "outputs": [
    {
     "data": {
      "text/plain": [
       "[6, 7, 6]"
      ]
     },
     "execution_count": 43,
     "metadata": {},
     "output_type": "execute_result"
    }
   ],
   "source": [
    "ans"
   ]
  }
 ],
 "metadata": {
  "kernelspec": {
   "display_name": "Python 3",
   "language": "python",
   "name": "python3"
  },
  "language_info": {
   "codemirror_mode": {
    "name": "ipython",
    "version": 3
   },
   "file_extension": ".py",
   "mimetype": "text/x-python",
   "name": "python",
   "nbconvert_exporter": "python",
   "pygments_lexer": "ipython3",
   "version": "3.7.6"
  }
 },
 "nbformat": 4,
 "nbformat_minor": 4
}
