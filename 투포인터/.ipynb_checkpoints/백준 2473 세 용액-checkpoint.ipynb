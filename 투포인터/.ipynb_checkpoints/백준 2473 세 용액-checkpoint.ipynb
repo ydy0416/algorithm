{
 "cells": [
  {
   "cell_type": "code",
   "execution_count": 137,
   "metadata": {
    "scrolled": false
   },
   "outputs": [
    {
     "name": "stdout",
     "output_type": "stream",
     "text": [
      "9\n",
      "-8 -7 -5 -2 0 3 4 6 9\n",
      "left, mid, right: 0 4 8\n",
      "num1, num2, num3: -8 0 9\n",
      "left, mid, right: 0 3 7\n",
      "num1, num2, num3: -8 -2 6\n",
      "left, mid, right: 1 4 7\n",
      "num1, num2, num3: -7 0 6\n",
      "left, mid, right: 2 4 7\n",
      "num1, num2, num3: -5 0 6\n",
      "left, mid, right: 2 4 6\n",
      "num1, num2, num3: -5 0 4\n",
      "left, mid, right: 3 4 6\n",
      "num1, num2, num3: -2 0 4\n",
      "left, mid, right: 3 4 5\n",
      "num1, num2, num3: -2 0 3\n",
      "-8 0 9\n"
     ]
    }
   ],
   "source": [
    "n=int(input())\n",
    "data=list(map(int,input().split()))\n",
    "data.sort()\n",
    "\n",
    "left=0\n",
    "right=n-1\n",
    "mid=(left+right)//2\n",
    "ans_list=[]\n",
    "ans=21470000000\n",
    "while left<mid<right:\n",
    "    num1=data[left]\n",
    "    num2=data[mid]\n",
    "    num3=data[right]\n",
    "    \n",
    "    print('left, mid, right:', left,mid,right)\n",
    "    print('num1, num2, num3:',num1, num2, num3)\n",
    "    #세 수의 총합이 0일때 탈출\n",
    "    if num1+num2+num3==0:\n",
    "        ans_list=[num1,num2,num3]\n",
    "        break\n",
    "    #최솟값 갱신\n",
    "    if abs(num1+num2+num3)<ans:\n",
    "            ans=abs(num1+num2+num3)\n",
    "            ans_list=[num1,num2,num3]\n",
    "    \n",
    "    #세 수의 합이 0보다 작을 때\n",
    "    if num1+num2+num3<0:\n",
    "        tmp_mid=mid\n",
    "        while tmp_mid<right:\n",
    "            tmp_num2=data[tmp_mid]\n",
    "            if abs(num1+tmp_num2+num3)<ans:\n",
    "                ans=abs(num1+tmp_num2+num3)\n",
    "                ans_list=[num1,tmp_num2,num3]\n",
    "            tmp_mid+=1\n",
    "            print(num1,tmp_num2,num3)\n",
    "        left+=1\n",
    "    #세 수의 합이 0보다 클 때     \n",
    "    elif num1+num2+num3>0:\n",
    "        tmp_mid=mid\n",
    "        while tmp_mid>left:\n",
    "            tmp_num2=data[tmp_mid]\n",
    "            if abs(num1+tmp_num2+num3)<ans:\n",
    "                ans=abs(num1+tmp_num2+num3)\n",
    "                ans_list=[num1,tmp_num2,num3]\n",
    "            tmp_mid-=1\n",
    "        right-=1\n",
    "    mid=(left+right)//2\n",
    "    \n",
    "print(ans_list[0],ans_list[1],ans_list[2])\n",
    "        "
   ]
  },
  {
   "cell_type": "code",
   "execution_count": 140,
   "metadata": {},
   "outputs": [
    {
     "data": {
      "text/plain": [
       "[-8, -7, -5, -2, 0, 3, 4, 6, 9]"
      ]
     },
     "execution_count": 140,
     "metadata": {},
     "output_type": "execute_result"
    }
   ],
   "source": [
    "data"
   ]
  },
  {
   "cell_type": "code",
   "execution_count": 139,
   "metadata": {},
   "outputs": [
    {
     "data": {
      "text/plain": [
       "[-8, 0, 9]"
      ]
     },
     "execution_count": 139,
     "metadata": {},
     "output_type": "execute_result"
    }
   ],
   "source": [
    "ans_list"
   ]
  }
 ],
 "metadata": {
  "kernelspec": {
   "display_name": "Python 3",
   "language": "python",
   "name": "python3"
  }
 },
 "nbformat": 4,
 "nbformat_minor": 4
}
