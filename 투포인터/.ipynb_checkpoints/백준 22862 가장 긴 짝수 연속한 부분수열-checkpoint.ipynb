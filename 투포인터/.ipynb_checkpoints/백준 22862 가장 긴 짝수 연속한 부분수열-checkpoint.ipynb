{
 "cells": [
  {
   "cell_type": "code",
   "execution_count": 22,
   "metadata": {},
   "outputs": [
    {
     "name": "stdout",
     "output_type": "stream",
     "text": [
      "1 1\n",
      "2\n",
      "1\n"
     ]
    }
   ],
   "source": [
    "n,k=map(int,input().split())\n",
    "data=list(map(int,input().split()))\n",
    "\n",
    "start,end=0,0\n",
    "odd_cnt,even_cnt=0,0\n",
    "ans=-2147000000\n",
    "while True:\n",
    "#     print('start, end', start,end)\n",
    "    if end==n: break\n",
    "    #홀수갯수가 k보다 클 때\n",
    "    if odd_cnt>k:\n",
    "        #스타트 이동\n",
    "        if data[start]%2==0:\n",
    "            even_cnt-=1\n",
    "        elif data[start]%2==1:\n",
    "            odd_cnt-=1\n",
    "        start+=1\n",
    "    else:\n",
    "        if data[end]%2==0:\n",
    "            even_cnt+=1\n",
    "        else:\n",
    "            odd_cnt+=1\n",
    "        end+=1\n",
    "    #최댓값 갱신\n",
    "    if even_cnt>ans:\n",
    "        ans=even_cnt\n",
    "print(ans)"
   ]
  }
 ],
 "metadata": {
  "kernelspec": {
   "display_name": "Python 3",
   "language": "python",
   "name": "python3"
  },
  "language_info": {
   "codemirror_mode": {
    "name": "ipython",
    "version": 3
   },
   "file_extension": ".py",
   "mimetype": "text/x-python",
   "name": "python",
   "nbconvert_exporter": "python",
   "pygments_lexer": "ipython3",
   "version": "3.7.6"
  }
 },
 "nbformat": 4,
 "nbformat_minor": 4
}
