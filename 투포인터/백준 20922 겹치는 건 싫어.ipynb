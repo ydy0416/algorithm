{
 "cells": [
  {
   "cell_type": "code",
   "execution_count": 36,
   "metadata": {},
   "outputs": [
    {
     "name": "stdout",
     "output_type": "stream",
     "text": [
      "10 2\n",
      "1 4 4 4 2 3 6 7 9 10\n",
      "{1: 1, 2: 0, 3: 0, 4: 3, 5: 0, 6: 0, 7: 0, 8: 0, 9: 0, 10: 0}\n",
      "{1: 0, 2: 0, 3: 0, 4: 3, 5: 0, 6: 0, 7: 0, 8: 0, 9: 0, 10: 0}\n"
     ]
    },
    {
     "ename": "IndexError",
     "evalue": "list index out of range",
     "output_type": "error",
     "traceback": [
      "\u001b[1;31m---------------------------------------------------------------------------\u001b[0m",
      "\u001b[1;31mIndexError\u001b[0m                                Traceback (most recent call last)",
      "\u001b[1;32m<ipython-input-36-32bb8ae515c9>\u001b[0m in \u001b[0;36m<module>\u001b[1;34m\u001b[0m\n\u001b[0;32m      9\u001b[0m     \u001b[1;32mwhile\u001b[0m \u001b[0mdict\u001b[0m\u001b[1;33m[\u001b[0m\u001b[0mdata\u001b[0m\u001b[1;33m[\u001b[0m\u001b[0mend\u001b[0m\u001b[1;33m]\u001b[0m\u001b[1;33m]\u001b[0m\u001b[1;33m<=\u001b[0m\u001b[0mk\u001b[0m \u001b[1;32mand\u001b[0m \u001b[0mend\u001b[0m\u001b[1;33m<\u001b[0m\u001b[0mn\u001b[0m\u001b[1;33m:\u001b[0m\u001b[1;33m\u001b[0m\u001b[1;33m\u001b[0m\u001b[0m\n\u001b[0;32m     10\u001b[0m         \u001b[0mend\u001b[0m\u001b[1;33m+=\u001b[0m\u001b[1;36m1\u001b[0m\u001b[1;33m\u001b[0m\u001b[1;33m\u001b[0m\u001b[0m\n\u001b[1;32m---> 11\u001b[1;33m         \u001b[0mdict\u001b[0m\u001b[1;33m[\u001b[0m\u001b[0mdata\u001b[0m\u001b[1;33m[\u001b[0m\u001b[0mend\u001b[0m\u001b[1;33m]\u001b[0m\u001b[1;33m]\u001b[0m\u001b[1;33m+=\u001b[0m\u001b[1;36m1\u001b[0m\u001b[1;33m\u001b[0m\u001b[1;33m\u001b[0m\u001b[0m\n\u001b[0m\u001b[0;32m     12\u001b[0m         \u001b[0mlength\u001b[0m\u001b[1;33m+=\u001b[0m\u001b[1;36m1\u001b[0m\u001b[1;33m\u001b[0m\u001b[1;33m\u001b[0m\u001b[0m\n\u001b[0;32m     13\u001b[0m     \u001b[1;32mif\u001b[0m \u001b[0mdict\u001b[0m\u001b[1;33m[\u001b[0m\u001b[0mdata\u001b[0m\u001b[1;33m[\u001b[0m\u001b[0mend\u001b[0m\u001b[1;33m]\u001b[0m\u001b[1;33m]\u001b[0m\u001b[1;33m>\u001b[0m\u001b[0mk\u001b[0m\u001b[1;33m:\u001b[0m\u001b[1;33m\u001b[0m\u001b[1;33m\u001b[0m\u001b[0m\n",
      "\u001b[1;31mIndexError\u001b[0m: list index out of range"
     ]
    }
   ],
   "source": [
    "n,k=map(int,input().split())\n",
    "data=list(map(int,input().split()))\n",
    "end=0\n",
    "maxi=0\n",
    "length=0\n",
    "dict={j:0 for j in range(1,11)}\n",
    "dict[data[end]]+=1\n",
    "for start in range(n):\n",
    "    while dict[data[end]]<=k and end<n:\n",
    "        end+=1\n",
    "        dict[data[end]]+=1\n",
    "        length+=1\n",
    "    if dict[data[end]]>k:\n",
    "        #최댓값 갱신\n",
    "        if maxi<length:\n",
    "            maxi=length\n",
    "    print(dict)\n",
    "    #딕셔너리에서 스타트이동하면서 딕셔너리값 제거\n",
    "    dict[data[start]]-=1\n",
    "    length-=1\n",
    "print(maxi)\n",
    "        \n"
   ]
  },
  {
   "cell_type": "code",
   "execution_count": 5,
   "metadata": {
    "scrolled": true
   },
   "outputs": [
    {
     "name": "stdout",
     "output_type": "stream",
     "text": [
      "10 2\n",
      "1 4 4 4 2 3 6 7 9 10\n",
      "8\n"
     ]
    }
   ],
   "source": [
    "n,k=map(int,input().split())\n",
    "data=list(map(int,input().split()))\n",
    "start,end=0,0\n",
    "maxi=0\n",
    "dict={j:0 for j in range(1,100001)}\n",
    "while True:\n",
    "    if end==n: break\n",
    "    num1=data[end]\n",
    "    num2=data[start]\n",
    "    if dict[num1]<k:\n",
    "        dict[num1]+=1\n",
    "        end+=1\n",
    "        if end-start>maxi:\n",
    "            maxi=end-start\n",
    "            \n",
    "    else:\n",
    "        dict[num2]-=1\n",
    "        start+=1\n",
    "print(maxi)"
   ]
  },
  {
   "cell_type": "code",
   "execution_count": null,
   "metadata": {},
   "outputs": [],
   "source": [
    "int main()\n",
    "{\n",
    "//   n, k 입력 받음 \n",
    "   scanf(\"%d %d\", &n, &k);\n",
    "   getchar();\n",
    "   \n",
    "//   숫자들 입력받음 \n",
    "   for(int i=0; i<n; i++) {\n",
    "      int tmp;\n",
    "      scanf(\"%d\", &tmp);\n",
    "      getchar();\n",
    "      nums.emplace_back(tmp);\n",
    "   }\n",
    "   \n",
    "   int ans = -2147000000;\n",
    "   int front_idx, end_idx;\n",
    "   front_idx = end_idx = 0;\n",
    "\n",
    "   while(1) \n",
    "    {\n",
    "      // 끝까지 탐색했으면 break \n",
    "      if(end_idx == n) break;\n",
    "      \n",
    "      // 맨 끝 숫자, 맨 앞 숫자 저장 \n",
    "      int cur = nums[end_idx];\n",
    "      int be_cur = nums[front_idx];      \n",
    "\n",
    "      // 1. k 횟수 덜 찼으면\n",
    "      // ㄱ. 끝 인덱스 늘리고,\n",
    "      // ㄴ. visited 증가 처리\n",
    "      // ㄷ. 그 때까지의 수열 길이를 ans와 비교  \n",
    "    if(cnts[cur] < k) \n",
    "    {\n",
    "         cnts[cur]++;\n",
    "         end_idx++;\n",
    "         if(end_idx-front_idx > ans) \n",
    "         {\n",
    "            ans = end_idx-front_idx;\n",
    "         }\n",
    "    } \n",
    "    // 2. k 횟수 다 찼으면\n",
    "    // ㄱ. 앞 인덱스 땡기고\n",
    "    // ㄴ. 땡긴 인덱스에 해당하는 visited 취소 처리 \n",
    "    else \n",
    "      {\n",
    "         cnts[be_cur]--;\n",
    "         front_idx++;\n",
    "      }\n",
    "   }\n",
    "   printf(\"%d\", ans);\n",
    "}"
   ]
  },
  {
   "cell_type": "code",
   "execution_count": 29,
   "metadata": {},
   "outputs": [
    {
     "data": {
      "text/plain": [
       "{1: 1, 2: 1, 3: 1, 4: 3, 5: 0, 6: 1, 7: 1, 8: 0, 9: 1, 10: 1}"
      ]
     },
     "execution_count": 29,
     "metadata": {},
     "output_type": "execute_result"
    }
   ],
   "source": [
    "dict"
   ]
  }
 ],
 "metadata": {
  "kernelspec": {
   "display_name": "Python 3",
   "language": "python",
   "name": "python3"
  },
  "language_info": {
   "codemirror_mode": {
    "name": "ipython",
    "version": 3
   },
   "file_extension": ".py",
   "mimetype": "text/x-python",
   "name": "python",
   "nbconvert_exporter": "python",
   "pygments_lexer": "ipython3",
   "version": "3.7.6"
  }
 },
 "nbformat": 4,
 "nbformat_minor": 4
}
