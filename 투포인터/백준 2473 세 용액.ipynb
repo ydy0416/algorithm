{
 "cells": [
  {
   "cell_type": "code",
   "execution_count": 11,
   "metadata": {
    "scrolled": true
   },
   "outputs": [
    {
     "name": "stdout",
     "output_type": "stream",
     "text": [
      "5\n",
      "-2 6 -97 -6 98\n",
      "-97 -2 98\n"
     ]
    }
   ],
   "source": [
    "n=int(input())\n",
    "data=list(map(int,input().split()))\n",
    "data.sort()\n",
    "ans=1e10\n",
    "\n",
    "for i in range(n-2):\n",
    "    fix=i\n",
    "    left=i+1\n",
    "    right=n-1\n",
    "    if ans==0:\n",
    "        break\n",
    "    while left<right:\n",
    "        if abs(data[fix]+data[left]+data[right])==0:\n",
    "            ans=abs(data[fix]+data[left]+data[right])\n",
    "            ans_list=[data[fix],data[left],data[right]]\n",
    "            break\n",
    "        if abs(data[fix]+data[left]+data[right])<ans:\n",
    "            ans=abs(data[fix]+data[left]+data[right])\n",
    "            ans_list=[data[fix],data[left],data[right]]\n",
    "        if data[fix]+data[left]+data[right]<0:\n",
    "            left+=1\n",
    "        elif data[fix]+data[left]+data[right]>0:\n",
    "            right-=1\n",
    "print(ans_list[0],ans_list[1],ans_list[2])        "
   ]
  },
  {
   "cell_type": "code",
   "execution_count": 10,
   "metadata": {
    "scrolled": true
   },
   "outputs": [
    {
     "data": {
      "text/plain": [
       "[-6, -3, -2]"
      ]
     },
     "execution_count": 10,
     "metadata": {},
     "output_type": "execute_result"
    }
   ],
   "source": [
    "ans_list"
   ]
  },
  {
   "cell_type": "code",
   "execution_count": 5,
   "metadata": {},
   "outputs": [
    {
     "data": {
      "text/plain": [
       "True"
      ]
     },
     "execution_count": 5,
     "metadata": {},
     "output_type": "execute_result"
    }
   ],
   "source": [
    "ans>2147000000"
   ]
  }
 ],
 "metadata": {
  "kernelspec": {
   "display_name": "Python 3",
   "language": "python",
   "name": "python3"
  },
  "language_info": {
   "codemirror_mode": {
    "name": "ipython",
    "version": 3
   },
   "file_extension": ".py",
   "mimetype": "text/x-python",
   "name": "python",
   "nbconvert_exporter": "python",
   "pygments_lexer": "ipython3",
   "version": "3.7.6"
  }
 },
 "nbformat": 4,
 "nbformat_minor": 4
}
