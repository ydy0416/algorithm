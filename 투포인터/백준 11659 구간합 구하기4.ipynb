{
 "cells": [
  {
   "cell_type": "code",
   "execution_count": null,
   "metadata": {},
   "outputs": [
    {
     "name": "stdout",
     "output_type": "stream",
     "text": [
      "5 3\n",
      "5 4 3 2 1\n",
      "0 3\n",
      "14\n"
     ]
    }
   ],
   "source": [
    "import copy\n",
    "n,m=map(int, input().split())\n",
    "data=list(map(int, input().split()))\n",
    "tmp=data[0]\n",
    " \n",
    "# for _ in range(m):\n",
    "#     a,b=map(int,input().split())\n",
    "#     result=0\n",
    "#     for i in range(a-1,b):\n",
    "#         result+=data[i]\n",
    "#     print(result)\n",
    "\n",
    "data2=copy.deepcopy(data)\n",
    "tmp=data[0]\n",
    "for i in range(1,n):\n",
    "    data[i]+=tmp\n",
    "    tmp=data[i]\n",
    "\n",
    "for _ in range(m):\n",
    "    a,b=map(int,input().split())\n",
    "    if a==b:\n",
    "        print(data2[a-1])\n",
    "        continue\n",
    "    if a==0:\n",
    "        ans=data[b]\n",
    "    else:\n",
    "        ans=data[b]-data[a-1]\n",
    "    print(ans)\n"
   ]
  },
  {
   "cell_type": "code",
   "execution_count": 13,
   "metadata": {},
   "outputs": [
    {
     "data": {
      "text/plain": [
       "[5, 4, 3, 2, 1]"
      ]
     },
     "execution_count": 13,
     "metadata": {},
     "output_type": "execute_result"
    }
   ],
   "source": [
    "data2"
   ]
  }
 ],
 "metadata": {
  "kernelspec": {
   "display_name": "Python 3",
   "language": "python",
   "name": "python3"
  },
  "language_info": {
   "codemirror_mode": {
    "name": "ipython",
    "version": 3
   },
   "file_extension": ".py",
   "mimetype": "text/x-python",
   "name": "python",
   "nbconvert_exporter": "python",
   "pygments_lexer": "ipython3",
   "version": "3.7.6"
  }
 },
 "nbformat": 4,
 "nbformat_minor": 4
}
