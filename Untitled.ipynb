{
 "cells": [
  {
   "cell_type": "code",
   "execution_count": 21,
   "metadata": {
    "scrolled": false
   },
   "outputs": [
    {
     "name": "stdout",
     "output_type": "stream",
     "text": [
      "8\n",
      "4\n",
      "3\n",
      "6\n",
      "8\n",
      "7\n",
      "5\n",
      "2\n",
      "1\n",
      "+\n",
      "+\n",
      "+\n",
      "+\n",
      "-\n",
      "-\n",
      "+\n",
      "+\n",
      "-\n",
      "+\n",
      "+\n",
      "-\n",
      "-\n",
      "-\n",
      "-\n",
      "-\n"
     ]
    }
   ],
   "source": [
    "def solve(target):\n",
    "    global now\n",
    "    #스택에 아무것도 없을 때\n",
    "    if len(stack)==0:\n",
    "        stack.append(now)\n",
    "        ans.append('+')\n",
    "        now+=1\n",
    "    while True:\n",
    "        if len(stack)==0: return False\n",
    "        #스택 마지막 값이 타겟과 같을 때\n",
    "        if stack[-1]==target:\n",
    "            stack.pop()\n",
    "            ans.append('-')\n",
    "            return\n",
    "    \n",
    "    #스택 마지막값이 타겟보다 작을 때\n",
    "        elif stack[-1]<target:\n",
    "            if now>target: return False\n",
    "            while stack[-1]<target:\n",
    "                stack.append(now)\n",
    "                now+=1\n",
    "                ans.append('+')\n",
    "        \n",
    "    #스택 마지막값이 타겟보다 클 때\n",
    "        elif stack[-1]>target:\n",
    "            \n",
    "            while stack[-1]>target and len(stack)>0:\n",
    "                stack.pop()\n",
    "                ans.append('-')\n",
    "                if len(stack)==0:\n",
    "                    break\n",
    "    \n",
    "n=int(input())\n",
    "data=[]\n",
    "for i in range(n):\n",
    "    data.append(int(input()))\n",
    "now=1\n",
    "stack=[]\n",
    "ans=[]\n",
    "for i in range(len(data)):\n",
    "    target=data[i]\n",
    "    flag=solve(target)\n",
    "    if flag==False:\n",
    "        break\n",
    "if flag==False:\n",
    "    print('NO')\n",
    "else:\n",
    "    for i in ans:\n",
    "        print(i)\n",
    "    "
   ]
  },
  {
   "cell_type": "code",
   "execution_count": 24,
   "metadata": {},
   "outputs": [
    {
     "name": "stdout",
     "output_type": "stream",
     "text": [
      "4\n",
      "1\n",
      "2\n",
      "5\n",
      "3\n",
      "NO\n"
     ]
    }
   ],
   "source": [
    "n = int(input())\n",
    "s = []\n",
    "op = []\n",
    "count = 1\n",
    "temp = True\n",
    "for i in range(n):\n",
    "    num = int(input())\n",
    "    while count <= num:\n",
    "        s.append(count)\n",
    "        op.append('+')\n",
    "        count += 1\n",
    "    if s[-1] == num:\n",
    "        s.pop()\n",
    "        op.append('-')\n",
    "    else:\n",
    "        temp = False\n",
    "if temp == False:\n",
    "    print('NO')\n",
    "else:\n",
    "    for i in op:\n",
    "        print(i)"
   ]
  }
 ],
 "metadata": {
  "kernelspec": {
   "display_name": "Python 3",
   "language": "python",
   "name": "python3"
  },
  "language_info": {
   "codemirror_mode": {
    "name": "ipython",
    "version": 3
   },
   "file_extension": ".py",
   "mimetype": "text/x-python",
   "name": "python",
   "nbconvert_exporter": "python",
   "pygments_lexer": "ipython3",
   "version": "3.7.6"
  }
 },
 "nbformat": 4,
 "nbformat_minor": 4
}
