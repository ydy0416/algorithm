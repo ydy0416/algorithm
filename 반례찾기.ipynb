{
 "cells": [
  {
   "cell_type": "code",
   "execution_count": 15,
   "metadata": {
    "scrolled": true
   },
   "outputs": [
    {
     "name": "stdout",
     "output_type": "stream",
     "text": [
      "solve2 data: [-2, -3, -3, 5, -1]\n",
      "n,s: 5 -9\n",
      "data: [-2, -3, -3, 5, -1]\n",
      "v1: 0\n",
      "v2: 1\n"
     ]
    }
   ],
   "source": [
    "from itertools import combinations\n",
    "#내 코드\n",
    "def solve1(n,s, data):\n",
    "    #데이터를 누적\n",
    "    sum=0\n",
    "    tmp=[[] for i in range(n)]\n",
    "    for i in range(n):\n",
    "        tmp[i]=sum+data[i]\n",
    "        sum=tmp[i]\n",
    "    ans=0\n",
    "    for start in range(n):\n",
    "        num1=tmp[start]\n",
    "        if num1==s:\n",
    "            ans+=1\n",
    "        end=start+1\n",
    "        while end<n:\n",
    "            num2=tmp[end]\n",
    "            if num2-num1==s:\n",
    "                # print('start, end:', start, end)\n",
    "                ans+=1\n",
    "            end+=1\n",
    "    return ans\n",
    "\n",
    "#정답코드\n",
    "def solve2(n,s, data):\n",
    "    count = 0\n",
    "    #정수이므로 갈수록 커지는게 아니고 작아질수도있고 커질수도 있음\n",
    "    print('solve2 data:', data)\n",
    "    #길이가 1인것에서부터 n인것까지\n",
    "\n",
    "    for i in range(1,n+1):\n",
    "        per = combinations(data,i)\n",
    "        for j in list(per):\n",
    "            if sum(j) == s:\n",
    "                count += 1\n",
    "    return count\n",
    "#랜덤수 배정\n",
    "import random\n",
    "while True:\n",
    "    n=5\n",
    "    s=random.randrange(-10,10)\n",
    "    data = [random.randrange(-10,10) for _ in range(n)]\n",
    "    v1= solve1(n,s,data)\n",
    "    v2= solve2(n,s,data)\n",
    "    if v1 != v2:\n",
    "        print('n,s:',n,s)\n",
    "        print('data:',data)\n",
    "        print('v1:',v1)\n",
    "        print('v2:',v2)\n",
    "        break\n"
   ]
  }
 ],
 "metadata": {
  "kernelspec": {
   "display_name": "Python 3",
   "language": "python",
   "name": "python3"
  },
  "language_info": {
   "codemirror_mode": {
    "name": "ipython",
    "version": 3
   },
   "file_extension": ".py",
   "mimetype": "text/x-python",
   "name": "python",
   "nbconvert_exporter": "python",
   "pygments_lexer": "ipython3",
   "version": "3.7.6"
  }
 },
 "nbformat": 4,
 "nbformat_minor": 4
}
