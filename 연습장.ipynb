{
 "cells": [
  {
   "cell_type": "code",
   "execution_count": 97,
   "metadata": {},
   "outputs": [
    {
     "name": "stdout",
     "output_type": "stream",
     "text": [
      "3 7\n",
      "a e i o u b c\n",
      "abc\n",
      "bce\n",
      "bci\n",
      "bco\n",
      "bcu\n"
     ]
    }
   ],
   "source": [
    "from itertools import combinations \n",
    "l,c=map(int,input().split())\n",
    "data=list(input().split())\n",
    "data1=[]\n",
    "data2=[]\n",
    "for i in data:\n",
    "    if i=='a' or i=='e' or i=='i' or i=='o' or i=='u':\n",
    "        data1.append(i)\n",
    "    else:\n",
    "        data2.append(i)\n",
    "ans=[]\n",
    "a=1\n",
    "b=l-a\n",
    "# print('data1, data2:', data1,data2)\n",
    "while b>1:\n",
    "    data3=list(combinations(data1,a))\n",
    "    data4=list(combinations(data2,b))\n",
    "#     print('data1, data2:', data1,data2)\n",
    "    for i in data3:\n",
    "        tmp=list(i)\n",
    "        for k in data4:\n",
    "            t=tmp+list(k)\n",
    "            t.sort()\n",
    "            ans.append(t)\n",
    "    \n",
    "    a+=1\n",
    "    b=l-a\n",
    "ans.sort()\n",
    "for i in ans:\n",
    "    print(''.join(i))"
   ]
  },
  {
   "cell_type": "code",
   "execution_count": 85,
   "metadata": {},
   "outputs": [
    {
     "name": "stdout",
     "output_type": "stream",
     "text": [
      "[['a', 'c', 's', 'w'], ['a', 'i', 'c', 's'], ['a', 'i', 'c', 'w'], ['a', 'i', 's', 'w'], ['a', 'i', 't', 'c'], ['a', 'i', 't', 's'], ['a', 'i', 't', 'w'], ['a', 't', 'c', 's'], ['a', 't', 'c', 'w'], ['a', 't', 's', 'w'], ['i', 'c', 's', 'w'], ['i', 't', 'c', 's'], ['i', 't', 'c', 'w'], ['i', 't', 's', 'w']]\n"
     ]
    }
   ],
   "source": [
    "\n",
    "print(ans)"
   ]
  },
  {
   "cell_type": "code",
   "execution_count": 27,
   "metadata": {},
   "outputs": [
    {
     "name": "stdout",
     "output_type": "stream",
     "text": [
      "4 6\n",
      "a t c i s w\n",
      "['t', 'c', 's', 'w']\n"
     ]
    }
   ],
   "source": [
    "from itertools import combinations \n",
    "l,c=map(int,input().split())\n",
    "data=list(input().split())\n",
    "data1=[]\n",
    "data2=[]\n",
    "for i in data:\n",
    "    if i=='a' or i=='e' or i=='i' or i=='o' or i=='u':\n",
    "        data1.append(i)\n",
    "    else:\n",
    "        data2.append(i)\n",
    "print(data2)\n",
    "data1=list(combinations(data1,1))\n",
    "data2=list(combinations(data2,3))"
   ]
  },
  {
   "cell_type": "code",
   "execution_count": 28,
   "metadata": {},
   "outputs": [
    {
     "name": "stdout",
     "output_type": "stream",
     "text": [
      "[('t', 'c', 's'), ('t', 'c', 'w'), ('t', 's', 'w'), ('c', 's', 'w')]\n"
     ]
    }
   ],
   "source": [
    "data2=list(combinations(data2,3))\n",
    "print(data2)"
   ]
  },
  {
   "cell_type": "code",
   "execution_count": 37,
   "metadata": {},
   "outputs": [
    {
     "name": "stdout",
     "output_type": "stream",
     "text": [
      "['a']\n",
      "['i']\n",
      "[['a', 'c', 's', 'w'], ['a', 't', 'c', 's'], ['a', 't', 'c', 'w'], ['a', 't', 's', 'w'], ['i', 'c', 's', 'w'], ['i', 't', 'c', 's'], ['i', 't', 'c', 'w'], ['i', 't', 's', 'w']]\n"
     ]
    }
   ],
   "source": [
    "ans=[]\n",
    "for i in data1:\n",
    "    tmp=list(i)\n",
    "    print(tmp)\n",
    "    for j in data2:\n",
    "        ans.append(tmp+list(j))\n",
    "ans.sort()\n",
    "print(ans)"
   ]
  },
  {
   "cell_type": "code",
   "execution_count": null,
   "metadata": {},
   "outputs": [],
   "source": [
    "import sys\n",
    "sys.setrecursionlimit(10**9)\n",
    "def dfs(graph, v, parent):\n",
    "    for i in graph[v]:\n",
    "        if parent[i] == 0:\n",
    "            parent[i] = v\n",
    "#             print(parent)\n",
    "            dfs(graph, i, parent)\n",
    "    \n",
    "n=int(input())\n",
    "visited=[False]*(n+1)\n",
    "graph=[[] for i in range(n+1)]\n",
    "for i in range(n-1):\n",
    "    a,b=map(int,input().split())\n",
    "    graph[a].append(b)\n",
    "    graph[b].append(a)\n",
    "\n",
    "parent=[0]*(n+1)\n",
    "parent[1]=1\n",
    "\n",
    "dfs(graph,1,parent)\n",
    "for i in range(2,n+1):\n",
    "    print(parent[i])"
   ]
  },
  {
   "cell_type": "code",
   "execution_count": null,
   "metadata": {},
   "outputs": [],
   "source": [
    "# 8/9\n",
    "#트리의 지름\n",
    "n=int(input())\n",
    "graph=[[] for i in range(n+1)]\n",
    "for i in range(n):\n",
    "    tmp=list(input().split())\n",
    "    for j in range(1,len(tmp)-1,2):\n",
    "        graph[int(tmp[0])].append((int(tmp[j]),int(tmp[j+1])))\n",
    "print(graph)        \n",
    "    "
   ]
  },
  {
   "cell_type": "code",
   "execution_count": null,
   "metadata": {
    "scrolled": true
   },
   "outputs": [],
   "source": [
    "def dfs(graph,v,visited,long,res):\n",
    "    visited[v]=True\n",
    "    #a는 연결된 노드, b는 거리\n",
    "    for a,b in graph[v]:\n",
    "        if not visited[a]:\n",
    "            res[a]=long+b\n",
    "            dfs(graph,a,visited,long+b,res)\n",
    "    \n",
    "res=[0]*(n+1)\n",
    "visited=[False]*(n+1)\n",
    "long=0\n",
    "dfs(graph,1,visited,long,res)\n",
    "# print(res)\n",
    "maximum=0\n",
    "for i in range(1,len(res)):\n",
    "    if maximum<res[i]:\n",
    "        maximum=res[i]\n",
    "        index=i\n",
    "# print(index)\n",
    "\n",
    "#두번째 dfs\n",
    "visited=[False]*(n+1)\n",
    "long=0\n",
    "dfs(graph,index,visited,long,res)\n",
    "print(max(res))"
   ]
  },
  {
   "cell_type": "code",
   "execution_count": null,
   "metadata": {},
   "outputs": [],
   "source": [
    "#1\n",
    "s=input()\n",
    "s=s.lower()\n",
    "s_dict={'a':0,'b':0,'c':0,'d':0,'e':0,'f':0,'g':0,'h':0,'i':0,'j':0,'k':0,'l':0,\n",
    "       'm':0,'n':0,'o':0,'p':0,'q':0,'r':0,'s':0,'t':0,'u':0,'v':0,'w':0,'x':0,\n",
    "       'y':0,'z':0}\n",
    "for i in s:\n",
    "    if i in s_dict:\n",
    "        s_dict[i]+=1\n",
    "# print(s_dict)\n",
    "ans=''\n",
    "maximum=max(s_dict.values())\n",
    "if s_dict['t']==maximum:\n",
    "    ans+='T'\n",
    "if s_dict['o']==maximum:\n",
    "    ans+='O'\n",
    "if s_dict['s']==maximum:\n",
    "    ans+='SS'\n",
    "for a,b in s_dict.items():\n",
    "    if a=='t' or a=='o' or a=='s':\n",
    "        continue\n",
    "    if b==maximum:\n",
    "        ans+=a\n",
    "print(ans)\n"
   ]
  },
  {
   "cell_type": "code",
   "execution_count": null,
   "metadata": {},
   "outputs": [],
   "source": [
    "for a,b in s_dict.items():\n",
    "    print(a,b)"
   ]
  },
  {
   "cell_type": "code",
   "execution_count": null,
   "metadata": {},
   "outputs": [],
   "source": [
    "price=[34000,78000, 48000, 27000, 11000, 285000, 320000, 335100]\n",
    "box=[]\n",
    "#초기보유량, 잔고, 대출유무\n",
    "for i in price:\n",
    "    box.append([100000000//i,100000000%i,0])\n",
    "\n",
    "ans=[]\n",
    "for i in range(len(price)):    \n",
    "    for j in range(i+1,len(price)):\n",
    "#         print('box:',box[i])\n",
    "#         print('산가격, 현재가격:', price[i],price[j])\n",
    "#         print('총가치:',box[i][0]*price[j]+box[i][1])\n",
    "        #10억달성\n",
    "        if box[i][0]*price[j]+box[i][1]+box[i][2]>1000000000 :\n",
    "#             print('달성시 현재와 산날:', j,i)\n",
    "            ans.append(j-i)\n",
    "            break\n",
    "        #산것보다 50%쌀때\n",
    "        if price[i]//2>=price[j]:\n",
    "            #대출을 안받았을경우\n",
    "            if box[i][2]==0:\n",
    "                #보유수량\n",
    "                box[i][0]+=(50000000+box[i][1])//price[j]\n",
    "                #잔고\n",
    "                box[i][1]=(50000000+box[i][1])%price[j]\n",
    "                box[i][2]=-50000000\n",
    "    if box[i][0]*price[j]+box[i][1]<1000000000:\n",
    "        ans.append(-1)"
   ]
  },
  {
   "cell_type": "code",
   "execution_count": null,
   "metadata": {},
   "outputs": [],
   "source": [
    "ans"
   ]
  },
  {
   "cell_type": "code",
   "execution_count": null,
   "metadata": {},
   "outputs": [],
   "source": [
    "#3\n",
    "n=int(input())\n",
    "data=[]\n",
    "for i in range(n):\n",
    "    log_time, log_id, log_type, log_name, svc_id, user_no, network, os, app_ver=map(str,input().split(','))\n",
    "    data.append([log_time, log_id, log_type, log_name, svc_id, user_no, network, os, app_ver]) "
   ]
  },
  {
   "cell_type": "code",
   "execution_count": null,
   "metadata": {},
   "outputs": [],
   "source": [
    "data.sort(key=lambda x:(x[0],x[1]))"
   ]
  },
  {
   "cell_type": "code",
   "execution_count": null,
   "metadata": {},
   "outputs": [],
   "source": [
    "dd=[['e51254b0-53a3-42ec-b050-f5a8fcfaffaa',1],['375df006-4c96-439d-98a0-b0c67464d711',1],['e51254b0-53a3-42ec-b050-f5a8fcfaffaa',2]]\n",
    "dd.sort(key=lambda x:(x[0],x[1]))\n",
    "print(dd)"
   ]
  },
  {
   "cell_type": "code",
   "execution_count": null,
   "metadata": {},
   "outputs": [],
   "source": [
    "from itertools import combinations\n",
    "n,s=map(int,input().split())\n",
    "data=list(map(int,input().split()))\n",
    "ans=0\n",
    "for i in range(1,n+1):\n",
    "    tmp=list(combinations(data,i))\n",
    "    print(tmp)\n",
    "    # if sum(tmp)==s:\n",
    "    #     ans+=1\n",
    "print(ans)\n"
   ]
  },
  {
   "cell_type": "code",
   "execution_count": null,
   "metadata": {},
   "outputs": [],
   "source": [
    "tmp=[(-7, -3), (-7, -2), (-7, 5), (-7, 8), (-3, -2), (-3, 5), (-3, 8), (-2, 5), (-2, 8), (5, 8)]\n",
    "sum(tmp)"
   ]
  },
  {
   "cell_type": "code",
   "execution_count": null,
   "metadata": {},
   "outputs": [],
   "source": [
    "a=0\n",
    "def func():\n",
    "    global a\n",
    "    a+=10\n",
    "func()\n",
    "print(a)"
   ]
  },
  {
   "cell_type": "code",
   "execution_count": null,
   "metadata": {},
   "outputs": [],
   "source": [
    "visited=[]\n",
    "visited.append([1,2])\n",
    "print(visited)\n",
    "if [1,2] in visited:\n",
    "    print(1)"
   ]
  },
  {
   "cell_type": "code",
   "execution_count": 13,
   "metadata": {},
   "outputs": [
    {
     "ename": "IndexError",
     "evalue": "list assignment index out of range",
     "output_type": "error",
     "traceback": [
      "\u001b[1;31m---------------------------------------------------------------------------\u001b[0m",
      "\u001b[1;31mIndexError\u001b[0m                                Traceback (most recent call last)",
      "\u001b[1;32m<ipython-input-13-0ec430714043>\u001b[0m in \u001b[0;36m<module>\u001b[1;34m\u001b[0m\n\u001b[0;32m     27\u001b[0m     \u001b[0mcount\u001b[0m\u001b[1;33m=\u001b[0m\u001b[1;36m0\u001b[0m\u001b[1;33m\u001b[0m\u001b[1;33m\u001b[0m\u001b[0m\n\u001b[0;32m     28\u001b[0m     \u001b[1;32mreturn\u001b[0m \u001b[0mdfs\u001b[0m\u001b[1;33m(\u001b[0m\u001b[0mqueen\u001b[0m\u001b[1;33m,\u001b[0m \u001b[0mn\u001b[0m\u001b[1;33m,\u001b[0m \u001b[1;36m0\u001b[0m\u001b[1;33m)\u001b[0m\u001b[1;33m\u001b[0m\u001b[1;33m\u001b[0m\u001b[0m\n\u001b[1;32m---> 29\u001b[1;33m \u001b[0msolution\u001b[0m\u001b[1;33m(\u001b[0m\u001b[1;36m4\u001b[0m\u001b[1;33m)\u001b[0m\u001b[1;33m\u001b[0m\u001b[1;33m\u001b[0m\u001b[0m\n\u001b[0m\u001b[0;32m     30\u001b[0m \u001b[0mprint\u001b[0m\u001b[1;33m(\u001b[0m\u001b[0mcount\u001b[0m\u001b[1;33m)\u001b[0m\u001b[1;33m\u001b[0m\u001b[1;33m\u001b[0m\u001b[0m\n",
      "\u001b[1;32m<ipython-input-13-0ec430714043>\u001b[0m in \u001b[0;36msolution\u001b[1;34m(n)\u001b[0m\n\u001b[0;32m     26\u001b[0m     \u001b[1;32mglobal\u001b[0m \u001b[0mcount\u001b[0m\u001b[1;33m\u001b[0m\u001b[1;33m\u001b[0m\u001b[0m\n\u001b[0;32m     27\u001b[0m     \u001b[0mcount\u001b[0m\u001b[1;33m=\u001b[0m\u001b[1;36m0\u001b[0m\u001b[1;33m\u001b[0m\u001b[1;33m\u001b[0m\u001b[0m\n\u001b[1;32m---> 28\u001b[1;33m     \u001b[1;32mreturn\u001b[0m \u001b[0mdfs\u001b[0m\u001b[1;33m(\u001b[0m\u001b[0mqueen\u001b[0m\u001b[1;33m,\u001b[0m \u001b[0mn\u001b[0m\u001b[1;33m,\u001b[0m \u001b[1;36m0\u001b[0m\u001b[1;33m)\u001b[0m\u001b[1;33m\u001b[0m\u001b[1;33m\u001b[0m\u001b[0m\n\u001b[0m\u001b[0;32m     29\u001b[0m \u001b[0msolution\u001b[0m\u001b[1;33m(\u001b[0m\u001b[1;36m4\u001b[0m\u001b[1;33m)\u001b[0m\u001b[1;33m\u001b[0m\u001b[1;33m\u001b[0m\u001b[0m\n\u001b[0;32m     30\u001b[0m \u001b[0mprint\u001b[0m\u001b[1;33m(\u001b[0m\u001b[0mcount\u001b[0m\u001b[1;33m)\u001b[0m\u001b[1;33m\u001b[0m\u001b[1;33m\u001b[0m\u001b[0m\n",
      "\u001b[1;32m<ipython-input-13-0ec430714043>\u001b[0m in \u001b[0;36mdfs\u001b[1;34m(queen, n, row)\u001b[0m\n\u001b[0;32m     18\u001b[0m                 \u001b[1;32mbreak\u001b[0m\u001b[1;33m\u001b[0m\u001b[1;33m\u001b[0m\u001b[0m\n\u001b[0;32m     19\u001b[0m         \u001b[1;32melse\u001b[0m\u001b[1;33m:\u001b[0m\u001b[1;33m\u001b[0m\u001b[1;33m\u001b[0m\u001b[0m\n\u001b[1;32m---> 20\u001b[1;33m             \u001b[0mdfs\u001b[0m\u001b[1;33m(\u001b[0m\u001b[0mqueen\u001b[0m\u001b[1;33m,\u001b[0m \u001b[0mn\u001b[0m\u001b[1;33m,\u001b[0m \u001b[0mrow\u001b[0m\u001b[1;33m+\u001b[0m\u001b[1;36m1\u001b[0m\u001b[1;33m)\u001b[0m\u001b[1;33m\u001b[0m\u001b[1;33m\u001b[0m\u001b[0m\n\u001b[0m\u001b[0;32m     21\u001b[0m \u001b[1;33m\u001b[0m\u001b[0m\n\u001b[0;32m     22\u001b[0m \u001b[1;33m\u001b[0m\u001b[0m\n",
      "\u001b[1;32m<ipython-input-13-0ec430714043>\u001b[0m in \u001b[0;36mdfs\u001b[1;34m(queen, n, row)\u001b[0m\n\u001b[0;32m     18\u001b[0m                 \u001b[1;32mbreak\u001b[0m\u001b[1;33m\u001b[0m\u001b[1;33m\u001b[0m\u001b[0m\n\u001b[0;32m     19\u001b[0m         \u001b[1;32melse\u001b[0m\u001b[1;33m:\u001b[0m\u001b[1;33m\u001b[0m\u001b[1;33m\u001b[0m\u001b[0m\n\u001b[1;32m---> 20\u001b[1;33m             \u001b[0mdfs\u001b[0m\u001b[1;33m(\u001b[0m\u001b[0mqueen\u001b[0m\u001b[1;33m,\u001b[0m \u001b[0mn\u001b[0m\u001b[1;33m,\u001b[0m \u001b[0mrow\u001b[0m\u001b[1;33m+\u001b[0m\u001b[1;36m1\u001b[0m\u001b[1;33m)\u001b[0m\u001b[1;33m\u001b[0m\u001b[1;33m\u001b[0m\u001b[0m\n\u001b[0m\u001b[0;32m     21\u001b[0m \u001b[1;33m\u001b[0m\u001b[0m\n\u001b[0;32m     22\u001b[0m \u001b[1;33m\u001b[0m\u001b[0m\n",
      "\u001b[1;32m<ipython-input-13-0ec430714043>\u001b[0m in \u001b[0;36mdfs\u001b[1;34m(queen, n, row)\u001b[0m\n\u001b[0;32m     18\u001b[0m                 \u001b[1;32mbreak\u001b[0m\u001b[1;33m\u001b[0m\u001b[1;33m\u001b[0m\u001b[0m\n\u001b[0;32m     19\u001b[0m         \u001b[1;32melse\u001b[0m\u001b[1;33m:\u001b[0m\u001b[1;33m\u001b[0m\u001b[1;33m\u001b[0m\u001b[0m\n\u001b[1;32m---> 20\u001b[1;33m             \u001b[0mdfs\u001b[0m\u001b[1;33m(\u001b[0m\u001b[0mqueen\u001b[0m\u001b[1;33m,\u001b[0m \u001b[0mn\u001b[0m\u001b[1;33m,\u001b[0m \u001b[0mrow\u001b[0m\u001b[1;33m+\u001b[0m\u001b[1;36m1\u001b[0m\u001b[1;33m)\u001b[0m\u001b[1;33m\u001b[0m\u001b[1;33m\u001b[0m\u001b[0m\n\u001b[0m\u001b[0;32m     21\u001b[0m \u001b[1;33m\u001b[0m\u001b[0m\n\u001b[0;32m     22\u001b[0m \u001b[1;33m\u001b[0m\u001b[0m\n",
      "\u001b[1;32m<ipython-input-13-0ec430714043>\u001b[0m in \u001b[0;36mdfs\u001b[1;34m(queen, n, row)\u001b[0m\n\u001b[0;32m     18\u001b[0m                 \u001b[1;32mbreak\u001b[0m\u001b[1;33m\u001b[0m\u001b[1;33m\u001b[0m\u001b[0m\n\u001b[0;32m     19\u001b[0m         \u001b[1;32melse\u001b[0m\u001b[1;33m:\u001b[0m\u001b[1;33m\u001b[0m\u001b[1;33m\u001b[0m\u001b[0m\n\u001b[1;32m---> 20\u001b[1;33m             \u001b[0mdfs\u001b[0m\u001b[1;33m(\u001b[0m\u001b[0mqueen\u001b[0m\u001b[1;33m,\u001b[0m \u001b[0mn\u001b[0m\u001b[1;33m,\u001b[0m \u001b[0mrow\u001b[0m\u001b[1;33m+\u001b[0m\u001b[1;36m1\u001b[0m\u001b[1;33m)\u001b[0m\u001b[1;33m\u001b[0m\u001b[1;33m\u001b[0m\u001b[0m\n\u001b[0m\u001b[0;32m     21\u001b[0m \u001b[1;33m\u001b[0m\u001b[0m\n\u001b[0;32m     22\u001b[0m \u001b[1;33m\u001b[0m\u001b[0m\n",
      "\u001b[1;32m<ipython-input-13-0ec430714043>\u001b[0m in \u001b[0;36mdfs\u001b[1;34m(queen, n, row)\u001b[0m\n\u001b[0;32m      6\u001b[0m     \u001b[1;31m# 가로로 한번만 진행\u001b[0m\u001b[1;33m\u001b[0m\u001b[1;33m\u001b[0m\u001b[1;33m\u001b[0m\u001b[0m\n\u001b[0;32m      7\u001b[0m     \u001b[1;32mfor\u001b[0m \u001b[0mcol\u001b[0m \u001b[1;32min\u001b[0m \u001b[0mrange\u001b[0m\u001b[1;33m(\u001b[0m\u001b[0mn\u001b[0m\u001b[1;33m)\u001b[0m\u001b[1;33m:\u001b[0m\u001b[1;33m\u001b[0m\u001b[1;33m\u001b[0m\u001b[0m\n\u001b[1;32m----> 8\u001b[1;33m         \u001b[0mqueen\u001b[0m\u001b[1;33m[\u001b[0m\u001b[0mrow\u001b[0m\u001b[1;33m]\u001b[0m \u001b[1;33m=\u001b[0m \u001b[0mcol\u001b[0m\u001b[1;33m\u001b[0m\u001b[1;33m\u001b[0m\u001b[0m\n\u001b[0m\u001b[0;32m      9\u001b[0m \u001b[1;33m\u001b[0m\u001b[0m\n\u001b[0;32m     10\u001b[0m         \u001b[1;31m# for-else구문\u001b[0m\u001b[1;33m\u001b[0m\u001b[1;33m\u001b[0m\u001b[1;33m\u001b[0m\u001b[0m\n",
      "\u001b[1;31mIndexError\u001b[0m: list assignment index out of range"
     ]
    }
   ],
   "source": [
    "def dfs(queen, n, row):\n",
    "    global count\n",
    "    if n == row:\n",
    "        count+=1\n",
    "    \n",
    "    # 가로로 한번만 진행\n",
    "    for col in range(n):\n",
    "        queen[row] = col\n",
    "\n",
    "        # for-else구문\n",
    "        for x in range(row):\n",
    "            # 세로로 겹치면 안됨\n",
    "            if queen[x] == queen[row]: \n",
    "                break\n",
    "                \n",
    "            # 대각선으로 겹치면 안됨\n",
    "            if abs(queen[x]-queen[row]) == (row-x):\n",
    "                break\n",
    "        else:\n",
    "            dfs(queen, n, row+1)\n",
    "            \n",
    "\n",
    "\n",
    "def solution(n):\n",
    "    queen = [0]*n\n",
    "    global count\n",
    "    count=0\n",
    "    return dfs(queen, n, 0)\n",
    "solution(4)\n",
    "print(count)"
   ]
  },
  {
   "cell_type": "code",
   "execution_count": null,
   "metadata": {},
   "outputs": [],
   "source": []
  }
 ],
 "metadata": {
  "kernelspec": {
   "display_name": "Python 3",
   "language": "python",
   "name": "python3"
  },
  "language_info": {
   "codemirror_mode": {
    "name": "ipython",
    "version": 3
   },
   "file_extension": ".py",
   "mimetype": "text/x-python",
   "name": "python",
   "nbconvert_exporter": "python",
   "pygments_lexer": "ipython3",
   "version": "3.7.6"
  }
 },
 "nbformat": 4,
 "nbformat_minor": 4
}
