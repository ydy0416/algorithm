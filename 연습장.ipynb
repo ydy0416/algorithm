{
 "cells": [
  {
   "cell_type": "code",
   "execution_count": 22,
   "metadata": {},
   "outputs": [
    {
     "name": "stdout",
     "output_type": "stream",
     "text": [
      "7\n",
      "1 6\n",
      "6 3\n",
      "3 5\n",
      "4 1\n",
      "2 4\n",
      "4 7\n"
     ]
    }
   ],
   "source": [
    "import sys\n",
    "sys.setrecursionlimit(10**9)\n",
    "def dfs(graph, v, parent):\n",
    "    for i in graph[v]:\n",
    "        if parent[i] == 0:\n",
    "            parent[i] = v\n",
    "#             print(parent)\n",
    "            dfs(graph, i, parent)\n",
    "    \n",
    "n=int(input())\n",
    "visited=[False]*(n+1)\n",
    "graph=[[] for i in range(n+1)]\n",
    "for i in range(n-1):\n",
    "    a,b=map(int,input().split())\n",
    "    graph[a].append(b)\n",
    "    graph[b].append(a)\n",
    "\n",
    "parent=[0]*(n+1)\n",
    "parent[1]=1\n",
    "\n",
    "dfs(graph,1,parent)\n",
    "for i in range(2,n+1):\n",
    "    print(parent[i])"
   ]
  },
  {
   "cell_type": "code",
   "execution_count": 5,
   "metadata": {},
   "outputs": [
    {
     "name": "stdout",
     "output_type": "stream",
     "text": [
      "5\n",
      "1 3 2 -1\n",
      "2 4 4 -1\n",
      "3 1 2 4 3 -1\n",
      "4 2 4 3 3 5 6 -1\n",
      "5 4 6 -1\n",
      "[[], [(3, 2)], [(4, 4)], [(1, 2), (4, 3)], [(2, 4), (3, 3), (5, 6)], [(4, 6)]]\n"
     ]
    }
   ],
   "source": [
    "# 8/9\n",
    "#트리의 지름\n",
    "n=int(input())\n",
    "graph=[[] for i in range(n+1)]\n",
    "for i in range(n):\n",
    "    tmp=list(input().split())\n",
    "    for j in range(1,len(tmp)-1,2):\n",
    "        graph[int(tmp[0])].append((int(tmp[j]),int(tmp[j+1])))\n",
    "print(graph)        \n",
    "    "
   ]
  },
  {
   "cell_type": "code",
   "execution_count": 41,
   "metadata": {
    "scrolled": true
   },
   "outputs": [
    {
     "name": "stdout",
     "output_type": "stream",
     "text": [
      "11\n"
     ]
    }
   ],
   "source": [
    "def dfs(graph,v,visited,long,res):\n",
    "    visited[v]=True\n",
    "    #a는 연결된 노드, b는 거리\n",
    "    for a,b in graph[v]:\n",
    "        if not visited[a]:\n",
    "            res[a]=long+b\n",
    "            dfs(graph,a,visited,long+b,res)\n",
    "    \n",
    "res=[0]*(n+1)\n",
    "visited=[False]*(n+1)\n",
    "long=0\n",
    "dfs(graph,1,visited,long,res)\n",
    "# print(res)\n",
    "maximum=0\n",
    "for i in range(1,len(res)):\n",
    "    if maximum<res[i]:\n",
    "        maximum=res[i]\n",
    "        index=i\n",
    "# print(index)\n",
    "\n",
    "#두번째 dfs\n",
    "visited=[False]*(n+1)\n",
    "long=0\n",
    "dfs(graph,index,visited,long,res)\n",
    "print(max(res))"
   ]
  },
  {
   "cell_type": "code",
   "execution_count": 29,
   "metadata": {},
   "outputs": [
    {
     "name": "stdout",
     "output_type": "stream",
     "text": [
      "tso\n",
      "TOSS\n"
     ]
    }
   ],
   "source": [
    "#1\n",
    "s=input()\n",
    "s=s.lower()\n",
    "s_dict={'a':0,'b':0,'c':0,'d':0,'e':0,'f':0,'g':0,'h':0,'i':0,'j':0,'k':0,'l':0,\n",
    "       'm':0,'n':0,'o':0,'p':0,'q':0,'r':0,'s':0,'t':0,'u':0,'v':0,'w':0,'x':0,\n",
    "       'y':0,'z':0}\n",
    "for i in s:\n",
    "    if i in s_dict:\n",
    "        s_dict[i]+=1\n",
    "# print(s_dict)\n",
    "ans=''\n",
    "maximum=max(s_dict.values())\n",
    "if s_dict['t']==maximum:\n",
    "    ans+='T'\n",
    "if s_dict['o']==maximum:\n",
    "    ans+='O'\n",
    "if s_dict['s']==maximum:\n",
    "    ans+='SS'\n",
    "for a,b in s_dict.items():\n",
    "    if a=='t' or a=='o' or a=='s':\n",
    "        continue\n",
    "    if b==maximum:\n",
    "        ans+=a\n",
    "print(ans)\n"
   ]
  },
  {
   "cell_type": "code",
   "execution_count": 23,
   "metadata": {},
   "outputs": [
    {
     "name": "stdout",
     "output_type": "stream",
     "text": [
      "a 2\n",
      "b 1\n",
      "c 0\n",
      "d 0\n",
      "e 0\n",
      "f 0\n",
      "g 0\n",
      "h 0\n",
      "i 0\n",
      "j 0\n",
      "k 0\n",
      "l 0\n",
      "m 0\n",
      "n 0\n",
      "o 0\n",
      "p 0\n",
      "q 0\n",
      "r 0\n",
      "s 0\n",
      "t 1\n",
      "u 0\n",
      "v 0\n",
      "w 0\n",
      "x 0\n",
      "y 0\n",
      "z 0\n"
     ]
    }
   ],
   "source": [
    "for a,b in s_dict.items():\n",
    "    print(a,b)"
   ]
  },
  {
   "cell_type": "code",
   "execution_count": 108,
   "metadata": {},
   "outputs": [],
   "source": [
    "price=[34000,78000, 48000, 27000, 11000, 285000, 320000, 335100]\n",
    "box=[]\n",
    "#초기보유량, 잔고, 대출유무\n",
    "for i in price:\n",
    "    box.append([100000000//i,100000000%i,0])\n",
    "\n",
    "ans=[]\n",
    "for i in range(len(price)):    \n",
    "    for j in range(i+1,len(price)):\n",
    "#         print('box:',box[i])\n",
    "#         print('산가격, 현재가격:', price[i],price[j])\n",
    "#         print('총가치:',box[i][0]*price[j]+box[i][1])\n",
    "        #10억달성\n",
    "        if box[i][0]*price[j]+box[i][1]+box[i][2]>1000000000 :\n",
    "#             print('달성시 현재와 산날:', j,i)\n",
    "            ans.append(j-i)\n",
    "            break\n",
    "        #산것보다 50%쌀때\n",
    "        if price[i]//2>=price[j]:\n",
    "            #대출을 안받았을경우\n",
    "            if box[i][2]==0:\n",
    "                #보유수량\n",
    "                box[i][0]+=(50000000+box[i][1])//price[j]\n",
    "                #잔고\n",
    "                box[i][1]=(50000000+box[i][1])%price[j]\n",
    "                box[i][2]=-50000000\n",
    "    if box[i][0]*price[j]+box[i][1]<1000000000:\n",
    "        ans.append(-1)"
   ]
  },
  {
   "cell_type": "code",
   "execution_count": 109,
   "metadata": {},
   "outputs": [
    {
     "data": {
      "text/plain": [
       "[5, 6, 3, 2, 1, -1, -1, -1]"
      ]
     },
     "execution_count": 109,
     "metadata": {},
     "output_type": "execute_result"
    }
   ],
   "source": [
    "ans"
   ]
  },
  {
   "cell_type": "code",
   "execution_count": 129,
   "metadata": {},
   "outputs": [
    {
     "name": "stdout",
     "output_type": "stream",
     "text": [
      "d\n"
     ]
    },
    {
     "ename": "ValueError",
     "evalue": "invalid literal for int() with base 10: 'd'",
     "output_type": "error",
     "traceback": [
      "\u001b[1;31m---------------------------------------------------------------------------\u001b[0m",
      "\u001b[1;31mValueError\u001b[0m                                Traceback (most recent call last)",
      "\u001b[1;32m<ipython-input-129-946c26f71809>\u001b[0m in \u001b[0;36m<module>\u001b[1;34m\u001b[0m\n\u001b[0;32m      1\u001b[0m \u001b[1;31m#3\u001b[0m\u001b[1;33m\u001b[0m\u001b[1;33m\u001b[0m\u001b[1;33m\u001b[0m\u001b[0m\n\u001b[1;32m----> 2\u001b[1;33m \u001b[0mn\u001b[0m\u001b[1;33m=\u001b[0m\u001b[0mint\u001b[0m\u001b[1;33m(\u001b[0m\u001b[0minput\u001b[0m\u001b[1;33m(\u001b[0m\u001b[1;33m)\u001b[0m\u001b[1;33m)\u001b[0m\u001b[1;33m\u001b[0m\u001b[1;33m\u001b[0m\u001b[0m\n\u001b[0m\u001b[0;32m      3\u001b[0m \u001b[0mdata\u001b[0m\u001b[1;33m=\u001b[0m\u001b[1;33m[\u001b[0m\u001b[1;33m]\u001b[0m\u001b[1;33m\u001b[0m\u001b[1;33m\u001b[0m\u001b[0m\n\u001b[0;32m      4\u001b[0m \u001b[1;32mfor\u001b[0m \u001b[0mi\u001b[0m \u001b[1;32min\u001b[0m \u001b[0mrange\u001b[0m\u001b[1;33m(\u001b[0m\u001b[0mn\u001b[0m\u001b[1;33m)\u001b[0m\u001b[1;33m:\u001b[0m\u001b[1;33m\u001b[0m\u001b[1;33m\u001b[0m\u001b[0m\n\u001b[0;32m      5\u001b[0m     \u001b[0mlog_time\u001b[0m\u001b[1;33m,\u001b[0m \u001b[0mlog_id\u001b[0m\u001b[1;33m,\u001b[0m \u001b[0mlog_type\u001b[0m\u001b[1;33m,\u001b[0m \u001b[0mlog_name\u001b[0m\u001b[1;33m,\u001b[0m \u001b[0msvc_id\u001b[0m\u001b[1;33m,\u001b[0m \u001b[0muser_no\u001b[0m\u001b[1;33m,\u001b[0m \u001b[0mnetwork\u001b[0m\u001b[1;33m,\u001b[0m \u001b[0mos\u001b[0m\u001b[1;33m,\u001b[0m \u001b[0mapp_ver\u001b[0m\u001b[1;33m=\u001b[0m\u001b[0mmap\u001b[0m\u001b[1;33m(\u001b[0m\u001b[0mstr\u001b[0m\u001b[1;33m,\u001b[0m\u001b[0minput\u001b[0m\u001b[1;33m(\u001b[0m\u001b[1;33m)\u001b[0m\u001b[1;33m.\u001b[0m\u001b[0msplit\u001b[0m\u001b[1;33m(\u001b[0m\u001b[1;34m','\u001b[0m\u001b[1;33m)\u001b[0m\u001b[1;33m)\u001b[0m\u001b[1;33m\u001b[0m\u001b[1;33m\u001b[0m\u001b[0m\n",
      "\u001b[1;31mValueError\u001b[0m: invalid literal for int() with base 10: 'd'"
     ]
    }
   ],
   "source": [
    "#3\n",
    "n=int(input())\n",
    "data=[]\n",
    "for i in range(n):\n",
    "    log_time, log_id, log_type, log_name, svc_id, user_no, network, os, app_ver=map(str,input().split(','))\n",
    "    data.append([log_time, log_id, log_type, log_name, svc_id, user_no, network, os, app_ver]) "
   ]
  },
  {
   "cell_type": "code",
   "execution_count": 130,
   "metadata": {},
   "outputs": [],
   "source": [
    "data.sort(key=lambda x:(x[0],x[1]))"
   ]
  },
  {
   "cell_type": "code",
   "execution_count": 128,
   "metadata": {},
   "outputs": [
    {
     "name": "stdout",
     "output_type": "stream",
     "text": [
      "[['375df006-4c96-439d-98a0-b0c67464d711', 1], ['e51254b0-53a3-42ec-b050-f5a8fcfaffaa', 1], ['e51254b0-53a3-42ec-b050-f5a8fcfaffaa', 2]]\n"
     ]
    }
   ],
   "source": [
    "dd=[['e51254b0-53a3-42ec-b050-f5a8fcfaffaa',1],['375df006-4c96-439d-98a0-b0c67464d711',1],['e51254b0-53a3-42ec-b050-f5a8fcfaffaa',2]]\n",
    "dd.sort(key=lambda x:(x[0],x[1]))\n",
    "print(dd)"
   ]
  }
 ],
 "metadata": {
  "kernelspec": {
   "display_name": "Python 3",
   "language": "python",
   "name": "python3"
  },
  "language_info": {
   "codemirror_mode": {
    "name": "ipython",
    "version": 3
   },
   "file_extension": ".py",
   "mimetype": "text/x-python",
   "name": "python",
   "nbconvert_exporter": "python",
   "pygments_lexer": "ipython3",
   "version": "3.7.6"
  }
 },
 "nbformat": 4,
 "nbformat_minor": 4
}
