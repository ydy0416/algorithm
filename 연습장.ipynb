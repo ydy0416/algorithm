{
 "cells": [
  {
   "cell_type": "code",
   "execution_count": 22,
   "metadata": {},
   "outputs": [
    {
     "name": "stdout",
     "output_type": "stream",
     "text": [
      "7\n",
      "1 6\n",
      "6 3\n",
      "3 5\n",
      "4 1\n",
      "2 4\n",
      "4 7\n"
     ]
    }
   ],
   "source": [
    "import sys\n",
    "sys.setrecursionlimit(10**9)\n",
    "def dfs(graph, v, parent):\n",
    "    for i in graph[v]:\n",
    "        if parent[i] == 0:\n",
    "            parent[i] = v\n",
    "#             print(parent)\n",
    "            dfs(graph, i, parent)\n",
    "    \n",
    "n=int(input())\n",
    "visited=[False]*(n+1)\n",
    "graph=[[] for i in range(n+1)]\n",
    "for i in range(n-1):\n",
    "    a,b=map(int,input().split())\n",
    "    graph[a].append(b)\n",
    "    graph[b].append(a)\n",
    "\n",
    "parent=[0]*(n+1)\n",
    "parent[1]=1\n",
    "\n",
    "dfs(graph,1,parent)\n",
    "for i in range(2,n+1):\n",
    "    print(parent[i])"
   ]
  },
  {
   "cell_type": "code",
   "execution_count": 5,
   "metadata": {},
   "outputs": [
    {
     "name": "stdout",
     "output_type": "stream",
     "text": [
      "5\n",
      "1 3 2 -1\n",
      "2 4 4 -1\n",
      "3 1 2 4 3 -1\n",
      "4 2 4 3 3 5 6 -1\n",
      "5 4 6 -1\n",
      "[[], [(3, 2)], [(4, 4)], [(1, 2), (4, 3)], [(2, 4), (3, 3), (5, 6)], [(4, 6)]]\n"
     ]
    }
   ],
   "source": [
    "# 8/9\n",
    "#트리의 지름\n",
    "n=int(input())\n",
    "graph=[[] for i in range(n+1)]\n",
    "for i in range(n):\n",
    "    tmp=list(input().split())\n",
    "    for j in range(1,len(tmp)-1,2):\n",
    "        graph[int(tmp[0])].append((int(tmp[j]),int(tmp[j+1])))\n",
    "print(graph)        \n",
    "    "
   ]
  },
  {
   "cell_type": "code",
   "execution_count": 41,
   "metadata": {
    "scrolled": true
   },
   "outputs": [
    {
     "name": "stdout",
     "output_type": "stream",
     "text": [
      "11\n"
     ]
    }
   ],
   "source": [
    "def dfs(graph,v,visited,long,res):\n",
    "    visited[v]=True\n",
    "    #a는 연결된 노드, b는 거리\n",
    "    for a,b in graph[v]:\n",
    "        if not visited[a]:\n",
    "            res[a]=long+b\n",
    "            dfs(graph,a,visited,long+b,res)\n",
    "    \n",
    "res=[0]*(n+1)\n",
    "visited=[False]*(n+1)\n",
    "long=0\n",
    "dfs(graph,1,visited,long,res)\n",
    "# print(res)\n",
    "maximum=0\n",
    "for i in range(1,len(res)):\n",
    "    if maximum<res[i]:\n",
    "        maximum=res[i]\n",
    "        index=i\n",
    "# print(index)\n",
    "\n",
    "#두번째 dfs\n",
    "visited=[False]*(n+1)\n",
    "long=0\n",
    "dfs(graph,index,visited,long,res)\n",
    "print(max(res))"
   ]
  },
  {
   "cell_type": "code",
   "execution_count": null,
   "metadata": {},
   "outputs": [],
   "source": []
  },
  {
   "cell_type": "code",
   "execution_count": null,
   "metadata": {},
   "outputs": [],
   "source": []
  }
 ],
 "metadata": {
  "kernelspec": {
   "display_name": "Python 3",
   "language": "python",
   "name": "python3"
  },
  "language_info": {
   "codemirror_mode": {
    "name": "ipython",
    "version": 3
   },
   "file_extension": ".py",
   "mimetype": "text/x-python",
   "name": "python",
   "nbconvert_exporter": "python",
   "pygments_lexer": "ipython3",
   "version": "3.7.6"
  }
 },
 "nbformat": 4,
 "nbformat_minor": 4
}
