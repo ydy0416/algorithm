{
 "cells": [
  {
   "cell_type": "code",
   "execution_count": 1,
   "metadata": {
    "scrolled": true
   },
   "outputs": [
    {
     "name": "stdout",
     "output_type": "stream",
     "text": [
      "8 8\n",
      "1 2 3 4 5 6 7 8\n",
      "40320\n"
     ]
    }
   ],
   "source": [
    "def dfs(tmp,cnt,visited):\n",
    "    if cnt==m:\n",
    "        ans.add(tmp)\n",
    "        return\n",
    "    \n",
    "    for i in range(n):\n",
    "        if i in visited: continue\n",
    "        visited.append(i)\n",
    "        dfs(tmp+(data[i],),cnt+1,visited)\n",
    "        visited.pop()\n",
    "        \n",
    "n,m=map(int,input().split())\n",
    "data=list(map(int,input().split()))\n",
    "data.sort()\n",
    "ans=set()\n",
    "visited=[]\n",
    "for i in range(len(data)):\n",
    "    tmp=(data[i],)\n",
    "    visited=[i]\n",
    "    dfs(tmp,1,visited)\n",
    "\n",
    "print(len(ans))\n",
    "for i in sorted(ans):\n",
    "    for j in i:\n",
    "        print(j, end=' ')\n",
    "    print()\n"
   ]
  },
  {
   "cell_type": "code",
   "execution_count": null,
   "metadata": {},
   "outputs": [],
   "source": [
    "def dfs(current, visited):\n",
    "    print('current:', current)\n",
    "    if len(current)==m: ans.add(current)\n",
    "    else:\n",
    "        for i in range(n):\n",
    "            if i in visited: continue\n",
    "            visited.append(i)\n",
    "            dfs(current + (data[i],), visited)\n",
    "            visited.pop()\n",
    "\n",
    "n,m=map(int,input().split())\n",
    "data=tuple(map(int,input().split()))\n",
    "ans=set()\n",
    "for i in range(n):\n",
    "    dfs((data[i], ), [i])\n",
    "    \n",
    "for i in sorted(ans):\n",
    "    for j in i: print(j, end=' ')\n",
    "    print()\n"
   ]
  }
 ],
 "metadata": {
  "kernelspec": {
   "display_name": "Python 3",
   "language": "python",
   "name": "python3"
  },
  "language_info": {
   "codemirror_mode": {
    "name": "ipython",
    "version": 3
   },
   "file_extension": ".py",
   "mimetype": "text/x-python",
   "name": "python",
   "nbconvert_exporter": "python",
   "pygments_lexer": "ipython3",
   "version": "3.7.6"
  }
 },
 "nbformat": 4,
 "nbformat_minor": 4
}
