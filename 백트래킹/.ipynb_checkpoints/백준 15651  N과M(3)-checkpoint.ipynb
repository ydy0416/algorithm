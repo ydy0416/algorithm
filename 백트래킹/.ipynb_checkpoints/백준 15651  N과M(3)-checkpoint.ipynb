{
 "cells": [
  {
   "cell_type": "code",
   "execution_count": 9,
   "metadata": {},
   "outputs": [
    {
     "name": "stdout",
     "output_type": "stream",
     "text": [
      "3 3\n",
      "1 1 1\n",
      "1 1 2\n",
      "1 1 3\n",
      "1 2 1\n",
      "1 2 2\n",
      "1 2 3\n",
      "1 3 1\n",
      "1 3 2\n",
      "1 3 3\n",
      "2 1 1\n",
      "2 1 2\n",
      "2 1 3\n",
      "2 2 1\n",
      "2 2 2\n",
      "2 2 3\n",
      "2 3 1\n",
      "2 3 2\n",
      "2 3 3\n",
      "3 1 1\n",
      "3 1 2\n",
      "3 1 3\n",
      "3 2 1\n",
      "3 2 2\n",
      "3 2 3\n",
      "3 3 1\n",
      "3 3 2\n",
      "3 3 3\n"
     ]
    }
   ],
   "source": [
    "from itertools import product\n",
    "n,m=map(int,input().split())\n",
    "data=[i for i in range(1,n+1)]\n",
    "per=list(product(data,repeat=m))\n",
    "for i in per:\n",
    "    print(*i)"
   ]
  },
  {
   "cell_type": "code",
   "execution_count": 2,
   "metadata": {},
   "outputs": [
    {
     "name": "stdout",
     "output_type": "stream",
     "text": [
      "3 3\n",
      "1 1 1 \n",
      "1 1 2 \n",
      "1 1 3 \n",
      "1 2 1 \n",
      "1 2 2 \n",
      "1 2 3 \n",
      "1 3 1 \n",
      "1 3 2 \n",
      "1 3 3 \n",
      "2 1 1 \n",
      "2 1 2 \n",
      "2 1 3 \n",
      "2 2 1 \n",
      "2 2 2 \n",
      "2 2 3 \n",
      "2 3 1 \n",
      "2 3 2 \n",
      "2 3 3 \n",
      "3 1 1 \n",
      "3 1 2 \n",
      "3 1 3 \n",
      "3 2 1 \n",
      "3 2 2 \n",
      "3 2 3 \n",
      "3 3 1 \n",
      "3 3 2 \n",
      "3 3 3 \n"
     ]
    }
   ],
   "source": [
    "#백트래킹\n",
    "def dfs(cnt):\n",
    "    if cnt==m:\n",
    "        for i in range(m):\n",
    "            print(choose[i], end=' ')\n",
    "        print()\n",
    "        return\n",
    "    \n",
    "    for i in range(1,n+1):\n",
    "        choose[cnt]=i\n",
    "        dfs(cnt+1)\n",
    "\n",
    "n,m=map(int,input().split())\n",
    "choose=[0 for _ in range(10)]\n",
    "visited=[0 for _ in range(10)]\n",
    "\n",
    "dfs(0)"
   ]
  }
 ],
 "metadata": {
  "kernelspec": {
   "display_name": "Python 3",
   "language": "python",
   "name": "python3"
  },
  "language_info": {
   "codemirror_mode": {
    "name": "ipython",
    "version": 3
   },
   "file_extension": ".py",
   "mimetype": "text/x-python",
   "name": "python",
   "nbconvert_exporter": "python",
   "pygments_lexer": "ipython3",
   "version": "3.7.6"
  }
 },
 "nbformat": 4,
 "nbformat_minor": 4
}
