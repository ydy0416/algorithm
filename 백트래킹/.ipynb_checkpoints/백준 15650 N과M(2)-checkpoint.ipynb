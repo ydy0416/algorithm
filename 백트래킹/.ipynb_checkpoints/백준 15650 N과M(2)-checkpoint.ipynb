{
 "cells": [
  {
   "cell_type": "code",
   "execution_count": 3,
   "metadata": {
    "scrolled": true
   },
   "outputs": [
    {
     "name": "stdout",
     "output_type": "stream",
     "text": [
      "4 2\n",
      "1 2\n",
      "1 3\n",
      "1 4\n",
      "2 3\n",
      "2 4\n",
      "3 4\n"
     ]
    }
   ],
   "source": [
    "from itertools import combinations\n",
    "n,m=map(int,input().split())\n",
    "data=[i for i in range(1,n+1)]\n",
    "comb=list(combinations(data,m))\n",
    "for i in comb:\n",
    "    print(*i)"
   ]
  },
  {
   "cell_type": "code",
   "execution_count": 11,
   "metadata": {},
   "outputs": [
    {
     "name": "stdout",
     "output_type": "stream",
     "text": [
      "3 1\n",
      "1 \n",
      "2 \n",
      "3 \n"
     ]
    }
   ],
   "source": [
    "#백트래킹\n",
    "n,m=map(int,input().split())\n",
    "choose=[0 for _ in range(10)]\n",
    "visited=[0 for _ in range(10)]\n",
    "def dfs(start,cnt):\n",
    "    if cnt==m:\n",
    "        for i in range(m):\n",
    "            print(choose[i], end=' ')\n",
    "        print()\n",
    "            \n",
    "    for i in range(start,n+1):\n",
    "        if visited[i]:\n",
    "            continue\n",
    "        visited[i]=1\n",
    "        choose[cnt]=i\n",
    "        dfs(i+1,cnt+1)\n",
    "        visited[i]=0\n",
    "\n",
    "dfs(1,0)"
   ]
  }
 ],
 "metadata": {
  "kernelspec": {
   "display_name": "Python 3",
   "language": "python",
   "name": "python3"
  },
  "language_info": {
   "codemirror_mode": {
    "name": "ipython",
    "version": 3
   },
   "file_extension": ".py",
   "mimetype": "text/x-python",
   "name": "python",
   "nbconvert_exporter": "python",
   "pygments_lexer": "ipython3",
   "version": "3.7.6"
  }
 },
 "nbformat": 4,
 "nbformat_minor": 4
}
