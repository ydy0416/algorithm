{
 "cells": [
  {
   "cell_type": "code",
   "execution_count": 7,
   "metadata": {
    "scrolled": false
   },
   "outputs": [
    {
     "name": "stdout",
     "output_type": "stream",
     "text": [
      "3 1\n",
      "4 4 2\n",
      "2 \n",
      "4 \n"
     ]
    }
   ],
   "source": [
    "import sys\n",
    "sys.setrecursionlimit(10 ** 6)\n",
    "def dfs(tmp,cnt,visited):\n",
    "    if m==1:\n",
    "        if tmp not in ans:\n",
    "            ans.append(tmp)\n",
    "        return\n",
    "    elif cnt==m:\n",
    "        t=tmp[:]\n",
    "        if t not in ans:\n",
    "            ans.append(t)\n",
    "        return\n",
    "    \n",
    "    for i in range(len(data)):\n",
    "        if i in visited: continue\n",
    "        tmp.append(data[i])\n",
    "        visited.append(i)\n",
    "        dfs(tmp,cnt+1,visited)\n",
    "        tmp.pop()\n",
    "        visited.pop()\n",
    "        \n",
    "n,m=map(int,input().split())\n",
    "data=list(map(int,input().split()))\n",
    "data.sort()\n",
    "ans=[]\n",
    "visited=[]\n",
    "for i in range(len(data)):\n",
    "    tmp=[]\n",
    "    tmp.append(data[i])\n",
    "    visited=[i]\n",
    "    dfs(tmp,1,visited)\n",
    "\n",
    "for i in ans:\n",
    "    for j in i:\n",
    "        print(j, end=' ')\n",
    "    print()\n"
   ]
  }
 ],
 "metadata": {
  "kernelspec": {
   "display_name": "Python 3",
   "language": "python",
   "name": "python3"
  },
  "language_info": {
   "codemirror_mode": {
    "name": "ipython",
    "version": 3
   },
   "file_extension": ".py",
   "mimetype": "text/x-python",
   "name": "python",
   "nbconvert_exporter": "python",
   "pygments_lexer": "ipython3",
   "version": "3.7.6"
  }
 },
 "nbformat": 4,
 "nbformat_minor": 4
}
