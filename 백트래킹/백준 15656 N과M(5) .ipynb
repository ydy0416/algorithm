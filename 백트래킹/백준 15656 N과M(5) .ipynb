{
 "cells": [
  {
   "cell_type": "code",
   "execution_count": 9,
   "metadata": {},
   "outputs": [
    {
     "name": "stdout",
     "output_type": "stream",
     "text": [
      "4 4\n",
      "1231 1232 1233 1234\n",
      "1231 1232 1233 1234\n",
      "1231 1232 1234 1233\n",
      "1231 1233 1232 1234\n",
      "1231 1233 1234 1232\n",
      "1231 1234 1232 1233\n",
      "1231 1234 1233 1232\n",
      "1232 1231 1233 1234\n",
      "1232 1231 1234 1233\n",
      "1232 1233 1231 1234\n",
      "1232 1233 1234 1231\n",
      "1232 1234 1231 1233\n",
      "1232 1234 1233 1231\n",
      "1233 1231 1232 1234\n",
      "1233 1231 1234 1232\n",
      "1233 1232 1231 1234\n",
      "1233 1232 1234 1231\n",
      "1233 1234 1231 1232\n",
      "1233 1234 1232 1231\n",
      "1234 1231 1232 1233\n",
      "1234 1231 1233 1232\n",
      "1234 1232 1231 1233\n",
      "1234 1232 1233 1231\n",
      "1234 1233 1231 1232\n",
      "1234 1233 1232 1231\n"
     ]
    }
   ],
   "source": [
    "def dfs(cnt):\n",
    "    if cnt==m:\n",
    "        print(' '.join(map(str,ans)))\n",
    "    for i in data:\n",
    "        if visited[i]:\n",
    "            continue\n",
    "        visited[i]=1\n",
    "        ans.append(i)\n",
    "        dfs(cnt+1)\n",
    "        \n",
    "        ans.pop()\n",
    "        visited[i]=0\n",
    "        \n",
    "n,m=map(int,input().split())\n",
    "data=list(map(int,input().split()))\n",
    "data.sort()\n",
    "visited=[0 for i in range(10000)]\n",
    "\n",
    "ans=[]\n",
    "dfs(0)"
   ]
  }
 ],
 "metadata": {
  "kernelspec": {
   "display_name": "Python 3",
   "language": "python",
   "name": "python3"
  },
  "language_info": {
   "codemirror_mode": {
    "name": "ipython",
    "version": 3
   },
   "file_extension": ".py",
   "mimetype": "text/x-python",
   "name": "python",
   "nbconvert_exporter": "python",
   "pygments_lexer": "ipython3",
   "version": "3.7.6"
  }
 },
 "nbformat": 4,
 "nbformat_minor": 4
}
