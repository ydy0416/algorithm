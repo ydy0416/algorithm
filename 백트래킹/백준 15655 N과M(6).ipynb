{
 "cells": [
  {
   "cell_type": "code",
   "execution_count": 9,
   "metadata": {},
   "outputs": [
    {
     "name": "stdout",
     "output_type": "stream",
     "text": [
      "4 4\n",
      "1231 1232 1233 1234\n",
      "1231 1232 1233 1234\n"
     ]
    }
   ],
   "source": [
    "def dfs(start,cnt):\n",
    "    if cnt==m: \n",
    "        print(' '.join(map(str, ans)))\n",
    "    \n",
    "    for i in range(start,n):\n",
    "        num=data[i]\n",
    "        if visited[num]==1: continue\n",
    "        visited[num]=1\n",
    "        ans.append(num)\n",
    "        dfs(i+1,cnt+1)\n",
    "        \n",
    "        ans.pop()\n",
    "        visited[num]=0\n",
    "n,m=map(int,input().split())\n",
    "data=list(map(int,input().split()))\n",
    "data.sort()\n",
    "visited=[0 for i in range(10000)]\n",
    "ans=[]\n",
    "dfs(0,0)"
   ]
  }
 ],
 "metadata": {
  "kernelspec": {
   "display_name": "Python 3",
   "language": "python",
   "name": "python3"
  },
  "language_info": {
   "codemirror_mode": {
    "name": "ipython",
    "version": 3
   },
   "file_extension": ".py",
   "mimetype": "text/x-python",
   "name": "python",
   "nbconvert_exporter": "python",
   "pygments_lexer": "ipython3",
   "version": "3.7.6"
  }
 },
 "nbformat": 4,
 "nbformat_minor": 4
}
