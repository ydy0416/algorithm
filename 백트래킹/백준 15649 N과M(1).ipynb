{
 "cells": [
  {
   "cell_type": "code",
   "execution_count": 34,
   "metadata": {
    "scrolled": false
   },
   "outputs": [
    {
     "name": "stdout",
     "output_type": "stream",
     "text": [
      "4 4\n",
      "1 2 3 4\n",
      "1 2 4 3\n",
      "1 3 2 4\n",
      "1 3 4 2\n",
      "1 4 2 3\n",
      "1 4 3 2\n",
      "2 1 3 4\n",
      "2 1 4 3\n",
      "2 3 1 4\n",
      "2 3 4 1\n",
      "2 4 1 3\n",
      "2 4 3 1\n",
      "3 1 2 4\n",
      "3 1 4 2\n",
      "3 2 1 4\n",
      "3 2 4 1\n",
      "3 4 1 2\n",
      "3 4 2 1\n",
      "4 1 2 3\n",
      "4 1 3 2\n",
      "4 2 1 3\n",
      "4 2 3 1\n",
      "4 3 1 2\n",
      "4 3 2 1\n"
     ]
    }
   ],
   "source": [
    "from itertools import permutations\n",
    "n,m=map(int,input().split())\n",
    "data=[i for i in range(1,n+1)]\n",
    "comb=list(permutations(data,m))\n",
    "for i in comb:\n",
    "    print(*i)\n"
   ]
  },
  {
   "cell_type": "code",
   "execution_count": 31,
   "metadata": {
    "scrolled": true
   },
   "outputs": [
    {
     "name": "stdout",
     "output_type": "stream",
     "text": [
      "4 4\n",
      "1 2 3 4 \n",
      "1 2 4 3 \n",
      "1 3 2 4 \n",
      "1 3 4 2 \n",
      "1 4 2 3 \n",
      "1 4 3 2 \n",
      "2 1 3 4 \n",
      "2 1 4 3 \n",
      "2 3 1 4 \n",
      "2 3 4 1 \n",
      "2 4 1 3 \n",
      "2 4 3 1 \n",
      "3 1 2 4 \n",
      "3 1 4 2 \n",
      "3 2 1 4 \n",
      "3 2 4 1 \n",
      "3 4 1 2 \n",
      "3 4 2 1 \n",
      "4 1 2 3 \n",
      "4 1 3 2 \n",
      "4 2 1 3 \n",
      "4 2 3 1 \n",
      "4 3 1 2 \n",
      "4 3 2 1 \n"
     ]
    }
   ],
   "source": [
    "#백트래킹\n",
    "n,m=map(int,input().split())\n",
    "choose=[0 for i in range(10)]\n",
    "used=[0 for i in range(10)]\n",
    "def dfs(cnt):\n",
    "    if cnt==m:\n",
    "        for i in range(m):\n",
    "            print(choose[i], end=' ')\n",
    "        print()\n",
    "    for i in range(1,n+1):\n",
    "        if used[i]:\n",
    "            continue\n",
    "        used[i]=1\n",
    "        choose[cnt]=i\n",
    "        dfs(cnt+1)\n",
    "        used[i]=0\n",
    "\n",
    "dfs(0)"
   ]
  }
 ],
 "metadata": {
  "kernelspec": {
   "display_name": "Python 3",
   "language": "python",
   "name": "python3"
  },
  "language_info": {
   "codemirror_mode": {
    "name": "ipython",
    "version": 3
   },
   "file_extension": ".py",
   "mimetype": "text/x-python",
   "name": "python",
   "nbconvert_exporter": "python",
   "pygments_lexer": "ipython3",
   "version": "3.7.6"
  }
 },
 "nbformat": 4,
 "nbformat_minor": 4
}
