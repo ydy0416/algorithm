{
 "cells": [
  {
   "cell_type": "code",
   "execution_count": 3,
   "metadata": {},
   "outputs": [
    {
     "name": "stdout",
     "output_type": "stream",
     "text": [
      "3 3\n",
      "1231 1232 1233\n",
      "1231 1231 1231\n",
      "1231 1231 1232\n",
      "1231 1231 1233\n",
      "1231 1232 1231\n",
      "1231 1232 1232\n",
      "1231 1232 1233\n",
      "1231 1233 1231\n",
      "1231 1233 1232\n",
      "1231 1233 1233\n",
      "1232 1231 1231\n",
      "1232 1231 1232\n",
      "1232 1231 1233\n",
      "1232 1232 1231\n",
      "1232 1232 1232\n",
      "1232 1232 1233\n",
      "1232 1233 1231\n",
      "1232 1233 1232\n",
      "1232 1233 1233\n",
      "1233 1231 1231\n",
      "1233 1231 1232\n",
      "1233 1231 1233\n",
      "1233 1232 1231\n",
      "1233 1232 1232\n",
      "1233 1232 1233\n",
      "1233 1233 1231\n",
      "1233 1233 1232\n",
      "1233 1233 1233\n"
     ]
    }
   ],
   "source": [
    "def dfs(cnt):\n",
    "    if cnt==m:\n",
    "        print(' '.join(map(str,ans)))\n",
    "        return\n",
    "    \n",
    "    for i in range(n):\n",
    "        num=data[i]\n",
    "        ans.append(num)\n",
    "        dfs(cnt+1)\n",
    "        ans.pop()\n",
    "        \n",
    "n,m=map(int,input().split())\n",
    "data=list(map(int,input().split()))\n",
    "data.sort()\n",
    "\n",
    "ans=[]\n",
    "dfs(0)"
   ]
  }
 ],
 "metadata": {
  "kernelspec": {
   "display_name": "Python 3",
   "language": "python",
   "name": "python3"
  },
  "language_info": {
   "codemirror_mode": {
    "name": "ipython",
    "version": 3
   },
   "file_extension": ".py",
   "mimetype": "text/x-python",
   "name": "python",
   "nbconvert_exporter": "python",
   "pygments_lexer": "ipython3",
   "version": "3.7.6"
  }
 },
 "nbformat": 4,
 "nbformat_minor": 4
}
