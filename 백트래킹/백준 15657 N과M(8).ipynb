{
 "cells": [
  {
   "cell_type": "code",
   "execution_count": 9,
   "metadata": {},
   "outputs": [
    {
     "name": "stdout",
     "output_type": "stream",
     "text": [
      "4 2\n",
      "9 8 7 1\n",
      "1 1\n",
      "1 7\n",
      "1 8\n",
      "1 9\n",
      "7 7\n",
      "7 8\n",
      "7 9\n",
      "8 8\n",
      "8 9\n",
      "9 9\n"
     ]
    }
   ],
   "source": [
    "def dfs(start,cnt):\n",
    "    if cnt==m:\n",
    "        print(' '.join(map(str, ans)))\n",
    "        return\n",
    "    for i in range(start,n):\n",
    "        num=data[i]\n",
    "        ans.append(num)\n",
    "        dfs(i,cnt+1)\n",
    "        ans.pop()\n",
    "        \n",
    "\n",
    "n,m=map(int,input().split())\n",
    "data=list(map(int,input().split()))\n",
    "data.sort()\n",
    "\n",
    "ans=[]\n",
    "dfs(0,0)"
   ]
  }
 ],
 "metadata": {
  "kernelspec": {
   "display_name": "Python 3",
   "language": "python",
   "name": "python3"
  },
  "language_info": {
   "codemirror_mode": {
    "name": "ipython",
    "version": 3
   },
   "file_extension": ".py",
   "mimetype": "text/x-python",
   "name": "python",
   "nbconvert_exporter": "python",
   "pygments_lexer": "ipython3",
   "version": "3.7.6"
  }
 },
 "nbformat": 4,
 "nbformat_minor": 4
}
