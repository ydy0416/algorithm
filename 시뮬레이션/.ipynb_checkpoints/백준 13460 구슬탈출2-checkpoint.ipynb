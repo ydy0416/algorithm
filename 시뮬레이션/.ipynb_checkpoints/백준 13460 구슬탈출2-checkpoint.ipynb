{
 "cells": [
  {
   "cell_type": "code",
   "execution_count": 24,
   "metadata": {
    "scrolled": true
   },
   "outputs": [
    {
     "ename": "IndentationError",
     "evalue": "expected an indented block (<ipython-input-24-1fde4327fb9f>, line 46)",
     "output_type": "error",
     "traceback": [
      "\u001b[1;36m  File \u001b[1;32m\"<ipython-input-24-1fde4327fb9f>\"\u001b[1;36m, line \u001b[1;32m46\u001b[0m\n\u001b[1;33m    straight(graph,x,y,1)\u001b[0m\n\u001b[1;37m           ^\u001b[0m\n\u001b[1;31mIndentationError\u001b[0m\u001b[1;31m:\u001b[0m expected an indented block\n"
     ]
    }
   ],
   "source": [
    "from collections import deque\n",
    "\n",
    "#직진함수 구현\n",
    "def straight(graph,x,y,i):\n",
    "    nx=x+dx[i]\n",
    "    ny=x+dy[i]\n",
    "    if graph[nx][ny]=='.':\n",
    "        graph[nx][ny]=graph[x][y]\n",
    "        straight(graph,nx,ny,i)\n",
    "        \n",
    "n,m=map(int,input().split())\n",
    "graph=[]\n",
    "red=[]\n",
    "blue=[]\n",
    "\n",
    "graph=[['#', '#', '#', '#', '#'],\n",
    "       ['#', '.', '.', 'B', '#'],\n",
    "       ['#', '.', '#', '.', '#'],\n",
    "       ['#', 'R', 'O', '.', '#'],\n",
    "       ['#', '#', '#', '#', '#']]\n",
    "#그래프 입력받고, 구슬, 구멍인덱스 받기\n",
    "for i in range(n):\n",
    "#     graph.append(list(map(str,input())))\n",
    "    for j in range(m):\n",
    "        if graph[i][j]=='R':\n",
    "            graph[i][j]=1\n",
    "            red=(i,j)\n",
    "        elif graph[i][j]=='B':\n",
    "            blue=(i,j)\n",
    "        elif graph[i][j]=='O':\n",
    "            hole=(i,j)\n",
    "            \n",
    "#동서남북\n",
    "dx=[0,0,1,-1]\n",
    "dy=[1,-1,0,0]\n",
    "#큐생성&빨강,파랑추가\n",
    "red_queue=deque()\n",
    "red_queue.append(red)\n",
    "blue_queue=deque()\n",
    "blue_queue.append(blue)\n",
    "while red_queue:\n",
    "    #큐팝\n",
    "    rx,ry=red_queue.popleft()\n",
    "    bx,by=blue_queue.popleft()\n",
    "    \n",
    "    #동서남북 선택\n",
    "    for i in range(4):\n",
    "    straight(graph,x,y,1)\n",
    "print(graph)\n",
    "\n",
    "\n",
    "    "
   ]
  },
  {
   "cell_type": "code",
   "execution_count": 19,
   "metadata": {},
   "outputs": [
    {
     "data": {
      "text/plain": [
       "[['#', '#', '#', '#', '#'],\n",
       " ['#', '.', '.', 'B', '#'],\n",
       " ['#', '.', '#', '.', '#'],\n",
       " ['#', 1, 'O', '.', '#'],\n",
       " ['#', '#', '#', '#', '#']]"
      ]
     },
     "execution_count": 19,
     "metadata": {},
     "output_type": "execute_result"
    }
   ],
   "source": [
    "graph"
   ]
  }
 ],
 "metadata": {
  "kernelspec": {
   "display_name": "Python 3",
   "language": "python",
   "name": "python3"
  },
  "language_info": {
   "codemirror_mode": {
    "name": "ipython",
    "version": 3
   },
   "file_extension": ".py",
   "mimetype": "text/x-python",
   "name": "python",
   "nbconvert_exporter": "python",
   "pygments_lexer": "ipython3",
   "version": "3.7.6"
  }
 },
 "nbformat": 4,
 "nbformat_minor": 4
}
