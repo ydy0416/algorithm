{
 "cells": [
  {
   "cell_type": "code",
   "execution_count": 21,
   "metadata": {},
   "outputs": [
    {
     "name": "stdout",
     "output_type": "stream",
     "text": [
      "3\n",
      "21 junkyu\n",
      "21 dohyun\n",
      "20 sunyoung\n",
      "20 sunyoung\n",
      "21 junkyu\n",
      "21 dohyun\n"
     ]
    }
   ],
   "source": [
    "n=int(input())\n",
    "data=[]\n",
    "for i in range(n):\n",
    "    data.append(list(map(str,input().split())))\n",
    "    data[i].append(i)\n",
    "data=sorted(data,key=lambda x:(int(x[0]), x[2]))\n",
    "for x,y,z in data:\n",
    "    print(x,y)"
   ]
  }
 ],
 "metadata": {
  "kernelspec": {
   "display_name": "Python 3",
   "language": "python",
   "name": "python3"
  },
  "language_info": {
   "codemirror_mode": {
    "name": "ipython",
    "version": 3
   },
   "file_extension": ".py",
   "mimetype": "text/x-python",
   "name": "python",
   "nbconvert_exporter": "python",
   "pygments_lexer": "ipython3",
   "version": "3.7.6"
  }
 },
 "nbformat": 4,
 "nbformat_minor": 4
}
