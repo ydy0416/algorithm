{
 "cells": [
  {
   "cell_type": "code",
   "execution_count": 72,
   "metadata": {
    "scrolled": false
   },
   "outputs": [
    {
     "name": "stdout",
     "output_type": "stream",
     "text": [
      "5\n",
      "-1\n",
      "-2\n",
      "-3\n",
      "-1\n",
      "-2\n",
      "-2\n",
      "-2\n",
      "-1\n",
      "2\n"
     ]
    }
   ],
   "source": [
    "#시간초과\n",
    "n=int(input())\n",
    "data=[]\n",
    "for i in range(n):\n",
    "    data.append(int(input()))\n",
    "data_sum=sum(data)\n",
    "data.sort()\n",
    "#평균\n",
    "print('%.f'%(data_sum/n))\n",
    "#중앙값\n",
    "print('%.f'%data[n//2])\n",
    "\n",
    "#중복제거\n",
    "my=list(set(data))\n",
    "\n",
    "#범위값\n",
    "maxmin=(max(data)-min(data))\n",
    "\n",
    "#중복 제거한 리스트를 mode리스트에 대입\n",
    "mode=[]\n",
    "for i in my:\n",
    "    mode.append([i,0])\n",
    "for i in range(len(data)):\n",
    "    a=data.pop()\n",
    "    for j in range(len(mode)):\n",
    "        if mode[j][0]==a:\n",
    "            mode[j][1]+=1\n",
    "\n",
    "mode=sorted(mode, key=lambda x:(-x[1],x[0]))\n",
    "#최빈값\n",
    "if len(mode)==1:\n",
    "    print(mode[0][0])\n",
    "else:\n",
    "    if mode[0][1]==mode[1][1]:\n",
    "        print(mode[1][0])\n",
    "    else:\n",
    "        print(mode[0][0])\n",
    "        \n",
    "#범위값\n",
    "print(maxmin)"
   ]
  },
  {
   "cell_type": "code",
   "execution_count": 103,
   "metadata": {},
   "outputs": [
    {
     "name": "stdout",
     "output_type": "stream",
     "text": [
      "5\n",
      "-1\n",
      "-2\n",
      "-3\n",
      "-1\n",
      "-2\n",
      "-2\n",
      "-2\n",
      "-1\n",
      "2\n"
     ]
    }
   ],
   "source": [
    "from collections import Counter\n",
    "n=int(input())\n",
    "data=[]\n",
    "for i in range(n):\n",
    "    data.append(int(input()))\n",
    "data_sum=sum(data)\n",
    "data.sort()\n",
    "#평균\n",
    "print('%.f'%(data_sum/n))\n",
    "#중앙값\n",
    "print('%.f'%data[n//2])\n",
    "\n",
    "#중복제거\n",
    "my=list(set(data))\n",
    "\n",
    "#최빈값\n",
    "mode=Counter(data).most_common()\n",
    "# mode=sorted(mode, key=lambda x:(-x[1],x[0]))\n",
    "\n",
    "if len(mode)==1:\n",
    "    print(mode[0][0])\n",
    "else:\n",
    "    if mode[0][1]==mode[1][1]:\n",
    "        print(mode[1][0])\n",
    "    else:\n",
    "        print(mode[0][0])\n",
    "        \n",
    "#범위값\n",
    "print(max(data)-min(data))"
   ]
  }
 ],
 "metadata": {
  "kernelspec": {
   "display_name": "Python 3",
   "language": "python",
   "name": "python3"
  },
  "language_info": {
   "codemirror_mode": {
    "name": "ipython",
    "version": 3
   },
   "file_extension": ".py",
   "mimetype": "text/x-python",
   "name": "python",
   "nbconvert_exporter": "python",
   "pygments_lexer": "ipython3",
   "version": "3.7.6"
  }
 },
 "nbformat": 4,
 "nbformat_minor": 4
}
