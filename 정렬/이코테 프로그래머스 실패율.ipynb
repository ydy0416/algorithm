{
 "cells": [
  {
   "cell_type": "code",
   "execution_count": 2,
   "metadata": {},
   "outputs": [
    {
     "name": "stdout",
     "output_type": "stream",
     "text": [
      "5\n"
     ]
    },
    {
     "data": {
      "text/plain": [
       "[1, 2, 2, 2, 3, 3, 4, 6]"
      ]
     },
     "execution_count": 2,
     "metadata": {},
     "output_type": "execute_result"
    }
   ],
   "source": [
    "def solution(N, stages):\n",
    "    answer = []\n",
    "    return answer\n",
    "N=int(input())\n",
    "stages=[2,1,2,6,2,4,3,3]\n",
    "# stages=list(map(int,input().split()))\n",
    "#실패율 : 스테이지에 도달했으나 아직 클리어하지 못한 플레이어수/ 스테이지에 도달한 플레이어의 수\n",
    "stages.sort()\n",
    "stages"
   ]
  },
  {
   "cell_type": "code",
   "execution_count": 3,
   "metadata": {},
   "outputs": [
    {
     "data": {
      "text/plain": [
       "3"
      ]
     },
     "execution_count": 3,
     "metadata": {},
     "output_type": "execute_result"
    }
   ],
   "source": [
    "for i in stages:\n",
    "    \n",
    "    count=0\n",
    "    for j in range(len(stages)):\n",
    "        if 2 == stages[j]:\n",
    "            count+=1\n",
    "count"
   ]
  },
  {
   "cell_type": "code",
   "execution_count": 5,
   "metadata": {},
   "outputs": [
    {
     "data": {
      "text/plain": [
       "[1, 2, 2, 2, 3, 3, 4, 6]"
      ]
     },
     "execution_count": 5,
     "metadata": {},
     "output_type": "execute_result"
    }
   ],
   "source": [
    "human=len(stages)\n",
    "now=stages[0]\n",
    "ans=[]\n",
    "for i in range(len(stages)):\n",
    "    if i==now:\n",
    "        #실패율\n",
    "        \n",
    "        ans.append()"
   ]
  },
  {
   "cell_type": "code",
   "execution_count": 46,
   "metadata": {
    "scrolled": true
   },
   "outputs": [
    {
     "name": "stdout",
     "output_type": "stream",
     "text": [
      "human=8\n",
      "human=7\n",
      "human=4\n",
      "human=2\n",
      "human=1\n"
     ]
    }
   ],
   "source": [
    "#0번째 데이터는 무시\n",
    "data=[0 for i in range(N+2)]\n",
    "human=len(stages)\n",
    "fail=[]\n",
    "for i in stages:\n",
    "    data[i]+=1\n",
    "for i in range(1,len(data)-1):\n",
    "    print('human=%d'%human)\n",
    "    fail.append((data[i]/human,i))\n",
    "    human-=data[i]\n",
    "    "
   ]
  },
  {
   "cell_type": "code",
   "execution_count": 43,
   "metadata": {},
   "outputs": [
    {
     "data": {
      "text/plain": [
       "[0, 1, 3, 2, 1, 0, 1]"
      ]
     },
     "execution_count": 43,
     "metadata": {},
     "output_type": "execute_result"
    }
   ],
   "source": [
    "data"
   ]
  },
  {
   "cell_type": "code",
   "execution_count": 53,
   "metadata": {},
   "outputs": [
    {
     "data": {
      "text/plain": [
       "[(0.5, 4), (0.5, 3), (0.42857142857142855, 2), (0.125, 1), (0.0, 5)]"
      ]
     },
     "execution_count": 53,
     "metadata": {},
     "output_type": "execute_result"
    }
   ],
   "source": [
    "fail.sort(fail, key=lambda x: -x[0], x[])\n",
    "fail"
   ]
  }
 ],
 "metadata": {
  "kernelspec": {
   "display_name": "Python 3",
   "language": "python",
   "name": "python3"
  },
  "language_info": {
   "codemirror_mode": {
    "name": "ipython",
    "version": 3
   },
   "file_extension": ".py",
   "mimetype": "text/x-python",
   "name": "python",
   "nbconvert_exporter": "python",
   "pygments_lexer": "ipython3",
   "version": "3.7.6"
  }
 },
 "nbformat": 4,
 "nbformat_minor": 4
}
