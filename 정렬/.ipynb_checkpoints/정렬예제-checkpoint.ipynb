{
 "cells": [
  {
   "cell_type": "code",
   "execution_count": 1,
   "metadata": {},
   "outputs": [
    {
     "name": "stdout",
     "output_type": "stream",
     "text": [
      "[0, 1, 2, 3, 4, 5, 6, 7, 8, 9]\n"
     ]
    }
   ],
   "source": [
    "#선택정렬\n",
    "array=[7,5,9,0,3,1,6,2,4,8]\n",
    "for i in range(len(array)):\n",
    "    min_index=i\n",
    "    for j in range(i+1,len(array)):\n",
    "        if array[min_index]>array[j]:\n",
    "            min_index=j\n",
    "    array[i],array[min_index]=array[min_index],array[i]\n",
    "\n",
    "print(array)"
   ]
  },
  {
   "cell_type": "code",
   "execution_count": 3,
   "metadata": {},
   "outputs": [
    {
     "name": "stdout",
     "output_type": "stream",
     "text": [
      "[0, 1, 2, 3, 4, 5, 6, 7, 8, 9]\n"
     ]
    }
   ],
   "source": [
    "#삽입정렬\n",
    "array=[7,5,9,0,3,1,6,2,4,8]\n",
    "for i in range(1,len(array)):\n",
    "    for j in range(i,0,-1): #인덱스i부터 1까지 감소하며 반복하는 문법\n",
    "        if array[j]<array[j-1]:\n",
    "            array[j],array[j-1]=array[j-1], array[j]\n",
    "        else: #자기보다 작은 데이터를 만나면 그 위치에서 멈춤\n",
    "            break\n",
    "print(array)"
   ]
  },
  {
   "cell_type": "code",
   "execution_count": 8,
   "metadata": {},
   "outputs": [
    {
     "name": "stdout",
     "output_type": "stream",
     "text": [
      "[7, 5, 9, 0, 3, 1, 6, 2, 4, 8] 0 9\n",
      "[7, 5, 4, 0, 3, 1, 6, 2, 9, 8] 0 7\n",
      "[2, 5, 4, 0, 3, 1, 6, 7, 9, 8] 0 6\n",
      "[2, 1, 4, 0, 3, 5, 6, 7, 9, 8] 0 4\n",
      "[2, 1, 0, 4, 3, 5, 6, 7, 9, 8] 0 2\n",
      "[0, 1, 2, 4, 3, 5, 6, 7, 9, 8] 0 1\n",
      "[0, 1, 2, 4, 3, 5, 6, 7, 9, 8] 0 -1\n",
      "[0, 1, 2, 4, 3, 5, 6, 7, 9, 8] 1 1\n",
      "[0, 1, 2, 4, 3, 5, 6, 7, 9, 8] 3 2\n",
      "[0, 1, 2, 4, 3, 5, 6, 7, 9, 8] 4 4\n",
      "[0, 1, 2, 4, 3, 5, 6, 7, 9, 8] 0 -1\n",
      "[0, 1, 2, 4, 3, 5, 6, 7, 9, 8] 1 4\n",
      "[0, 1, 2, 4, 3, 5, 6, 7, 9, 8] 1 0\n",
      "[0, 1, 2, 4, 3, 5, 6, 7, 9, 8] 2 4\n",
      "[0, 1, 2, 4, 3, 5, 6, 7, 9, 8] 2 1\n",
      "[0, 1, 2, 4, 3, 5, 6, 7, 9, 8] 3 4\n",
      "[0, 1, 2, 3, 4, 5, 6, 7, 9, 8] 3 3\n",
      "[0, 1, 2, 3, 4, 5, 6, 7, 9, 8] 5 4\n",
      "[0, 1, 2, 3, 4, 5, 6, 7, 9, 8] 6 6\n",
      "[0, 1, 2, 3, 4, 5, 6, 7, 9, 8] 0 -1\n",
      "[0, 1, 2, 3, 4, 5, 6, 7, 9, 8] 1 6\n",
      "[0, 1, 2, 3, 4, 5, 6, 7, 9, 8] 1 0\n",
      "[0, 1, 2, 3, 4, 5, 6, 7, 9, 8] 2 6\n",
      "[0, 1, 2, 3, 4, 5, 6, 7, 9, 8] 2 1\n",
      "[0, 1, 2, 3, 4, 5, 6, 7, 9, 8] 3 6\n",
      "[0, 1, 2, 3, 4, 5, 6, 7, 9, 8] 3 2\n",
      "[0, 1, 2, 3, 4, 5, 6, 7, 9, 8] 4 6\n",
      "[0, 1, 2, 3, 4, 5, 6, 7, 9, 8] 4 3\n",
      "[0, 1, 2, 3, 4, 5, 6, 7, 9, 8] 5 6\n",
      "[0, 1, 2, 3, 4, 5, 6, 7, 9, 8] 5 4\n",
      "[0, 1, 2, 3, 4, 5, 6, 7, 9, 8] 6 6\n",
      "[0, 1, 2, 3, 4, 5, 6, 7, 9, 8] 8 7\n",
      "[0, 1, 2, 3, 4, 5, 6, 7, 9, 8] 9 9\n",
      "[0, 1, 2, 3, 4, 5, 6, 7, 9, 8] 0 -1\n",
      "[0, 1, 2, 3, 4, 5, 6, 7, 9, 8] 1 9\n",
      "[0, 1, 2, 3, 4, 5, 6, 7, 9, 8] 1 0\n",
      "[0, 1, 2, 3, 4, 5, 6, 7, 9, 8] 2 9\n",
      "[0, 1, 2, 3, 4, 5, 6, 7, 9, 8] 2 1\n",
      "[0, 1, 2, 3, 4, 5, 6, 7, 9, 8] 3 9\n",
      "[0, 1, 2, 3, 4, 5, 6, 7, 9, 8] 3 2\n",
      "[0, 1, 2, 3, 4, 5, 6, 7, 9, 8] 4 9\n",
      "[0, 1, 2, 3, 4, 5, 6, 7, 9, 8] 4 3\n",
      "[0, 1, 2, 3, 4, 5, 6, 7, 9, 8] 5 9\n",
      "[0, 1, 2, 3, 4, 5, 6, 7, 9, 8] 5 4\n",
      "[0, 1, 2, 3, 4, 5, 6, 7, 9, 8] 6 9\n",
      "[0, 1, 2, 3, 4, 5, 6, 7, 9, 8] 6 5\n",
      "[0, 1, 2, 3, 4, 5, 6, 7, 9, 8] 7 9\n",
      "[0, 1, 2, 3, 4, 5, 6, 7, 9, 8] 7 6\n",
      "[0, 1, 2, 3, 4, 5, 6, 7, 9, 8] 8 9\n",
      "[0, 1, 2, 3, 4, 5, 6, 7, 8, 9] 8 8\n",
      "[0, 1, 2, 3, 4, 5, 6, 7, 8, 9] 10 9\n",
      "[0, 1, 2, 3, 4, 5, 6, 7, 8, 9]\n"
     ]
    }
   ],
   "source": [
    "#퀵 정렬 소스코드\n",
    "array=[7,5,9,0,3,1,6,2,4,8]\n",
    "def quick_sort(array,start,end):\n",
    "    print(array,start,end)\n",
    "    if start>=end: #원소가 1개인 경우 종료\n",
    "        return\n",
    "    pivot=start #피벗은 첫 번째 원소\n",
    "    left=start+1\n",
    "    right=end\n",
    "    while left<=right:\n",
    "        #피벗보다 큰 데이터를 찾을 때까지 반복\n",
    "        while left<= end and array[left]<= array[pivot]:\n",
    "            left+=1\n",
    "        #피벗보다 작은 데이터를 찾을 때까지 반복\n",
    "        while right>start and array[right]>=array[pivot]:\n",
    "            right-=1\n",
    "        if left >right: #엇갈렷다면 작은 데이터와 피벗을 교체\n",
    "            array[right], array[pivot]=array[pivot],array[right]\n",
    "        else : #엇갈리지 않았다면 작은 데이터와 큰 데이터를 교체\n",
    "            array[left], array[right]=array[right], array[left]\n",
    "        #분할 이후 왼쪽 부분과 오른쪽 부분에서 각각 정렬 수행\n",
    "        quick_sort(array, start, right-1)\n",
    "        quick_sort(array,right+1,end)\n",
    "quick_sort(array,0,len(array)-1)\n",
    "print(array)"
   ]
  },
  {
   "cell_type": "code",
   "execution_count": 14,
   "metadata": {
    "scrolled": true
   },
   "outputs": [
    {
     "name": "stdout",
     "output_type": "stream",
     "text": [
      "left_side=[5, 0, 3, 1, 6, 2, 4]\n",
      "right_side=[9, 8]\n",
      "left_side=[0, 3, 1, 2, 4]\n",
      "right_side=[6]\n",
      "left_side=[]\n",
      "right_side=[3, 1, 2, 4]\n",
      "left_side=[1, 2]\n",
      "right_side=[4]\n",
      "left_side=[]\n",
      "right_side=[2]\n",
      "quick_sort(left_side)+[pivot]+quick_sort(right_side)=[1, 2]\n",
      "quick_sort(left_side)+[pivot]+quick_sort(right_side)=[1, 2, 3, 4]\n",
      "left_side=[]\n",
      "right_side=[2]\n",
      "quick_sort(left_side)+[pivot]+quick_sort(right_side)=[1, 2]\n",
      "quick_sort(left_side)+[pivot]+quick_sort(right_side)=[0, 1, 2, 3, 4]\n",
      "left_side=[1, 2]\n",
      "right_side=[4]\n",
      "left_side=[]\n",
      "right_side=[2]\n",
      "quick_sort(left_side)+[pivot]+quick_sort(right_side)=[1, 2]\n",
      "quick_sort(left_side)+[pivot]+quick_sort(right_side)=[1, 2, 3, 4]\n",
      "left_side=[]\n",
      "right_side=[2]\n",
      "quick_sort(left_side)+[pivot]+quick_sort(right_side)=[1, 2]\n",
      "quick_sort(left_side)+[pivot]+quick_sort(right_side)=[0, 1, 2, 3, 4, 5, 6]\n",
      "left_side=[]\n",
      "right_side=[3, 1, 2, 4]\n",
      "left_side=[1, 2]\n",
      "right_side=[4]\n",
      "left_side=[]\n",
      "right_side=[2]\n",
      "quick_sort(left_side)+[pivot]+quick_sort(right_side)=[1, 2]\n",
      "quick_sort(left_side)+[pivot]+quick_sort(right_side)=[1, 2, 3, 4]\n",
      "left_side=[]\n",
      "right_side=[2]\n",
      "quick_sort(left_side)+[pivot]+quick_sort(right_side)=[1, 2]\n",
      "quick_sort(left_side)+[pivot]+quick_sort(right_side)=[0, 1, 2, 3, 4]\n",
      "left_side=[1, 2]\n",
      "right_side=[4]\n",
      "left_side=[]\n",
      "right_side=[2]\n",
      "quick_sort(left_side)+[pivot]+quick_sort(right_side)=[1, 2]\n",
      "quick_sort(left_side)+[pivot]+quick_sort(right_side)=[1, 2, 3, 4]\n",
      "left_side=[]\n",
      "right_side=[2]\n",
      "quick_sort(left_side)+[pivot]+quick_sort(right_side)=[1, 2]\n",
      "left_side=[8]\n",
      "right_side=[]\n",
      "quick_sort(left_side)+[pivot]+quick_sort(right_side)=[8, 9]\n",
      "quick_sort(left_side)+[pivot]+quick_sort(right_side)=[0, 1, 2, 3, 4, 5, 6, 7, 8, 9]\n",
      "left_side=[0, 3, 1, 2, 4]\n",
      "right_side=[6]\n",
      "left_side=[]\n",
      "right_side=[3, 1, 2, 4]\n",
      "left_side=[1, 2]\n",
      "right_side=[4]\n",
      "left_side=[]\n",
      "right_side=[2]\n",
      "quick_sort(left_side)+[pivot]+quick_sort(right_side)=[1, 2]\n",
      "quick_sort(left_side)+[pivot]+quick_sort(right_side)=[1, 2, 3, 4]\n",
      "left_side=[]\n",
      "right_side=[2]\n",
      "quick_sort(left_side)+[pivot]+quick_sort(right_side)=[1, 2]\n",
      "quick_sort(left_side)+[pivot]+quick_sort(right_side)=[0, 1, 2, 3, 4]\n",
      "left_side=[1, 2]\n",
      "right_side=[4]\n",
      "left_side=[]\n",
      "right_side=[2]\n",
      "quick_sort(left_side)+[pivot]+quick_sort(right_side)=[1, 2]\n",
      "quick_sort(left_side)+[pivot]+quick_sort(right_side)=[1, 2, 3, 4]\n",
      "left_side=[]\n",
      "right_side=[2]\n",
      "quick_sort(left_side)+[pivot]+quick_sort(right_side)=[1, 2]\n",
      "quick_sort(left_side)+[pivot]+quick_sort(right_side)=[0, 1, 2, 3, 4, 5, 6]\n",
      "left_side=[]\n",
      "right_side=[3, 1, 2, 4]\n",
      "left_side=[1, 2]\n",
      "right_side=[4]\n",
      "left_side=[]\n",
      "right_side=[2]\n",
      "quick_sort(left_side)+[pivot]+quick_sort(right_side)=[1, 2]\n",
      "quick_sort(left_side)+[pivot]+quick_sort(right_side)=[1, 2, 3, 4]\n",
      "left_side=[]\n",
      "right_side=[2]\n",
      "quick_sort(left_side)+[pivot]+quick_sort(right_side)=[1, 2]\n",
      "quick_sort(left_side)+[pivot]+quick_sort(right_side)=[0, 1, 2, 3, 4]\n",
      "left_side=[1, 2]\n",
      "right_side=[4]\n",
      "left_side=[]\n",
      "right_side=[2]\n",
      "quick_sort(left_side)+[pivot]+quick_sort(right_side)=[1, 2]\n",
      "quick_sort(left_side)+[pivot]+quick_sort(right_side)=[1, 2, 3, 4]\n",
      "left_side=[]\n",
      "right_side=[2]\n",
      "quick_sort(left_side)+[pivot]+quick_sort(right_side)=[1, 2]\n",
      "left_side=[8]\n",
      "right_side=[]\n",
      "quick_sort(left_side)+[pivot]+quick_sort(right_side)=[8, 9]\n",
      "[0, 1, 2, 3, 4, 5, 6, 7, 8, 9]\n"
     ]
    }
   ],
   "source": [
    "array=[7,5,9,0,3,1,6,2,4,8]\n",
    "def quick_sort(array):\n",
    "    #리스트가 하나 이하의 원소만을 담고 있다면 종료\n",
    "    if len(array)<=1:\n",
    "        return array\n",
    "    pivot=array[0] #피벗은 첫번째 원소\n",
    "    tail=array[1:] #피벗을 제외한 리스트\n",
    "    \n",
    "    left_side=[x for x in tail if x<=pivot] #분할된 왼쪽 부분\n",
    "    print('left_side=%s'%left_side)\n",
    "    right_side=[x for x in tail if x>pivot] #분할된 오른쪽 부분\n",
    "    print('right_side=%s'%right_side)\n",
    "    \n",
    "    #분할 이후 왼쪽부분과 오른쪽 부분에서 각각 정렬을 수행하고, 전체리스트를 반환\n",
    "    return quick_sort(left_side)+[pivot]+quick_sort(right_side)\n",
    "print(quick_sort(array))"
   ]
  },
  {
   "cell_type": "code",
   "execution_count": 19,
   "metadata": {
    "scrolled": true
   },
   "outputs": [
    {
     "name": "stdout",
     "output_type": "stream",
     "text": [
      "3\n",
      "15\n",
      "27\n",
      "12\n",
      "27 15 12 "
     ]
    }
   ],
   "source": [
    "n=int(input())\n",
    "frame=[]\n",
    "for i in range(n):\n",
    "    frame.append(int(input()))\n",
    "frame.sort(reverse=True)\n",
    "for i in frame:\n",
    "    print(i, end=' ')"
   ]
  },
  {
   "cell_type": "code",
   "execution_count": 47,
   "metadata": {},
   "outputs": [
    {
     "name": "stdout",
     "output_type": "stream",
     "text": [
      "2\n",
      "홍길동 99\n",
      "이순신 77\n",
      "이순신 홍길동 "
     ]
    }
   ],
   "source": [
    "n=int(input())\n",
    "frame=[]\n",
    "for i in range(n):\n",
    "    input_data=input().split()\n",
    "    frame.append((input_data[0], int(input_data[1])))\n",
    "frame=sorted(frame,key=lambda x:x[1])\n",
    "for i in range(len(frame)):\n",
    "    print(frame[i][0], end=' ')"
   ]
  },
  {
   "cell_type": "code",
   "execution_count": 59,
   "metadata": {
    "scrolled": true
   },
   "outputs": [
    {
     "name": "stdout",
     "output_type": "stream",
     "text": [
      "5 3\n",
      "[5, 4, 3, 2, 5]\n",
      "[5, 5, 6, 6, 1]\n",
      "[5, 5, 4, 3, 2]\n",
      "[1, 5, 5, 6, 6]\n",
      "[5, 5, 4, 3, 6]\n",
      "[1, 5, 5, 6, 2]\n",
      "[6, 5, 5, 4, 3]\n",
      "[1, 2, 5, 5, 6]\n",
      "[6, 5, 5, 4, 6]\n",
      "[1, 2, 5, 5, 3]\n",
      "[6, 6, 5, 5, 4]\n",
      "[1, 2, 3, 5, 5]\n"
     ]
    }
   ],
   "source": [
    "n,k=map(int,input().split())\n",
    "A=[1,2,5,4,3]\n",
    "B=[5,5,6,6,5]\n",
    "A.sort(reverse=True)\n",
    "B.sort()\n",
    "for i in range(k):\n",
    "    tmp=A.pop()\n",
    "    A.append(B.pop())\n",
    "    B.append(tmp)\n",
    "    print(A)\n",
    "    print(B)\n",
    "    A.sort(reverse=True)\n",
    "    B.sort()\n",
    "    print(A)\n",
    "    print(B)\n"
   ]
  },
  {
   "cell_type": "code",
   "execution_count": 72,
   "metadata": {},
   "outputs": [
    {
     "name": "stdout",
     "output_type": "stream",
     "text": [
      "5 3\n",
      "[1, 2, 3, 4, 5]\n",
      "[6, 6, 5, 5, 5]\n",
      "[6, 2, 3, 4, 5]\n",
      "[1, 6, 5, 5, 5]\n",
      "[6, 6, 3, 4, 5]\n",
      "[1, 2, 5, 5, 5]\n",
      "[6, 6, 5, 4, 5]\n",
      "[1, 2, 3, 5, 5]\n"
     ]
    }
   ],
   "source": [
    "n,k=map(int,input().split())\n",
    "A=[1,2,5,4,3]\n",
    "B=[5,5,6,6,5]\n",
    "A.sort()\n",
    "B.sort(reverse=True)\n",
    "print(A)\n",
    "print(B)\n",
    "for i in range(k):\n",
    "    if A[i]<B[i]:\n",
    "        A[i],B[i]=B[i],A[i]\n",
    "        print(A)\n",
    "        print(B)\n",
    "    else:\n",
    "        break"
   ]
  },
  {
   "cell_type": "code",
   "execution_count": null,
   "metadata": {},
   "outputs": [],
   "source": [
    "stages=[2,1,2,6,2,4,3,3]\n",
    "cnt=[[0]]"
   ]
  }
 ],
 "metadata": {
  "kernelspec": {
   "display_name": "Python 3",
   "language": "python",
   "name": "python3"
  },
  "language_info": {
   "codemirror_mode": {
    "name": "ipython",
    "version": 3
   },
   "file_extension": ".py",
   "mimetype": "text/x-python",
   "name": "python",
   "nbconvert_exporter": "python",
   "pygments_lexer": "ipython3",
   "version": "3.7.6"
  }
 },
 "nbformat": 4,
 "nbformat_minor": 4
}
