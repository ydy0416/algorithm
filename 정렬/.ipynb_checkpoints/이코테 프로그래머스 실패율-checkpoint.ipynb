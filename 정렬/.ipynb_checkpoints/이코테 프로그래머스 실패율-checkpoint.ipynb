{
 "cells": [
  {
   "cell_type": "code",
   "execution_count": 1,
   "metadata": {
    "scrolled": false
   },
   "outputs": [
    {
     "name": "stdout",
     "output_type": "stream",
     "text": [
      "5\n"
     ]
    },
    {
     "data": {
      "text/plain": [
       "[3, 4, 2, 1, 5]"
      ]
     },
     "execution_count": 1,
     "metadata": {},
     "output_type": "execute_result"
    }
   ],
   "source": [
    "def solution(N, stages):\n",
    "    #스테이지 별로 실패한 인원 넣을 리스트 생성\n",
    "    data=[0 for i in range(N+2)]\n",
    "    # 총인원수\n",
    "    human=len(stages)\n",
    "    #실패율 리스트 \n",
    "    fail=[]\n",
    "    #단계별로 실패한 인원 입력받기\n",
    "    for i in stages:\n",
    "        data[i]+=1\n",
    "        \n",
    "    #실패율과 스테이지 단계를 추가 \n",
    "    for i in range(1,len(data)-1):\n",
    "        #남은 인원이 0이면 실패율 0\n",
    "        if human==0:\n",
    "            failrate=0\n",
    "        #fail리스트에 실패율과 스테이지 단계 추가\n",
    "        else: \n",
    "            failrate=data[i]/human\n",
    "        fail.append((failrate,i))\n",
    "        #스테이지가 상승하면서 스테이지에 도달하지 못한 플레이어수를 줄여줌\n",
    "        human-=data[i]\n",
    "    #0요소는 내림차순, [1]요소는 오름차순\n",
    "    fail=sorted(fail, key=lambda x: (-x[0], x[1]))\n",
    "    answer = []\n",
    "    for i in range(len(fail)):\n",
    "        answer.append(fail[i][1])\n",
    "    return answer\n",
    "\n",
    "N=int(input())\n",
    "# stages=[2,1,2,6,2,4,3,3]\n",
    "stages=list(map(int,input().split()))\n",
    "stages.sort()\n",
    "solution(N, stages)\n"
   ]
  },
  {
   "cell_type": "code",
   "execution_count": null,
   "metadata": {},
   "outputs": [],
   "source": []
  }
 ],
 "metadata": {
  "kernelspec": {
   "display_name": "Python 3",
   "language": "python",
   "name": "python3"
  },
  "language_info": {
   "codemirror_mode": {
    "name": "ipython",
    "version": 3
   },
   "file_extension": ".py",
   "mimetype": "text/x-python",
   "name": "python",
   "nbconvert_exporter": "python",
   "pygments_lexer": "ipython3",
   "version": "3.7.6"
  }
 },
 "nbformat": 4,
 "nbformat_minor": 4
}
