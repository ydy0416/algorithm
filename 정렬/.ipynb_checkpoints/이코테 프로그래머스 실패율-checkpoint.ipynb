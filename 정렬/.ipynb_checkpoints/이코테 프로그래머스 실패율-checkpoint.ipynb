{
 "cells": [
  {
   "cell_type": "code",
   "execution_count": 4,
   "metadata": {},
   "outputs": [
    {
     "name": "stdout",
     "output_type": "stream",
     "text": [
      "5\n"
     ]
    },
    {
     "data": {
      "text/plain": [
       "[1, 2, 2, 2, 3, 3, 4, 6]"
      ]
     },
     "execution_count": 4,
     "metadata": {},
     "output_type": "execute_result"
    }
   ],
   "source": [
    "def solution(N, stages):\n",
    "    answer = []\n",
    "    return answer\n",
    "N=int(input())\n",
    "stages=[2,1,2,6,2,4,3,3]\n",
    "# stages=list(map(int,input().split()))\n",
    "#실패율 : 스테이지에 도달했으나 아직 클리어하지 못한 플레이어수/ 스테이지에 도달한 플레이어의 수\n",
    "stages.sort()\n",
    "stages"
   ]
  },
  {
   "cell_type": "code",
   "execution_count": 9,
   "metadata": {},
   "outputs": [
    {
     "data": {
      "text/plain": [
       "3"
      ]
     },
     "execution_count": 9,
     "metadata": {},
     "output_type": "execute_result"
    }
   ],
   "source": [
    "for i in stages:\n",
    "    \n",
    "    count=0\n",
    "    for j in range(len(stages)):\n",
    "        if 2 == stages[j]:\n",
    "            count+=1\n",
    "count"
   ]
  }
 ],
 "metadata": {
  "kernelspec": {
   "display_name": "Python 3",
   "language": "python",
   "name": "python3"
  },
  "language_info": {
   "codemirror_mode": {
    "name": "ipython",
    "version": 3
   },
   "file_extension": ".py",
   "mimetype": "text/x-python",
   "name": "python",
   "nbconvert_exporter": "python",
   "pygments_lexer": "ipython3",
   "version": "3.7.6"
  }
 },
 "nbformat": 4,
 "nbformat_minor": 4
}
