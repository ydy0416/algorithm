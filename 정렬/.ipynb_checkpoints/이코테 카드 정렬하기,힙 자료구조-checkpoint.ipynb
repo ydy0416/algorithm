{
 "cells": [
  {
   "cell_type": "code",
   "execution_count": 16,
   "metadata": {
    "scrolled": true
   },
   "outputs": [
    {
     "name": "stdout",
     "output_type": "stream",
     "text": [
      "4\n",
      "10\n",
      "20\n",
      "40\n",
      "50\n",
      "220\n"
     ]
    }
   ],
   "source": [
    "import heapq\n",
    "n=int(input())\n",
    "\n",
    "#힙(heap)에 초기 카드 묶음을 모두 삽입\n",
    "heap=[]\n",
    "for i in range(n):\n",
    "    data=int(input())\n",
    "    heapq.heappush(heap,data)\n",
    "result=0\n",
    "\n",
    "#힙(heap)에 원소가 1개 남을 때까지\n",
    "while len(heap)!=1:\n",
    "    #가장 작은 2개의 카드 묶음 꺼내기\n",
    "    one=heapq.heappop(heap)\n",
    "    two=heapq.heappop(heap)\n",
    "    #카드 묶음을 합쳐서 다시 삽입\n",
    "    sum_value=one+two\n",
    "    result+=sum_value\n",
    "    heapq.heappush(heap,sum_value)\n",
    "print(result)"
   ]
  },
  {
   "cell_type": "code",
   "execution_count": 17,
   "metadata": {},
   "outputs": [
    {
     "data": {
      "text/plain": [
       "[120]"
      ]
     },
     "execution_count": 17,
     "metadata": {},
     "output_type": "execute_result"
    }
   ],
   "source": [
    "heap"
   ]
  },
  {
   "cell_type": "code",
   "execution_count": 6,
   "metadata": {
    "scrolled": false
   },
   "outputs": [
    {
     "name": "stdout",
     "output_type": "stream",
     "text": [
      "[1, 3, 7, 4]\n"
     ]
    }
   ],
   "source": [
    "#힙 삽입\n",
    "import heapq\n",
    "heap=[]\n",
    "heapq.heappush(heap,4)\n",
    "heapq.heappush(heap,1)\n",
    "heapq.heappush(heap,7)\n",
    "heapq.heappush(heap,3)\n",
    "print(heap)"
   ]
  },
  {
   "cell_type": "code",
   "execution_count": 7,
   "metadata": {},
   "outputs": [
    {
     "name": "stdout",
     "output_type": "stream",
     "text": [
      "1\n",
      "[3, 4, 7]\n"
     ]
    }
   ],
   "source": [
    "#힙 원소삭제\n",
    "print(heapq.heappop(heap))\n",
    "print(heap)"
   ]
  },
  {
   "cell_type": "code",
   "execution_count": 8,
   "metadata": {},
   "outputs": [
    {
     "name": "stdout",
     "output_type": "stream",
     "text": [
      "3\n"
     ]
    }
   ],
   "source": [
    "#최소값 삭제하지 않고 얻기\n",
    "print(heap[0])\n",
    "#주의사항 인덱스 0에 가장 작은 원소가 있다고 해서 인덱스 1에 두번째 작은 원소,가 있다는 보장은 x"
   ]
  },
  {
   "cell_type": "code",
   "execution_count": 10,
   "metadata": {},
   "outputs": [
    {
     "name": "stdout",
     "output_type": "stream",
     "text": [
      "[1, 3, 5, 4, 8, 7]\n"
     ]
    }
   ],
   "source": [
    "#기존 리스트를 힙으로 변환\n",
    "heap=[4,1,7,3,8,5]\n",
    "heapq.heapify(heap)\n",
    "print(heap)"
   ]
  },
  {
   "cell_type": "code",
   "execution_count": 11,
   "metadata": {},
   "outputs": [
    {
     "name": "stdout",
     "output_type": "stream",
     "text": [
      "8\n",
      "7\n",
      "5\n",
      "4\n",
      "3\n",
      "1\n"
     ]
    }
   ],
   "source": [
    "#최대 힙\n",
    "import heapq\n",
    "nums=[4,1,7,3,8,5]\n",
    "heap=[]\n",
    "for num in nums:\n",
    "    heapq.heappush(heap,(-num, num)) #(우선순위, 값)\n",
    "while heap:\n",
    "    print(heapq.heappop(heap)[1]) #index 1"
   ]
  },
  {
   "cell_type": "markdown",
   "metadata": {},
   "source": [
    "# 출처 : https://www.daleseo.com/python-heapq/"
   ]
  }
 ],
 "metadata": {
  "kernelspec": {
   "display_name": "Python 3",
   "language": "python",
   "name": "python3"
  },
  "language_info": {
   "codemirror_mode": {
    "name": "ipython",
    "version": 3
   },
   "file_extension": ".py",
   "mimetype": "text/x-python",
   "name": "python",
   "nbconvert_exporter": "python",
   "pygments_lexer": "ipython3",
   "version": "3.7.6"
  }
 },
 "nbformat": 4,
 "nbformat_minor": 4
}
