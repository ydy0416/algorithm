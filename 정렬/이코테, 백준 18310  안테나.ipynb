{
 "cells": [
  {
   "cell_type": "code",
   "execution_count": 10,
   "metadata": {},
   "outputs": [
    {
     "name": "stdout",
     "output_type": "stream",
     "text": [
      "6\n",
      "1 2 3 5 8 9\n",
      "3\n"
     ]
    }
   ],
   "source": [
    "n=int(input())\n",
    "frame=list(map(int,input().split()))\n",
    "frame.sort()\n",
    "ans=[] #답안 리스트\n",
    "b=217000000\n",
    "#전체 순회\n",
    "for i in range(len(frame)):\n",
    "    tmp_ans=0 #임시 ans\n",
    "    \n",
    "    for j in range(len(frame)):\n",
    "        if tmp_ans>b:\n",
    "            break\n",
    "        else :\n",
    "            tmp_ans+=abs(frame[i]-frame[j])\n",
    "    b=tmp_ans\n",
    "    #답리스트에 총합과 집 위치 추가\n",
    "    ans.append((tmp_ans,frame[i]))\n",
    "ans.sort()\n",
    "print(ans[0][1])"
   ]
  },
  {
   "cell_type": "code",
   "execution_count": 11,
   "metadata": {
    "scrolled": true
   },
   "outputs": [
    {
     "data": {
      "text/plain": [
       "[(16, 3), (16, 5), (18, 2), (18, 8), (21, 9), (22, 1)]"
      ]
     },
     "execution_count": 11,
     "metadata": {},
     "output_type": "execute_result"
    }
   ],
   "source": [
    "ans"
   ]
  },
  {
   "cell_type": "code",
   "execution_count": null,
   "metadata": {},
   "outputs": [],
   "source": []
  }
 ],
 "metadata": {
  "kernelspec": {
   "display_name": "Python 3",
   "language": "python",
   "name": "python3"
  },
  "language_info": {
   "codemirror_mode": {
    "name": "ipython",
    "version": 3
   },
   "file_extension": ".py",
   "mimetype": "text/x-python",
   "name": "python",
   "nbconvert_exporter": "python",
   "pygments_lexer": "ipython3",
   "version": "3.7.6"
  }
 },
 "nbformat": 4,
 "nbformat_minor": 4
}
