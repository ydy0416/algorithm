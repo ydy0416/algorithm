{
 "cells": [
  {
   "cell_type": "code",
   "execution_count": 47,
   "metadata": {},
   "outputs": [
    {
     "name": "stdout",
     "output_type": "stream",
     "text": [
      "5\n",
      "1 2 3 4 500 50000\n",
      "3\n"
     ]
    }
   ],
   "source": [
    "n=int(input())\n",
    "frame=list(map(int,input().split()))\n",
    "frame.sort()\n",
    "ans=[]\n",
    "b=217000000\n",
    "#전체 순회\n",
    "for i in range(len(frame)):\n",
    "    tmp_ans=0 #임시 ans\n",
    "    \n",
    "    for j in range(len(frame)):\n",
    "        if tmp_ans>b:\n",
    "            continue\n",
    "        else :\n",
    "            tmp_ans+=abs(frame[i]-frame[j])\n",
    "    b=tmp_ans\n",
    "    ans.append((tmp_ans,frame[i]))\n",
    "ans.sort()\n",
    "print(ans[0][1])"
   ]
  },
  {
   "cell_type": "code",
   "execution_count": 48,
   "metadata": {
    "scrolled": true
   },
   "outputs": [
    {
     "data": {
      "text/plain": [
       "[(50498, 3), (50498, 4), (50500, 2), (50504, 1), (51490, 500), (99997, 50000)]"
      ]
     },
     "execution_count": 48,
     "metadata": {},
     "output_type": "execute_result"
    }
   ],
   "source": [
    "ans"
   ]
  },
  {
   "cell_type": "code",
   "execution_count": 45,
   "metadata": {},
   "outputs": [
    {
     "name": "stdout",
     "output_type": "stream",
     "text": [
      "9\n",
      "1 2 3 4 5 6 50 51 180\n",
      "5\n"
     ]
    }
   ],
   "source": [
    "n=int(input())\n",
    "data=list(map(int,input().split()))\n",
    "data.sort()\n",
    "\n",
    "print(data[(n-1)//2])"
   ]
  }
 ],
 "metadata": {
  "kernelspec": {
   "display_name": "Python 3",
   "language": "python",
   "name": "python3"
  },
  "language_info": {
   "codemirror_mode": {
    "name": "ipython",
    "version": 3
   },
   "file_extension": ".py",
   "mimetype": "text/x-python",
   "name": "python",
   "nbconvert_exporter": "python",
   "pygments_lexer": "ipython3",
   "version": "3.7.6"
  }
 },
 "nbformat": 4,
 "nbformat_minor": 4
}
