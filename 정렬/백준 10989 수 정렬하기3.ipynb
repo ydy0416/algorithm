{
 "cells": [
  {
   "cell_type": "code",
   "execution_count": null,
   "metadata": {},
   "outputs": [],
   "source": [
    "import sys\n",
    "n=int(input())\n",
    "data=[0]*10001\n",
    "for i in range(n):\n",
    "    a=int(sys.stdin.readline())\n",
    "    data[a]+=1\n",
    "for i in range(10001):\n",
    "    if data[i]!=0:\n",
    "        for j in range(data[i]):\n",
    "            print(i)"
   ]
  }
 ],
 "metadata": {
  "kernelspec": {
   "display_name": "Python 3",
   "language": "python",
   "name": "python3"
  },
  "language_info": {
   "codemirror_mode": {
    "name": "ipython",
    "version": 3
   },
   "file_extension": ".py",
   "mimetype": "text/x-python",
   "name": "python",
   "nbconvert_exporter": "python",
   "pygments_lexer": "ipython3",
   "version": "3.7.6"
  }
 },
 "nbformat": 4,
 "nbformat_minor": 4
}
