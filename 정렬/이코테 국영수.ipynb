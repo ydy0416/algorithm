{
 "cells": [
  {
   "cell_type": "code",
   "execution_count": 18,
   "metadata": {
    "scrolled": false
   },
   "outputs": [
    {
     "name": "stdout",
     "output_type": "stream",
     "text": [
      "12\n",
      "Donghyuk\n",
      "Sangkeun\n",
      "Sunyoung\n",
      "nsj\n",
      "Wonseob\n",
      "Sanghyun\n",
      "Sei\n",
      "Kangsoo\n",
      "Haebin\n",
      "Junkyu\n",
      "Soong\n",
      "Taewhan\n"
     ]
    }
   ],
   "source": [
    "n=int(input())\n",
    "# data=[]\n",
    "# for i in range(n):\n",
    "#     data.append(list(map(str, input().split())))\n",
    "data=[\n",
    "      ['Junkyu',50,60,100],['Sangkeun', 80, 60, 50],['Sunyoung', 80, 70, 100],\n",
    "      ['Soong', 50, 60, 90],['Haebin', 50, 60, 100],['Kangsoo', 60, 80, 100],\n",
    "      ['Donghyuk', 80, 60, 100],['Sei', 70, 70, 70],['Wonseob', 70, 70, 90],\n",
    "      ['Sanghyun', 70, 70, 80],['nsj', 80, 80, 80],['Taewhan', 50, 60, 90]\n",
    "    ]\n",
    "data=sorted(data, key=lambda x: (-int(x[1]), int(x[2]), -int(x[3]), x[0]))\n",
    "for i in range(n):\n",
    "    print(data[i][0])"
   ]
  },
  {
   "cell_type": "code",
   "execution_count": 16,
   "metadata": {},
   "outputs": [
    {
     "data": {
      "text/plain": [
       "12"
      ]
     },
     "execution_count": 16,
     "metadata": {},
     "output_type": "execute_result"
    }
   ],
   "source": [
    "len(data)"
   ]
  }
 ],
 "metadata": {
  "kernelspec": {
   "display_name": "Python 3",
   "language": "python",
   "name": "python3"
  },
  "language_info": {
   "codemirror_mode": {
    "name": "ipython",
    "version": 3
   },
   "file_extension": ".py",
   "mimetype": "text/x-python",
   "name": "python",
   "nbconvert_exporter": "python",
   "pygments_lexer": "ipython3",
   "version": "3.7.6"
  }
 },
 "nbformat": 4,
 "nbformat_minor": 4
}
