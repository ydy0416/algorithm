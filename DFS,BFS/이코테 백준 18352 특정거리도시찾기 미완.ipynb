{
 "cells": [
  {
   "cell_type": "code",
   "execution_count": null,
   "metadata": {},
   "outputs": [],
   "source": [
    "# DFS의 장점 : 한 경로상의 노드를 기억하기 때문에 적은 메모리 사용, 찾으려는 노드가 깊은 단계인 경우 BFS보다 빠르다\n",
    "# DFS의 단점 : 해가 없는 경로를 탐색할 경우 단계가 끝날 때까지 탐색한다.\n",
    "#DFS는 해에 도착하면 탐색을 종료하기 때문에 최단경로라는 보장이 없다\n",
    "# 모든 간선의 비용이 동일할 때는 BFS 이용\n",
    "n,m,k,x=map(int,input().split())\n"
   ]
  },
  {
   "cell_type": "code",
   "execution_count": 2,
   "metadata": {},
   "outputs": [
    {
     "data": {
      "text/plain": [
       "90000000000"
      ]
     },
     "execution_count": 2,
     "metadata": {},
     "output_type": "execute_result"
    }
   ],
   "source": []
  }
 ],
 "metadata": {
  "kernelspec": {
   "display_name": "Python 3",
   "language": "python",
   "name": "python3"
  },
  "language_info": {
   "codemirror_mode": {
    "name": "ipython",
    "version": 3
   },
   "file_extension": ".py",
   "mimetype": "text/x-python",
   "name": "python",
   "nbconvert_exporter": "python",
   "pygments_lexer": "ipython3",
   "version": "3.7.6"
  }
 },
 "nbformat": 4,
 "nbformat_minor": 4
}
