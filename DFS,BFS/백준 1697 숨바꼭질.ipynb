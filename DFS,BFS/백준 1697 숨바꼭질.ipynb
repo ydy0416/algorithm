{
 "cells": [
  {
   "cell_type": "code",
   "execution_count": 70,
   "metadata": {},
   "outputs": [
    {
     "name": "stdout",
     "output_type": "stream",
     "text": [
      "5 17\n",
      "now,cnt: 5 1\n",
      "now,cnt: 6 2\n",
      "now,cnt: 4 2\n",
      "now,cnt: 10 2\n",
      "now,cnt: 7 3\n",
      "now,cnt: 12 3\n",
      "now,cnt: 3 3\n",
      "now,cnt: 8 3\n",
      "now,cnt: 11 3\n",
      "now,cnt: 9 3\n",
      "now,cnt: 20 3\n",
      "now,cnt: 14 4\n",
      "now,cnt: 13 4\n",
      "now,cnt: 24 4\n",
      "now,cnt: 2 4\n",
      "now,cnt: 16 4\n",
      "now,cnt: 22 4\n",
      "now,cnt: 18 4\n",
      "now,cnt: 21 4\n",
      "now,cnt: 19 4\n",
      "now,cnt: 40 4\n",
      "now,cnt: 15 5\n",
      "now,cnt: 28 5\n",
      "now,cnt: 26 5\n",
      "now,cnt: 25 5\n",
      "now,cnt: 23 5\n",
      "now,cnt: 48 5\n",
      "now,cnt: 1 5\n",
      "now,cnt: 17 5\n",
      "4\n"
     ]
    }
   ],
   "source": [
    "from collections import deque\n",
    "n,k=map(int, input().split())\n",
    "if n>=k:\n",
    "    print(n-k)\n",
    "else:\n",
    "    graph=[100000]*(k+100)\n",
    "    q=deque()\n",
    "    q.append((n,1))\n",
    "    graph[n]=1\n",
    "    #이동\n",
    "    dy=[1,-1,2]\n",
    "    while q:\n",
    "        now,cnt=q.popleft()\n",
    "        print('now,cnt:',now,cnt)\n",
    "        if now==k:\n",
    "            break\n",
    "        #이동\n",
    "        for i in range(3):\n",
    "            # 현재x2칸이동\n",
    "            if i==2:\n",
    "                tmp=now*dy[i]\n",
    "                if tmp>=k+100:\n",
    "                    continue\n",
    "                if cnt+1<graph[tmp]:\n",
    "                    graph[tmp]=cnt+1\n",
    "                    q.append((tmp,cnt+1))\n",
    "\n",
    "            #앞뒤로 한칸\n",
    "            else:\n",
    "                tmp=now+dy[i]\n",
    "                if tmp<0 or tmp>=k+100:\n",
    "                    continue\n",
    "                else:\n",
    "                    if cnt+1<graph[tmp]:\n",
    "                        graph[tmp]=cnt+1\n",
    "                        q.append((tmp,cnt+1))\n",
    "    print(graph[k]-1)"
   ]
  }
 ],
 "metadata": {
  "kernelspec": {
   "display_name": "Python 3",
   "language": "python",
   "name": "python3"
  },
  "language_info": {
   "codemirror_mode": {
    "name": "ipython",
    "version": 3
   },
   "file_extension": ".py",
   "mimetype": "text/x-python",
   "name": "python",
   "nbconvert_exporter": "python",
   "pygments_lexer": "ipython3",
   "version": "3.7.6"
  }
 },
 "nbformat": 4,
 "nbformat_minor": 4
}
