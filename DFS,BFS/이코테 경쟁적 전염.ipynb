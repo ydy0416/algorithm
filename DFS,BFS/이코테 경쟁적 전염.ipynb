{
 "cells": [
  {
   "cell_type": "code",
   "execution_count": 46,
   "metadata": {},
   "outputs": [
    {
     "name": "stdout",
     "output_type": "stream",
     "text": [
      "3 3\n",
      "1 0 2\n",
      "0 0 0\n",
      "3 0 0\n",
      "1 2 2\n",
      "0\n"
     ]
    }
   ],
   "source": [
    "#백준 18405\n",
    "from collections import deque\n",
    "n,k=map(int,input().split())\n",
    "graph=[]\n",
    "queue=deque()\n",
    "data=[]\n",
    "#그래프 입력 & 바이러스별로 data에 추가\n",
    "for i in range(n):\n",
    "    graph.append(list(map(int,input().split())))\n",
    "    for j in range(n):\n",
    "        if graph[i][j]>0:\n",
    "            data.append((graph[i][j], 0, i, j))\n",
    "data.sort()\n",
    "s,x,y=map(int, input().split())\n",
    "\n",
    "#동서남북\n",
    "dx=[0,0,1,-1]\n",
    "dy=[1,-1,0,0]\n",
    "\n",
    "queue=deque(data)\n",
    "# bfs\n",
    "while queue:\n",
    "    virus,target_s,target_x,target_y=queue.popleft()\n",
    "    if target_s==s:\n",
    "        break\n",
    "    for i in range(4):\n",
    "        nx=target_x+dx[i]\n",
    "        ny=target_y+dy[i]\n",
    "        #이탈방지\n",
    "        if nx<0 or nx>=n or ny<0 or ny>=n :\n",
    "            continue\n",
    "        #빈 공간발견\n",
    "        if graph[nx][ny]==0:\n",
    "            graph[nx][ny]=virus\n",
    "            queue.append((virus,target_s+1,nx,ny))\n",
    "\n",
    "print(graph[x-1][y-1])"
   ]
  }
 ],
 "metadata": {
  "kernelspec": {
   "display_name": "Python 3",
   "language": "python",
   "name": "python3"
  },
  "language_info": {
   "codemirror_mode": {
    "name": "ipython",
    "version": 3
   },
   "file_extension": ".py",
   "mimetype": "text/x-python",
   "name": "python",
   "nbconvert_exporter": "python",
   "pygments_lexer": "ipython3",
   "version": "3.7.6"
  }
 },
 "nbformat": 4,
 "nbformat_minor": 4
}
