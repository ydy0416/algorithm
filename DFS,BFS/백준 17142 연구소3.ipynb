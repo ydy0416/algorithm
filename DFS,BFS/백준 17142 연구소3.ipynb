{
 "cells": [
  {
   "cell_type": "code",
   "execution_count": 33,
   "metadata": {
    "scrolled": true
   },
   "outputs": [
    {
     "name": "stdout",
     "output_type": "stream",
     "text": [
      "5 1\n",
      "2 2 2 1 1\n",
      "2 1 1 1 1 \n",
      "2 1 1 1 1\n",
      "2 1 1 1 1\n",
      "2 2 2 1 1\n",
      "0\n"
     ]
    }
   ],
   "source": [
    "from collections import deque\n",
    "from itertools import combinations\n",
    "def bfs(tmp_graph,tmp_queue,zero_cnt):\n",
    "    tmp_zero_cnt=zero_cnt\n",
    "    s=0\n",
    "    while tmp_queue:\n",
    "#         print('tmp_queue=%s'%tmp_queue)\n",
    "#         print('tmp_zero_cnt=%d'%tmp_zero_cnt)\n",
    "        if tmp_zero_cnt==0:\n",
    "            return s\n",
    "        s+=1\n",
    "        for i in range(len(tmp_queue)):\n",
    "            x,y=tmp_queue.popleft()\n",
    "        \n",
    "            #동서남북 탐색  \n",
    "            for i in range(4):\n",
    "                nx=x+dx[i]\n",
    "                ny=y+dy[i]\n",
    "                #이탈\n",
    "                if nx<0 or nx>=n or ny<0 or ny>=n:\n",
    "                    continue\n",
    "                if tmp_graph[nx][ny]==0 or tmp_graph[nx][ny]==2:\n",
    "                    if tmp_graph[nx][ny]==0:\n",
    "                        tmp_zero_cnt-=1 \n",
    "                    #방문처리\n",
    "                    tmp_graph[nx][ny]=3\n",
    "                    tmp_queue.append([nx,ny])\n",
    "    \n",
    "    return 2147000000\n",
    "\n",
    "n,m=map(int,input().split())\n",
    "graph=[]\n",
    "virus=[]\n",
    "zero_cnt=0\n",
    "#그래프 입력받기 & 바이러스 인덱스 추출\n",
    "for i in range(n):\n",
    "    graph.append(list(map(int,input().split())))\n",
    "    for j in range(n):\n",
    "        if graph[i][j]==2:\n",
    "            virus.append([i,j])\n",
    "        if graph[i][j]==0:\n",
    "            zero_cnt+=1\n",
    "#조합 구성\n",
    "virus_set=list(combinations(virus,m))\n",
    "\n",
    "#동서남북\n",
    "dx=[0,0,1,-1]\n",
    "dy=[1,-1,0,0]\n",
    "\n",
    "#ans의 초기값\n",
    "ans=2147000000\n",
    "#큐 설정\n",
    "queue=deque()\n",
    "#바이러스 세트별로 큐 진행\n",
    "for set in virus_set:\n",
    "    tmp_queue=deque()\n",
    "    tmp_graph=[[] for i in range(n)]\n",
    "    #임시 그래프 복사\n",
    "    for i in range(n):\n",
    "        tmp_graph[i]=graph[i][:]\n",
    "    for i in set:\n",
    "        #임시큐 설정\n",
    "        tmp_queue.append(i)\n",
    "    tmp_ans=bfs(tmp_graph,tmp_queue,zero_cnt)\n",
    "    if tmp_ans<ans:\n",
    "        ans=tmp_ans\n",
    "if ans==2147000000:\n",
    "    print(-1)\n",
    "else:\n",
    "    print(ans)"
   ]
  }
 ],
 "metadata": {
  "kernelspec": {
   "display_name": "Python 3",
   "language": "python",
   "name": "python3"
  },
  "language_info": {
   "codemirror_mode": {
    "name": "ipython",
    "version": 3
   },
   "file_extension": ".py",
   "mimetype": "text/x-python",
   "name": "python",
   "nbconvert_exporter": "python",
   "pygments_lexer": "ipython3",
   "version": "3.7.6"
  }
 },
 "nbformat": 4,
 "nbformat_minor": 4
}
