{
 "cells": [
  {
   "cell_type": "code",
   "execution_count": null,
   "metadata": {
    "scrolled": false
   },
   "outputs": [],
   "source": [
    "import sys\n",
    "sys.setrecursionlimit(10**6)\n",
    "def dfs(graph,v,visited,group):\n",
    "    visited[v]=group\n",
    "    for i in graph[v]:\n",
    "        if visited[i]==0: #방문하지않은 노드\n",
    "            if not dfs(graph,i,visited,-group):\n",
    "                return False\n",
    "        elif visited[i]==visited[v]:\n",
    "            return False\n",
    "    return True\n",
    "\n",
    "# input=sys.stdin.readline\n",
    "k=int(input())\n",
    "for i in range(k):\n",
    "    n,m=map(int,input().split())\n",
    "    graph=[[] for i in range(n+1)]\n",
    "    visited=[0]*(n+1)\n",
    "    for j in range(m):\n",
    "        a,b=map(int,input().split())\n",
    "        graph[a].append(b)\n",
    "        graph[b].append(a)\n",
    "    \n",
    "    bipatite=True\n",
    "    \n",
    "    for i in range(1,n+1):\n",
    "        if visited[i]==0:\n",
    "            bipatite=dfs(graph,i,visited,1)\n",
    "            if not bipatite:\n",
    "                break\n",
    "    print('YES' if bipatite else 'NO')\n",
    "            "
   ]
  },
  {
   "cell_type": "code",
   "execution_count": 16,
   "metadata": {},
   "outputs": [
    {
     "name": "stdout",
     "output_type": "stream",
     "text": [
      "1\n",
      "6 6\n",
      "1 3\n",
      "3 4\n",
      "4 2\n",
      "2 5\n",
      "5 6\n",
      "6 1\n",
      "YES\n"
     ]
    }
   ],
   "source": [
    "#BFS\n",
    "from collections import deque\n",
    "def bfs(graph,q,visited):\n",
    "    while q:\n",
    "        now,group=q.popleft()\n",
    "        visited[now]=group\n",
    "        for i in graph[now]:\n",
    "#             print('now,i :',now,i)\n",
    "            if visited[i]==0:\n",
    "                q.append((i,-group))\n",
    "            elif visited[i]==visited[now]:\n",
    "                return False\n",
    "    return True\n",
    "\n",
    "for _ in range(int(input())):\n",
    "    V,E=map(int,input().split())\n",
    "    visited=[0]*(V+1)\n",
    "    #그래프 입력\n",
    "    graph=[[] for i in range(V+1)]\n",
    "    for i in range(E):\n",
    "        a,b=map(int,input().split())\n",
    "        graph[a].append(b)\n",
    "        graph[b].append(a)\n",
    "\n",
    "    for i in range(1,V+1):\n",
    "        if visited[i]==0:\n",
    "            q=deque()\n",
    "            q.append((i,1))\n",
    "            ans=bfs(graph,q,visited)\n",
    "        if ans==False:\n",
    "            print('NO')\n",
    "            break\n",
    "    if ans==True:\n",
    "        print('YES')\n",
    "        \n",
    "            "
   ]
  },
  {
   "cell_type": "code",
   "execution_count": 17,
   "metadata": {},
   "outputs": [
    {
     "data": {
      "text/plain": [
       "[[], [3, 6], [4, 5], [1, 4], [3, 2], [2, 6], [5, 1]]"
      ]
     },
     "execution_count": 17,
     "metadata": {},
     "output_type": "execute_result"
    }
   ],
   "source": [
    "graph"
   ]
  }
 ],
 "metadata": {
  "kernelspec": {
   "display_name": "Python 3",
   "language": "python",
   "name": "python3"
  },
  "language_info": {
   "codemirror_mode": {
    "name": "ipython",
    "version": 3
   },
   "file_extension": ".py",
   "mimetype": "text/x-python",
   "name": "python",
   "nbconvert_exporter": "python",
   "pygments_lexer": "ipython3",
   "version": "3.7.6"
  }
 },
 "nbformat": 4,
 "nbformat_minor": 4
}
