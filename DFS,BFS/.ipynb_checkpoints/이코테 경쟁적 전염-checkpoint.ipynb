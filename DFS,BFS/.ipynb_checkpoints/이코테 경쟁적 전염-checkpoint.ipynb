{
 "cells": [
  {
   "cell_type": "code",
   "execution_count": 2,
   "metadata": {},
   "outputs": [
    {
     "name": "stdout",
     "output_type": "stream",
     "text": [
      "3 3\n",
      "1 0 2\n",
      "0 0 0\n",
      "3 0 0\n",
      "2 3 2\n",
      "3\n"
     ]
    }
   ],
   "source": [
    "#백준 18405\n",
    "from collections import deque\n",
    "n,k=map(int,input().split())\n",
    "graph=[]\n",
    "queue=deque()\n",
    "data=[]\n",
    "#그래프 입력 & 바이러스별로 data에 추가\n",
    "for i in range(n):\n",
    "    graph.append(list(map(int,input().split())))\n",
    "    for j in range(n):\n",
    "        if graph[i][j]>0:\n",
    "            data.append((graph[i][j], 0, i, j))\n",
    "data.sort()\n",
    "s,x,y=map(int, input().split())\n",
    "\n",
    "#동서남북\n",
    "dx=[0,0,1,-1]\n",
    "dy=[1,-1,0,0]\n",
    "\n",
    "queue=deque(data)\n",
    "# bfs\n",
    "while queue:\n",
    "    virus,target_s,target_x,target_y=queue.popleft()\n",
    "    if target_s==s:\n",
    "        break\n",
    "    for i in range(4):\n",
    "        nx=target_x+dx[i]\n",
    "        ny=target_y+dy[i]\n",
    "        #이탈방지\n",
    "        if nx<0 or nx>=n or ny<0 or ny>=n :\n",
    "            continue\n",
    "        #빈 공간발견\n",
    "        if graph[nx][ny]==0:\n",
    "            graph[nx][ny]=virus\n",
    "            queue.append((virus,target_s+1,nx,ny))\n",
    "\n",
    "print(graph[x-1][y-1])"
   ]
  },
  {
   "cell_type": "code",
   "execution_count": 4,
   "metadata": {},
   "outputs": [
    {
     "name": "stdout",
     "output_type": "stream",
     "text": [
      "3 3\n",
      "1 0 2\n",
      "0 0 0\n",
      "3 0 0\n",
      "2 3 2\n",
      "3\n"
     ]
    }
   ],
   "source": [
    "#3/22\n",
    "from collections import deque\n",
    "def bfs(graph,queue,s):\n",
    "    cnt=0\n",
    "    while queue:\n",
    "        #시간이 되면 리턴\n",
    "        if cnt==s:\n",
    "            return\n",
    "        #새로 유입된 큐가 진행되기전 +1\n",
    "        cnt+=1\n",
    "        #큐의 길이만큼 진행\n",
    "        for j in range(len(queue)):\n",
    "            x,y=queue.popleft()\n",
    "            for i in range(4):\n",
    "                nx=x+dx[i]\n",
    "                ny=y+dy[i]\n",
    "                if nx<0 or nx>=n or ny<0 or ny>=n:\n",
    "                    continue\n",
    "                elif graph[nx][ny]==0:\n",
    "                    graph[nx][ny]=graph[x][y]\n",
    "                    queue.append((nx,ny))\n",
    "n,k=map(int,input().split())\n",
    "# n,k=3,3\n",
    "# graph=[[1, 0, 2], [0, 0, 0], [3, 0, 0]]\n",
    "graph=[]\n",
    "queue=deque()\n",
    "virus_set=[[] for i in range(k+1)]\n",
    "\n",
    "for i in range(n):\n",
    "    graph.append(list(map(int,input().split())))\n",
    "    for j in range(n):\n",
    "        if graph[i][j]!=0:\n",
    "            #바이러스 구분\n",
    "            virus_set[graph[i][j]].append((i,j))\n",
    "s,x,y=map(int,input().split())\n",
    "# s,x,y=2,3,2\n",
    "\n",
    "for virus in virus_set:\n",
    "    for i in virus:\n",
    "        queue.append(i)\n",
    "\n",
    "#동서남북\n",
    "dx=[0,0,1,-1]\n",
    "dy=[1,-1,0,0]\n",
    "\n",
    "bfs(graph,queue,s)\n",
    "print(graph[x-1][y-1])"
   ]
  }
 ],
 "metadata": {
  "kernelspec": {
   "display_name": "Python 3",
   "language": "python",
   "name": "python3"
  },
  "language_info": {
   "codemirror_mode": {
    "name": "ipython",
    "version": 3
   },
   "file_extension": ".py",
   "mimetype": "text/x-python",
   "name": "python",
   "nbconvert_exporter": "python",
   "pygments_lexer": "ipython3",
   "version": "3.7.6"
  }
 },
 "nbformat": 4,
 "nbformat_minor": 4
}
