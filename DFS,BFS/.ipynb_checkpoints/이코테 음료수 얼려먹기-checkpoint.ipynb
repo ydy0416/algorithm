{
 "cells": [
  {
   "cell_type": "code",
   "execution_count": 19,
   "metadata": {},
   "outputs": [
    {
     "name": "stdout",
     "output_type": "stream",
     "text": [
      "4 5\n",
      "00110\n",
      "00011\n",
      "11111\n",
      "00000\n",
      "deque([(0, 0), (0, 1), (0, 4), (1, 0), (1, 1), (1, 2), (3, 0), (3, 1), (3, 2), (3, 3), (3, 4)])\n"
     ]
    }
   ],
   "source": [
    "from collections import deque\n",
    "n,m=map(int,input().split())\n",
    "\n",
    "#큐생성\n",
    "queue=deque()\n",
    "\n",
    "graph=[]\n",
    "start=[]\n",
    "#그래프 입력받기\n",
    "for i in range(n):\n",
    "    graph.append(list(map(int,input())))\n",
    "    for j in range(m):\n",
    "        #빈 공간 인덱스 추출\n",
    "        if graph[i][j]==0:\n",
    "            start.append((i,j))\n",
    "print(queue)\n",
    "#방문기록\n",
    "visited=[[False]*m for i in range(n)]\n",
    "\n",
    "#동서남북 탐색\n",
    "dx=[0,0,1,-1]\n",
    "dy=[1,-1,0,0]\n",
    "\n",
    "ans=0\n",
    "#큐에 원소있으면 진행\n",
    "print(queue)\n",
    "while queue:\n",
    "    #큐추출\n",
    "    x,y=queue.popleft()\n",
    "    print(x,y)\n",
    "    #개수 초기화\n",
    "    cnt=0\n",
    "    #동서남북 탐색\n",
    "    for i in range(4):\n",
    "        nx=x+dx[i]\n",
    "        ny=y+dy[i]\n",
    "        #범위 이탈시 무시\n",
    "        if nx<0 or nx>=n or ny<0 or ny>=m:\n",
    "            continue\n",
    "        #빈 공간, 아직 방문하지 않은 곳이면 큐에 추가\n",
    "        if graph[nx][ny]==0 and visited[nx][ny]==False:\n",
    "            visited[nx][ny]=True\n",
    "            queue.append((nx,ny))\n",
    "    cnt+=1\n",
    "    ans+=cnt"
   ]
  },
  {
   "cell_type": "code",
   "execution_count": 27,
   "metadata": {
    "scrolled": true
   },
   "outputs": [
    {
     "name": "stdout",
     "output_type": "stream",
     "text": [
      "4 5\n",
      "00110\n",
      "00011\n",
      "11111\n",
      "00000\n",
      "3\n"
     ]
    }
   ],
   "source": [
    "#해설\n",
    "n,m=map(int,input().split())\n",
    "graph=[]\n",
    "for i in range(n):\n",
    "    graph.append(list(map(int,input())))\n",
    "#dfs로 특정한 노드를 방문한 뒤에 연결된 모든 노드들로 방문\n",
    "def dfs(x,y):\n",
    "    #주어진 범위를 벗어나는 경우 종료\n",
    "    if x<0 or x>=n or y<0 or y>=m:\n",
    "        return False\n",
    "    #현재 노드를 아직 방문하지 않았다면\n",
    "    if graph[x][y]==0:\n",
    "        graph[x][y]=1\n",
    "        #상하좌우의 위치도 모두 재귀적으로 호출\n",
    "        dfs(x-1,y)\n",
    "        dfs(x+1,y)\n",
    "        dfs(x,y-1)\n",
    "        dfs(x,y+1)\n",
    "        return True\n",
    "    return False\n",
    "#모든 노드에 대하여 음료수 채우기\n",
    "result=0\n",
    "for i in range(n):\n",
    "    for j in range(m):\n",
    "        #현재 위치에서 dfs 수행\n",
    "        if dfs(i,j)==True:\n",
    "            result+=1\n",
    "print(result)"
   ]
  }
 ],
 "metadata": {
  "kernelspec": {
   "display_name": "Python 3",
   "language": "python",
   "name": "python3"
  },
  "language_info": {
   "codemirror_mode": {
    "name": "ipython",
    "version": 3
   },
   "file_extension": ".py",
   "mimetype": "text/x-python",
   "name": "python",
   "nbconvert_exporter": "python",
   "pygments_lexer": "ipython3",
   "version": "3.7.6"
  }
 },
 "nbformat": 4,
 "nbformat_minor": 4
}
