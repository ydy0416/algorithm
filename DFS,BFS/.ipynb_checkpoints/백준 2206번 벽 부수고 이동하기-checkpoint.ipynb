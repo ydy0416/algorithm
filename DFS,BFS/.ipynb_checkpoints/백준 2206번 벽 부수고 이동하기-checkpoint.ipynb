{
 "cells": [
  {
   "cell_type": "code",
   "execution_count": 83,
   "metadata": {
    "scrolled": true
   },
   "outputs": [
    {
     "name": "stdout",
     "output_type": "stream",
     "text": [
      "4 4\n",
      "[[2, 1, 1, 1], [1, 1, 1, 1], [1, 1, 1, 1], [1, 1, 1, 0]]\n",
      "[[0, 1, 0, 1], [1, 1, 1, 1], [1, 1, 1, 1], [1, 1, 1, 0]]\n",
      "[[0, 1, 1, 0], [1, 1, 1, 1], [1, 1, 1, 1], [1, 1, 1, 0]]\n",
      "[[2, 1, 1, 1], [1, 1, 1, 1], [1, 1, 1, 1], [1, 1, 1, 0]]\n",
      "[[0, 1, 1, 1], [1, 0, 1, 1], [1, 1, 1, 1], [1, 1, 1, 0]]\n",
      "[[0, 1, 1, 1], [1, 1, 0, 1], [1, 1, 1, 1], [1, 1, 1, 0]]\n",
      "[[0, 1, 1, 1], [1, 1, 1, 0], [1, 1, 1, 1], [1, 1, 1, 0]]\n",
      "[[0, 1, 1, 1], [1, 1, 1, 1], [0, 1, 1, 1], [1, 1, 1, 0]]\n",
      "[[0, 1, 1, 1], [1, 1, 1, 1], [1, 0, 1, 1], [1, 1, 1, 0]]\n",
      "[[0, 1, 1, 1], [1, 1, 1, 1], [1, 1, 0, 1], [1, 1, 1, 0]]\n",
      "[[0, 1, 1, 1], [1, 1, 1, 1], [1, 1, 1, 0], [1, 1, 1, 0]]\n",
      "[[0, 1, 1, 1], [1, 1, 1, 1], [1, 1, 1, 1], [0, 1, 1, 0]]\n",
      "[[0, 1, 1, 1], [1, 1, 1, 1], [1, 1, 1, 1], [1, 0, 1, 0]]\n",
      "[[0, 1, 1, 1], [1, 1, 1, 1], [1, 1, 1, 1], [1, 1, 0, 0]]\n",
      "1\n"
     ]
    }
   ],
   "source": [
    "from collections import deque\n",
    "def bfs(tmp_graph,queue):\n",
    "    check=217000000\n",
    "    while queue:\n",
    "        x,y=queue.popleft()\n",
    "        #동서남북 탐색\n",
    "        for i in range(4):\n",
    "            nx=x+dx[i]\n",
    "            ny=y+dy[i]\n",
    "            \n",
    "            #이탈하면 무시\n",
    "            if nx<0 or nx>=n or ny<0 or ny>=m:\n",
    "                continue\n",
    "                \n",
    "            #빈 공간 만나면 +1\n",
    "            if tmp_graph[nx][ny]==0:\n",
    "                tmp_graph[nx][ny]=tmp_graph[x][y]+1\n",
    "                queue.append((nx,ny))\n",
    "    print(tmp_graph)\n",
    "    if tmp_graph[n-1][m-1]!=0 or tmp_graph[n-1][m-1]!=1:\n",
    "        tmp_graph[n-1][m-1]+=1\n",
    "        return tmp_graph[n-1][m-1]\n",
    "    else :\n",
    "        return 217000000\n",
    "    \n",
    "    \n",
    "    \n",
    "n,m=map(int,input().split())\n",
    "graph=[[0,1,1,1],\n",
    "      [1,1,1,1],\n",
    "      [1,1,1,1],\n",
    "      [1,1,1,0],\n",
    "      ]\n",
    "one_set=deque()\n",
    "#그래프를 입력받고 1의 인덱스받기\n",
    "for i in range(n):\n",
    "#     graph.append(list(map(int,input())))\n",
    "    for j in range(m):\n",
    "        #1의 갯수 카운트\n",
    "        if graph[i][j]==1:\n",
    "            one_set.append((i,j))\n",
    "# print(one_set)\n",
    "#동서남북\n",
    "dx=[0,0,1,-1]\n",
    "dy=[1,-1,0,0]\n",
    "queue=deque()\n",
    "\n",
    "#0,0에서 출발\n",
    "queue.append((0,0))\n",
    "ans=217000000\n",
    "#1의 개수만큼 진행\n",
    "for _ in range(len(one_set)):\n",
    "    #임시 그래프 생성\n",
    "    tmp_graph= [[] for i in range(n)]\n",
    "    #graph 복사\n",
    "    for i in range(n):\n",
    "        tmp_graph[i]=graph[i][:]\n",
    "    \n",
    "    #tmp_graph 탐색\n",
    "    for x,y in one_set:\n",
    "#         print(tmp_graph)\n",
    "        tmp_graph[x][y]=0\n",
    "        queue=deque()\n",
    "        queue.append((0,0))\n",
    "        one_set.popleft()\n",
    "        tmp_ans=bfs(tmp_graph,queue)\n",
    "        if tmp_ans<ans:\n",
    "            ans=tmp_ans\n",
    "        break\n",
    "print(ans)\n"
   ]
  },
  {
   "cell_type": "code",
   "execution_count": 85,
   "metadata": {},
   "outputs": [
    {
     "data": {
      "text/plain": [
       "1"
      ]
     },
     "execution_count": 85,
     "metadata": {},
     "output_type": "execute_result"
    }
   ],
   "source": [
    "ans"
   ]
  },
  {
   "cell_type": "code",
   "execution_count": 55,
   "metadata": {},
   "outputs": [
    {
     "data": {
      "text/plain": [
       "[[2, 1, 2, 3],\n",
       " [1, 1, 1, 4],\n",
       " [1, 7, 6, 5],\n",
       " [9, 8, 7, 6],\n",
       " [10, 1, 1, 7],\n",
       " [11, 10, 9, 8]]"
      ]
     },
     "execution_count": 55,
     "metadata": {},
     "output_type": "execute_result"
    }
   ],
   "source": [
    "tmp_graph"
   ]
  }
 ],
 "metadata": {
  "kernelspec": {
   "display_name": "Python 3",
   "language": "python",
   "name": "python3"
  },
  "language_info": {
   "codemirror_mode": {
    "name": "ipython",
    "version": 3
   },
   "file_extension": ".py",
   "mimetype": "text/x-python",
   "name": "python",
   "nbconvert_exporter": "python",
   "pygments_lexer": "ipython3",
   "version": "3.7.6"
  }
 },
 "nbformat": 4,
 "nbformat_minor": 4
}
