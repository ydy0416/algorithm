{
 "cells": [
  {
   "cell_type": "code",
   "execution_count": 18,
   "metadata": {
    "scrolled": true
   },
   "outputs": [
    {
     "name": "stdout",
     "output_type": "stream",
     "text": [
      "6 5\n",
      "01000\n",
      "01000\n",
      "01000\n",
      "00010\n",
      "11111\n",
      "11110\n",
      "0 0 0 0\n",
      "0 1 1 1\n",
      "1 0 1 0\n",
      "0 2 2 1\n",
      "0 0 2 1\n",
      "1 1 2 1\n",
      "2 0 2 0\n",
      "0 0 2 0\n",
      "0 3 3 1\n",
      "1 2 3 1\n",
      "1 2 3 1\n",
      "2 1 3 1\n",
      "3 0 3 0\n",
      "1 0 3 0\n",
      "0 4 4 1\n",
      "1 3 4 1\n",
      "1 3 4 1\n",
      "2 2 4 1\n",
      "1 3 4 1\n",
      "2 2 4 1\n",
      "2 2 4 1\n",
      "3 1 4 1\n",
      "3 1 4 0\n",
      "4 0 4 1\n",
      "2 0 4 0\n",
      "0 0 4 0\n",
      "1 4 5 1\n",
      "1 4 5 1\n",
      "2 3 5 1\n",
      "1 4 5 1\n",
      "2 3 5 1\n",
      "2 3 5 1\n",
      "3 2 5 1\n",
      "1 4 5 1\n",
      "2 3 5 1\n",
      "2 3 5 1\n",
      "3 2 5 1\n",
      "2 3 5 1\n",
      "3 2 5 1\n",
      "3 2 5 1\n",
      "3 2 5 0\n",
      "3 0 5 0\n",
      "4 1 5 1\n",
      "2 4 6 1\n",
      "2 4 6 1\n",
      "2 4 6 1\n",
      "2 4 6 1\n",
      "2 4 6 1\n",
      "2 4 6 1\n",
      "2 4 6 1\n",
      "2 4 6 1\n",
      "2 4 6 1\n",
      "2 4 6 1\n",
      "3 3 6 1\n",
      "3 1 6 0\n",
      "4 2 6 1\n",
      "2 2 6 0\n",
      "3 4 7 1\n",
      "3 4 7 1\n",
      "3 4 7 1\n",
      "3 4 7 1\n",
      "3 4 7 1\n",
      "3 4 7 1\n",
      "3 4 7 1\n",
      "3 4 7 1\n",
      "3 4 7 1\n",
      "3 4 7 1\n",
      "3 4 7 1\n",
      "3 2 7 0\n",
      "2 3 7 0\n",
      "1 2 7 0\n",
      "2 4 8 0\n",
      "1 3 8 0\n",
      "0 2 8 0\n",
      "3 4 9 0\n",
      "1 4 9 0\n",
      "0 3 9 0\n",
      "4 4 10 1\n",
      "0 4 10 0\n",
      "5 4 11 1\n",
      "12\n"
     ]
    }
   ],
   "source": [
    "from collections import deque\n",
    "\n",
    "n,m=map(int,input().split())\n",
    "graph=[]\n",
    "for i in range(n):\n",
    "    graph.append(list(map(int, input())))\n",
    "visit=[[2147000000]*m for i in range(n)]\n",
    "visit2=[[False]*m for i in range(n)]\n",
    "#동서남북\n",
    "dx=[0,0,1,-1]\n",
    "dy=[1,-1,0,0]\n",
    "q=deque()\n",
    "q.append((0,0,0,0))\n",
    "while q:\n",
    "    x,y,dis,wall=q.popleft()\n",
    "    print(x,y,dis,wall)\n",
    "    for i in range(4):\n",
    "        nx=x+dx[i]\n",
    "        ny=y+dy[i]\n",
    "        #범위이탈\n",
    "        if nx<0 or nx>=n or ny<0 or ny>=m:\n",
    "            continue\n",
    "        #이동 가능한 칸\n",
    "        if graph[nx][ny]==0:\n",
    "            #최단거리가 작은경우 or 최단거리가 크더라도 벽을 안뚫고 왔으면 큐에 넣기\n",
    "            if dis+1<=visit[nx][ny] :\n",
    "                visit[nx][ny]=dis+1\n",
    "                q.append((nx,ny,dis+1,wall))\n",
    "            elif visit2[nx][ny]==False and wall==0:\n",
    "                visit2[nx][ny]=True\n",
    "                q.append((nx,ny,dis+1,wall))\n",
    "                \n",
    "        #이동 불가능한 칸\n",
    "        elif graph[nx][ny]==1 and wall==0:\n",
    "            if dis+1<visit[nx][ny]:\n",
    "                visit[nx][ny]=dis+1\n",
    "                q.append((nx,ny,dis+1,wall+1))\n",
    "if visit[n-1][m-1]!=2147000000:\n",
    "    print(visit[n-1][m-1]+1)\n",
    "else:\n",
    "    print(-1)"
   ]
  },
  {
   "cell_type": "code",
   "execution_count": 12,
   "metadata": {},
   "outputs": [
    {
     "data": {
      "text/plain": [
       "[[2, 1, 2, 3, 4],\n",
       " [1, 2, 3, 4, 5],\n",
       " [2, 3, 4, 5, 6],\n",
       " [3, 4, 5, 6, 7],\n",
       " [4, 5, 6, 2147000000, 2147000000],\n",
       " [2147000000, 2147000000, 2147000000, 2147000000, 2147000000]]"
      ]
     },
     "execution_count": 12,
     "metadata": {},
     "output_type": "execute_result"
    }
   ],
   "source": [
    "visit"
   ]
  },
  {
   "cell_type": "code",
   "execution_count": 16,
   "metadata": {},
   "outputs": [
    {
     "data": {
      "text/plain": [
       "[[True, False, True, True, True],\n",
       " [True, False, True, True, True],\n",
       " [True, False, True, True, True],\n",
       " [True, True, True, False, True],\n",
       " [False, False, False, False, False],\n",
       " [False, False, False, False, False]]"
      ]
     },
     "execution_count": 16,
     "metadata": {},
     "output_type": "execute_result"
    }
   ],
   "source": [
    "visit2"
   ]
  }
 ],
 "metadata": {
  "kernelspec": {
   "display_name": "Python 3",
   "language": "python",
   "name": "python3"
  },
  "language_info": {
   "codemirror_mode": {
    "name": "ipython",
    "version": 3
   },
   "file_extension": ".py",
   "mimetype": "text/x-python",
   "name": "python",
   "nbconvert_exporter": "python",
   "pygments_lexer": "ipython3",
   "version": "3.7.6"
  }
 },
 "nbformat": 4,
 "nbformat_minor": 4
}
