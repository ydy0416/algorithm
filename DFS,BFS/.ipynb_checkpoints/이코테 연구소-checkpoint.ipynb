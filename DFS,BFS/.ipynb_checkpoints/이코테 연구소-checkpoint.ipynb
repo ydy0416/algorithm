{
 "cells": [
  {
   "cell_type": "code",
   "execution_count": 14,
   "metadata": {
    "scrolled": true
   },
   "outputs": [
    {
     "name": "stdout",
     "output_type": "stream",
     "text": [
      "4 6\n",
      "0 0 0 0 0 0\n",
      "1 0 0 0 0 2\n",
      "1 1 1 0 0 2\n",
      "0 0 0 0 0 2\n"
     ]
    },
    {
     "data": {
      "text/plain": [
       "9"
      ]
     },
     "execution_count": 14,
     "metadata": {},
     "output_type": "execute_result"
    }
   ],
   "source": [
    "from collections import deque\n",
    "from itertools import combinations\n",
    "def bfs(tmp_graph,tmp_queue):\n",
    "    while tmp_queue:\n",
    "        x,y=tmp_queue.popleft()\n",
    "        #동서남북 탐색\n",
    "        for i in range(4):\n",
    "            nx=x+dx[i]\n",
    "            ny=y+dy[i]\n",
    "            #탐색범위가 그래프 이탈시 무시\n",
    "            if nx<0 or nx>=n or ny<0 or ny>=m:\n",
    "                continue\n",
    "            elif tmp_graph[nx][ny]==1 or tmp_graph[nx][ny]==2:\n",
    "                continue\n",
    "            #그래프가 0이면 전염\n",
    "            elif tmp_graph[nx][ny]==0:\n",
    "                tmp_graph[nx][ny]=2\n",
    "                tmp_queue.append((nx,ny))\n",
    "    count=0\n",
    "    for i in range(n):\n",
    "        for j in range(m):\n",
    "            if tmp_graph[i][j]==0:\n",
    "                 count+=1\n",
    "    return count\n",
    "n,m=map(int,input().split())\n",
    "graph=[]\n",
    "queue=deque()\n",
    "empty=[]\n",
    "#그래프입력받기& 바이러스 인덱스&빈 공간 인덱스 \n",
    "for i in range(n):\n",
    "    graph.append(list(map(int, input().split())))\n",
    "    for j in range(m):\n",
    "        if graph[i][j]==2:\n",
    "            queue.append((i,j))\n",
    "        if graph[i][j]==0:\n",
    "            empty.append((i,j))\n",
    "\n",
    "\n",
    "#동서남북\n",
    "dx=[0,0,1,-1]\n",
    "dy=[1,-1,0,0]\n",
    "\n",
    "value=[]\n",
    "#벽 세울 조합\n",
    "wall_set=list(combinations(empty,3))\n",
    "#임시 그래프 생성\n",
    "for set in wall_set:\n",
    "    tmp_graph=[[] for _ in range(n)]\n",
    "    tmp_queue=deque()\n",
    "    #그래프 복사\n",
    "    for i in range(n):\n",
    "        tmp_graph[i]=graph[i][:]\n",
    "    for i in queue:\n",
    "        tmp_queue.append(i)\n",
    "    for x,y in set:\n",
    "        tmp_graph[x][y]=1\n",
    "    value.append(bfs(tmp_graph,tmp_queue))      \n",
    "max(value)"
   ]
  },
  {
   "cell_type": "code",
   "execution_count": 3,
   "metadata": {},
   "outputs": [
    {
     "data": {
      "text/plain": [
       "41664"
      ]
     },
     "execution_count": 3,
     "metadata": {},
     "output_type": "execute_result"
    }
   ],
   "source": [
    "64*21*31"
   ]
  }
 ],
 "metadata": {
  "kernelspec": {
   "display_name": "Python 3",
   "language": "python",
   "name": "python3"
  },
  "language_info": {
   "codemirror_mode": {
    "name": "ipython",
    "version": 3
   },
   "file_extension": ".py",
   "mimetype": "text/x-python",
   "name": "python",
   "nbconvert_exporter": "python",
   "pygments_lexer": "ipython3",
   "version": "3.7.6"
  }
 },
 "nbformat": 4,
 "nbformat_minor": 4
}
