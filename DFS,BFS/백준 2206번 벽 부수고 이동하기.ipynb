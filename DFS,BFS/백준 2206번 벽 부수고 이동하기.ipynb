{
 "cells": [
  {
   "cell_type": "code",
   "execution_count": 9,
   "metadata": {
    "scrolled": false
   },
   "outputs": [
    {
     "name": "stdout",
     "output_type": "stream",
     "text": [
      "6 4\n",
      "0100\n",
      "1110\n",
      "1000\n",
      "0000\n",
      "0111\n",
      "0000\n",
      "15\n"
     ]
    }
   ],
   "source": [
    "from collections import deque\n",
    "import sys\n",
    "def bfs(tmp_graph,queue):\n",
    "    while queue:\n",
    "        x,y=queue.popleft()\n",
    "        #동서남북 탐색\n",
    "        for i in range(4):\n",
    "            nx=x+dx[i]\n",
    "            ny=y+dy[i]\n",
    "            \n",
    "            #이탈하면 무시\n",
    "            if nx<0 or nx>=n or ny<0 or ny>=m:\n",
    "                continue\n",
    "                \n",
    "            #빈 공간 만나면 +1\n",
    "            if tmp_graph[nx][ny]==0:\n",
    "                tmp_graph[nx][ny]=tmp_graph[x][y]+1\n",
    "                queue.append((nx,ny))\n",
    "    \n",
    "    #마지막 좌표가 0과 1이 아닐시\n",
    "    if tmp_graph[n-1][m-1]!=0 and tmp_graph[n-1][m-1]!=1:\n",
    "        tmp_graph[n-1][m-1]+=1\n",
    "        return tmp_graph[n-1][m-1]\n",
    "    else :\n",
    "        return 2147000000\n",
    "    \n",
    "n,m=map(int,input().split())\n",
    "one_set=[]\n",
    "\n",
    "# graph=[\n",
    "#     [0,1,0,0],\n",
    "#     [1,1,1,0],\n",
    "#     [1,0,0,0],\n",
    "#     [0,0,0,0],\n",
    "#     [0,1,1,1],\n",
    "#     [0,0,0,0]\n",
    "#     ]\n",
    "graph=[]\n",
    "\n",
    "#그래프를 입력받고 벽의 인덱스받기\n",
    "for i in range(n):\n",
    "    data=int(sys.stdin.readline())\n",
    "    graph.append(list(map(int,sys.stdin.readline())))\n",
    "    for j in range(m):\n",
    "        #벽의 인덱스 받기\n",
    "        if graph[i][j]==1:\n",
    "            one_set.append([i,j])\n",
    "# print(one_set)\n",
    "\n",
    "#동서남북\n",
    "dx=[0,0,1,-1]\n",
    "dy=[1,-1,0,0]\n",
    "\n",
    "#ans초기값\n",
    "ans=2147000000\n",
    "\n",
    "#1의 개수만큼 진행\n",
    "for k in range(len(one_set)):\n",
    "    #임시 그래프 생성\n",
    "    tmp_graph= [[] for i in range(n)]\n",
    "    for i in range(n):\n",
    "        tmp_graph[i]=graph[i][:]\n",
    "    \n",
    "    #x,y좌표 가져오고 해당 좌표에 0대입\n",
    "    a,b=one_set[k]\n",
    "    tmp_graph[a][b]=0\n",
    "#     print(tmp_graph)\n",
    "    \n",
    "    #큐 갱신\n",
    "    queue=deque()\n",
    "    queue.append((0,0))\n",
    "    tmp_ans=bfs(tmp_graph,queue)\n",
    "    if tmp_ans!=2147000000:\n",
    "         if tmp_ans<ans:\n",
    "            ans=tmp_ans\n",
    "            \n",
    "if ans==2147000000:\n",
    "    print(-1)\n",
    "else:\n",
    "    print(ans)\n"
   ]
  },
  {
   "cell_type": "code",
   "execution_count": 34,
   "metadata": {},
   "outputs": [
    {
     "name": "stdout",
     "output_type": "stream",
     "text": [
      "6 4\n",
      "15\n"
     ]
    }
   ],
   "source": [
    "from collections import deque\n",
    "\n",
    "dx = [-1, 1, 0, 0]\n",
    "dy = [0, 0, -1, 1]\n",
    "\n",
    "def bfs(cnt):\n",
    "    q = deque()\n",
    "    q.appendleft([0, 0, 0])\n",
    "    visited[0][0] = 0\n",
    "\n",
    "    x = n-1\n",
    "    y = m-1\n",
    "    stage = 0\n",
    "\n",
    "    while q:\n",
    "        stage += 1\n",
    "        for z in range(len(q)):\n",
    "            tmp_x, tmp_y, tmp_cnt = q.pop()\n",
    "            for i in range(4):\n",
    "                mx = tmp_x + dx[i]\n",
    "                my = tmp_y + dy[i]\n",
    "\n",
    "                if (mx, my) == (x, y):\n",
    "                    return stage+1\n",
    "                \n",
    "                # 나가면\n",
    "                if mx < 0 or mx >= n or my < 0 or my >= m:\n",
    "                    continue\n",
    "                \n",
    "                if frame[mx][my] == 0:\n",
    "                    if visited[mx][my] > stage:\n",
    "                        q.appendleft([mx, my, tmp_cnt])\n",
    "                        visited[mx][my] = stage\n",
    "                        visited2[mx][my] = tmp_cnt\n",
    "                    else:\n",
    "                        if visited2[mx][my] == 1 and tmp_cnt == 0:\n",
    "                            q.appendleft([mx, my, tmp_cnt])\n",
    "                            visited[mx][my] = stage\n",
    "                            visited2[mx][my] = tmp_cnt\n",
    "                else:\n",
    "                    if tmp_cnt == cnt:\n",
    "                        continue\n",
    "                    else:\n",
    "                        q.appendleft([mx, my, tmp_cnt+1])\n",
    "                        visited[mx][my] = stage\n",
    "                        visited2[mx][my] = tmp_cnt+1\n",
    "                \n",
    "    return -1\n",
    "\n",
    "n, m = map(int, input().split())\n",
    "\n",
    "if (n, m) != (1, 1):\n",
    "    frame=[\n",
    "         [0, 1, 0, 0],\n",
    "         [1, 1, 1, 0],\n",
    "         [1, 0, 0, 0],\n",
    "         [0, 0, 0, 0],\n",
    "         [0, 1, 1, 1],\n",
    "         [0, 0, 0, 0]]\n",
    "#     frame = []\n",
    "    cnt = 1\n",
    "    visited = [[2147000000]*m for _ in range(n)]\n",
    "    visited2 = [[0]*m for _ in range(n)]\n",
    "\n",
    "#     for i in range(n):\n",
    "#         frame.append(list(map(int,input())))\n",
    "\n",
    "    ans = bfs(cnt)\n",
    "\n",
    "else:\n",
    "    ans = 1\n",
    "\n",
    "print(ans)"
   ]
  },
  {
   "cell_type": "code",
   "execution_count": 32,
   "metadata": {
    "scrolled": true
   },
   "outputs": [
    {
     "data": {
      "text/plain": [
       "[[0, 1, 0, 0],\n",
       " [1, 1, 1, 0],\n",
       " [1, 0, 0, 0],\n",
       " [0, 0, 0, 0],\n",
       " [0, 1, 1, 1],\n",
       " [0, 0, 0, 0]]"
      ]
     },
     "execution_count": 32,
     "metadata": {},
     "output_type": "execute_result"
    }
   ],
   "source": [
    "frame"
   ]
  },
  {
   "cell_type": "code",
   "execution_count": 37,
   "metadata": {},
   "outputs": [
    {
     "data": {
      "text/plain": [
       "[[0, 1, 1, 1],\n",
       " [1, 0, 0, 1],\n",
       " [0, 1, 1, 1],\n",
       " [1, 1, 1, 1],\n",
       " [1, 0, 0, 0],\n",
       " [1, 1, 1, 0]]"
      ]
     },
     "execution_count": 37,
     "metadata": {},
     "output_type": "execute_result"
    }
   ],
   "source": [
    "visited2"
   ]
  }
 ],
 "metadata": {
  "kernelspec": {
   "display_name": "Python 3",
   "language": "python",
   "name": "python3"
  },
  "language_info": {
   "codemirror_mode": {
    "name": "ipython",
    "version": 3
   },
   "file_extension": ".py",
   "mimetype": "text/x-python",
   "name": "python",
   "nbconvert_exporter": "python",
   "pygments_lexer": "ipython3",
   "version": "3.7.6"
  }
 },
 "nbformat": 4,
 "nbformat_minor": 4
}
