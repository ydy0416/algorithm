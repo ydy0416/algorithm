{
 "cells": [
  {
   "cell_type": "code",
   "execution_count": 23,
   "metadata": {
    "scrolled": true
   },
   "outputs": [
    {
     "name": "stdout",
     "output_type": "stream",
     "text": [
      "6 4\n",
      "0100\n",
      "1110\n",
      "1000\n",
      "0000\n",
      "0111\n",
      "0000\n",
      "15\n"
     ]
    }
   ],
   "source": [
    "from collections import deque\n",
    "\n",
    "n,m=map(int,input().split())\n",
    "graph=[]\n",
    "for i in range(n):\n",
    "    graph.append(list(map(int, input())))\n",
    "\n",
    "#최단거리, 방문처리\n",
    "visited = [[[0] * 2 for i in range(m)] for i in range(n)]\n",
    "visit2=[[0]*m for i in range(n)]\n",
    "#동서남북\n",
    "dx=[0,0,1,-1]\n",
    "dy=[1,-1,0,0]\n",
    "q=deque()\n",
    "#x,y,거리,벽뚫유무\n",
    "q.append((0,0,0,0))\n",
    "while q:\n",
    "#     print(q)\n",
    "    x,y,dis,wall=q.popleft()\n",
    "    for i in range(4):\n",
    "        nx=x+dx[i]\n",
    "        ny=y+dy[i]\n",
    "        #범위이탈\n",
    "        if nx<0 or nx>=n or ny<0 or ny>=m:\n",
    "            continue\n",
    "        #이동 가능한 칸\n",
    "        if graph[nx][ny]==0 and wall==1: #벽을 한번 뚫었을 때\n",
    "            visited[nx][ny][0]=visited[x][y][0]+1\n",
    "            q.append([nx,ny,dis,wall])\n",
    "            \n",
    "        #이동 불가능한 칸\n",
    "        elif graph[nx][ny]==1 and wall==0:\n",
    "            q.append((nx,ny,dis+1,wall+1))\n",
    "if visited[n-1][m-1][0]!=0:\n",
    "    print(visited[n-1][m-1][0]+1)\n",
    "else:\n",
    "    print(-1)"
   ]
  }
 ],
 "metadata": {
  "kernelspec": {
   "display_name": "Python 3",
   "language": "python",
   "name": "python3"
  },
  "language_info": {
   "codemirror_mode": {
    "name": "ipython",
    "version": 3
   },
   "file_extension": ".py",
   "mimetype": "text/x-python",
   "name": "python",
   "nbconvert_exporter": "python",
   "pygments_lexer": "ipython3",
   "version": "3.7.6"
  }
 },
 "nbformat": 4,
 "nbformat_minor": 4
}
