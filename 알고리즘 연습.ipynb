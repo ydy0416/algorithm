{
 "cells": [
  {
   "cell_type": "code",
   "execution_count": null,
   "metadata": {},
   "outputs": [],
   "source": [
    "T=int(input())\n",
    "\n",
    "for i in range(1,T+1):\n",
    "    sum=0\n",
    "    nums = list( map ( int, input().split() ) )\n",
    "    for num in nums:   #리스트를 전부 돌리고 싶을 때\n",
    "        if num % 2 == 1:\n",
    "            sum+=num\n",
    "    print(\"#%d %d\"%(i, sum))\n",
    "    "
   ]
  },
  {
   "cell_type": "code",
   "execution_count": null,
   "metadata": {},
   "outputs": [],
   "source": [
    "# 10개의 수를 입력 받아, 평균값을 출력하는 프로그램을 작성하라.\n",
    "#(소수점 첫째 자리에서 반올림한 정수를 출력한다.)\n",
    "# [제약 사항]\n",
    "# 각 수는 0 이상 10000 이하의 정수이다\n",
    "# [입력]\n",
    "# 가장 첫 줄에는 테스트 케이스의 개수 T가 주어지고, 그 아래로 각 테스트 케이스가 주어진다.\n",
    "# 각 테스트 케이스의 첫 번째 줄에는 10개의 수가 주어진다.\n",
    "# [출력]\n",
    "# 출력의 각 줄은 '#t'로 시작하고, 공백을 한 칸 둔 다음 정답을 출력한다.\n",
    "# (t는 테스트 케이스의 번호를 의미하며 1부터 시작한다.)\n",
    "\n",
    "T=int(input())\n",
    "for i in range(1,T+1):\n",
    "    sum=0\n",
    "    num=list(map(int, input().split()))\n",
    "    for n in num:\n",
    "        sum+=n\n",
    "        \n",
    "    avg=sum/10\n",
    "    print(\"#%d %d\"%(i, round(avg,0))) #반올림.\n",
    "            \n",
    "\n",
    "\n",
    "\n"
   ]
  },
  {
   "cell_type": "code",
   "execution_count": null,
   "metadata": {},
   "outputs": [],
   "source": [
    "# 중간값은 통계 집단의 수치를 크기 순으로 배열 했을 때 전체의 중앙에 위치하는 수치를 뜻한다.\n",
    "\n",
    "# 입력으로 N 개의 점수가 주어졌을 때, 중간값을 출력하라.\n",
    "\n",
    "# [예제]\n",
    "\n",
    "# N이 9 이고, 9개의 점수가 아래와 같이 주어질 경우,\n",
    "\n",
    "# 85 72 38 80 69 65 68 96 22\n",
    "\n",
    "# 69이 중간값이 된다.\n",
    "\n",
    "# [제약 사항]\n",
    "\n",
    "# 1. N은 항상 홀수로 주어진다.\n",
    "\n",
    "# 2. N은 9이상 199 이하의 정수이다. (9 ≤ N ≤ 199)\n",
    "\n",
    "# [입력]\n",
    "\n",
    "# 입력은 첫 줄에 N 이 주어진다.\n",
    "\n",
    "# 둘째 줄에 N 개의 점수가 주어진다.\n",
    "\n",
    "# [출력]\n",
    "\n",
    "# N 개의 점수들 중, 중간값에 해당하는 점수를 정답으로 출력한다.\n",
    "\n",
    "N=int(input()) #N은 항상 홀수, 중간값이 명확함\n",
    "num=list(map(int, input().split()))\n",
    "num.sort()\n",
    "print(num)\n",
    "num[(N-1)//2]"
   ]
  },
  {
   "cell_type": "markdown",
   "metadata": {},
   "source": [
    "R1, S=map(int,input().split())\n",
    "\n",
    "R2=2*S-R1\n",
    "print(\"%d\"%R2)"
   ]
  },
  {
   "cell_type": "code",
   "execution_count": null,
   "metadata": {},
   "outputs": [],
   "source": [
    "# Hello World!를 출력하시오.\n",
    "print(\"Hello World!\")"
   ]
  },
  {
   "cell_type": "code",
   "execution_count": null,
   "metadata": {},
   "outputs": [],
   "source": [
    "A, B = map(int,input().split()) #map은 각 문자열을 int형으로 변환해주는 역할\n",
    "print(A+B)"
   ]
  },
  {
   "cell_type": "code",
   "execution_count": null,
   "metadata": {},
   "outputs": [],
   "source": [
    "A, B=map(int, input().split())\n",
    "print(A/B)"
   ]
  },
  {
   "cell_type": "code",
   "execution_count": null,
   "metadata": {
    "scrolled": true
   },
   "outputs": [],
   "source": [
    "A, B=map(int, input().split())\n",
    "print(A+B)\n",
    "print(A-B)\n",
    "print(A*B)\n",
    "print(round(A/B))\n",
    "print(A%B)"
   ]
  },
  {
   "cell_type": "code",
   "execution_count": null,
   "metadata": {},
   "outputs": [],
   "source": [
    "A, B, C=map(int, input().split())\n",
    "print((A+B)%C)\n",
    "print(((A%C)+(B%C))%C)\n",
    "print((A*B)%C)\n",
    "print((A%C)*(B%C)%C)"
   ]
  },
  {
   "cell_type": "code",
   "execution_count": null,
   "metadata": {},
   "outputs": [],
   "source": [
    "A=int(input())\n",
    "B=int(input())\n",
    "C=B%10\n",
    "D=B//10%10\n",
    "E=B//100\n",
    "print(A*C)\n",
    "print(A*D)\n",
    "print(A*E)\n",
    "print((A*C)+(A*D*10)+(A*E*100))"
   ]
  },
  {
   "cell_type": "code",
   "execution_count": null,
   "metadata": {},
   "outputs": [],
   "source": [
    "R1,S=map(int,input().split())\n",
    "R2=S*2-R1\n",
    "print(R2)"
   ]
  },
  {
   "cell_type": "code",
   "execution_count": null,
   "metadata": {},
   "outputs": [],
   "source": [
    "N, M=map(int, input().split())\n",
    "count=0\n",
    "if(N%2==0 or M%2==0):\n",
    "    for(N)\n"
   ]
  },
  {
   "cell_type": "code",
   "execution_count": null,
   "metadata": {},
   "outputs": [],
   "source": [
    "#초콜릿 자르기\n",
    "N,M=map(int, input().split())\n",
    "cnt=0\n",
    "if(N%2==0orM%2==0):\n",
    "    cnt=(N-1)+N*(M-1)\n",
    "else:\n",
    "    cnt=(N-1)+N*(M-1)"
   ]
  },
  {
   "cell_type": "code",
   "execution_count": null,
   "metadata": {},
   "outputs": [],
   "source": [
    "N,M=map(int, input().split())\n",
    "cnt=0\n",
    "cnt=(N-1)+N*(M-1)\n",
    "print(cnt)"
   ]
  },
  {
   "cell_type": "code",
   "execution_count": null,
   "metadata": {},
   "outputs": [],
   "source": [
    "T=int(input())\n",
    "for i in range(1, T+1):\n",
    "    A, B=map(int, input().split())\n",
    "    print('Case #{}: {}'.format(i,A+B))"
   ]
  },
  {
   "cell_type": "code",
   "execution_count": null,
   "metadata": {},
   "outputs": [],
   "source": [
    "T=int(input())\n",
    "for i in range(1,T+1):\n",
    "    A, B=map(int, input().split())\n",
    "    print(\"Case #{}: {} + {} = {}\".format(i,A,B,A+B))"
   ]
  },
  {
   "cell_type": "code",
   "execution_count": null,
   "metadata": {
    "scrolled": true
   },
   "outputs": [],
   "source": [
    "from datetime import datetime #오늘 날짜 출력하기\n",
    "now=datetime.now()\n",
    "a=now.strftime('%Y-%m-%d')\n",
    "print(a)"
   ]
  },
  {
   "cell_type": "code",
   "execution_count": null,
   "metadata": {},
   "outputs": [],
   "source": [
    "print(\"13\\n\")\n",
    "print(\"ydy016\")"
   ]
  },
  {
   "cell_type": "code",
   "execution_count": null,
   "metadata": {},
   "outputs": [],
   "source": [
    "sthour, stminute=map(int, input().split())\n",
    "timeRequired=int(input())\n",
    "if(stminute+timeRequired>=60):\n",
    "    hour=(stminute+timeRequired)//60\n",
    "    sthour+=hour\n",
    "    stminute=(stminute+timeRequired)%60\n",
    "    if(sthour>=24):\n",
    "        sthour%=24\n",
    "else:\n",
    "    stminute=stminute+timeRequired\n",
    "print(sthour, stminute)"
   ]
  },
  {
   "cell_type": "code",
   "execution_count": null,
   "metadata": {},
   "outputs": [],
   "source": [
    "sthour, stminute, stseconds=map(int, input().split())\n",
    "rqdsecond=int(input())\n",
    "stminute1=(stminute+(stseconds+rqdsecond)//60)%60\n",
    "stminute=stminute+(stseconds+rqdsecond)//60\n",
    "stseconds=(stseconds+rqdsecond)%60\n",
    "sthour=(sthour+stminute//60)%24\n",
    "print(sthour,stminute1,stseconds)"
   ]
  },
  {
   "cell_type": "code",
   "execution_count": null,
   "metadata": {},
   "outputs": [],
   "source": [
    "A, I=map(int,input().split())\n",
    "print(A*(I-1)+1)"
   ]
  },
  {
   "cell_type": "code",
   "execution_count": null,
   "metadata": {},
   "outputs": [],
   "source": [
    "# @는 3을 곱하고, %는 5를 더하며, #는 7을 빼는 연산자이다\n",
    "T=int(input())\n",
    "\n",
    "for i in range(1,T+1):\n",
    "    A=list(map(str, input().split()))\n",
    "    answer=0\n",
    "    for j in range(len(A)):\n",
    "        if(j==0):\n",
    "            answer+=float(A[j])\n",
    "        else:\n",
    "            if A[j]=='@':\n",
    "                answer*=3\n",
    "            elif A[j]=='%':\n",
    "                answer+=5\n",
    "            elif A[j]=='#':\n",
    "                 answer-=7\n",
    "    print('%.2f'%(answer))"
   ]
  },
  {
   "cell_type": "code",
   "execution_count": null,
   "metadata": {},
   "outputs": [],
   "source": [
    "T=int(input())\n",
    "for _ in range(1,T+1):\n",
    "    R, S=input().split() #R은 각 문자를 반복할 횟수, S는 문자열\n",
    "    R=int(R)\n",
    "    N=\" \".join(S)\n",
    "    for i in range(1, R+1):\n",
    "        P+=\n",
    "        "
   ]
  },
  {
   "cell_type": "code",
   "execution_count": null,
   "metadata": {},
   "outputs": [],
   "source": [
    "### 백준 파이썬 문제집 2675번 문제\n",
    "\n",
    "T=int(input())\n",
    "for _ in range(T):\n",
    "    num, s=input().split()\n",
    "    P=''\n",
    "    for i in s:\n",
    "        P+=int(num)*i\n",
    "    print(P)\n",
    "    \n",
    "#참고\n",
    "# s='abc'\n",
    "# for i in s:\n",
    "#     print(i)\n"
   ]
  },
  {
   "cell_type": "code",
   "execution_count": null,
   "metadata": {},
   "outputs": [],
   "source": [
    "# 백준 파이썬 문제집 2935번 문제\n",
    "A=int(input())\n",
    "B=input()\n",
    "C=int(input())\n",
    "if(B=='+'):\n",
    "    print(A+C)\n",
    "else:\n",
    "    print(A*C)"
   ]
  },
  {
   "cell_type": "code",
   "execution_count": null,
   "metadata": {},
   "outputs": [],
   "source": [
    "# 백준 파이썬 문제집 9498번 문제\n",
    "score=int(input())\n",
    "if(score<=100 and score>=90):\n",
    "    print('A')\n",
    "elif(score>=80):\n",
    "    print('B')\n",
    "elif(score>=70):\n",
    "    print('C')\n",
    "elif(score>=60):\n",
    "    print('D')\n",
    "else:\n",
    "    print('F')"
   ]
  },
  {
   "cell_type": "code",
   "execution_count": null,
   "metadata": {},
   "outputs": [],
   "source": [
    "# 백준 파이썬 문제집 10817번 문제\n",
    "A, B, C= map(int, input().split())\n",
    "if A>=B and A>=C:\n",
    "    if B>=C:\n",
    "        M=B\n",
    "    else:\n",
    "        M=C\n",
    "if B>=A and B>=C:\n",
    "    if A>=C:\n",
    "        M=A\n",
    "    else:\n",
    "        M=C\n",
    "if C>=A and C>=B:\n",
    "    if A>=B:\n",
    "        M=A\n",
    "    else:\n",
    "        M=B\n",
    "print(M)\n",
    "    "
   ]
  },
  {
   "cell_type": "code",
   "execution_count": null,
   "metadata": {},
   "outputs": [],
   "source": [
    "# 백준 파이썬 문제집 10817번 문제 다른풀이\n",
    "a=map(int, input().split())\n",
    "b=sorted(a) #sort와 sorted 함수 차이 알아두기\n",
    "print(b[1])"
   ]
  },
  {
   "cell_type": "code",
   "execution_count": null,
   "metadata": {},
   "outputs": [],
   "source": [
    "# 백준 파이썬 문제집 11653번 문제\n",
    "N=int(input())\n",
    "while(N!=1):\n",
    "    for i in range(2, N+1):\n",
    "        if N%i==0:\n",
    "            print(i)\n",
    "            N=N//i\n",
    "            break"
   ]
  },
  {
   "cell_type": "code",
   "execution_count": null,
   "metadata": {},
   "outputs": [],
   "source": [
    "#2020/09/17\n",
    "# 백준 파이썬 문제집 1789번 문제\n",
    "S=int(input())\n"
   ]
  },
  {
   "cell_type": "code",
   "execution_count": null,
   "metadata": {},
   "outputs": [],
   "source": [
    "# 백준 파이썬 문제집 2753번 문제\n",
    "Y=int(input())\n",
    "if ((Y%4==0)):\n",
    "    if ((Y%100!=0) or (Y%400==0)):\n",
    "        print(1)\n",
    "    else:\n",
    "        print(0)\n",
    "else:\n",
    "    print(0)\n",
    "    "
   ]
  },
  {
   "cell_type": "code",
   "execution_count": null,
   "metadata": {},
   "outputs": [],
   "source": [
    "# 백준 파이썬 문제집 10039번 문제\n",
    "score=[]\n",
    "score.append(int(input()))\n",
    "score.append(int(input()))\n",
    "score.append(int(input()))\n",
    "score.append(int(input()))\n",
    "score.append(int(input()))\n",
    "sum=0\n",
    "for _ in range(len(score)):\n",
    "    if score[_]<40:\n",
    "        score[_]=40\n",
    "    sum+=score[_]\n",
    "print(int(sum/5))    "
   ]
  },
  {
   "cell_type": "code",
   "execution_count": null,
   "metadata": {},
   "outputs": [],
   "source": [
    "# 백준 파이썬 문제집 1934번 문제\n",
    "T=int(input())\n",
    "A, B=map(int, input().split())\n"
   ]
  },
  {
   "cell_type": "code",
   "execution_count": null,
   "metadata": {},
   "outputs": [],
   "source": [
    "# 백준 파이썬 문제집 번 문제\n",
    "import time\n",
    "start_time=time.time()\n",
    "\n",
    "A, B = map(int,input().split())\n",
    "print(A+B)\n",
    "end_time=time.time()\n",
    "print(\"time : \", end_time-start_time)"
   ]
  },
  {
   "cell_type": "code",
   "execution_count": null,
   "metadata": {},
   "outputs": [],
   "source": [
    "A=int(input())\n",
    "B=int(input())\n",
    "print(A+B)"
   ]
  },
  {
   "cell_type": "code",
   "execution_count": null,
   "metadata": {},
   "outputs": [],
   "source": [
    "R1, S=map(int, input().split())\n",
    "print(2*S-R1)"
   ]
  },
  {
   "cell_type": "code",
   "execution_count": null,
   "metadata": {},
   "outputs": [],
   "source": [
    "T=int(input())\n",
    "for i in range(1,T+1):\n",
    "    A, B=map(int, input().split())\n",
    "    print(\"Case #{}: {}\".format(i, A+B))\n",
    "    "
   ]
  },
  {
   "cell_type": "code",
   "execution_count": null,
   "metadata": {},
   "outputs": [],
   "source": [
    "T=int(input())\n",
    "for i in range(1,T+1):\n",
    "    A,B=map(int, input().split())\n",
    "    print(\"Case #{} : {} + {} = {}\".format(i,A,B,A+B))\n"
   ]
  },
  {
   "cell_type": "code",
   "execution_count": null,
   "metadata": {},
   "outputs": [],
   "source": [
    "A,B=map(int,input().split()) # A,B입력\n",
    "C=int(input())  #조리시간\n",
    "D=C//60\n",
    "C%=60\n",
    "A=A+D\n",
    "B=B+C\n",
    "A=A+B//60\n",
    "B%=60\n",
    "\n",
    "if(A>=24):\n",
    "    A%=24\n",
    "print(A,B)"
   ]
  },
  {
   "cell_type": "code",
   "execution_count": null,
   "metadata": {},
   "outputs": [],
   "source": [
    "T=int(input())\n",
    "list1=[]\n",
    "for i in range(0,T):\n",
    "    list1=list(map(str, input().split()))\n",
    "    list1[0]=float(list1[0]) \n",
    "    for j in range(1,len(list1)):\n",
    "        if(list1[j]==\"@\"):\n",
    "            list1[0]*=3\n",
    "        elif(list1[j]==\"%\"):\n",
    "            list1[0]+=5\n",
    "        elif(list1[j]==\"#\"):\n",
    "            list1[0]-=7\n",
    "    print(\"%.2f\"%list1[0])\n",
    "    "
   ]
  },
  {
   "cell_type": "code",
   "execution_count": null,
   "metadata": {},
   "outputs": [],
   "source": [
    "### 백준 파이썬 문제집 2675번 문제\n",
    "T=int(input())\n",
    "for _ in range(0,T):\n",
    "    answer=''\n",
    "    list1=[]\n",
    "    R, S=map(str, input().split())\n",
    "    R=int(R)\n",
    "    for i in range(0,len(S)):\n",
    "        list1.append(S[i:i+1])\n",
    "    for i in range(0,len(list1)):\n",
    "        answer+=list1[i]*R\n",
    "    print(answer)\n",
    "    \n",
    "        "
   ]
  },
  {
   "cell_type": "code",
   "execution_count": null,
   "metadata": {},
   "outputs": [],
   "source": [
    "# 백준 파이썬 문제집 번 문제\n",
    "num1=int(input())\n",
    "s=input()\n",
    "num2=int(input())\n",
    "\n",
    "if(s=='*'):\n",
    "    print(num1*num2)\n",
    "if(s=='+'):\n",
    "    print(num1+num2)"
   ]
  },
  {
   "cell_type": "code",
   "execution_count": null,
   "metadata": {},
   "outputs": [],
   "source": [
    "# 백준 파이썬 문제집 번 문제\n",
    "A=int(input())\n",
    "if(A>=90 and A<=100):\n",
    "    print(\"A\")\n",
    "elif(A>=80):\n",
    "    print(\"B\")\n",
    "elif(A>=70):\n",
    "    print(\"C\")\n",
    "elif(A>=60):\n",
    "    print(\"D\")\n",
    "else:\n",
    "    print(\"F\")"
   ]
  },
  {
   "cell_type": "code",
   "execution_count": null,
   "metadata": {},
   "outputs": [],
   "source": [
    "a=\"hobby\"\n",
    "a.count('b')\n",
    "a.find('o')\n",
    "\",\".join(['a','b','c','d'])\n",
    "a=' hi               '\n",
    "a.upper()\n",
    "a.lstrip()\n",
    "a.rstrip()\n",
    "a.strip()\n",
    "a=\"Life:is:too:short\"\n",
    "a.replace(\"Life\", \"your leg\")\n",
    "type(a.split(\":\"))\n",
    "a.split(':')\n",
    "a[0:4]"
   ]
  },
  {
   "cell_type": "code",
   "execution_count": null,
   "metadata": {},
   "outputs": [],
   "source": [
    "A=[1,2,3,1,2,3]\n",
    "A.remove(3)\n",
    "print(A)\n",
    "A.remove(3)\n",
    "print(A)\n",
    "print(A.pop())\n",
    "print(A)\n",
    "print(A.count(1))\n",
    "A.extend([2,3])\n",
    "print(A)"
   ]
  },
  {
   "cell_type": "code",
   "execution_count": null,
   "metadata": {},
   "outputs": [],
   "source": [
    "# 백준 파이썬 문제집 번 문제\n",
    "t1=()\n",
    "t2=(1,)\n",
    "t3=(1,2,3)\n",
    "t4=1,2,3\n",
    "t5=('a','b',('ab','cd'))\n",
    "print(\"t1 ={}\\nt2={}\\nt3={}\\nt4={}\\nt5={}\\n\".format(t1,t2,t3,t4,t5))"
   ]
  },
  {
   "cell_type": "code",
   "execution_count": null,
   "metadata": {},
   "outputs": [],
   "source": [
    "s1=set([1,2,3,4,5,6])\n",
    "s2=set([4,5,6,7,8,9])\n",
    "s1|s2\n"
   ]
  },
  {
   "cell_type": "code",
   "execution_count": null,
   "metadata": {},
   "outputs": [],
   "source": [
    "# 백준 파이썬 문제집 번 문제\n",
    "a=[1,2,3,4]\n",
    "while a:\n",
    "    print(a.pop())\n",
    "    print(a)\n",
    "id(a)"
   ]
  },
  {
   "cell_type": "code",
   "execution_count": null,
   "metadata": {},
   "outputs": [],
   "source": [
    "# 백준 파이썬 문제집 번 문제\n",
    "(a, b)='python', 'life'\n",
    "a, b=b, a\n",
    "a"
   ]
  },
  {
   "cell_type": "code",
   "execution_count": null,
   "metadata": {},
   "outputs": [],
   "source": [
    "# 백준 파이썬 문제집 번 문제\n",
    "print((80+75+55)/3)"
   ]
  },
  {
   "cell_type": "code",
   "execution_count": null,
   "metadata": {},
   "outputs": [],
   "source": [
    "# 백준 파이썬 문제집 번 문제\n",
    "if 13%2==0:\n",
    "    print(\"짝수\")\n",
    "else:\n",
    "    print(\"홀수\")"
   ]
  },
  {
   "cell_type": "code",
   "execution_count": null,
   "metadata": {},
   "outputs": [],
   "source": [
    "# 백준 파이썬 문제집 번 문제\n",
    "pin='881120-1068234'\n",
    "yyyymmdd=pin[:6]\n",
    "num=pin[7:]\n",
    "print(yyyymmdd)\n",
    "print(num)\n",
    "print(pin[7:8])"
   ]
  },
  {
   "cell_type": "code",
   "execution_count": null,
   "metadata": {},
   "outputs": [],
   "source": [
    "# 백준 파이썬 문제집 번 문제\n",
    "a='a:b:c:d'\n",
    "b=a.replace(':','#')\n",
    "b"
   ]
  },
  {
   "cell_type": "code",
   "execution_count": null,
   "metadata": {},
   "outputs": [],
   "source": [
    "a=[1,3,5,4,2]\n",
    "a.sort()\n",
    "print(a)\n",
    "a.sort(reverse=True)\n",
    "print(a)"
   ]
  },
  {
   "cell_type": "code",
   "execution_count": null,
   "metadata": {},
   "outputs": [],
   "source": [
    "a=['Life','is','too','short']\n",
    "result=\" \".join(a)\n",
    "print(result)"
   ]
  },
  {
   "cell_type": "code",
   "execution_count": null,
   "metadata": {},
   "outputs": [],
   "source": [
    "a=(1,2,3)\n",
    "print(id(a))\n",
    "a=a+(4,)\n",
    "print(id(a))"
   ]
  },
  {
   "cell_type": "code",
   "execution_count": null,
   "metadata": {},
   "outputs": [],
   "source": [
    "a={'A':90, 'B':80, 'C':70}\n",
    "result=a.pop('B')\n",
    "print(a)"
   ]
  },
  {
   "cell_type": "code",
   "execution_count": null,
   "metadata": {},
   "outputs": [],
   "source": [
    "a=[1,1,1,2,2,3,3,3,4,4,5]\n",
    "aSet=set(a)\n",
    "b=list(aSet)\n",
    "b"
   ]
  },
  {
   "cell_type": "code",
   "execution_count": null,
   "metadata": {},
   "outputs": [],
   "source": [
    "a=4.24E2\n",
    "print(a)\n",
    "a=0o177\n",
    "print(\"%d\"%a)"
   ]
  },
  {
   "cell_type": "code",
   "execution_count": null,
   "metadata": {},
   "outputs": [],
   "source": [
    "number=3\n",
    "day=\"three\"\n",
    "print(\"I ate {number} apples. so I was sick for {day} days\".format(number=4, day=\"four\"))"
   ]
  },
  {
   "cell_type": "code",
   "execution_count": null,
   "metadata": {},
   "outputs": [],
   "source": [
    "day=3\n",
    "age=32\n",
    "print(f'my birthday is {day}, age is {age}')"
   ]
  },
  {
   "cell_type": "code",
   "execution_count": null,
   "metadata": {},
   "outputs": [],
   "source": [
    "a=[1,2,['a','b',['life','is']]]\n",
    "a[2][2][1]"
   ]
  },
  {
   "cell_type": "code",
   "execution_count": null,
   "metadata": {},
   "outputs": [],
   "source": [
    "\n",
    "a={1:'a',2:'b',3:'c',4:'d',5:'e'}\n",
    "print(a)\n",
    "b=a.keys()\n",
    "b"
   ]
  },
  {
   "cell_type": "code",
   "execution_count": null,
   "metadata": {},
   "outputs": [],
   "source": [
    "(a,b)='python', 'life'\n",
    "type(a)"
   ]
  },
  {
   "cell_type": "code",
   "execution_count": null,
   "metadata": {},
   "outputs": [],
   "source": [
    "pocket=['money', 'card']\n",
    "if 'money' in pocket:\n",
    "    pass\n",
    "else:\n",
    "    print(\"카드를 꺼내\")\n"
   ]
  },
  {
   "cell_type": "code",
   "execution_count": null,
   "metadata": {},
   "outputs": [],
   "source": [
    "score=60\n",
    "if score>=60:\n",
    "    message='success'\n",
    "else :\n",
    "    message='fail'\n",
    "message"
   ]
  },
  {
   "cell_type": "code",
   "execution_count": null,
   "metadata": {},
   "outputs": [],
   "source": [
    "treehit=0\n",
    "while treehit<10:\n",
    "    treehit+=1\n",
    "    print(\"나무를 %d번 찍었습니다.\"%treehit)\n",
    "    if(treehit==10):\n",
    "        print(\"나무가 넘어갑니다\")"
   ]
  },
  {
   "cell_type": "code",
   "execution_count": null,
   "metadata": {},
   "outputs": [],
   "source": [
    "test=['one','two',3,'4']\n",
    "for i in test:\n",
    "    print(i)"
   ]
  },
  {
   "cell_type": "code",
   "execution_count": null,
   "metadata": {},
   "outputs": [],
   "source": [
    "for i in range(2,10):\n",
    "    for j in range(1,10):\n",
    "        print(i*j, end=' ')\n",
    "    print('')"
   ]
  },
  {
   "cell_type": "code",
   "execution_count": null,
   "metadata": {},
   "outputs": [],
   "source": [
    "a=[1,2,3,4]\n",
    "result=[]\n",
    "for i in a:\n",
    "    result.append(i*3)\n",
    "print(result)"
   ]
  },
  {
   "cell_type": "code",
   "execution_count": null,
   "metadata": {},
   "outputs": [],
   "source": [
    "# 리스트 내포의 일반문법\n",
    "# [표현식 for 항목 in 반복 가능 객체 if 조건]\n",
    "a\n",
    "result=[]\n",
    "result=[num*3 for num in a]\n",
    "result"
   ]
  },
  {
   "cell_type": "code",
   "execution_count": null,
   "metadata": {},
   "outputs": [],
   "source": [
    "Q1\n",
    "shirt"
   ]
  },
  {
   "cell_type": "code",
   "execution_count": null,
   "metadata": {},
   "outputs": [],
   "source": [
    "#Q2\n",
    "result=0\n",
    "i=1\n",
    "while i<=1000:\n",
    "    if i%3==0:\n",
    "        result+=i\n",
    "    i+=1\n",
    "print(result)"
   ]
  },
  {
   "cell_type": "code",
   "execution_count": null,
   "metadata": {},
   "outputs": [],
   "source": [
    "#Q3\n",
    "i=0\n",
    "while True:\n",
    "    i+=1\n",
    "    if i>5:\n",
    "        break\n",
    "    print('*'*i)"
   ]
  },
  {
   "cell_type": "code",
   "execution_count": null,
   "metadata": {},
   "outputs": [],
   "source": [
    "#Q4\n",
    "for i in range(1,101):\n",
    "    print(i)"
   ]
  },
  {
   "cell_type": "code",
   "execution_count": null,
   "metadata": {},
   "outputs": [],
   "source": [
    "#Q5\n",
    "A=[70,60,55,75,95,90,80,80,85,100]\n",
    "total=0\n",
    "for score in A:\n",
    "    total+=score\n",
    "print(total/len(A))"
   ]
  },
  {
   "cell_type": "code",
   "execution_count": null,
   "metadata": {},
   "outputs": [],
   "source": [
    "#Q6\n",
    "numbers=[1,2,3,4,5]\n",
    "result=[]\n",
    "for n in numbers:\n",
    "    if n%2==1:\n",
    "        result.append(n*2)\n",
    "result"
   ]
  },
  {
   "cell_type": "code",
   "execution_count": null,
   "metadata": {},
   "outputs": [],
   "source": [
    "numbers=[1,2,3,4,5]\n",
    "result=[n*2 for n in numbers if n%2==1]\n",
    "result"
   ]
  },
  {
   "cell_type": "code",
   "execution_count": null,
   "metadata": {},
   "outputs": [],
   "source": [
    "\n",
    "a=add_many(1,2,3,4,5,6)\n",
    "print(a)\n",
    "\n",
    "def add_many(*arg):\n",
    "    result=0\n",
    "    for i in arg:\n",
    "        result+=i\n",
    "    return result"
   ]
  },
  {
   "cell_type": "code",
   "execution_count": null,
   "metadata": {},
   "outputs": [],
   "source": [
    "a=[(1,2),(3,4),(5,6)]\n",
    "for b in a:\n",
    "    print(b)"
   ]
  },
  {
   "cell_type": "code",
   "execution_count": null,
   "metadata": {},
   "outputs": [],
   "source": [
    "result=[x*y for x in range(2,10)\n",
    "            for y in range(1,10)]\n",
    "print(result)"
   ]
  },
  {
   "cell_type": "code",
   "execution_count": null,
   "metadata": {},
   "outputs": [],
   "source": [
    "def add_many(*args):\n",
    "    result=0\n",
    "    for i in args:\n",
    "        result+=i\n",
    "        print(i)\n",
    "    return result\n",
    "a=add_many(1,2,3,4,5,6,7,8,9,10)\n",
    "print(a)"
   ]
  },
  {
   "cell_type": "code",
   "execution_count": null,
   "metadata": {},
   "outputs": [],
   "source": [
    "def add_mul(choice, *args):\n",
    "    if choice=='add':\n",
    "        result=0\n",
    "        for i in args:\n",
    "            result+=i\n",
    "    elif choice=='mul':\n",
    "        result=1\n",
    "        for i in args:\n",
    "            result*=i\n",
    "    return result\n",
    "a=add_mul('mul',1,2,3,4,5)\n",
    "print(a)"
   ]
  },
  {
   "cell_type": "code",
   "execution_count": null,
   "metadata": {},
   "outputs": [],
   "source": [
    "def print_kwargs(**kwargs):\n",
    "    print(kwargs)\n",
    "\n",
    "print_kwargs(a=1, bb='sf')"
   ]
  },
  {
   "cell_type": "code",
   "execution_count": null,
   "metadata": {},
   "outputs": [],
   "source": [
    "add=lambda a,b: a+b\n",
    "result = add(3,4)\n",
    "print(result)"
   ]
  },
  {
   "cell_type": "code",
   "execution_count": null,
   "metadata": {},
   "outputs": [],
   "source": [
    "f=open(\"실습.txt\", 'w')\n",
    "for i in range(1,11):\n",
    "    data=\"%d줄 입니다.\\n\"%i\n",
    "    f.write(data)\n",
    "f.close()\n"
   ]
  },
  {
   "cell_type": "code",
   "execution_count": null,
   "metadata": {},
   "outputs": [],
   "source": [
    "f=open(\"C:/Users/170142/Python/실습.txt\", 'r')\n",
    "line=f.readline()\n",
    "print(line)\n",
    "f.close()"
   ]
  },
  {
   "cell_type": "code",
   "execution_count": null,
   "metadata": {
    "scrolled": true
   },
   "outputs": [],
   "source": [
    "f=open(\"C:/Users/170142/Python/실습.txt\", 'r')\n",
    "lines=f.readlines()\n",
    "for line in lines:\n",
    "    print(line)\n",
    "f.close()\n",
    "lines"
   ]
  },
  {
   "cell_type": "code",
   "execution_count": null,
   "metadata": {},
   "outputs": [],
   "source": [
    "f=open(\"C:/Users/170142/Python/실습.txt\", 'r')\n",
    "data=f.read()\n",
    "print(data)\n",
    "f.close()\n",
    "data"
   ]
  },
  {
   "cell_type": "code",
   "execution_count": null,
   "metadata": {},
   "outputs": [],
   "source": [
    "f=open(\"C:/Users/170142/Python/실습.txt\", 'a')\n",
    "for i in range(11,20):\n",
    "    data='%d 번째 줄입니다.\\n'%i\n",
    "    f.write(data)\n",
    "print(data)\n",
    "f.close()\n",
    "    "
   ]
  },
  {
   "cell_type": "code",
   "execution_count": null,
   "metadata": {},
   "outputs": [],
   "source": [
    "#Q1\n",
    "def is_odd(number):\n",
    "    if number%2:\n",
    "        return True\n",
    "    else:\n",
    "        return False\n",
    "print(\"숫자3은 홀수이다 %s\"%is_odd(3))\n",
    "print(is_odd(2))"
   ]
  },
  {
   "cell_type": "code",
   "execution_count": null,
   "metadata": {},
   "outputs": [],
   "source": [
    "#Q2\n",
    "def avg_numbers(*args):\n",
    "    result=0\n",
    "    for i in args:\n",
    "        result+=i\n",
    "    \n",
    "    return result/len(args)\n",
    "\n",
    "print(avg_numbers(1,2))\n",
    "print(avg_numbers(1,2,3,4,5))"
   ]
  },
  {
   "cell_type": "code",
   "execution_count": null,
   "metadata": {},
   "outputs": [],
   "source": [
    "#Q3\n",
    "input1=int(input(\"첫번째 숫자를 입력하세요\"))\n",
    "input2=int(input(\"두번째 숫자를 입력하세요\"))\n",
    "total = input1+input2\n",
    "print(\"두 수의 합은 %s입니다.\"%total)"
   ]
  },
  {
   "cell_type": "code",
   "execution_count": null,
   "metadata": {},
   "outputs": [],
   "source": [
    "#Q4\n",
    "3번 "
   ]
  },
  {
   "cell_type": "code",
   "execution_count": null,
   "metadata": {},
   "outputs": [],
   "source": [
    "#Q5\n",
    "f1=open(\"C:/Users/170142/Python/test.txt\", 'w')\n",
    "f1.write(\"Life is too short\")\n",
    "f1.close()\n",
    "f2=open(\"C:/Users/170142/Python/test.txt\", 'r')\n",
    "print(f2.read())\n",
    "f2.close()"
   ]
  },
  {
   "cell_type": "code",
   "execution_count": null,
   "metadata": {},
   "outputs": [],
   "source": [
    "#Q6\n",
    "user_input=input(\"저장할 내용을 입력하세요:\")\n",
    "f=open(\"C:/Users/170142/Python/test.txt\", 'a')\n",
    "f.write('\\n')\n",
    "f.write(user_input)\n",
    "\n",
    "f.close()"
   ]
  },
  {
   "cell_type": "code",
   "execution_count": null,
   "metadata": {},
   "outputs": [],
   "source": [
    "#Q7\n",
    "f=open(\"C:/Users/170142/Python/test2.txt\", 'r')\n",
    "body=f.read()\n",
    "f.close()\n",
    "body=body.replace('Java', 'python')\n",
    "f=open(\"C:/Users/170142/Python/test2.txt\", 'w')\n",
    "f.write(body)\n",
    "f.close()\n"
   ]
  },
  {
   "cell_type": "code",
   "execution_count": null,
   "metadata": {},
   "outputs": [],
   "source": [
    "T=int(input())\n",
    "A, B=map(int, input().split())\n",
    "if A>B:\n",
    "    min=B\n",
    "else:\n",
    "    min=A\n",
    "con=[]\n",
    "j=1\n",
    "for i in range(T):\n",
    "    while 1:\n",
    "        j+=1\n",
    "        if (A%j==0 and B%j==0):\n",
    "            A=A/j\n",
    "            B=B/j\n",
    "            con.append(j)\n",
    "            j==1\n",
    "        else:\n",
    "            j+=1\n",
    "            if j>min:\n",
    "                break\n",
    "result=A*B\n",
    "print('A= %d B=%d A*B=%d'%(A,B,result))\n",
    "for i in con:\n",
    "    print(i)\n",
    "    result=result*i\n",
    "print(result)\n",
    "    "
   ]
  },
  {
   "cell_type": "code",
   "execution_count": null,
   "metadata": {},
   "outputs": [],
   "source": [
    "def print_kwargs(**kwargs):\n",
    "    print(kwargs)\n",
    "\n",
    "print_kwargs(a=1)\n",
    "print_kwargs(name='foo', age=3)\n"
   ]
  },
  {
   "cell_type": "code",
   "execution_count": null,
   "metadata": {},
   "outputs": [],
   "source": [
    "a=1\n",
    "def vartest()\n",
    "    global a\n",
    "    a=a+1\n",
    "vartest()\n",
    "print(a)"
   ]
  },
  {
   "cell_type": "code",
   "execution_count": null,
   "metadata": {},
   "outputs": [],
   "source": [
    "add=lambda a,b:a+b\n",
    "result=add(3,4)\n",
    "print(result)\n"
   ]
  },
  {
   "cell_type": "code",
   "execution_count": null,
   "metadata": {},
   "outputs": [],
   "source": [
    "def add(a,b):\n",
    "    return a+b\n",
    "result=add(3,4)\n",
    "print(result)"
   ]
  },
  {
   "cell_type": "markdown",
   "metadata": {},
   "source": [
    "# 클래스만들기"
   ]
  },
  {
   "cell_type": "code",
   "execution_count": null,
   "metadata": {},
   "outputs": [],
   "source": [
    "# class FourCal:\n",
    "#     pass          #pass는 아무것도 수행하지 않는 문법으로 임시로 코드를 작성할 때 주로 사용한다."
   ]
  },
  {
   "cell_type": "code",
   "execution_count": null,
   "metadata": {},
   "outputs": [],
   "source": [
    "a=FourCal()\n",
    "type(a) #type()는 파이썬이 자체로 가지고 있는 내장함수로 객체 타입을 출력한다."
   ]
  },
  {
   "cell_type": "code",
   "execution_count": null,
   "metadata": {},
   "outputs": [],
   "source": [
    "#객체에 숫자 지정할 수 있게 만들기\n",
    "#a 객체에 사칙연산을 할 때 사용할 2개의 숫자를 알려줘야한다. ex) a.setdata(4,2)\n",
    "class FourCal:\n",
    "    def setdata(self, first, second):    #클래스 안에 구현된 함수는 다른 말로 메서드라고 부른다. \n",
    "        self.first=first                 \n",
    "        self.second=second   "
   ]
  },
  {
   "cell_type": "code",
   "execution_count": null,
   "metadata": {},
   "outputs": [],
   "source": [
    "a=FourCal()\n",
    "a.setdata(4,2)    #setdata메서드의 첫번째 매개변수 self에는 setdata메서드를 호출한 객체 a가 자동으로 전달된다.\n",
    "b=FourCal()"
   ]
  },
  {
   "cell_type": "code",
   "execution_count": null,
   "metadata": {},
   "outputs": [],
   "source": [
    "a.setdata(4,2)\n",
    "b.setdata(3,7)\n",
    "print(a.first)\n",
    "print(b.first)    #a객체의 first값은 b객체의 first값에 영향을 받지않는다.\n",
    "print(id(a.first))\n",
    "print(id(b.first))"
   ]
  },
  {
   "cell_type": "code",
   "execution_count": null,
   "metadata": {},
   "outputs": [],
   "source": [
    "class FourCal:\n",
    "    def setdata(self, first, second):  \n",
    "        self.first=first                 \n",
    "        self.second=second   \n",
    "    def add(self):\n",
    "        result=self.first+self.second\n",
    "        return result\n",
    "    def mul(self):\n",
    "        result=self.first*self.second\n",
    "        return result\n",
    "    def sub(self):\n",
    "        result=self.first-self.second\n",
    "        return result\n",
    "    def div(self):\n",
    "        result=self.first/self.second\n",
    "        return result\n",
    "    "
   ]
  },
  {
   "cell_type": "code",
   "execution_count": null,
   "metadata": {},
   "outputs": [],
   "source": [
    "a=FourCal()\n",
    "a.setdata(4,2)\n",
    "print(a.add())\n",
    "print(a.mul())\n",
    "print(a.sub())\n",
    "print(a.div())\n",
    "print(\"B객체\")\n",
    "b=FourCal()\n",
    "b.setdata(3,5)\n",
    "print(b.add())\n",
    "print(b.mul())\n",
    "print(b.sub())\n",
    "print(b.div())"
   ]
  },
  {
   "cell_type": "code",
   "execution_count": null,
   "metadata": {},
   "outputs": [],
   "source": [
    "a=FourCal()\n",
    "a.add()   #setdata메서드를 수행하지 않고 add메서드를 수행하면 오류가 발생한다. setdata메서드를 수행해야 first, second가 생성되기 때문"
   ]
  },
  {
   "cell_type": "code",
   "execution_count": null,
   "metadata": {},
   "outputs": [],
   "source": [
    "#생성자 구현, 생성자란 객체가 생성될때 자동으로 호출되는 메서드\n",
    "class FourCal:\n",
    "    def __init__(self, first, second):    #__init__ 메서드는 생성자로 인식한다.\n",
    "        self.first=first                 \n",
    "        self.second=second   \n",
    "#     def setdata(self, first, second):  \n",
    "#         self.first=first                 \n",
    "#         self.second=second   \n",
    "    def add(self):\n",
    "        result=self.first+self.second\n",
    "        return result\n",
    "    def mul(self):\n",
    "        result=self.first*self.second\n",
    "        return result\n",
    "    def sub(self):\n",
    "        result=self.first-self.second\n",
    "        return result\n",
    "    def div(self):\n",
    "        result=self.first/self.second\n",
    "        return result\n",
    "    "
   ]
  },
  {
   "cell_type": "code",
   "execution_count": null,
   "metadata": {},
   "outputs": [],
   "source": [
    "a=FourCal(4,2)  #생성자를 만들고난 후에는 객체를 생성할 때 요소값을 바로 넣는다.\n",
    "a.first\n",
    "a.div()"
   ]
  },
  {
   "cell_type": "code",
   "execution_count": null,
   "metadata": {},
   "outputs": [],
   "source": [
    "#상속 구현하기  class 클래스 이름(상속할 클래스 이름)\n",
    "class MoreFourCal(FourCal):\n",
    "    pass"
   ]
  },
  {
   "cell_type": "code",
   "execution_count": null,
   "metadata": {},
   "outputs": [],
   "source": [
    "a=MoreFourCal(4,2)\n",
    "a.add()\n",
    "a.mul()\n",
    "a.sub()\n",
    "a.div()"
   ]
  },
  {
   "cell_type": "code",
   "execution_count": null,
   "metadata": {},
   "outputs": [],
   "source": [
    "#상속 구현하기  a의 b제곱을 계산하는 기능 추가\n",
    "class MoreFourCal(FourCal):\n",
    "    def pow(self):\n",
    "        result=self.first**self.second\n",
    "        return result"
   ]
  },
  {
   "cell_type": "code",
   "execution_count": null,
   "metadata": {},
   "outputs": [],
   "source": [
    "a=MoreFourCal(4,2)\n",
    "a.pow()"
   ]
  },
  {
   "cell_type": "code",
   "execution_count": null,
   "metadata": {},
   "outputs": [],
   "source": [
    "#메서드 오버라이딩 (덮어쓰기)\n",
    "a=FourCal(4,0)\n",
    "a.div()"
   ]
  },
  {
   "cell_type": "code",
   "execution_count": null,
   "metadata": {},
   "outputs": [],
   "source": [
    "#0으로 나눌때 오류가 아닌 0을 돌려주도록 만들고 싶다면?\n",
    "class SafeFourCal(FourCal):\n",
    "    def div(self):\n",
    "        if self.second==0:\n",
    "            return 0\n",
    "        else:\n",
    "            return self.first/self.second"
   ]
  },
  {
   "cell_type": "code",
   "execution_count": null,
   "metadata": {},
   "outputs": [],
   "source": [
    "a=SafeFourCal(4,0)\n",
    "a.div()"
   ]
  },
  {
   "cell_type": "code",
   "execution_count": null,
   "metadata": {},
   "outputs": [],
   "source": [
    "#클래스 변수  클래스변수는 클래스 안에 함수를 선언하는 것과 마찬가지로 클래스 안에 변수를 선언하여 생성한다.\n",
    "class Family:\n",
    "    lastname='김'"
   ]
  },
  {
   "cell_type": "code",
   "execution_count": null,
   "metadata": {},
   "outputs": [],
   "source": [
    "print(Family.lastname)"
   ]
  },
  {
   "cell_type": "code",
   "execution_count": null,
   "metadata": {},
   "outputs": [],
   "source": [
    "#또는 Family 클래스로 만든 객체를 통해서도 클래스 변수를 사용할수 있다.\n",
    "a=Family()\n",
    "b=Family()\n",
    "print(a.lastname)\n",
    "print(b.lastname)"
   ]
  },
  {
   "cell_type": "code",
   "execution_count": null,
   "metadata": {},
   "outputs": [],
   "source": [
    "class Family:\n",
    "    lastname='박'\n"
   ]
  },
  {
   "cell_type": "code",
   "execution_count": null,
   "metadata": {},
   "outputs": [],
   "source": [
    "print(a.lastname)   #? 안바뀜\n",
    "print(b.lastname)"
   ]
  },
  {
   "cell_type": "code",
   "execution_count": null,
   "metadata": {},
   "outputs": [],
   "source": [
    "print(id(Family.lastname)) #? 주소값 다름\n",
    "print(id(a.lastname))\n",
    "print(id(b.lastname))"
   ]
  },
  {
   "cell_type": "markdown",
   "metadata": {},
   "source": [
    "# 모듈 : 모듈은 다른 파이썬 프로그램에서 불러와 사용할 수 있게끔 만든 파이썬 파일"
   ]
  },
  {
   "cell_type": "code",
   "execution_count": null,
   "metadata": {},
   "outputs": [],
   "source": [
    "# 모듈만들기\n",
    "# mod1.py\n",
    "def add(a,b):\n",
    "    return a+b\n",
    "def sub(a,b):\n",
    "    return a-b"
   ]
  },
  {
   "cell_type": "code",
   "execution_count": null,
   "metadata": {},
   "outputs": [],
   "source": [
    "import mod1"
   ]
  },
  {
   "cell_type": "code",
   "execution_count": null,
   "metadata": {},
   "outputs": [],
   "source": [
    "from mod1 import add\n",
    "add(3,4)"
   ]
  },
  {
   "cell_type": "code",
   "execution_count": null,
   "metadata": {
    "scrolled": true
   },
   "outputs": [],
   "source": [
    "pip install import_ipynb\n"
   ]
  },
  {
   "cell_type": "code",
   "execution_count": null,
   "metadata": {
    "scrolled": true
   },
   "outputs": [],
   "source": [
    "import mod2"
   ]
  },
  {
   "cell_type": "code",
   "execution_count": null,
   "metadata": {},
   "outputs": [],
   "source": [
    "import sys"
   ]
  },
  {
   "cell_type": "code",
   "execution_count": null,
   "metadata": {
    "scrolled": true
   },
   "outputs": [],
   "source": [
    "print(mod2.PI)"
   ]
  },
  {
   "cell_type": "code",
   "execution_count": null,
   "metadata": {},
   "outputs": [],
   "source": [
    "print(dir(mod2))"
   ]
  },
  {
   "cell_type": "code",
   "execution_count": null,
   "metadata": {
    "scrolled": true
   },
   "outputs": [],
   "source": [
    "sys.path"
   ]
  },
  {
   "cell_type": "code",
   "execution_count": null,
   "metadata": {},
   "outputs": [],
   "source": [
    "from mod2 import *"
   ]
  },
  {
   "cell_type": "code",
   "execution_count": null,
   "metadata": {},
   "outputs": [],
   "source": [
    "result=add(3,4)\n",
    "print(result)"
   ]
  },
  {
   "cell_type": "code",
   "execution_count": null,
   "metadata": {},
   "outputs": [],
   "source": [
    "import sys"
   ]
  },
  {
   "cell_type": "code",
   "execution_count": null,
   "metadata": {},
   "outputs": [],
   "source": [
    "sys.path"
   ]
  },
  {
   "cell_type": "code",
   "execution_count": null,
   "metadata": {},
   "outputs": [],
   "source": [
    "sys.path.append(\"C:\\doit\\mymod\")"
   ]
  },
  {
   "cell_type": "code",
   "execution_count": null,
   "metadata": {},
   "outputs": [],
   "source": [
    "sys.path"
   ]
  },
  {
   "cell_type": "markdown",
   "metadata": {},
   "source": [
    "# 패키지"
   ]
  },
  {
   "cell_type": "code",
   "execution_count": null,
   "metadata": {},
   "outputs": [],
   "source": [
    "sys.path.append(\"C:\\doit\")\n",
    "sys.path"
   ]
  },
  {
   "cell_type": "code",
   "execution_count": null,
   "metadata": {},
   "outputs": [],
   "source": [
    "import game.sound.echo"
   ]
  },
  {
   "cell_type": "code",
   "execution_count": null,
   "metadata": {},
   "outputs": [],
   "source": [
    "game.sound.echo.echo_test()"
   ]
  },
  {
   "cell_type": "code",
   "execution_count": null,
   "metadata": {},
   "outputs": [],
   "source": [
    "from game.sound import echo"
   ]
  },
  {
   "cell_type": "code",
   "execution_count": null,
   "metadata": {},
   "outputs": [],
   "source": [
    "echo.echo_test()"
   ]
  },
  {
   "cell_type": "code",
   "execution_count": null,
   "metadata": {},
   "outputs": [],
   "source": [
    "from game.sound import *"
   ]
  },
  {
   "cell_type": "code",
   "execution_count": null,
   "metadata": {},
   "outputs": [],
   "source": [
    "echo.echo_test()"
   ]
  },
  {
   "cell_type": "code",
   "execution_count": null,
   "metadata": {},
   "outputs": [],
   "source": [
    "from game.sound.echo import echo_test"
   ]
  },
  {
   "cell_type": "markdown",
   "metadata": {},
   "source": [
    "# 예외처리"
   ]
  },
  {
   "cell_type": "code",
   "execution_count": null,
   "metadata": {},
   "outputs": [],
   "source": [
    "f=open(\"없는파일\", 'r')"
   ]
  },
  {
   "cell_type": "code",
   "execution_count": null,
   "metadata": {},
   "outputs": [],
   "source": [
    "4/0"
   ]
  },
  {
   "cell_type": "code",
   "execution_count": null,
   "metadata": {},
   "outputs": [],
   "source": [
    "a=[1,2,3]\n",
    "a[4]"
   ]
  },
  {
   "cell_type": "code",
   "execution_count": null,
   "metadata": {},
   "outputs": [],
   "source": [
    "try :\n",
    "    4/0\n",
    "except ZeroDivisionError as e:\n",
    "    print(e)"
   ]
  },
  {
   "cell_type": "code",
   "execution_count": null,
   "metadata": {},
   "outputs": [],
   "source": [
    "try:\n",
    "    f=open(\"없는파일\",'r')\n",
    "except FileNotFoundError:\n",
    "    pass"
   ]
  },
  {
   "cell_type": "code",
   "execution_count": null,
   "metadata": {},
   "outputs": [],
   "source": [
    "class Bird:\n",
    "    def fly(self):\n",
    "        raise NotImplementedError"
   ]
  },
  {
   "cell_type": "code",
   "execution_count": null,
   "metadata": {},
   "outputs": [],
   "source": [
    "class Eagle(Bird): #Eagle 클래스는 Bird 클래스를 상속받음\n",
    "    def fly(sefl):\n",
    "        print(\"very fast\")\n",
    "eagle=Eagle()\n",
    "eagle.fly()"
   ]
  },
  {
   "cell_type": "code",
   "execution_count": null,
   "metadata": {},
   "outputs": [],
   "source": [
    "class MyError(Exception):\n",
    "    pass"
   ]
  },
  {
   "cell_type": "code",
   "execution_count": null,
   "metadata": {},
   "outputs": [],
   "source": [
    "def say_nick(nick):\n",
    "    if nick=='바보':\n",
    "        raise MyError()\n",
    "    print(nick)"
   ]
  },
  {
   "cell_type": "code",
   "execution_count": null,
   "metadata": {},
   "outputs": [],
   "source": [
    "say_nick(\"천사\")\n",
    "say_nick(\"바보\")"
   ]
  },
  {
   "cell_type": "code",
   "execution_count": null,
   "metadata": {},
   "outputs": [],
   "source": [
    "try:\n",
    "    say_nick(\"천사\")\n",
    "    say_nick(\"바보\")\n",
    "except MyError:\n",
    "    print(\"허용되지 않는 별명입니다.\")"
   ]
  },
  {
   "cell_type": "code",
   "execution_count": null,
   "metadata": {},
   "outputs": [],
   "source": [
    "try:\n",
    "    say_nick(\"천사\")\n",
    "    say_nick(\"바보\")\n",
    "except MyError as e:\n",
    "    print(e)"
   ]
  },
  {
   "cell_type": "markdown",
   "metadata": {},
   "source": [
    "# 내장함수"
   ]
  },
  {
   "cell_type": "code",
   "execution_count": null,
   "metadata": {},
   "outputs": [],
   "source": [
    "#abs\n",
    "abs(-3)"
   ]
  },
  {
   "cell_type": "code",
   "execution_count": null,
   "metadata": {},
   "outputs": [],
   "source": [
    "#all all(x)는 반복 가능한 자료형 x를 입력 인수로 받으며 이 x가 모두 참이면 True, 거짓이 하나라도 있으면 False를 돌려준다.\n",
    "all([1,2,3])"
   ]
  },
  {
   "cell_type": "code",
   "execution_count": null,
   "metadata": {},
   "outputs": [],
   "source": [
    "all([1,0,2,3])"
   ]
  },
  {
   "cell_type": "code",
   "execution_count": null,
   "metadata": {},
   "outputs": [],
   "source": [
    "#any  any(x)는 x중 하나라도 참이 있으면 True를 돌려주고 x가 모두 거짓일때만 False를 돌려준다. all(x)의 반대이다.\n",
    "any([0,1])"
   ]
  },
  {
   "cell_type": "code",
   "execution_count": null,
   "metadata": {},
   "outputs": [],
   "source": [
    "# chr chr(i)는 아스키코드 값을 입력받아 그 코드에 해당하는 문자를 출력하는 함수이다.\n",
    "chr(48)"
   ]
  },
  {
   "cell_type": "code",
   "execution_count": null,
   "metadata": {},
   "outputs": [],
   "source": [
    "chr(65)\n"
   ]
  },
  {
   "cell_type": "code",
   "execution_count": null,
   "metadata": {},
   "outputs": [],
   "source": [
    "#dir dir은 객체가 자체적으로 가지고 있는 변수나 함수를 보여준다.\n",
    "dir([1,2,3])\n"
   ]
  },
  {
   "cell_type": "code",
   "execution_count": null,
   "metadata": {},
   "outputs": [],
   "source": [
    "dir({'1':'a'})"
   ]
  },
  {
   "cell_type": "code",
   "execution_count": null,
   "metadata": {},
   "outputs": [],
   "source": [
    "#divmod divmod(a,b)는 2개의 숫자를 입력으로 받는다. 그리고 a를 b로 나눈 몫과 나머지를 튜플형태로 돌려주는 함수이다.\n",
    "divmod(7,3)"
   ]
  },
  {
   "cell_type": "code",
   "execution_count": null,
   "metadata": {},
   "outputs": [],
   "source": [
    "#enumerate enumerate는 '열거하다'라는 뜻이다. 이 함수는 순서가 있는 자료형(리스트, 튜플, 문자열)을 입력으로 받아 인덱스 값을 포함하는\n",
    "#enumerate 객체를 돌려준다.\n",
    "for i, name in enumerate(['body','foo','bar']):\n",
    "    print(i, name)\n",
    "# 즉 예제와 같이 enumrate를 for문과 함께 사용하면 자료형의 현재 순서(index)와 그 값을 쉽게 알수있다.\n"
   ]
  },
  {
   "cell_type": "code",
   "execution_count": null,
   "metadata": {},
   "outputs": [],
   "source": [
    "#eval eval(expression)은 실행 가능한 문자열(1+2, 'hi'+'a' 같은 것)을 입력으로 받아 문자열을 실행한 결괏값을 돌려주는 함수이다.\n",
    "eval('1+2')"
   ]
  },
  {
   "cell_type": "code",
   "execution_count": null,
   "metadata": {},
   "outputs": [],
   "source": [
    "#filter filter함수는 첫 번째 인수로 함수 이름을, 두번째 인수로 그 함수에 차례로 들어갈 반복가능한 자료형을 받는다.\n",
    "# 그리고 두번째인수인 반복가능한 자료형 요소가 첫번째 인수인 함수에 입력되었을 때 반환값이 참인 것만 묶어서 돌려준다.\n"
   ]
  },
  {
   "cell_type": "code",
   "execution_count": null,
   "metadata": {},
   "outputs": [],
   "source": [
    "#filter\n",
    "def positive(x):\n",
    "    return x>0\n",
    "print(list(filter(positive,[1,2,3,4,-1])))"
   ]
  },
  {
   "cell_type": "code",
   "execution_count": null,
   "metadata": {},
   "outputs": [],
   "source": [
    "list(filter(lambda x:x>0,[1,2,3,4,-3,-2,-1]))"
   ]
  },
  {
   "cell_type": "code",
   "execution_count": null,
   "metadata": {},
   "outputs": [],
   "source": [
    "#hex hex(x)는 정수값을 입력받아 16진수로 변환하여 돌려주는 함수이다.\n",
    "hex(234)"
   ]
  },
  {
   "cell_type": "code",
   "execution_count": null,
   "metadata": {},
   "outputs": [],
   "source": [
    "#id id(object)는 객체를 입력받아 객체의 고유 주소값(레퍼런스)을 돌려주는 함수이다.\n",
    "a=3\n",
    "id(a)"
   ]
  },
  {
   "cell_type": "code",
   "execution_count": null,
   "metadata": {},
   "outputs": [],
   "source": [
    "#input input([prompt])은 사용자 입력을 받는 함수이다.\n",
    "b=input(\"Enter: \")\n",
    "b"
   ]
  },
  {
   "cell_type": "code",
   "execution_count": null,
   "metadata": {},
   "outputs": [],
   "source": [
    "#int int(x)는 문자열 형태의 숫자나 소수점이 있는 숫자 등을 정수형태로 돌려주는 함수\n",
    "#int(x, radix)는 radix진수로 표현된 문자열 x를 10진수로 변환하여 돌려준다.\n",
    "#2진수로 표현된 11의 10진수 값은\n",
    "int('11', 2)"
   ]
  },
  {
   "cell_type": "code",
   "execution_count": null,
   "metadata": {},
   "outputs": [],
   "source": [
    "#isinstance isinstance(object, class)는 첫번째 인수로 인스턴스, 두번째 인수로 클래스 이름을 받는다.\n",
    "#입력으로 받은 인스턴스가 그 클래스의 인스턴스인지를 판단하여 참이면 True, 거짓이면 False를 돌려준다.\n",
    "class Person: pass #아무기능없는 클래스 생성\n",
    "a=Person()\n",
    "isinstance(a,Person)"
   ]
  },
  {
   "cell_type": "code",
   "execution_count": null,
   "metadata": {},
   "outputs": [],
   "source": [
    "#map map(f, iterable)은 함수와 반복가능한 자료형을 입력으로 받는다. map은 입력받은 자료형의 각 요소를 함수 f가\n",
    "#수행한 결과를 묶어서 돌려주는 함수이다.\n",
    "def two_times(numberlist):\n",
    "    result=[]\n",
    "    for number in numberlist:\n",
    "        result.append(number*2)\n",
    "    return result\n",
    "\n",
    "result=two_times([1,2,3,4])\n",
    "print(result)"
   ]
  },
  {
   "cell_type": "code",
   "execution_count": null,
   "metadata": {},
   "outputs": [],
   "source": [
    "def two_times(x):\n",
    "    return x*2\n",
    "list(map(two_times, [1,2,3,4]))\n"
   ]
  },
  {
   "cell_type": "code",
   "execution_count": null,
   "metadata": {},
   "outputs": [],
   "source": [
    "#sorted sorted(iterable)함수는 입력값을 정렬한 후 그 결과를 리스트로 돌려주는 함수이다.\n",
    "#sort함수는 리스트 객체 그 자체를 정렬만 할 뿐 정렬된 결과를 돌려주진 않는다.\n",
    "b=[1,4,2,3,4,]\n",
    "a=sorted(b)\n",
    "print(a)\n",
    "\n"
   ]
  },
  {
   "cell_type": "code",
   "execution_count": null,
   "metadata": {},
   "outputs": [],
   "source": [
    "a=[3,2,4,1,2]\n",
    "a.sort()\n",
    "a"
   ]
  },
  {
   "cell_type": "code",
   "execution_count": null,
   "metadata": {},
   "outputs": [],
   "source": [
    "#zip()은 동일한 개수로 이루어진 자료형을 묶어 주는 역할을 하는 함수이다\n",
    "list(zip([1,2,3,4],[5,6,7,8]))"
   ]
  },
  {
   "cell_type": "code",
   "execution_count": null,
   "metadata": {},
   "outputs": [],
   "source": [
    "import pickle\n",
    "f=open(\"test.txt\", 'wb')\n",
    "data={1:'python', 2:'you need'}\n",
    "pickle.dump(data,f)\n",
    "f.close()"
   ]
  },
  {
   "cell_type": "code",
   "execution_count": null,
   "metadata": {},
   "outputs": [],
   "source": [
    "f=open(\"test.txt\", 'rb')\n",
    "data=pickle.load(f)\n",
    "print(data)"
   ]
  },
  {
   "cell_type": "code",
   "execution_count": null,
   "metadata": {},
   "outputs": [],
   "source": [
    "#OS OS모듈은 환경변수나 디렉터리, 파일 등의 OS자원을 제어할 수 있게 해주는 모듈이다.\n",
    "#내 시스템의 환경 변수 값을 알고 싶을때 - os.environ\n",
    "import os\n",
    "os.environ"
   ]
  },
  {
   "cell_type": "code",
   "execution_count": null,
   "metadata": {},
   "outputs": [],
   "source": [
    "os.getcwd()"
   ]
  },
  {
   "cell_type": "code",
   "execution_count": null,
   "metadata": {},
   "outputs": [],
   "source": [
    "# 디렉터리에 있는 파일들을 리스트로 만들기 -glob(pathname)\n",
    "import glob\n",
    "glob.glob('C:Users:170142')"
   ]
  },
  {
   "cell_type": "code",
   "execution_count": null,
   "metadata": {},
   "outputs": [],
   "source": [
    "#random random은 난수를 발생시키는 모듈이다.\n",
    "import random\n",
    "random.random()"
   ]
  },
  {
   "cell_type": "code",
   "execution_count": null,
   "metadata": {},
   "outputs": [],
   "source": [
    "#1에서 10사이의 정수중에서 난수값을 돌려준다.\n",
    "random.randint(1,10)"
   ]
  },
  {
   "cell_type": "code",
   "execution_count": null,
   "metadata": {},
   "outputs": [],
   "source": [
    "import webbrowser\n",
    "webbrowser.open(\"http://google.com\")"
   ]
  },
  {
   "cell_type": "code",
   "execution_count": null,
   "metadata": {},
   "outputs": [],
   "source": [
    "#Q1\n",
    "class Calculator:\n",
    "    def __init__(self, first, second):\n",
    "        self.first=first\n",
    "        self.second=second\n",
    "    def add(self,val):\n",
    "        result=self.first+self.second\n",
    "        return result\n"
   ]
  },
  {
   "cell_type": "code",
   "execution_count": null,
   "metadata": {},
   "outputs": [],
   "source": [
    "class UpgradeCalculator(Calculator):\n",
    "    def minus(self,val):\n",
    "        result=self.first-self.second\n",
    "        return result\n"
   ]
  },
  {
   "cell_type": "code",
   "execution_count": null,
   "metadata": {},
   "outputs": [],
   "source": [
    "cal=UpgradeCalculator(4,5)"
   ]
  },
  {
   "cell_type": "code",
   "execution_count": null,
   "metadata": {},
   "outputs": [],
   "source": [
    "cal.add(10)\n"
   ]
  },
  {
   "cell_type": "code",
   "execution_count": null,
   "metadata": {},
   "outputs": [],
   "source": [
    "cal.minus(7)"
   ]
  },
  {
   "cell_type": "code",
   "execution_count": null,
   "metadata": {},
   "outputs": [],
   "source": [
    "#Q2\n",
    "class Calculator:\n",
    "    def __init__(self):\n",
    "        self.value=0\n",
    "    def add(self,val):\n",
    "        self.value+=val\n"
   ]
  },
  {
   "cell_type": "code",
   "execution_count": null,
   "metadata": {},
   "outputs": [],
   "source": [
    "class MaxLimitCalculator(Calculator):\n",
    "    def add(self,val):\n",
    "        self.value+=val\n",
    "        if self.value>=100:\n",
    "            self.value=100\n",
    "\n",
    "a=MaxLimitCalculator()"
   ]
  },
  {
   "cell_type": "code",
   "execution_count": null,
   "metadata": {},
   "outputs": [],
   "source": [
    "a.add(80)"
   ]
  },
  {
   "cell_type": "code",
   "execution_count": null,
   "metadata": {},
   "outputs": [],
   "source": [
    "a.value"
   ]
  },
  {
   "cell_type": "code",
   "execution_count": null,
   "metadata": {},
   "outputs": [],
   "source": [
    "a.add(100)\n",
    "print(a.value)"
   ]
  },
  {
   "cell_type": "code",
   "execution_count": null,
   "metadata": {},
   "outputs": [],
   "source": [
    "a.value"
   ]
  },
  {
   "cell_type": "code",
   "execution_count": null,
   "metadata": {},
   "outputs": [],
   "source": [
    "a.add"
   ]
  },
  {
   "cell_type": "code",
   "execution_count": null,
   "metadata": {},
   "outputs": [],
   "source": [
    "all([1,2,abs(-3)-3])"
   ]
  },
  {
   "cell_type": "code",
   "execution_count": null,
   "metadata": {},
   "outputs": [],
   "source": [
    "chr(ord('a'))=='a'"
   ]
  },
  {
   "cell_type": "code",
   "execution_count": null,
   "metadata": {},
   "outputs": [],
   "source": [
    "#Q4\n",
    "def positive(x):\n",
    "    return x>0\n",
    "\n",
    "a=[1,-2,3,-5,8,-3]\n",
    "print(list(filter(positive, a)))"
   ]
  },
  {
   "cell_type": "code",
   "execution_count": null,
   "metadata": {},
   "outputs": [],
   "source": [
    "list(filter(lambda x:x>0, a))"
   ]
  },
  {
   "cell_type": "code",
   "execution_count": null,
   "metadata": {},
   "outputs": [],
   "source": [
    "#Q5\n",
    "hex(234)"
   ]
  },
  {
   "cell_type": "code",
   "execution_count": null,
   "metadata": {},
   "outputs": [],
   "source": [
    "int('0xea',16)"
   ]
  },
  {
   "cell_type": "code",
   "execution_count": null,
   "metadata": {},
   "outputs": [],
   "source": [
    "list(map(lambda x:x*3, [1,2,3,4]))"
   ]
  },
  {
   "cell_type": "code",
   "execution_count": null,
   "metadata": {},
   "outputs": [],
   "source": [
    "a=[-8,2,7,5,-3,5,0,1]\n",
    "max(a)+min(a)"
   ]
  },
  {
   "cell_type": "code",
   "execution_count": null,
   "metadata": {},
   "outputs": [],
   "source": [
    "round(17/3,4)"
   ]
  },
  {
   "cell_type": "code",
   "execution_count": null,
   "metadata": {},
   "outputs": [],
   "source": [
    "import random"
   ]
  },
  {
   "cell_type": "code",
   "execution_count": null,
   "metadata": {},
   "outputs": [],
   "source": [
    "result=[]\n",
    "while len(result)<6:\n",
    "    num=random.randint(1,45)\n",
    "    if num not in result:\n",
    "        result.append(num)\n",
    "print(result)"
   ]
  },
  {
   "cell_type": "code",
   "execution_count": null,
   "metadata": {},
   "outputs": [],
   "source": [
    "import re\n",
    "p=re.compile('ab*')"
   ]
  },
  {
   "cell_type": "code",
   "execution_count": null,
   "metadata": {},
   "outputs": [],
   "source": [
    "p=re.compile('[a-z]+')"
   ]
  },
  {
   "cell_type": "code",
   "execution_count": null,
   "metadata": {},
   "outputs": [],
   "source": [
    "m=p.match(\"python\")"
   ]
  },
  {
   "cell_type": "code",
   "execution_count": null,
   "metadata": {},
   "outputs": [],
   "source": [
    "print(m)"
   ]
  },
  {
   "cell_type": "code",
   "execution_count": null,
   "metadata": {},
   "outputs": [],
   "source": [
    "m=p.match(\"3 python\")\n",
    "print(m)"
   ]
  },
  {
   "cell_type": "code",
   "execution_count": null,
   "metadata": {},
   "outputs": [],
   "source": [
    "m=p.search(\"python\")\n",
    "print(m)"
   ]
  },
  {
   "cell_type": "code",
   "execution_count": null,
   "metadata": {},
   "outputs": [],
   "source": [
    "m=p.search(\"3 python\")\n",
    "print(m)"
   ]
  },
  {
   "cell_type": "code",
   "execution_count": null,
   "metadata": {},
   "outputs": [],
   "source": [
    "result=p.findall(\"life is too short\")\n",
    "print(result)"
   ]
  },
  {
   "cell_type": "code",
   "execution_count": null,
   "metadata": {},
   "outputs": [],
   "source": [
    "result=p.finditer(\"life is too short\")\n",
    "print(result)\n",
    "for r in result:print(r)"
   ]
  },
  {
   "cell_type": "code",
   "execution_count": null,
   "metadata": {},
   "outputs": [],
   "source": [
    "m=p.match(\"python\")\n",
    "m.group()"
   ]
  },
  {
   "cell_type": "code",
   "execution_count": null,
   "metadata": {},
   "outputs": [],
   "source": [
    "m.start()"
   ]
  },
  {
   "cell_type": "code",
   "execution_count": null,
   "metadata": {},
   "outputs": [],
   "source": [
    "m.end()"
   ]
  },
  {
   "cell_type": "code",
   "execution_count": null,
   "metadata": {},
   "outputs": [],
   "source": [
    "m.span()"
   ]
  },
  {
   "cell_type": "code",
   "execution_count": null,
   "metadata": {},
   "outputs": [],
   "source": [
    "p=re.compile('a.b')\n",
    "m=p.match('a\\nb')\n",
    "print(m)"
   ]
  },
  {
   "cell_type": "code",
   "execution_count": null,
   "metadata": {},
   "outputs": [],
   "source": [
    "p=re.compile('a.b', re.DOTALL)\n",
    "m=p.match('a\\nb')\n",
    "print(m)"
   ]
  },
  {
   "cell_type": "code",
   "execution_count": null,
   "metadata": {},
   "outputs": [],
   "source": [
    "#Q1\n",
    "a='a:b:c:d'\n",
    "b=a.split(':')\n",
    "c=\"#\".join(b)\n",
    "print(c)\n"
   ]
  },
  {
   "cell_type": "code",
   "execution_count": null,
   "metadata": {},
   "outputs": [],
   "source": [
    "#Q2\n",
    "a={'A':90,'B':80}\n",
    "a.get('C',70)"
   ]
  },
  {
   "cell_type": "code",
   "execution_count": null,
   "metadata": {},
   "outputs": [],
   "source": [
    "#Q4\n",
    "A=[20,55,67,82,45,33,90,87,100,25]\n",
    "hap=0\n",
    "cnt=0\n",
    "for i in A:\n",
    "    if i>=50:\n",
    "        hap+=i\n",
    "        cnt+=1\n",
    "print(hap/cnt)\n",
    "        "
   ]
  },
  {
   "cell_type": "code",
   "execution_count": null,
   "metadata": {},
   "outputs": [],
   "source": [
    "print('\\u250C\\u252C\\u2510\\n\\u251C\\u253C\\u2524\\n\\u2514\\u2534\\u2518')"
   ]
  },
  {
   "cell_type": "code",
   "execution_count": null,
   "metadata": {
    "scrolled": true
   },
   "outputs": [],
   "source": [
    "a,b,c=map(int,input().split())\n",
    "cnt=0\n",
    "for i in range(0,a):\n",
    "    for j in range(0,b):\n",
    "        for k in range(0,c):\n",
    "            print('%d %d %d'%(i,j,k))\n",
    "            cnt+=1\n",
    "print(cnt)\n",
    "    "
   ]
  },
  {
   "cell_type": "code",
   "execution_count": null,
   "metadata": {},
   "outputs": [],
   "source": [
    "(1024*768*24)/8/1024/1024"
   ]
  },
  {
   "cell_type": "code",
   "execution_count": null,
   "metadata": {
    "scrolled": true
   },
   "outputs": [],
   "source": [
    "b=[]\n",
    "for i in range(19):\n",
    "    b.append([])\n",
    "for i in range(19):\n",
    "    b[i]=list(map(int,input().split()))\n",
    "    \n",
    "T=int(input())    \n",
    "for i in range(T):\n",
    "    c,d=map(int,input().split())\n",
    "    for j in range(19):\n",
    "        if b[c-1][j]==1:\n",
    "            b[c-1][j]=0\n",
    "        else:\n",
    "            b[c-1][j]=1\n",
    "        for k in range(19):\n",
    "            if b[k][d-1]==1:\n",
    "                b[k][d-1]=0\n",
    "            else:\n",
    "                b[k][d-1]=1\n",
    "\n",
    "for i in range(19):\n",
    "    for j in range(19):\n",
    "        print(b[i][j], end=' ')\n",
    "    print('')"
   ]
  },
  {
   "cell_type": "code",
   "execution_count": null,
   "metadata": {},
   "outputs": [],
   "source": [
    "h,w=map(int,input().split()) #격자판의 세로,가로\n",
    "n=int(input())               # 놓을수 있는 막대의 개수\n",
    " \n",
    "b=[]\n",
    "for i in range(h):\n",
    "    b.append([])\n",
    "    for j in range(w):\n",
    "        b[i].append(0)\n",
    "for i in range(n):\n",
    "    l,d,x,y=map(int,input().split()) #막대의 길이, 방향(가로0, 세로1), 좌표\n",
    "    if d==0:\n",
    "        for q in range(l):\n",
    "            b[x-1][y-1+q]=1\n",
    "    else:\n",
    "        for q in range(l):\n",
    "            b[x-1+q][y-1]=1\n",
    "for i in range(h):\n",
    "    for j in range(w):\n",
    "        print(b[i][j], end=' ')\n",
    "    print('')\n",
    "\n"
   ]
  },
  {
   "cell_type": "code",
   "execution_count": null,
   "metadata": {},
   "outputs": [],
   "source": [
    "a=[]\n",
    "for i in range(10):\n",
    "    a.append([])\n",
    "    a[i]=list(map(int, input().split()))\n",
    "x,y=1,1\n",
    "while 1:\n",
    "    if a[x][y]==2:\n",
    "        a[x][y]=9ㅠ\n",
    "        break\n",
    "    elif a[x][y+1]==2:\n",
    "        a[x][y]=9\n",
    "        y=y+1\n",
    "        a[x][y]=9\n",
    "        break\n",
    "    elif a[x][y+1]==0:\n",
    "        a[x][y]=9\n",
    "        y=y+1\n",
    "        a[x][y]=9\n",
    "    elif a[x+1][y]==2:\n",
    "        a[x][y]=9\n",
    "        x=x+1\n",
    "        a[x][y]=9\n",
    "        break\n",
    "    elif a[x+1][y]==0:\n",
    "        a[x][y]=9\n",
    "        x=x+1\n",
    "        a[x][y]=9\n",
    "    elif a[x][y+1]==1 and a[x+1][y]==1:\n",
    "        a[x][y]=9\n",
    "        break\n",
    "for i in range(10):\n",
    "    for j in range(10):\n",
    "        print(a[i][j], end=' ')\n",
    "    print()"
   ]
  },
  {
   "cell_type": "code",
   "execution_count": null,
   "metadata": {},
   "outputs": [],
   "source": [
    "n=1260\n",
    "count=0\n",
    "coin_types=[500,100,50,10]\n",
    "for coin in coin_types:\n",
    "    count=count+n//coin\n",
    "    n=n%coin\n",
    "print(count)"
   ]
  },
  {
   "cell_type": "code",
   "execution_count": null,
   "metadata": {},
   "outputs": [],
   "source": []
  },
  {
   "cell_type": "code",
   "execution_count": null,
   "metadata": {},
   "outputs": [],
   "source": []
  },
  {
   "cell_type": "code",
   "execution_count": null,
   "metadata": {},
   "outputs": [],
   "source": []
  },
  {
   "cell_type": "code",
   "execution_count": 5,
   "metadata": {},
   "outputs": [
    {
     "name": "stdout",
     "output_type": "stream",
     "text": [
      "4 4\n",
      "2 4 6 8\n",
      "3 1 2 4\n",
      "7 9 8 5\n",
      "10 54 63 24\n"
     ]
    },
    {
     "data": {
      "text/plain": [
       "10"
      ]
     },
     "execution_count": 5,
     "metadata": {},
     "output_type": "execute_result"
    }
   ],
   "source": []
  },
  {
   "cell_type": "code",
   "execution_count": 6,
   "metadata": {},
   "outputs": [
    {
     "name": "stdout",
     "output_type": "stream",
     "text": [
      "3 3\n",
      "2 2 2\n",
      "4 3 2\n",
      "2 3 1\n",
      "2\n"
     ]
    }
   ],
   "source": []
  },
  {
   "cell_type": "code",
   "execution_count": null,
   "metadata": {},
   "outputs": [],
   "source": [
    "{ \n",
    "    x=0 y=0\n",
    "    nx=1\n",
    "    ny=0\n",
    "    graph[1][0]==2\n",
    "    nx=3\n",
    "}"
   ]
  },
  {
   "cell_type": "code",
   "execution_count": null,
   "metadata": {},
   "outputs": [],
   "source": []
  },
  {
   "cell_type": "code",
   "execution_count": null,
   "metadata": {},
   "outputs": [],
   "source": []
  }
 ],
 "metadata": {
  "kernelspec": {
   "display_name": "Python 3",
   "language": "python",
   "name": "python3"
  },
  "language_info": {
   "codemirror_mode": {
    "name": "ipython",
    "version": 3
   },
   "file_extension": ".py",
   "mimetype": "text/x-python",
   "name": "python",
   "nbconvert_exporter": "python",
   "pygments_lexer": "ipython3",
   "version": "3.7.6"
  }
 },
 "nbformat": 4,
 "nbformat_minor": 4
}
