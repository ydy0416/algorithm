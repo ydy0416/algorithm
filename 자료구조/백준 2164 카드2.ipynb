{
 "cells": [
  {
   "cell_type": "code",
   "execution_count": 7,
   "metadata": {},
   "outputs": [
    {
     "name": "stdout",
     "output_type": "stream",
     "text": [
      "6\n",
      "deque([1, 2, 3, 4, 5, 6])\n",
      "deque([3, 4, 5, 6, 2])\n",
      "deque([5, 6, 2, 4])\n",
      "deque([2, 4, 6])\n",
      "deque([6, 4])\n",
      "4\n"
     ]
    }
   ],
   "source": [
    "# N(1<=N<=500,000)\n",
    "from collections import deque\n",
    "n=int(input())\n",
    "q=deque(i for i in range(1,n+1))\n",
    "while len(q)>1:\n",
    "    q.popleft()\n",
    "    q.append(q.popleft())\n",
    "print(q[0])"
   ]
  }
 ],
 "metadata": {
  "kernelspec": {
   "display_name": "Python 3",
   "language": "python",
   "name": "python3"
  },
  "language_info": {
   "codemirror_mode": {
    "name": "ipython",
    "version": 3
   },
   "file_extension": ".py",
   "mimetype": "text/x-python",
   "name": "python",
   "nbconvert_exporter": "python",
   "pygments_lexer": "ipython3",
   "version": "3.7.6"
  }
 },
 "nbformat": 4,
 "nbformat_minor": 4
}
