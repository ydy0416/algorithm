{
 "cells": [
  {
   "cell_type": "code",
   "execution_count": null,
   "metadata": {},
   "outputs": [],
   "source": [
    "import sys\n",
    "from collections import deque\n",
    "def order(ord,q):\n",
    "    if ord[0:4]=='push':\n",
    "        a,b=map(str,ord.split())\n",
    "        q.append(int(b))\n",
    "    elif ord=='pop':\n",
    "        if len(q)>0:\n",
    "            print(q.popleft())\n",
    "        else:\n",
    "            print(-1)\n",
    "    elif ord=='size':\n",
    "        print(len(q))\n",
    "    elif ord=='empty':\n",
    "        if len(q)==0:\n",
    "            print(1)\n",
    "        else:\n",
    "            print(0)\n",
    "    elif ord=='front':\n",
    "        if len(q)==0:\n",
    "            print(-1)\n",
    "        else:\n",
    "            print(q[0])\n",
    "    elif ord=='back':\n",
    "        if len(q)==0:\n",
    "            print(-1)\n",
    "        else:\n",
    "            print(q[-1])\n",
    "    \n",
    "n=int(input())\n",
    "q=deque()\n",
    "for _ in range(n):\n",
    "    ord=sys.stdin.readline().rstrip()\n",
    "    order(ord,q)"
   ]
  }
 ],
 "metadata": {
  "kernelspec": {
   "display_name": "Python 3",
   "language": "python",
   "name": "python3"
  },
  "language_info": {
   "codemirror_mode": {
    "name": "ipython",
    "version": 3
   },
   "file_extension": ".py",
   "mimetype": "text/x-python",
   "name": "python",
   "nbconvert_exporter": "python",
   "pygments_lexer": "ipython3",
   "version": "3.7.6"
  }
 },
 "nbformat": 4,
 "nbformat_minor": 4
}
