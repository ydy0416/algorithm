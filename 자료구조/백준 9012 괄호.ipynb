{
 "cells": [
  {
   "cell_type": "code",
   "execution_count": 7,
   "metadata": {},
   "outputs": [
    {
     "name": "stdout",
     "output_type": "stream",
     "text": [
      "3\n",
      "((\n",
      "NO\n",
      "))\n",
      "NO\n",
      "())(()\n",
      "NO\n"
     ]
    }
   ],
   "source": [
    "T=int(input())\n",
    "def judge(string):\n",
    "    cnt=0\n",
    "    if string[0]==')': return False\n",
    "    for i in range(len(string)):\n",
    "        if cnt<0: return False\n",
    "        if string[i]=='(':\n",
    "            cnt+=1\n",
    "        else:\n",
    "            cnt-=1\n",
    "    if cnt==0: return True\n",
    "        \n",
    "for _ in range(T):\n",
    "    cnt=0\n",
    "    string=list(input())\n",
    "    tmp=judge(string)\n",
    "    if tmp==True:\n",
    "        print('YES')\n",
    "    else: print('NO')\n",
    "    \n",
    "        \n",
    "        "
   ]
  }
 ],
 "metadata": {
  "kernelspec": {
   "display_name": "Python 3",
   "language": "python",
   "name": "python3"
  },
  "language_info": {
   "codemirror_mode": {
    "name": "ipython",
    "version": 3
   },
   "file_extension": ".py",
   "mimetype": "text/x-python",
   "name": "python",
   "nbconvert_exporter": "python",
   "pygments_lexer": "ipython3",
   "version": "3.7.6"
  }
 },
 "nbformat": 4,
 "nbformat_minor": 4
}
