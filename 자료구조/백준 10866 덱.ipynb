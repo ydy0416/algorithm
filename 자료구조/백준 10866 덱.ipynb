{
 "cells": [
  {
   "cell_type": "code",
   "execution_count": 11,
   "metadata": {},
   "outputs": [
    {
     "name": "stdout",
     "output_type": "stream",
     "text": [
      "15\n",
      "push_back 1\n",
      "push_front 2\n",
      "front\n",
      "2\n",
      "back\n",
      "1\n",
      "size\n",
      "2\n",
      "empty\n",
      "0\n",
      "pop_front\n",
      "2\n",
      "pop_back\n",
      "1\n",
      "pop_front\n",
      "-1\n",
      "size\n",
      "0\n",
      "empty\n",
      "1\n",
      "pop_back\n",
      "-1\n",
      "push_front 3\n",
      "empty\n",
      "0\n",
      "front\n",
      "3\n"
     ]
    }
   ],
   "source": [
    "from collections import deque\n",
    "\n",
    "def operation(ord):\n",
    "    if ord[0:4]=='push':\n",
    "        a,b=ord.split()\n",
    "        if a=='push_back':\n",
    "            q.append(b)\n",
    "        elif a=='push_front':\n",
    "            q.appendleft(b)\n",
    "    elif ord=='pop_front':\n",
    "        if len(q)==0: print(-1)\n",
    "        else: print(q.popleft())\n",
    "    \n",
    "    elif ord=='pop_back':\n",
    "        if len(q)==0: print(-1)\n",
    "        else: print(q.pop())\n",
    "    elif ord=='size':\n",
    "        print(len(q))\n",
    "    elif ord=='empty':\n",
    "        if len(q)==0:\n",
    "            print(1)\n",
    "        else:\n",
    "            print(0)\n",
    "    elif ord=='front':\n",
    "        if len(q)==0:\n",
    "            print(-1)\n",
    "        else:\n",
    "            print(q[0])\n",
    "    elif ord=='back':\n",
    "        if len(q)==0:\n",
    "            print(-1)\n",
    "        else:\n",
    "            print(q[-1])\n",
    "        \n",
    "\n",
    "q=deque()\n",
    "for _ in range(int(input())):\n",
    "    ord=input()\n",
    "    operation(ord)\n",
    "\n",
    "    "
   ]
  }
 ],
 "metadata": {
  "kernelspec": {
   "display_name": "Python 3",
   "language": "python",
   "name": "python3"
  },
  "language_info": {
   "codemirror_mode": {
    "name": "ipython",
    "version": 3
   },
   "file_extension": ".py",
   "mimetype": "text/x-python",
   "name": "python",
   "nbconvert_exporter": "python",
   "pygments_lexer": "ipython3",
   "version": "3.7.6"
  }
 },
 "nbformat": 4,
 "nbformat_minor": 4
}
