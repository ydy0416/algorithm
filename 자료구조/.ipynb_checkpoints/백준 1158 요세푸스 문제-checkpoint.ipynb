{
 "cells": [
  {
   "cell_type": "code",
   "execution_count": 16,
   "metadata": {},
   "outputs": [
    {
     "name": "stdout",
     "output_type": "stream",
     "text": [
      "7 3\n",
      "<3, 6, 2, 7, 5, 1, 4>"
     ]
    }
   ],
   "source": [
    "from collections import deque\n",
    "n,k=map(int, input().split())\n",
    "data=[i for i in range(1,n+1)]\n",
    "cnt=0\n",
    "ans=[]\n",
    "while True:\n",
    "    if len(ans)==n: break\n",
    "    for i in range(len(data)):\n",
    "        if data[i]==0:\n",
    "            continue\n",
    "        else:\n",
    "            cnt+=1\n",
    "            if cnt==k:\n",
    "                ans.append(data[i])\n",
    "                data[i]=0\n",
    "                cnt=0\n",
    "print('<', end='')\n",
    "for i in range(len(data)-1):\n",
    "    print(ans[i], end=', ')\n",
    "print(ans[len(data)-1], end='')\n",
    "print('>', end='')"
   ]
  },
  {
   "cell_type": "code",
   "execution_count": 35,
   "metadata": {},
   "outputs": [
    {
     "name": "stdout",
     "output_type": "stream",
     "text": [
      "7 3\n",
      "<3, 6, 2, 7, 5, 1, 4>\n",
      "[3, 6, 2, 7, 5, 1, 4]\n"
     ]
    }
   ],
   "source": [
    "from collections import deque\n",
    "N, K = map(int, input().split())\n",
    "ans = []\n",
    "q = deque([i + 1 for i in range(N)])\n",
    "# print('q:',q)\n",
    "while len(q) != 0:\n",
    "    q.rotate(-K)\n",
    "    ans.append(q.pop())\n",
    "    \n",
    "print('<' + ', '.join(map(str, ans)) + '>') "
   ]
  }
 ],
 "metadata": {
  "kernelspec": {
   "display_name": "Python 3",
   "language": "python",
   "name": "python3"
  },
  "language_info": {
   "codemirror_mode": {
    "name": "ipython",
    "version": 3
   },
   "file_extension": ".py",
   "mimetype": "text/x-python",
   "name": "python",
   "nbconvert_exporter": "python",
   "pygments_lexer": "ipython3",
   "version": "3.7.6"
  }
 },
 "nbformat": 4,
 "nbformat_minor": 4
}
