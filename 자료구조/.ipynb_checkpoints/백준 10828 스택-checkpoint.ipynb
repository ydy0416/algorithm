{
 "cells": [
  {
   "cell_type": "code",
   "execution_count": 10,
   "metadata": {},
   "outputs": [
    {
     "name": "stdout",
     "output_type": "stream",
     "text": [
      "14\n",
      "push 1\n",
      "push 2\n",
      "top\n",
      "2\n",
      "size\n",
      "2\n",
      "empty\n",
      "0\n",
      "pop\n",
      "2\n",
      "pop\n",
      "1\n",
      "pop\n",
      "-1\n",
      "size\n",
      "0\n",
      "empty\n",
      "1\n",
      "pop\n",
      "-1\n",
      "push 3\n",
      "empty\n",
      "0\n",
      "top\n",
      "3\n"
     ]
    }
   ],
   "source": [
    "import sys\n",
    "def order(ord,q):\n",
    "    if ord[0:4]=='push':\n",
    "        a,b=map(str,ord.split())\n",
    "        q.append(int(b))\n",
    "    elif ord=='pop':\n",
    "        if len(q)>0:\n",
    "            print(q.pop())\n",
    "        else:\n",
    "            print(-1)\n",
    "    elif ord=='size':\n",
    "        print(len(q))\n",
    "    elif ord=='empty':\n",
    "        if len(q)==0:\n",
    "            print(1)\n",
    "        else:\n",
    "            print(0)\n",
    "    elif ord=='top':\n",
    "        if len(q)==0:\n",
    "            print(-1)\n",
    "        else:\n",
    "            print(q[len(q)-1])\n",
    "    \n",
    "n=int(input())\n",
    "q=[]\n",
    "for _ in range(n):\n",
    "    ord=sys.stdin.readline().rstrip()\n",
    "    order(ord,q)"
   ]
  },
  {
   "cell_type": "code",
   "execution_count": 4,
   "metadata": {},
   "outputs": [
    {
     "data": {
      "text/plain": [
       "[]"
      ]
     },
     "execution_count": 4,
     "metadata": {},
     "output_type": "execute_result"
    }
   ],
   "source": []
  }
 ],
 "metadata": {
  "kernelspec": {
   "display_name": "Python 3",
   "language": "python",
   "name": "python3"
  },
  "language_info": {
   "codemirror_mode": {
    "name": "ipython",
    "version": 3
   },
   "file_extension": ".py",
   "mimetype": "text/x-python",
   "name": "python",
   "nbconvert_exporter": "python",
   "pygments_lexer": "ipython3",
   "version": "3.7.6"
  }
 },
 "nbformat": 4,
 "nbformat_minor": 4
}
