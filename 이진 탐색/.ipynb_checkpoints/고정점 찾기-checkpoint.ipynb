{
 "cells": [
  {
   "cell_type": "code",
   "execution_count": 17,
   "metadata": {},
   "outputs": [
    {
     "name": "stdout",
     "output_type": "stream",
     "text": [
      "5\n",
      "-15 -6 1 3 7\n",
      "3\n"
     ]
    }
   ],
   "source": [
    "def binary_search(graph,start,end):\n",
    "    mid=(start+end)//2\n",
    "    if start>end:\n",
    "        return None\n",
    "    elif graph[mid]==mid:\n",
    "        return mid\n",
    "    #그래프값이 인덱스보다 작으면 오른쪽으로 이동\n",
    "    elif graph[mid]<mid:\n",
    "        return binary_search(graph,mid+1,end)\n",
    "    #그래프값이 인덱스보다 크면 왼쪽 이동\n",
    "    elif graph[mid]>mid:\n",
    "        return binary_search(graph,start,mid-1)\n",
    "n=int(input())\n",
    "graph=list(map(int,input().split()))\n",
    "#시작점, 끝점\n",
    "start=0\n",
    "end=len(graph)-1\n",
    "\n",
    "ans=binary_search(graph,start,end)\n",
    "if ans==None:\n",
    "    print(-1)\n",
    "else:\n",
    "    print(ans)"
   ]
  }
 ],
 "metadata": {
  "kernelspec": {
   "display_name": "Python 3",
   "language": "python",
   "name": "python3"
  },
  "language_info": {
   "codemirror_mode": {
    "name": "ipython",
    "version": 3
   },
   "file_extension": ".py",
   "mimetype": "text/x-python",
   "name": "python",
   "nbconvert_exporter": "python",
   "pygments_lexer": "ipython3",
   "version": "3.7.6"
  }
 },
 "nbformat": 4,
 "nbformat_minor": 4
}
