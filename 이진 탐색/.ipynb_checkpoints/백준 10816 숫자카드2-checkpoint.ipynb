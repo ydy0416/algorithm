{
 "cells": [
  {
   "cell_type": "code",
   "execution_count": 16,
   "metadata": {},
   "outputs": [
    {
     "name": "stdout",
     "output_type": "stream",
     "text": [
      "i 10\n",
      "id None\n",
      "3\n",
      "i 9\n",
      "id 7\n",
      "0\n",
      "i -5\n",
      "id None\n",
      "0\n",
      "i 2\n",
      "id None\n",
      "0\n",
      "i 3\n",
      "id None\n",
      "0\n",
      "i 4\n",
      "id None\n",
      "0\n",
      "i 5\n",
      "id None\n",
      "0\n",
      "i -10\n",
      "id None\n",
      "0\n"
     ]
    }
   ],
   "source": [
    "def binary_search(data,start,end,target):\n",
    "    mid=(start+end)//2\n",
    "    if start>end:\n",
    "        return None\n",
    "    elif data[mid]==target:\n",
    "        return mid\n",
    "    #미드값이 타겟보다 작으면 오른쪽으로 이동\n",
    "    elif data[mid]<target:\n",
    "        return binary_search(data,mid+1,end,target)\n",
    "    #미드값이 타겟보다 크면 왼쪽으로 이동\n",
    "    elif data[mid]>target:\n",
    "        return binary_search(data,start,mid-1,target)\n",
    "\n",
    "# n=int(input())\n",
    "# data=list(map(int, input().split()))\n",
    "# m=int(input())\n",
    "# num=list(map(int, input().split()))\n",
    "n=10\n",
    "data=[6, 3, 2, 10, 10, 10, -10, -10, 7, 3]\n",
    "m=8\n",
    "num=[10, 9, -5, 2, 3, 4, 5, -10]\n",
    "data.sort()\n",
    "start=0\n",
    "end=m\n",
    "for i in num:\n",
    "    cnt=0\n",
    "    print('i',i)\n",
    "    print('id',id)\n",
    "    id=binary_search(data,start,end,i)\n",
    "    \n",
    "#     id값이 none이면\n",
    "    if id==None:\n",
    "        print(0)\n",
    "\n",
    "    else:\n",
    "        #첫번째로 나타나는 안덱스값 구하기\n",
    "        for j in range(id,0,-1):\n",
    "            if data[j]==i:\n",
    "                start=j\n",
    "            else:\n",
    "                break\n",
    "        #갯수세기\n",
    "        for k in range(start,len(data)):\n",
    "            if data[k]==i:\n",
    "                cnt+=1\n",
    "            else:\n",
    "                break\n",
    "        print(cnt)"
   ]
  },
  {
   "cell_type": "code",
   "execution_count": 13,
   "metadata": {},
   "outputs": [
    {
     "data": {
      "text/plain": [
       "[-10, -10, 2, 3, 3, 6, 7, 10, 10, 10]"
      ]
     },
     "execution_count": 13,
     "metadata": {},
     "output_type": "execute_result"
    }
   ],
   "source": [
    "data"
   ]
  }
 ],
 "metadata": {
  "kernelspec": {
   "display_name": "Python 3",
   "language": "python",
   "name": "python3"
  },
  "language_info": {
   "codemirror_mode": {
    "name": "ipython",
    "version": 3
   },
   "file_extension": ".py",
   "mimetype": "text/x-python",
   "name": "python",
   "nbconvert_exporter": "python",
   "pygments_lexer": "ipython3",
   "version": "3.7.6"
  }
 },
 "nbformat": 4,
 "nbformat_minor": 4
}
