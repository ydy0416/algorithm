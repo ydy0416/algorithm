{
 "cells": [
  {
   "cell_type": "code",
   "execution_count": 45,
   "metadata": {},
   "outputs": [
    {
     "name": "stdout",
     "output_type": "stream",
     "text": [
      "4 6\n",
      "19 15 10 17\n",
      "15\n"
     ]
    }
   ],
   "source": [
    "def binary_search(knife,data,start,end):\n",
    "    while start<=end:\n",
    "        mid=(start+end)//2\n",
    "        target=0\n",
    "        for i in data:\n",
    "            if i-knife[mid]>0:\n",
    "                target+=i-knife[mid]\n",
    "#         print(mid,'mid')\n",
    "#         print(target,'target')\n",
    "        #타겟값과 m이 같으면 mid인덱스 반환\n",
    "        if target==m:\n",
    "            return mid\n",
    "        #타겟값이 m보다 작으면 왼쪽으로 이동\n",
    "        elif target<m: \n",
    "            return binary_search(knife,data,start,mid-1)\n",
    "        #타겟값이 m보다 크면 오른쪽\n",
    "        elif target>m:\n",
    "            return binary_search(knife,data,mid+1,end)\n",
    "        \n",
    "\n",
    "n,m=map(int, input().split())\n",
    "data=list(map(int,input().split()))\n",
    "knifestart=0\n",
    "knifeend=max(data)\n",
    "knife=[]\n",
    "for i in range(knifestart,knifeend+1):\n",
    "    knife.append(i)\n",
    "start=0\n",
    "end=len(knife)-1\n",
    "ans=binary_search(knife,data,start,end)\n",
    "print(knife[ans])"
   ]
  }
 ],
 "metadata": {
  "kernelspec": {
   "display_name": "Python 3",
   "language": "python",
   "name": "python3"
  },
  "language_info": {
   "codemirror_mode": {
    "name": "ipython",
    "version": 3
   },
   "file_extension": ".py",
   "mimetype": "text/x-python",
   "name": "python",
   "nbconvert_exporter": "python",
   "pygments_lexer": "ipython3",
   "version": "3.7.6"
  }
 },
 "nbformat": 4,
 "nbformat_minor": 4
}
