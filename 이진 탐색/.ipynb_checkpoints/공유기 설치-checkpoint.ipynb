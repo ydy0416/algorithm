{
 "cells": [
  {
   "cell_type": "code",
   "execution_count": 24,
   "metadata": {},
   "outputs": [
    {
     "data": {
      "text/plain": [
       "[1, 4, 9]"
      ]
     },
     "execution_count": 24,
     "metadata": {},
     "output_type": "execute_result"
    }
   ],
   "source": [
    "#https://blog.naver.com/pjok1122/221652210187\n",
    "# n,c=map(int,input().split())\n",
    "# graph=[]\n",
    "# for i in range(n):\n",
    "#     graph.append(int(input()))\n",
    "n,c=5,3\n",
    "graph=[1,2,8,4,9]\n",
    "graph.sort()\n",
    "start=0\n",
    "end=len(graph)-1\n",
    "\n",
    "data=[]\n",
    "data.append(graph[start])\n",
    "data.append(graph[end])\n",
    "for _ in range(c-2):\n",
    "    mid=(start+end)//2\n",
    "    data.append(graph[mid])\n",
    "    if data[end]-data[(mid+end)//2] > data[(star+mid)//2]-data[start]:\n",
    "        \n",
    "data.sort()\n",
    "data\n",
    "    "
   ]
  }
 ],
 "metadata": {
  "kernelspec": {
   "display_name": "Python 3",
   "language": "python",
   "name": "python3"
  },
  "language_info": {
   "codemirror_mode": {
    "name": "ipython",
    "version": 3
   },
   "file_extension": ".py",
   "mimetype": "text/x-python",
   "name": "python",
   "nbconvert_exporter": "python",
   "pygments_lexer": "ipython3",
   "version": "3.7.6"
  }
 },
 "nbformat": 4,
 "nbformat_minor": 4
}
