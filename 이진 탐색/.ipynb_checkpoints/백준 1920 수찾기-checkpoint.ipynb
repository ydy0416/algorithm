{
 "cells": [
  {
   "cell_type": "code",
   "execution_count": 8,
   "metadata": {},
   "outputs": [
    {
     "name": "stdout",
     "output_type": "stream",
     "text": [
      "1\n",
      "1\n",
      "0\n",
      "0\n",
      "1\n"
     ]
    }
   ],
   "source": [
    "def binary_search(A,start,end,target):\n",
    "    mid=(start+end)//2\n",
    "    if start>end:\n",
    "        return None\n",
    "    elif A[mid]==target:\n",
    "        return True\n",
    "    #mid값이 target보다 크면 왼쪽으로 이동\n",
    "    elif A[mid]>target:\n",
    "        return binary_search(A,start,mid-1,target)\n",
    "    elif A[mid]<target:\n",
    "        return binary_search(A,mid+1,end,target)\n",
    "    \n",
    "n=int(input())\n",
    "A=(list(map(int,input().split())))\n",
    "m=int(input())\n",
    "B=(list(map(int,input().split())))\n",
    "# n=5\n",
    "# A=[4,1,5,2,3]\n",
    "# m=5\n",
    "# B=[1,3,7,9,5]\n",
    "A.sort()\n",
    "start=0\n",
    "end=len(A)-1\n",
    "for i in B:\n",
    "    ans=binary_search(A,start,end,i)\n",
    "    if ans==True:\n",
    "        print(1)\n",
    "    else:\n",
    "        print(0)"
   ]
  }
 ],
 "metadata": {
  "kernelspec": {
   "display_name": "Python 3",
   "language": "python",
   "name": "python3"
  },
  "language_info": {
   "codemirror_mode": {
    "name": "ipython",
    "version": 3
   },
   "file_extension": ".py",
   "mimetype": "text/x-python",
   "name": "python",
   "nbconvert_exporter": "python",
   "pygments_lexer": "ipython3",
   "version": "3.7.6"
  }
 },
 "nbformat": 4,
 "nbformat_minor": 4
}
