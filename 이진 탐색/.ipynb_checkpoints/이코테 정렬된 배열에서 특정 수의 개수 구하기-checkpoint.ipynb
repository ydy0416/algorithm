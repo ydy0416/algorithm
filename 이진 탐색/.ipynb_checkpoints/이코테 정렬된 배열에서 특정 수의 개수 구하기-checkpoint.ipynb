{
 "cells": [
  {
   "cell_type": "code",
   "execution_count": 16,
   "metadata": {},
   "outputs": [
    {
     "name": "stdout",
     "output_type": "stream",
     "text": [
      "7 4\n",
      "1 1 2 2 2 2 3\n",
      "-1\n"
     ]
    }
   ],
   "source": [
    "def binary_search(data,start,end):\n",
    "    if start>end:\n",
    "        return None\n",
    "    mid=(start+end)//2\n",
    "    if data[mid]==m:\n",
    "        return mid\n",
    "    elif data[mid]<m:\n",
    "        return binary_search(data,mid+1,end)\n",
    "    elif data[mid]>m:\n",
    "        return binary_search(data,start,mid-1)\n",
    "        \n",
    "n,m=map(int,input().split())\n",
    "data=list(map(int,input().split()))\n",
    "start=0\n",
    "end=len(data)-1\n",
    "\n",
    "#값이 m인 인덱스값 찾기\n",
    "id=binary_search(data,start,end)\n",
    "\n",
    "#그래프에 m이 없을 때\n",
    "if id==None:\n",
    "    print(-1)\n",
    "else:\n",
    "    # 처음으로 m이 나오는 인덱스 찾기\n",
    "    for i in range(id,0,-1):\n",
    "        if data[i]==m:\n",
    "            start=i\n",
    "        else: break\n",
    "\n",
    "    #횟수 측정\n",
    "    cnt=0\n",
    "    for i in range(start,len(data)):\n",
    "        if data[i]==m:\n",
    "            cnt+=1\n",
    "        else: break\n",
    "\n",
    "    print(cnt)"
   ]
  },
  {
   "cell_type": "code",
   "execution_count": 5,
   "metadata": {},
   "outputs": [],
   "source": [
    "id"
   ]
  },
  {
   "cell_type": "code",
   "execution_count": null,
   "metadata": {},
   "outputs": [],
   "source": []
  }
 ],
 "metadata": {
  "kernelspec": {
   "display_name": "Python 3",
   "language": "python",
   "name": "python3"
  },
  "language_info": {
   "codemirror_mode": {
    "name": "ipython",
    "version": 3
   },
   "file_extension": ".py",
   "mimetype": "text/x-python",
   "name": "python",
   "nbconvert_exporter": "python",
   "pygments_lexer": "ipython3",
   "version": "3.7.6"
  }
 },
 "nbformat": 4,
 "nbformat_minor": 4
}
