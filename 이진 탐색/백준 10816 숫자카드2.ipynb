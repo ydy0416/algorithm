{
 "cells": [
  {
   "cell_type": "code",
   "execution_count": 47,
   "metadata": {},
   "outputs": [
    {
     "name": "stdout",
     "output_type": "stream",
     "text": [
      "1 1 1 1 0 0 1 0 1 1 "
     ]
    }
   ],
   "source": [
    "def binary_search(data,start,end,target):\n",
    "    mid=(start+end)//2\n",
    "    if start>end:\n",
    "        return None\n",
    "    elif data[mid]==target:\n",
    "        return mid\n",
    "    #미드값이 타겟보다 작으면 오른쪽으로 이동\n",
    "    elif data[mid]<target:\n",
    "        return binary_search(data,mid+1,end,target)\n",
    "    #미드값이 타겟보다 크면 왼쪽으로 이동\n",
    "    elif data[mid]>target:\n",
    "        return binary_search(data,start,mid-1,target)\n",
    "\n",
    "# n=int(input())\n",
    "# data=list(map(int, input().split()))\n",
    "# m=int(input())\n",
    "# num=list(map(int, input().split()))\n",
    "n=5\n",
    "data=[1, 3, -10, -5, 6]\n",
    "m=10\n",
    "num=[-5, 1, 3, 6, 8, 10, -10, 4, 6, 1]\n",
    "data.sort()\n",
    "ans=[]\n",
    "#num순회\n",
    "for i in num:\n",
    "    cnt=0\n",
    "    start=0\n",
    "    end=n-1\n",
    "    id=binary_search(data,start,end,i)\n",
    "#     id값이 none이면\n",
    "    if id==None:\n",
    "        ans.append(0)\n",
    "    else:\n",
    "        #첫번째로 나타나는 인덱스값 구하기\n",
    "        for j in range(id,-1,-1):\n",
    "            if data[j]==i:\n",
    "                start=j\n",
    "            else:\n",
    "                break\n",
    "        #갯수세기\n",
    "        for k in range(start,len(data)):\n",
    "            if data[k]==i:\n",
    "                cnt+=1\n",
    "            else:\n",
    "                break\n",
    "        ans.append(cnt)\n",
    "for i in ans:\n",
    "    print(i, end=' ')"
   ]
  },
  {
   "cell_type": "code",
   "execution_count": 49,
   "metadata": {},
   "outputs": [
    {
     "name": "stdout",
     "output_type": "stream",
     "text": [
      "d\n"
     ]
    },
    {
     "ename": "ValueError",
     "evalue": "invalid literal for int() with base 10: 'd'",
     "output_type": "error",
     "traceback": [
      "\u001b[1;31m---------------------------------------------------------------------------\u001b[0m",
      "\u001b[1;31mValueError\u001b[0m                                Traceback (most recent call last)",
      "\u001b[1;32m<ipython-input-49-6cbdcda4dd1d>\u001b[0m in \u001b[0;36m<module>\u001b[1;34m\u001b[0m\n\u001b[0;32m     12\u001b[0m         \u001b[1;32mreturn\u001b[0m \u001b[0mbinary_search\u001b[0m\u001b[1;33m(\u001b[0m\u001b[0mdata\u001b[0m\u001b[1;33m,\u001b[0m\u001b[0mstart\u001b[0m\u001b[1;33m,\u001b[0m\u001b[0mmid\u001b[0m\u001b[1;33m-\u001b[0m\u001b[1;36m1\u001b[0m\u001b[1;33m,\u001b[0m\u001b[0mtarget\u001b[0m\u001b[1;33m)\u001b[0m\u001b[1;33m\u001b[0m\u001b[1;33m\u001b[0m\u001b[0m\n\u001b[0;32m     13\u001b[0m \u001b[1;33m\u001b[0m\u001b[0m\n\u001b[1;32m---> 14\u001b[1;33m \u001b[0mn\u001b[0m\u001b[1;33m=\u001b[0m\u001b[0mint\u001b[0m\u001b[1;33m(\u001b[0m\u001b[0minput\u001b[0m\u001b[1;33m(\u001b[0m\u001b[1;33m)\u001b[0m\u001b[1;33m)\u001b[0m\u001b[1;33m\u001b[0m\u001b[1;33m\u001b[0m\u001b[0m\n\u001b[0m\u001b[0;32m     15\u001b[0m \u001b[0mdata\u001b[0m\u001b[1;33m=\u001b[0m\u001b[0mlist\u001b[0m\u001b[1;33m(\u001b[0m\u001b[0mmap\u001b[0m\u001b[1;33m(\u001b[0m\u001b[0mint\u001b[0m\u001b[1;33m,\u001b[0m \u001b[0minput\u001b[0m\u001b[1;33m(\u001b[0m\u001b[1;33m)\u001b[0m\u001b[1;33m.\u001b[0m\u001b[0msplit\u001b[0m\u001b[1;33m(\u001b[0m\u001b[1;33m)\u001b[0m\u001b[1;33m)\u001b[0m\u001b[1;33m)\u001b[0m\u001b[1;33m\u001b[0m\u001b[1;33m\u001b[0m\u001b[0m\n\u001b[0;32m     16\u001b[0m \u001b[0mm\u001b[0m\u001b[1;33m=\u001b[0m\u001b[0mint\u001b[0m\u001b[1;33m(\u001b[0m\u001b[0minput\u001b[0m\u001b[1;33m(\u001b[0m\u001b[1;33m)\u001b[0m\u001b[1;33m)\u001b[0m\u001b[1;33m\u001b[0m\u001b[1;33m\u001b[0m\u001b[0m\n",
      "\u001b[1;31mValueError\u001b[0m: invalid literal for int() with base 10: 'd'"
     ]
    }
   ],
   "source": [
    "\n",
    "def binary_search(data,start,end,target):\n",
    "    mid=(start+end)//2\n",
    "    if start>end:\n",
    "        return None\n",
    "    elif data[mid]==target:\n",
    "        return mid\n",
    "    #미드값이 타겟보다 작으면 오른쪽으로 이동\n",
    "    elif data[mid]<target:\n",
    "        return binary_search(data,mid+1,end,target)\n",
    "    #미드값이 타겟보다 크면 왼쪽으로 이동\n",
    "    elif data[mid]>target:\n",
    "        return binary_search(data,start,mid-1,target)\n",
    "\n",
    "n=int(input())\n",
    "data=list(map(int, input().split()))\n",
    "m=int(input())\n",
    "num=list(map(int, input().split()))\n",
    "# n=5\n",
    "# data=[1, 3, -10, -5, 6]\n",
    "# m=10\n",
    "# num=[-5, 1, 3, 6, 8, 10, -10, 4, 6, 1]\n",
    "data.sort()\n",
    "ans=[]\n",
    "#num순회\n",
    "for i in num:\n",
    "    cnt=0\n",
    "    start=0\n",
    "    end=n-1\n",
    "    id=binary_search(data,start,end,i)\n",
    "#     id값이 none이면\n",
    "    if id==None:\n",
    "        ans.append(0)\n",
    "    else:\n",
    "        #첫번째로 나타나는 인덱스값 구하기\n",
    "        for j in range(id,-1,-1):\n",
    "            if data[j]==i:\n",
    "                start=j\n",
    "            else:\n",
    "                break\n",
    "        #갯수세기\n",
    "        for k in range(start,len(data)):\n",
    "            if data[k]==i:\n",
    "                cnt+=1\n",
    "            else:\n",
    "                break\n",
    "        ans.append(cnt)\n",
    "for i in ans:\n",
    "    print(i, end=' ')"
   ]
  }
 ],
 "metadata": {
  "kernelspec": {
   "display_name": "Python 3",
   "language": "python",
   "name": "python3"
  },
  "language_info": {
   "codemirror_mode": {
    "name": "ipython",
    "version": 3
   },
   "file_extension": ".py",
   "mimetype": "text/x-python",
   "name": "python",
   "nbconvert_exporter": "python",
   "pygments_lexer": "ipython3",
   "version": "3.7.6"
  }
 },
 "nbformat": 4,
 "nbformat_minor": 4
}
