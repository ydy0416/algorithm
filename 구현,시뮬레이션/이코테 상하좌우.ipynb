{
 "cells": [
  {
   "cell_type": "code",
   "execution_count": 15,
   "metadata": {},
   "outputs": [
    {
     "name": "stdout",
     "output_type": "stream",
     "text": [
      "5\n",
      "R R R U D D\n",
      "['R', 'R', 'R', 'U', 'D', 'D']\n",
      "R\n",
      "1 2\n",
      "R\n",
      "1 3\n",
      "R\n",
      "1 4\n",
      "U\n",
      "D\n",
      "2 4\n",
      "D\n",
      "3 4\n",
      "3 4\n"
     ]
    }
   ],
   "source": [
    "n=int(input())\n",
    "go=list(input().split())\n",
    "print(go)\n",
    "graph=[[0]*n for i in range(n)]\n",
    "#동서남북\n",
    "dx=[0,0,1,-1]\n",
    "dy=[1,-1,0,0]\n",
    "x=1\n",
    "y=1\n",
    "for i in go:\n",
    "    if i=='R':\n",
    "        print(i)\n",
    "        nx=x+dx[0]\n",
    "        ny=y+dy[0]\n",
    "        if x<1 or x>=n or y<1 or y>=n:\n",
    "            continue\n",
    "        x=nx\n",
    "        y=ny\n",
    "        print(x,y)\n",
    "    if i=='L':\n",
    "        print(i)\n",
    "        nx=x+dx[1]\n",
    "        ny=y+dy[1]\n",
    "        if x<1 or x>=n or y<1 or y>=n:\n",
    "            continue\n",
    "        x=nx\n",
    "        y=ny\n",
    "        print(x,y)\n",
    "    if i=='D':\n",
    "        print(i)\n",
    "        nx=x+dx[2]\n",
    "        ny=y+dy[2]\n",
    "        if x<1 or x>=n or y<1 or y>=n:\n",
    "            continue\n",
    "        x=nx\n",
    "        y=ny\n",
    "        print(x,y)\n",
    "    if i=='U':\n",
    "        print(i)\n",
    "        nx=x+dx[3]\n",
    "        ny=y+dy[3]\n",
    "        if nx<1 or nx>=n or ny<1 or ny>=n:\n",
    "            continue\n",
    "        x=nx\n",
    "        y=ny\n",
    "        print(x,y)\n",
    "print(x,y)"
   ]
  },
  {
   "cell_type": "code",
   "execution_count": 6,
   "metadata": {},
   "outputs": [
    {
     "data": {
      "text/plain": [
       "6"
      ]
     },
     "execution_count": 6,
     "metadata": {},
     "output_type": "execute_result"
    }
   ],
   "source": [
    "len(go)"
   ]
  }
 ],
 "metadata": {
  "kernelspec": {
   "display_name": "Python 3",
   "language": "python",
   "name": "python3"
  },
  "language_info": {
   "codemirror_mode": {
    "name": "ipython",
    "version": 3
   },
   "file_extension": ".py",
   "mimetype": "text/x-python",
   "name": "python",
   "nbconvert_exporter": "python",
   "pygments_lexer": "ipython3",
   "version": "3.7.6"
  }
 },
 "nbformat": 4,
 "nbformat_minor": 4
}
