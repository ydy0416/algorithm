{
 "cells": [
  {
   "cell_type": "code",
   "execution_count": 30,
   "metadata": {},
   "outputs": [
    {
     "name": "stdout",
     "output_type": "stream",
     "text": [
      "10 500\n",
      "93 181 245 214 315 36 185 138 216 295\n",
      "497\n"
     ]
    }
   ],
   "source": [
    "from itertools import combinations\n",
    "n,m=map(int, input().split())\n",
    "card=list(map(int,input().split()))\n",
    "card_comb=list(combinations(card,3))\n",
    "ans=0\n",
    "for i in card_comb:\n",
    "#     print(i)\n",
    "#     print('합계',sum(i))\n",
    "    #만약 합계가 m보단 작고 ans보다 크면 ans 갱신\n",
    "    if sum(i)<=m and sum(i)>ans:\n",
    "        ans=sum(i)\n",
    "#     print('ans:',ans)\n",
    "print(ans)\n"
   ]
  }
 ],
 "metadata": {
  "kernelspec": {
   "display_name": "Python 3",
   "language": "python",
   "name": "python3"
  },
  "language_info": {
   "codemirror_mode": {
    "name": "ipython",
    "version": 3
   },
   "file_extension": ".py",
   "mimetype": "text/x-python",
   "name": "python",
   "nbconvert_exporter": "python",
   "pygments_lexer": "ipython3",
   "version": "3.7.6"
  }
 },
 "nbformat": 4,
 "nbformat_minor": 4
}
