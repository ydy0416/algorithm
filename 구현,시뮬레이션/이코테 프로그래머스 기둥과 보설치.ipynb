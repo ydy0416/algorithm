{
 "cells": [
  {
   "cell_type": "code",
   "execution_count": null,
   "metadata": {},
   "outputs": [],
   "source": [
    "#보의 오른쪽 끝 좌표 return\n",
    "def y_right(graph,x,y):\n",
    "    if graph[x][y]==9:\n",
    "        print(graph[x][y])\n",
    "        return y-1\n",
    "    else:\n",
    "        return y_right(graph,x,y)\n",
    "        \n",
    "#1차 예시\n",
    "# build_frame=[[1,0,0,1],[1,1,1,1],[2,1,0,1],[2,2,1,1],[5,0,0,1],[5,1,0,1],[4,2,1,1],[3,2,1,1]]\n",
    "build_frame=[[0,0,0,1],[2,0,0,1],[4,0,0,1],[0,1,1,1],[1,1,1,1],[2,1,1,1],[3,1,1,1],[2,0,0,0],[1,1,1,0],[2,2,0,1]]\n",
    "n=5\n",
    "graph=[[9]*(n+1) for i in range(n+1)]\n",
    "graph\n",
    "#x,y변환\n",
    "for i in range(len(build_frame)):\n",
    "    x=n-build_frame[i][1]\n",
    "    y=build_frame[i][0]\n",
    "    #설치\n",
    "    if build_frame[i][3]==1:\n",
    "        #기둥 설치\n",
    "        if build_frame[i][2]==0:\n",
    "            #설치하는 곳이 바닥이거나 기둥 위 or 보의 한쪽 위\n",
    "            if x==n or graph[x+1][y]==0 or graph[x][y-1]==1:\n",
    "                graph[x][y]=0\n",
    "            else:\n",
    "                print(x,y)\n",
    "                continue\n",
    "        #보 설치\n",
    "        else:\n",
    "            #설치하는 곳이 기둥 위거나 양 옆이 보인경우\n",
    "            if graph[x+1][y]==0 or (graph[x][y-1]==1 and graph[x][y+1]==1) or graph[x+1][y+1]==0:\n",
    "                graph[x][y]=1\n",
    "            else:\n",
    "                continue\n",
    "    \n",
    "    #해체\n",
    "    else:\n",
    "        #기둥해체\n",
    "        if build_frame[i][3]==0 and build_frame[i][2]==0:\n",
    "            #해체하는 곳이 양 옆으로 기둥이 세워져 있으면\n",
    "            print('x,y',x,y)\n",
    "            a=y_right(graph,x-1,y)\n",
    "            print(a)\n",
    "        \n",
    "        \n",
    "#답좌표변환\n",
    "ans=[]\n",
    "for i in range(n+1):\n",
    "    for j in range(n+1):\n",
    "        print(graph[i][j],end='')\n",
    "        if graph[i][j]==0 or graph[i][j]==1:\n",
    "            ans.append([j,n-i,graph[i][j]])\n",
    "    print()"
   ]
  },
  {
   "cell_type": "code",
   "execution_count": null,
   "metadata": {},
   "outputs": [],
   "source": [
    "build_frame"
   ]
  },
  {
   "cell_type": "code",
   "execution_count": null,
   "metadata": {},
   "outputs": [],
   "source": [
    "ans.sort()\n",
    "ans"
   ]
  },
  {
   "cell_type": "code",
   "execution_count": 1,
   "metadata": {},
   "outputs": [
    {
     "data": {
      "text/plain": [
       "[[]]"
      ]
     },
     "execution_count": 1,
     "metadata": {},
     "output_type": "execute_result"
    }
   ],
   "source": [
    "#현재 구조물이 가능한 구조물인지 확인하는 함수\n",
    "def possible(answer):\n",
    "    for x,y,stuff in answer:\n",
    "        #설치된 것이 기둥인 경우\n",
    "        if stuff==0:\n",
    "            #바닥 위 혹은 보의 한쪽 끝부분 위 혹은 다른 기둥 위라면 정상\n",
    "            if y==0 or [x-1,y,1] in answer or [x,y,1] in answer or [x,y,-1,0] in answer:\n",
    "                continue\n",
    "            return False\n",
    "        elif stuff==1:\n",
    "            #한 쪽 끝부분이 기둥 위 혹은 양쪽 끝부분이 다른 보와 동시에 연결이면 정상\n",
    "            if [x,y,-1,0] in answer or [x+1,y-1,0] in answer or ([x-1,y,1])ㅠ"
   ]
  },
  {
   "cell_type": "code",
   "execution_count": 3,
   "metadata": {},
   "outputs": [
    {
     "data": {
      "text/plain": [
       "[[0, 0, 0], [0, 1, 1], [1, 1, 1], [2, 1, 1], [3, 1, 1], [4, 0, 0]]"
      ]
     },
     "execution_count": 3,
     "metadata": {},
     "output_type": "execute_result"
    }
   ],
   "source": [
    "#해설\n",
    "def possible(answer):\n",
    "    for x,y,stuff in answer:\n",
    "        if stuff==0: #설치된 것이 기둥인 경우\n",
    "            #바닥 위 혹은 보의 한쪽 끝부분 위 혹은 다른 기둥 위라면 정상\n",
    "            if y==0 or [x-1,y,1] in answer or [x,y,1] in answer or [x,y-1,0] in answer:\n",
    "                continue\n",
    "            return False #아니면 거짓 반환\n",
    "        elif stuff==1: #설치된 것이 보인 경우\n",
    "            #한 쪽 끝부분이 기둥 위 혹은 양쪽 끝부분이 다른 보와 동시에 연결이면 정상\n",
    "            if [x,y-1,0] in answer or [x+1,y-1,0] in answer or ([x-1,y,1] in answer and [x+1,y,1] in answer):\n",
    "                continue\n",
    "            return False #아니라면 거짓 반환\n",
    "    return True\n",
    "\n",
    "def solution(n,build_frame):\n",
    "    answer=[]\n",
    "    for frame in build_frame: \n",
    "        x,y,stuff,operate=frame\n",
    "        if operate==0: #삭제하는 경우\n",
    "            answer.remove([x,y,stuff]) #일단 삭제한 뒤\n",
    "            if not possible(answer): #가능한 구조물인지 확인\n",
    "                answer.append([x,y,stuff]) #가능한 구조물이 아니라면 다시 설치\n",
    "        if operate==1: #설치하는 경우\n",
    "            answer.append([x,y,stuff]) #일단 설치한 뒤\n",
    "            if not possible(answer):\n",
    "                answer.remove([x,y,stuff]) # 불가능하면 제거\n",
    "    answer.sort()\n",
    "    return answer\n",
    "\n",
    "n=5\n",
    "build_frame=[[0,0,0,1],[2,0,0,1],[4,0,0,1],[0,1,1,1],[1,1,1,1],[2,1,1,1],[3,1,1,1],[2,0,0,0],[1,1,1,0],[2,2,0,1]]\n",
    "solution(n,build_frame)"
   ]
  }
 ],
 "metadata": {
  "kernelspec": {
   "display_name": "Python 3",
   "language": "python",
   "name": "python3"
  },
  "language_info": {
   "codemirror_mode": {
    "name": "ipython",
    "version": 3
   },
   "file_extension": ".py",
   "mimetype": "text/x-python",
   "name": "python",
   "nbconvert_exporter": "python",
   "pygments_lexer": "ipython3",
   "version": "3.7.6"
  }
 },
 "nbformat": 4,
 "nbformat_minor": 4
}
