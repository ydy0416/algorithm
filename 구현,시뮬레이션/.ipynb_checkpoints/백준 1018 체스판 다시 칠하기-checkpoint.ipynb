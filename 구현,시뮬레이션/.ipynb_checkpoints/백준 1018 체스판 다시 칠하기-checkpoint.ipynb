{
 "cells": [
  {
   "cell_type": "code",
   "execution_count": 1,
   "metadata": {
    "scrolled": true
   },
   "outputs": [
    {
     "name": "stdout",
     "output_type": "stream",
     "text": [
      "10 13\n",
      "BBBBBBBBWBWBW\n",
      "BBBBBBBBBWBWB\n",
      "BBBBBBBBWBWBW\n",
      "BBBBBBBBBWBWB\n",
      "BBBBBBBBWBWBW\n",
      "BBBBBBBBBWBWB\n",
      "BBBBBBBBWBWBW\n",
      "BBBBBBBBBWBWB\n",
      "WWWWWWWWWWBWB\n",
      "WWWWWWWWWWBWB\n",
      "12\n"
     ]
    }
   ],
   "source": [
    "#시간제한 2초, \n",
    "#N과 M은 8보다 크거나 같고, 50보다 작거나 같은 자연수이다\n",
    "n,m=map(int,input().split())\n",
    "graph=[]\n",
    "for i in range(n):\n",
    "    graph.append(list(input()))\n",
    "    \n",
    "#시작점 구하기\n",
    "ans=[]\n",
    "for a in range(n-7):\n",
    "    for b in range(m-7):\n",
    "        index1=0\n",
    "        index2=0\n",
    "        for i in range(a,a+8):\n",
    "            for j in range(b,b+8):\n",
    "                #행,열의 합이 짝수\n",
    "                if (i+j)%2==0:\n",
    "                    if graph[i][j]!='B':\n",
    "                        index1+=1\n",
    "                    if graph[i][j]!='W':\n",
    "                        index2+=1\n",
    "                #행,열의 합이 홀수\n",
    "                else:\n",
    "                    if graph[i][j]!='W':\n",
    "                        index1+=1\n",
    "                    if graph[i][j]!='B':\n",
    "                        index2+=1\n",
    "        ans.append((min(index1,index2)))\n",
    "print(min(ans))"
   ]
  },
  {
   "cell_type": "code",
   "execution_count": null,
   "metadata": {},
   "outputs": [],
   "source": [
    "#연습\n",
    "n,m=map(int,input().split())\n",
    "graph=[]\n",
    "for i in range(n):\n",
    "    graph.append(list(input()))\n",
    "\n",
    "ans=[]\n",
    "#시작점 구하기\n",
    "for a in range(n-7):\n",
    "    for b in range(m-7):\n",
    "        #cnt1 BWBWBW 시작\n",
    "        #cnt2 WBWBWB 시작\n",
    "        cnt1=0\n",
    "        cnt2=0\n",
    "        #한 시작점에 대해서 탐색, cnt1와 cnt2중 작은것 ans에 삽입\n",
    "        for i in range(a,a+8):\n",
    "            for j in range(b,b+8):\n",
    "                #행+열이 짝수\n",
    "                if (i+j)%2==0:\n",
    "                    if graph[i][j] !='B':\n",
    "                        cnt1+=1\n",
    "                    elif graph[i][j]!='W':\n",
    "                        cnt2+=1\n",
    "                #행+열이 홀수\n",
    "                else :\n",
    "                    if graph[i][j] !='W':\n",
    "                        cnt1+=1\n",
    "                    elif graph[i][j]!='B':\n",
    "                        cnt2+=1\n",
    "        ans.append(min(cnt1,cnt2))\n",
    "#         print(ans)\n",
    "print(min(ans))\n",
    "        "
   ]
  }
 ],
 "metadata": {
  "kernelspec": {
   "display_name": "Python 3",
   "language": "python",
   "name": "python3"
  },
  "language_info": {
   "codemirror_mode": {
    "name": "ipython",
    "version": 3
   },
   "file_extension": ".py",
   "mimetype": "text/x-python",
   "name": "python",
   "nbconvert_exporter": "python",
   "pygments_lexer": "ipython3",
   "version": "3.7.6"
  }
 },
 "nbformat": 4,
 "nbformat_minor": 4
}
