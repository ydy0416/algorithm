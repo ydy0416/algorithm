{
 "cells": [
  {
   "cell_type": "code",
   "execution_count": 53,
   "metadata": {},
   "outputs": [
    {
     "name": "stdout",
     "output_type": "stream",
     "text": [
      "123\n",
      "1010011\n"
     ]
    }
   ],
   "source": [
    "print(bin(int(input(), 8))[2:])"
   ]
  },
  {
   "cell_type": "code",
   "execution_count": 50,
   "metadata": {
    "scrolled": true
   },
   "outputs": [
    {
     "name": "stdout",
     "output_type": "stream",
     "text": [
      "123\n",
      "1\n",
      "2\n",
      "3\n",
      "01010011\n"
     ]
    }
   ],
   "source": [
    "def s(num):\n",
    "    if num=='7':return '111'\n",
    "    if num=='6':return '110'\n",
    "    if num=='5':return '101'\n",
    "    if num=='4':return '100'\n",
    "    if num=='3':return '011'\n",
    "    if num=='2':return '010'\n",
    "    if num=='1':return '001'\n",
    "    if num=='0':return '000'\n",
    "    \n",
    "n=input()\n",
    "ans=''\n",
    "for i in n:\n",
    "    print(i)\n",
    "    ans+=s(i)\n",
    "if ans[0]=='0':\n",
    "    print(ans[1:])\n",
    "else:\n",
    "    print(ans)\n"
   ]
  }
 ],
 "metadata": {
  "kernelspec": {
   "display_name": "Python 3",
   "language": "python",
   "name": "python3"
  },
  "language_info": {
   "codemirror_mode": {
    "name": "ipython",
    "version": 3
   },
   "file_extension": ".py",
   "mimetype": "text/x-python",
   "name": "python",
   "nbconvert_exporter": "python",
   "pygments_lexer": "ipython3",
   "version": "3.7.6"
  }
 },
 "nbformat": 4,
 "nbformat_minor": 4
}
