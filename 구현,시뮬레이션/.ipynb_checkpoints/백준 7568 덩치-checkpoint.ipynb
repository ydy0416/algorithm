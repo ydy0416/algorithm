{
 "cells": [
  {
   "cell_type": "code",
   "execution_count": 29,
   "metadata": {},
   "outputs": [
    {
     "name": "stdout",
     "output_type": "stream",
     "text": [
      "5\n",
      "55 185\n",
      "58 183\n",
      "88 186\n",
      "60 175\n",
      "46 155\n",
      "2 2 1 2 5 "
     ]
    }
   ],
   "source": [
    "# 2 ≤ N ≤ 50\n",
    "# 10 ≤ x, y ≤ 200\n",
    "n=int(input())\n",
    "info=[]\n",
    "for i in range(n):\n",
    "    x,y=map(int,input().split())\n",
    "    info.append((x,y,i))\n",
    "ans=[]\n",
    "for i in info:\n",
    "    order=1\n",
    "#     print(i)\n",
    "    for j in range(len(info)):\n",
    "        #본인과의 비교 무시\n",
    "        if info[j][2]==i[2]:\n",
    "            continue\n",
    "        else:\n",
    "            if i[0]<info[j][0] and i[1]<info[j][1]:\n",
    "                order+=1\n",
    "    ans.append(order)\n",
    "for i in ans:\n",
    "    print(i, end=' ')"
   ]
  }
 ],
 "metadata": {
  "kernelspec": {
   "display_name": "Python 3",
   "language": "python",
   "name": "python3"
  },
  "language_info": {
   "codemirror_mode": {
    "name": "ipython",
    "version": 3
   },
   "file_extension": ".py",
   "mimetype": "text/x-python",
   "name": "python",
   "nbconvert_exporter": "python",
   "pygments_lexer": "ipython3",
   "version": "3.7.6"
  }
 },
 "nbformat": 4,
 "nbformat_minor": 4
}
