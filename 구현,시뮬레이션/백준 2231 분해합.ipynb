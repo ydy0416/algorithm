{
 "cells": [
  {
   "cell_type": "code",
   "execution_count": 47,
   "metadata": {},
   "outputs": [
    {
     "name": "stdout",
     "output_type": "stream",
     "text": [
      "20\n",
      "0\n"
     ]
    }
   ],
   "source": [
    "#첫째 줄에 자연수 N(1 ≤ N ≤ 1,000,000)이 주어진다.\n",
    "n=int(input())\n",
    "l=[]\n",
    "#자릿수 찾기\n",
    "for i in str(n):\n",
    "    l.append(i)\n",
    "#시작점\n",
    "if n<20:\n",
    "    start=0\n",
    "else:\n",
    "    start=n-9*len(l)\n",
    "    \n",
    "#답이 될수있는 리스트\n",
    "ans=[]\n",
    "\n",
    "for i in range(start,n+1):\n",
    "    tmp=i\n",
    "    for j in str(i):\n",
    "        tmp+=int(j)\n",
    "    if tmp==n:\n",
    "        ans.append(i)\n",
    "\n",
    "#ans에 아무것도 없을 때\n",
    "if len(ans)==0:\n",
    "    print('0')\n",
    "else:\n",
    "    print(min(ans))"
   ]
  }
 ],
 "metadata": {
  "kernelspec": {
   "display_name": "Python 3",
   "language": "python",
   "name": "python3"
  },
  "language_info": {
   "codemirror_mode": {
    "name": "ipython",
    "version": 3
   },
   "file_extension": ".py",
   "mimetype": "text/x-python",
   "name": "python",
   "nbconvert_exporter": "python",
   "pygments_lexer": "ipython3",
   "version": "3.7.6"
  }
 },
 "nbformat": 4,
 "nbformat_minor": 4
}
