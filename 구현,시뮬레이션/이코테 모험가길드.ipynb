{
 "cells": [
  {
   "cell_type": "code",
   "execution_count": 5,
   "metadata": {},
   "outputs": [
    {
     "name": "stdout",
     "output_type": "stream",
     "text": [
      "[(1, 3), (1, 2), (1, 3), (1, 2), (3, 2), (3, 3), (3, 2), (2, 3), (2, 2), (3, 2)]\n"
     ]
    }
   ],
   "source": [
    "#메모리 10,000,000  시간 20,000,000\n",
    "#1. 정렬\n",
    "#2. sort() > nlogn\n",
    "#3. \n",
    "from itertools import combinations\n",
    "ball=[1,3,2,3,2]\n",
    "c=list(combinations(ball,2))\n",
    "print(c)\n"
   ]
  }
 ],
 "metadata": {
  "kernelspec": {
   "display_name": "Python 3",
   "language": "python",
   "name": "python3"
  },
  "language_info": {
   "codemirror_mode": {
    "name": "ipython",
    "version": 3
   },
   "file_extension": ".py",
   "mimetype": "text/x-python",
   "name": "python",
   "nbconvert_exporter": "python",
   "pygments_lexer": "ipython3",
   "version": "3.7.6"
  }
 },
 "nbformat": 4,
 "nbformat_minor": 4
}
