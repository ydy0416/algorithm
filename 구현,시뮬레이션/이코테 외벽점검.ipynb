{
 "cells": [
  {
   "cell_type": "code",
   "execution_count": 4,
   "metadata": {},
   "outputs": [
    {
     "name": "stdout",
     "output_type": "stream",
     "text": [
      "4\n"
     ]
    },
    {
     "data": {
      "text/plain": [
       "1"
      ]
     },
     "execution_count": 4,
     "metadata": {},
     "output_type": "execute_result"
    }
   ],
   "source": [
    "#해설참고\n",
    "from itertools import permutations\n",
    "\n",
    "def solution(n, weak, dist):\n",
    "    #길이를 2배로 늘려서 원형을 일자 형태로 변형\n",
    "    length=len(weak)\n",
    "    for i in range(length):\n",
    "        weak.append(weak[i]+n)\n",
    "    answer=len(dist)+1 #투입할 친구 수의 최솟값을 찾아야 하므로 len(dist)+1로 초기화\n",
    "    \n",
    "    #0부터 length-1까지의 위치를 각각 시작점으로 설정\n",
    "    for start in range(length):\n",
    "        #친구를 나열하는 모든 경우의 수 각각에 대하여 확인\n",
    "        for friends in list(permutations(dist, len(dist))):\n",
    "            count=1 #투입할 친구의 수\n",
    "            #해당 친구가 점검할 수 있는 마지막 위치\n",
    "            position=weak[start]+friends[count-1]\n",
    "            #시작점부터 모든 취약 지점을 확인\n",
    "            for index in range(start,start+length):\n",
    "                #점검할 수 있는 위치를 벗어나는 경우\n",
    "                if position<weak[index]:\n",
    "                    count+=1 #새로운 친구를 투입\n",
    "                    if count>len(dist): #투입이 불가능\n",
    "                        break\n",
    "                    position=weak[index]+friends[count-1]\n",
    "            answer=min(answer,count)\n",
    "    if answer>len(dist):\n",
    "        return -1\n",
    "    return answer\n",
    "\n",
    "n=12\n",
    "weak=[1,3,4,9,10]\n",
    "dist=[3,5,7]\n",
    "solution(n,weak,dist)"
   ]
  }
 ],
 "metadata": {
  "kernelspec": {
   "display_name": "Python 3",
   "language": "python",
   "name": "python3"
  },
  "language_info": {
   "codemirror_mode": {
    "name": "ipython",
    "version": 3
   },
   "file_extension": ".py",
   "mimetype": "text/x-python",
   "name": "python",
   "nbconvert_exporter": "python",
   "pygments_lexer": "ipython3",
   "version": "3.7.6"
  }
 },
 "nbformat": 4,
 "nbformat_minor": 4
}
