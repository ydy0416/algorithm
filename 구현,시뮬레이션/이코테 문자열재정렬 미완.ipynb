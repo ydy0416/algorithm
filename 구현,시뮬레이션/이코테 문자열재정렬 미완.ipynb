{
 "cells": [
  {
   "cell_type": "code",
   "execution_count": 14,
   "metadata": {},
   "outputs": [
    {
     "name": "stdout",
     "output_type": "stream",
     "text": [
      "asd\n",
      "a\n"
     ]
    }
   ],
   "source": [
    "s=input()\n",
    "cnt=1\n",
    "ans=2147000000\n",
    "# while cnt<len(s)//2:\n",
    "    \n",
    "#     s=s[0:cnt]\n",
    "#     cnt+=1\n",
    "#     if cnt<ans:\n",
    "#         ans=cnt\n",
    "#전체길이의 반까지 반복\n",
    "for i in range(len(s)//2):\n",
    "    s\n",
    "    [start:i]=\n",
    "    "
   ]
  }
 ],
 "metadata": {
  "kernelspec": {
   "display_name": "Python 3",
   "language": "python",
   "name": "python3"
  },
  "language_info": {
   "codemirror_mode": {
    "name": "ipython",
    "version": 3
   },
   "file_extension": ".py",
   "mimetype": "text/x-python",
   "name": "python",
   "nbconvert_exporter": "python",
   "pygments_lexer": "ipython3",
   "version": "3.7.6"
  }
 },
 "nbformat": 4,
 "nbformat_minor": 4
}
