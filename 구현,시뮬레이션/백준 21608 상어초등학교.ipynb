{
 "cells": [
  {
   "cell_type": "code",
   "execution_count": 106,
   "metadata": {
    "scrolled": true
   },
   "outputs": [
    {
     "name": "stdout",
     "output_type": "stream",
     "text": [
      "3\n",
      "4 2 5 1 7\n",
      "2 1 9 4 5\n",
      "5 8 1 4 3\n",
      "1 2 9 3 4\n",
      "7 2 3 4 8\n",
      "9 8 4 5 7\n",
      "6 5 2 3 4\n",
      "8 4 9 2 1\n",
      "3 9 2 1 4\n",
      "1053\n"
     ]
    }
   ],
   "source": [
    "# 비어있는 칸 중에서 좋아하는 학생이 인접한 칸에 가장 많은 칸으로 자리를 정한다.\n",
    "# 1을 만족하는 칸이 여러 개이면, 인접한 칸 중에서 비어있는 칸이 가장 많은 칸으로 자리를 정한다.\n",
    "# 2를 만족하는 칸도 여러 개인 경우에는 행의 번호가 가장 작은 칸으로, 그러한 칸도 여러 개이면 열의 번호가 가장 작은 칸으로 자리를 정한다.\n",
    "n=int(input())\n",
    "graph=[[0]*n for _ in range(n)]\n",
    "student=[]\n",
    "for i in range(n**2):\n",
    "    student.append(list(map(int,input().split())))\n",
    "dx=[0,0,1,-1]\n",
    "dy=[1,-1,0,0]\n",
    "satis=0\n",
    "\n",
    "for _ in range(n**2):\n",
    "    now=student[_][0]\n",
    "    #좋아하는 학생\n",
    "    a,b,c,d=student[_][1],student[_][2],student[_][3],student[_][4]\n",
    "    tmp=[]\n",
    "    for i in range(n):\n",
    "        for j in range(n):\n",
    "            #이미 배정된 곳\n",
    "            if graph[i][j]>0: continue\n",
    "            #좋아하는 친구의 수, 빈 공간의 수, x,y\n",
    "            tmp.append([0,0,i,j])\n",
    "            for k in range(4):\n",
    "                nx=i+dx[k]\n",
    "                ny=j+dy[k]\n",
    "                if nx<0 or nx>=n or ny<0 or ny>=n: continue\n",
    "                #인접한곳이 좋아하는 친구이면\n",
    "                if graph[nx][ny]==a or graph[nx][ny]==b or graph[nx][ny]==c or graph[nx][ny]==d: \n",
    "                    tmp[-1][0]+=1\n",
    "                #인접한곳이 빈공간\n",
    "                elif graph[nx][ny]==0:\n",
    "                    tmp[-1][1]+=1\n",
    "    tmp=sorted(tmp, key = lambda x : (-x[0],-x[1],x[2],x[3]))\n",
    "    idx,idy=tmp[0][2],tmp[0][3]\n",
    "    graph[idx][idy]=now\n",
    "#만족도\n",
    "for _ in range(n**2):\n",
    "    now=student[_][0]\n",
    "    #좋아하는 학생\n",
    "    a,b,c,d=student[_][1],student[_][2],student[_][3],student[_][4]\n",
    "    friend=0\n",
    "    for i in range(n):\n",
    "        for j in range(n):\n",
    "            if graph[i][j]==now:\n",
    "                x,y=i,j\n",
    "    for i in range(4):\n",
    "        nx=x+dx[i]\n",
    "        ny=y+dy[i]\n",
    "        if nx<0 or nx>=n or ny<0 or ny>=n: continue\n",
    "        if graph[nx][ny]==a or graph[nx][ny]==b or graph[nx][ny]==c or graph[nx][ny]==d:\n",
    "            friend+=1\n",
    "    if friend==0: continue\n",
    "    elif friend==1: satis+=1\n",
    "    elif friend==2: satis+=10\n",
    "    elif friend==3: satis+=100\n",
    "    elif friend==4: satis+=1000\n",
    "                    \n",
    "    \n",
    "print(satis)\n",
    "            "
   ]
  }
 ],
 "metadata": {
  "kernelspec": {
   "display_name": "Python 3",
   "language": "python",
   "name": "python3"
  },
  "language_info": {
   "codemirror_mode": {
    "name": "ipython",
    "version": 3
   },
   "file_extension": ".py",
   "mimetype": "text/x-python",
   "name": "python",
   "nbconvert_exporter": "python",
   "pygments_lexer": "ipython3",
   "version": "3.7.6"
  }
 },
 "nbformat": 4,
 "nbformat_minor": 4
}
