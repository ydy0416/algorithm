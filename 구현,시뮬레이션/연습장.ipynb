{
 "cells": [
  {
   "cell_type": "code",
   "execution_count": 2,
   "metadata": {},
   "outputs": [
    {
     "name": "stdout",
     "output_type": "stream",
     "text": [
      "10 13\n",
      "BBBBBBBBWBWBW\n",
      "BBBBBBBBBWBWB\n",
      "BBBBBBBBWBWBW\n",
      "BBBBBBBBBWBWB\n",
      "BBBBBBBBWBWBW\n",
      "BBBBBBBBBWBWB\n",
      "BBBBBBBBWBWBW\n",
      "BBBBBBBBBWBWB\n",
      "WWWWWWWWWWBWB\n",
      "WWWWWWWWWWBWB\n",
      "[['B', 'B', 'B', 'B', 'B', 'B', 'B', 'B', 'W', 'B', 'W', 'B', 'W'], ['B', 'B', 'B', 'B', 'B', 'B', 'B', 'B', 'B', 'W', 'B', 'W', 'B'], ['B', 'B', 'B', 'B', 'B', 'B', 'B', 'B', 'W', 'B', 'W', 'B', 'W'], ['B', 'B', 'B', 'B', 'B', 'B', 'B', 'B', 'B', 'W', 'B', 'W', 'B'], ['B', 'B', 'B', 'B', 'B', 'B', 'B', 'B', 'W', 'B', 'W', 'B', 'W'], ['B', 'B', 'B', 'B', 'B', 'B', 'B', 'B', 'B', 'W', 'B', 'W', 'B'], ['B', 'B', 'B', 'B', 'B', 'B', 'B', 'B', 'W', 'B', 'W', 'B', 'W'], ['B', 'B', 'B', 'B', 'B', 'B', 'B', 'B', 'B', 'W', 'B', 'W', 'B'], ['W', 'W', 'W', 'W', 'W', 'W', 'W', 'W', 'W', 'W', 'B', 'W', 'B'], ['W', 'W', 'W', 'W', 'W', 'W', 'W', 'W', 'W', 'W', 'B', 'W', 'B']]\n"
     ]
    }
   ],
   "source": [
    "n,m=map(int,input().split())\n",
    "graph=[]\n",
    "for i in range(n):\n",
    "    graph.append(list(input()))\n",
    "print(graph)"
   ]
  },
  {
   "cell_type": "code",
   "execution_count": 4,
   "metadata": {},
   "outputs": [
    {
     "name": "stdout",
     "output_type": "stream",
     "text": [
      "['B', 'B', 'B', 'B', 'B', 'B', 'B', 'B', 'W', 'B', 'W', 'B', 'W']\n",
      "['B', 'B', 'B', 'B', 'B', 'B', 'B', 'B', 'B', 'W', 'B', 'W', 'B']\n",
      "['B', 'B', 'B', 'B', 'B', 'B', 'B', 'B', 'W', 'B', 'W', 'B', 'W']\n",
      "['B', 'B', 'B', 'B', 'B', 'B', 'B', 'B', 'B', 'W', 'B', 'W', 'B']\n",
      "['B', 'B', 'B', 'B', 'B', 'B', 'B', 'B', 'W', 'B', 'W', 'B', 'W']\n",
      "['B', 'B', 'B', 'B', 'B', 'B', 'B', 'B', 'B', 'W', 'B', 'W', 'B']\n",
      "['B', 'B', 'B', 'B', 'B', 'B', 'B', 'B', 'W', 'B', 'W', 'B', 'W']\n",
      "['B', 'B', 'B', 'B', 'B', 'B', 'B', 'B', 'B', 'W', 'B', 'W', 'B']\n",
      "['W', 'W', 'W', 'W', 'W', 'W', 'W', 'W', 'W', 'W', 'B', 'W', 'B']\n",
      "['W', 'W', 'W', 'W', 'W', 'W', 'W', 'W', 'W', 'W', 'B', 'W', 'B']\n"
     ]
    }
   ],
   "source": [
    "for i in graph:\n",
    "    print(i)"
   ]
  },
  {
   "cell_type": "code",
   "execution_count": 7,
   "metadata": {},
   "outputs": [
    {
     "name": "stdout",
     "output_type": "stream",
     "text": [
      "[32]\n",
      "[32, 28]\n",
      "[32, 28, 24]\n",
      "[32, 28, 24, 20]\n",
      "[32, 28, 24, 20, 16]\n",
      "[32, 28, 24, 20, 16, 12]\n",
      "[32, 28, 24, 20, 16, 12, 32]\n",
      "[32, 28, 24, 20, 16, 12, 32, 29]\n",
      "[32, 28, 24, 20, 16, 12, 32, 29, 25]\n",
      "[32, 28, 24, 20, 16, 12, 32, 29, 25, 23]\n",
      "[32, 28, 24, 20, 16, 12, 32, 29, 25, 23, 19]\n",
      "[32, 28, 24, 20, 16, 12, 32, 29, 25, 23, 19, 17]\n",
      "[32, 28, 24, 20, 16, 12, 32, 29, 25, 23, 19, 17, 32]\n",
      "[32, 28, 24, 20, 16, 12, 32, 29, 25, 23, 19, 17, 32, 29]\n",
      "[32, 28, 24, 20, 16, 12, 32, 29, 25, 23, 19, 17, 32, 29, 26]\n",
      "[32, 28, 24, 20, 16, 12, 32, 29, 25, 23, 19, 17, 32, 29, 26, 23]\n",
      "[32, 28, 24, 20, 16, 12, 32, 29, 25, 23, 19, 17, 32, 29, 26, 23, 20]\n",
      "[32, 28, 24, 20, 16, 12, 32, 29, 25, 23, 19, 17, 32, 29, 26, 23, 20, 17]\n",
      "12\n"
     ]
    }
   ],
   "source": [
    "ans=[]\n",
    "#시작점 구하기\n",
    "for a in range(n-7):\n",
    "    for b in range(m-7):\n",
    "        #cnt1 BWBWBW 시작\n",
    "        #cnt2 WBWBWB 시작\n",
    "        cnt1=0\n",
    "        cnt2=0\n",
    "        #한 시작점에 대해서 탐색, cnt1와 cnt2중 작은것 ans에 삽입\n",
    "        for i in range(a,a+8):\n",
    "            for j in range(b,b+8):\n",
    "                #행+열이 짝수\n",
    "                if (i+j)%2==0:\n",
    "                    if graph[i][j] !='B':\n",
    "                        cnt1+=1\n",
    "                    elif graph[i][j]!='W':\n",
    "                        cnt2+=1\n",
    "                #행+열이 홀수\n",
    "                else :\n",
    "                    if graph[i][j] !='W':\n",
    "                        cnt1+=1\n",
    "                    elif graph[i][j]!='B':\n",
    "                        cnt2+=1\n",
    "        ans.append(min(cnt1,cnt2))\n",
    "#         print(ans)\n",
    "print(min(ans))\n",
    "        "
   ]
  }
 ],
 "metadata": {
  "kernelspec": {
   "display_name": "Python 3",
   "language": "python",
   "name": "python3"
  },
  "language_info": {
   "codemirror_mode": {
    "name": "ipython",
    "version": 3
   },
   "file_extension": ".py",
   "mimetype": "text/x-python",
   "name": "python",
   "nbconvert_exporter": "python",
   "pygments_lexer": "ipython3",
   "version": "3.7.6"
  }
 },
 "nbformat": 4,
 "nbformat_minor": 4
}
