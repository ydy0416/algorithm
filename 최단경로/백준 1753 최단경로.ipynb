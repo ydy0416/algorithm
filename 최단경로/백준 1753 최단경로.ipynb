{
 "cells": [
  {
   "cell_type": "code",
   "execution_count": 12,
   "metadata": {
    "scrolled": true
   },
   "outputs": [
    {
     "name": "stdout",
     "output_type": "stream",
     "text": [
      "5 6\n",
      "1\n",
      "5 1 1\n",
      "1 2 2\n",
      "1 3 3\n",
      "2 3 4\n",
      "2 4 5\n",
      "3 4 6\n",
      "0\n",
      "2\n",
      "3\n",
      "7\n",
      "INF\n"
     ]
    }
   ],
   "source": [
    "v,e=map(int,input().split())\n",
    "start=int(input())\n",
    "INF=int(1e9)\n",
    "graph=[[INF]*(v+1) for _ in range(v+1)]\n",
    "for _ in range(e):\n",
    "    a,b,c=map(int,input().split())\n",
    "    graph[a][b]=c\n",
    "for a in range(1,v+1):\n",
    "    for b in range(1,v+1):\n",
    "        if a==b:\n",
    "            graph[a][b]=0\n",
    "\n",
    "# graph=[[1000000000, 1000000000, 1000000000, 1000000000, 1000000000, 1000000000],\n",
    "#  [1000000000, 0, 2, 3, 1000000000, 1000000000],\n",
    "#  [1000000000, 1000000000, 0, 4, 5, 1000000000],\n",
    "#  [1000000000, 1000000000, 1000000000, 0, 6, 1000000000],\n",
    "#  [1000000000, 1000000000, 1000000000, 1000000000, 0, 1000000000],\n",
    "#  [1000000000, 1, 1000000000, 1000000000, 1000000000, 0]]\n",
    "#플로이드 워셜\n",
    "for k in range(1,v+1):\n",
    "    for a in range(1,v+1):\n",
    "        for b in range(1,v+1):\n",
    "            graph[a][b]=min(graph[a][b],graph[a][k]+graph[k][b])\n",
    "\n",
    "#출력\n",
    "for a in range(1,v+1):\n",
    "    if graph[start][a]==INF:\n",
    "        print('INF')\n",
    "    else:\n",
    "        print(graph[start][a])\n",
    "    "
   ]
  },
  {
   "cell_type": "code",
   "execution_count": 33,
   "metadata": {
    "scrolled": true
   },
   "outputs": [
    {
     "name": "stdout",
     "output_type": "stream",
     "text": [
      "5 6\n",
      "1\n",
      "5 1 1\n",
      "1 2 2\n",
      "1 3 3\n",
      "2 3 4\n",
      "2 4 5\n",
      "3 4 6\n",
      "0\n",
      "2\n",
      "3\n",
      "7\n",
      "INF\n"
     ]
    }
   ],
   "source": [
    "#다익스트라\n",
    "import heapq\n",
    "def dijkstra(start):\n",
    "    queue=[]\n",
    "    heapq.heappush(queue,(0,start))\n",
    "    distance[start]=0\n",
    "    while queue:\n",
    "        #가장 최단거리가 짧은 노드에 대한 정보 꺼내기\n",
    "        dist,now=heapq.heappop(queue)\n",
    "        #현재 노드가 이미 처리된적 있으면 무시\n",
    "        if distance[now]<dist:\n",
    "            continue\n",
    "        #현재 노드와 연결된 다른 인접한 노드들을 확인\n",
    "        for i in graph[now]:\n",
    "            cost=dist+i[1]\n",
    "            if cost<distance[i[0]]:\n",
    "                distance[i[0]]=cost\n",
    "                heapq.heappush(queue,(cost,i[0]))\n",
    "\n",
    "v,e=map(int,input().split())\n",
    "start=int(input())\n",
    "INF=int(1e9)\n",
    "distance=[INF]*(v+1)\n",
    "graph=[[] for i in range(v+1)]\n",
    "for _ in range(e):\n",
    "    a,b,c=map(int,input().split())\n",
    "    graph[a].append((b,c))\n",
    "\n",
    "# #\n",
    "# v,e=5,6\n",
    "# start=1\n",
    "# INF=int(1e9)\n",
    "# graph=[[], [(2, 2), (3, 3)], [(3, 4), (4, 5)], [(4, 6)], [], [(1, 1)]]\n",
    "# distance=[INF]*(v+1)\n",
    "# #\n",
    "\n",
    "dijkstra(start)\n",
    "for i in range(1,v+1):\n",
    "    #도달할 수 없는 경우 무한 출력\n",
    "    if distance[i]==INF:\n",
    "        print('INF')\n",
    "    else:\n",
    "        print(distance[i])"
   ]
  },
  {
   "cell_type": "code",
   "execution_count": 30,
   "metadata": {},
   "outputs": [
    {
     "data": {
      "text/plain": [
       "[1000000000, 0, 2, 3, 7, 1000000000]"
      ]
     },
     "execution_count": 30,
     "metadata": {},
     "output_type": "execute_result"
    }
   ],
   "source": [
    "distance"
   ]
  }
 ],
 "metadata": {
  "kernelspec": {
   "display_name": "Python 3",
   "language": "python",
   "name": "python3"
  },
  "language_info": {
   "codemirror_mode": {
    "name": "ipython",
    "version": 3
   },
   "file_extension": ".py",
   "mimetype": "text/x-python",
   "name": "python",
   "nbconvert_exporter": "python",
   "pygments_lexer": "ipython3",
   "version": "3.7.6"
  }
 },
 "nbformat": 4,
 "nbformat_minor": 4
}
