{
 "cells": [
  {
   "cell_type": "code",
   "execution_count": 5,
   "metadata": {},
   "outputs": [
    {
     "name": "stdout",
     "output_type": "stream",
     "text": [
      "6 11\n",
      "start1\n",
      "1 2 2\n",
      "1 3 5\n",
      "1 4 1\n",
      "2 3 3\n",
      "2 4 2\n",
      "3 2 3\n",
      "3 6 5\n",
      "4 3 3\n",
      "4 5 1\n",
      "5 3 1\n",
      "5 6 2\n",
      "0\n",
      "2\n",
      "3\n",
      "1\n",
      "2\n",
      "4\n"
     ]
    }
   ],
   "source": [
    "# input=int(input())\n",
    "INF=int(1e9)\n",
    "\n",
    "#노드의 개수, 간선의 개수를 입력받기\n",
    "n,m=map(int,input().split())\n",
    "#시작 노드 번호를 입력받기\n",
    "start=int(input('start'))\n",
    "#각 노드에 연결되어 있는 노드에 대한 정보를 담는 리스트를 만들기\n",
    "graph=[[] for i in range(n+1)]\n",
    "#방문한 적이 있는지 체크하는 목적의 리스트를 만들기\n",
    "visited=[False]*(n+1)\n",
    "#최단거리테이블을 모두 무한으로 초기화\n",
    "distance=[INF]*(n+1)\n",
    "\n",
    "#모든 간선 정보를 입력받기\n",
    "for _ in range(m):\n",
    "    a,b,c=map(int,input().split())\n",
    "    #a번 노드에서 b번 노드로 가는 비용이 c라는 의미\n",
    "    graph[a].append((b,c))\n",
    "\n",
    "#방문하지 않은 노드 중에서, 가장 최단거리가 짧은 노드의 번호를 반환\n",
    "def get_smallest_node():\n",
    "    min_value=INF\n",
    "    index=0 #가장 최단 거리가 짧은 노드(인덱스)\n",
    "    for i in range(1,n+1):\n",
    "        if distance[i]<min_value and not visited[i]:\n",
    "            min_value=distance[i]\n",
    "            index=i\n",
    "    return index\n",
    "\n",
    "def dijkstra(start):\n",
    "    #시작노드에 대해서 초기화\n",
    "    distance[start]=0\n",
    "    visited[start]=True\n",
    "    for j in graph[start]:\n",
    "        distance[j[0]]=j[1]\n",
    "    #시작노드를 제외한 전체 n-1개의 노드에 대해 반복\n",
    "    for i in range(n-1):\n",
    "        #현재 최단 거리가 가장 짧은 노드를 꺼내서, 방문처리\n",
    "        now=get_smallest_node()\n",
    "        visited[now]=True\n",
    "        #현재 노드와 연결된 다른 노드를 확인\n",
    "        for j in graph[now]:\n",
    "            cost=distance[now]+j[1]\n",
    "            #현재 노드를 거쳐서 다른 노드로 이동하는 거리가 더 짧은 경우\n",
    "            if cost<distance[j[0]]:\n",
    "                distance[j[0]]=cost\n",
    "\n",
    "#다익스트라 알고리즘 수행\n",
    "dijkstra(start)\n",
    "\n",
    "#모든 노드로 가기 위한 최단거리를 출력\n",
    "for i in range(1,n+1):\n",
    "    #도달할수 없는 경우, 무한(INFINITY)이라고 출력\n",
    "    if distance[i]==INF:\n",
    "        print(\"INFINITY\")\n",
    "    #도달할 수 있는 경우 거리 출력\n",
    "    else:\n",
    "        print(distance[i])"
   ]
  },
  {
   "cell_type": "code",
   "execution_count": 6,
   "metadata": {
    "scrolled": true
   },
   "outputs": [
    {
     "data": {
      "text/plain": [
       "[[],\n",
       " [(2, 2), (3, 5), (4, 1)],\n",
       " [(3, 3), (4, 2)],\n",
       " [(2, 3), (6, 5)],\n",
       " [(3, 3), (5, 1)],\n",
       " [(3, 1), (6, 2)],\n",
       " []]"
      ]
     },
     "execution_count": 6,
     "metadata": {},
     "output_type": "execute_result"
    }
   ],
   "source": [
    "graph"
   ]
  },
  {
   "cell_type": "code",
   "execution_count": 4,
   "metadata": {},
   "outputs": [
    {
     "name": "stdout",
     "output_type": "stream",
     "text": [
      "h=[0, 1, 2, 6, 3, 5, 4, 7, 8, 9]\n",
      "result=[]\n",
      "h=[1, 3, 2, 6, 9, 5, 4, 7, 8]\n",
      "result=[0]\n",
      "h=[2, 3, 4, 6, 9, 5, 8, 7]\n",
      "result=[0, 1]\n",
      "h=[3, 6, 4, 7, 9, 5, 8]\n",
      "result=[0, 1, 2]\n",
      "h=[4, 6, 5, 7, 9, 8]\n",
      "result=[0, 1, 2, 3]\n",
      "h=[5, 6, 8, 7, 9]\n",
      "result=[0, 1, 2, 3, 4]\n",
      "h=[6, 7, 8, 9]\n",
      "result=[0, 1, 2, 3, 4, 5]\n",
      "h=[7, 9, 8]\n",
      "result=[0, 1, 2, 3, 4, 5, 6]\n",
      "h=[8, 9]\n",
      "result=[0, 1, 2, 3, 4, 5, 6, 7]\n",
      "h=[9]\n",
      "result=[0, 1, 2, 3, 4, 5, 6, 7, 8]\n",
      "[0, 1, 2, 3, 4, 5, 6, 7, 8, 9]\n"
     ]
    }
   ],
   "source": [
    "#최소힙\n",
    "import heapq\n",
    "def heapsort(iterable):\n",
    "    h=[]\n",
    "    result=[]\n",
    "    #모든 원소를 차례대로 힙에 삽입\n",
    "    for value in iterable:\n",
    "        heapq.heappush(h,value)\n",
    "    \n",
    "    #힙에 삽입된 모든 원소를 차례대로 꺼내어 담기\n",
    "    for i in range(len(h)):\n",
    "        print('h=%s'%h)\n",
    "        print('result=%s'%result)\n",
    "        result.append(heapq.heappop(h))\n",
    "        \n",
    "    return result\n",
    "result=heapsort([1,3,5,7,9,2,4,6,8,0])\n",
    "print(result)"
   ]
  },
  {
   "cell_type": "code",
   "execution_count": 9,
   "metadata": {
    "scrolled": true
   },
   "outputs": [
    {
     "name": "stdout",
     "output_type": "stream",
     "text": [
      "h=[-9, -8, -4, -7, -5, -2, -3, -1, -6, 0]\n",
      "result=[]\n",
      "h=[-8, -7, -4, -6, -5, -2, -3, -1, 0]\n",
      "result=[9]\n",
      "h=[-7, -6, -4, -1, -5, -2, -3, 0]\n",
      "result=[9, 8]\n",
      "h=[-6, -5, -4, -1, 0, -2, -3]\n",
      "result=[9, 8, 7]\n",
      "h=[-5, -3, -4, -1, 0, -2]\n",
      "result=[9, 8, 7, 6]\n",
      "h=[-4, -3, -2, -1, 0]\n",
      "result=[9, 8, 7, 6, 5]\n",
      "h=[-3, -1, -2, 0]\n",
      "result=[9, 8, 7, 6, 5, 4]\n",
      "h=[-2, -1, 0]\n",
      "result=[9, 8, 7, 6, 5, 4, 3]\n",
      "h=[-1, 0]\n",
      "result=[9, 8, 7, 6, 5, 4, 3, 2]\n",
      "h=[0]\n",
      "result=[9, 8, 7, 6, 5, 4, 3, 2, 1]\n",
      "[9, 8, 7, 6, 5, 4, 3, 2, 1, 0]\n"
     ]
    }
   ],
   "source": [
    "#최대힙\n",
    "import heapq\n",
    "#내림차순 힙 정렬(Heap sort)\n",
    "def heapsort(iterable):\n",
    "    h=[]\n",
    "    result=[]\n",
    "    #모든 원소를 차례대로 힙에 삽입\n",
    "    for value in iterable:\n",
    "        heapq.heappush(h,-value)\n",
    "    #힙에 삽입된 모든 원소를 차례대로 꺼내어 담기\n",
    "    for i in range(len(h)):\n",
    "        print('h=%s'%h)\n",
    "        print('result=%s'%result)\n",
    "        result.append(-heapq.heappop(h))\n",
    "    return result\n",
    "result=heapsort([1,3,5,7,9,2,4,6,8,0])\n",
    "print(result)"
   ]
  },
  {
   "cell_type": "code",
   "execution_count": 40,
   "metadata": {},
   "outputs": [
    {
     "name": "stdout",
     "output_type": "stream",
     "text": [
      "[(4, 6), (5, 3)]\n",
      "[2147000000, 0, 2, 3, 1, 2, 4] 4\n",
      "[]\n",
      "[2147000000, 0, 2, 3, 1, 2, 4] 5\n",
      "0\n",
      "2\n",
      "3\n",
      "1\n",
      "2\n",
      "4\n"
     ]
    }
   ],
   "source": [
    "#개선된 구현방법\n",
    "import heapq\n",
    "INF=2147000000\n",
    "#노드의 개수, 간선의 개수를 입력받기\n",
    "# n,m=map(int,input().split())\n",
    "#시작노드번호를 입력받기\n",
    "# start=int(input())\n",
    "n,m=6,11\n",
    "start=1\n",
    "#각 노드에 연결되어 있는 노드에 대한 정보를 담는 리스트를 만들기\n",
    "graph=[[] for i in range(n+1)]\n",
    "#최단 거리 테이블을 모두 무한으로 초기화\n",
    "distance=[INF]*(n+1)\n",
    "\n",
    "#모든 간선 정보를 입력받기\n",
    "# for _ in range(m):\n",
    "#     a,b,c=map(int,input().split())\n",
    "#     #a번 노드에서 b번 노드로 가는 비용이 c라는 의미\n",
    "#     graph[a].append((b,c))\n",
    "graph=[[],\n",
    " [(2, 2), (3, 5), (4, 1)],\n",
    " [(3, 3), (4, 2)],\n",
    " [(2, 3), (6, 5)],\n",
    " [(3, 3), (5, 1)],\n",
    " [(3, 1), (6, 2)],\n",
    " []]\n",
    "def dijkstra(start):\n",
    "    queue=[]\n",
    "    #시작노드로 가기위한 최단거리는 0으로 설정하여, 큐에삽입\n",
    "    heapq.heappush(queue,(0,start))\n",
    "    distance[start]=0\n",
    "    \n",
    "    while queue:\n",
    "        #가장 최단 거리가 짧은 노드에 대한 정보를 꺼내기\n",
    "        dist, now=heapq.heappop(queue)\n",
    "        #현재 노드가 이미 처리된 적이 있는 노드라면 무시\n",
    "        if distance[now]<dist:\n",
    "            continue\n",
    "        #현재 노드와 연결된 다른 인접한 노드들을 확인\n",
    "        for i in graph[now]:\n",
    "            cost=dist+i[1]\n",
    "            #현재 노드를 거쳐서, 다른 노드로 이동하는 거리가 더 짧은 경우\n",
    "            if cost<distance[i[0]]:\n",
    "                distance[i[0]]=cost\n",
    "                heapq.heappush(queue,(cost,i[0]))\n",
    "#다익스트라 알고리즘 수행\n",
    "dijkstra(start)\n",
    "#모든 노드로 가기위한 최단 거리를 출력\n",
    "for i in range(1,n+1):\n",
    "    #도달할 수 없는 경우, 무한(INFINITY)라고 출력\n",
    "    if distance[i]==INF:\n",
    "        print('INFINITY')\n",
    "    else:\n",
    "        print(distance[i])"
   ]
  },
  {
   "cell_type": "code",
   "execution_count": 30,
   "metadata": {},
   "outputs": [
    {
     "data": {
      "text/plain": [
       "[2147000000, 0, 2, 3, 1, 2, 4]"
      ]
     },
     "execution_count": 30,
     "metadata": {},
     "output_type": "execute_result"
    }
   ],
   "source": [
    "distance"
   ]
  },
  {
   "cell_type": "code",
   "execution_count": 12,
   "metadata": {},
   "outputs": [
    {
     "name": "stdout",
     "output_type": "stream",
     "text": [
      "0 4 8 6 \n",
      "3 0 7 9 \n",
      "5 9 0 4 \n",
      "7 11 2 0 \n"
     ]
    }
   ],
   "source": [
    "# #플로이드 워셜\n",
    "# INF=int(1e9)\n",
    "# #노드의 개수 및 간선의 개수를 입력받기\n",
    "# n=int(input())\n",
    "# m=int(input())\n",
    "# #2차원 리스트(그래프 표현)를 만들고, 무한으로 초기화\n",
    "# graph=[[INF]*(n+1) for _ in range(n+1)]\n",
    "\n",
    "# #자기 자신에서 자기 자신으로 가는 비용은 0으로 초기화\n",
    "# for a in range(1, n+1):\n",
    "#     for b in range(1, n+1):\n",
    "#         if a==b:\n",
    "#             graph[a][b]=0\n",
    "# #각 간선에 대한 정보를 입력받아, 그 값으로 초기화\n",
    "# for _ in range(m):\n",
    "#     #A에서 B로 가는비용은 C라고 설정\n",
    "#     a,b,c=map(int,input().split())\n",
    "#     graph[a][b]=c\n",
    "    \n",
    "n,m=4,7\n",
    "graph=[\n",
    "     [1000000000, 1000000000, 1000000000, 1000000000, 1000000000],\n",
    "     [1000000000, 0, 4, 1000000000, 6],\n",
    "     [1000000000, 3, 0, 7, 1000000000],\n",
    "     [1000000000, 5, 1000000000, 0, 4],\n",
    "     [1000000000, 1000000000, 1000000000, 2, 0]]\n",
    "\n",
    "#점화식에 따라 플로이드 워셜 알고리즘을 수행\n",
    "for k in range(1,n+1):\n",
    "    for a in range(1,n+1):\n",
    "        for b in range(1,n+1):\n",
    "            graph[a][b]=min(graph[a][b], graph[a][k]+graph[k][b])\n",
    "#수행된 결과를 출력\n",
    "for a in range(1,n+1):\n",
    "    for b in range(1,n+1):\n",
    "        #도달할 수 없는 경우 INFINITY출력\n",
    "        if graph[a][b]==INF:\n",
    "            print('INFINITY', end=' ')\n",
    "        else:\n",
    "            print(graph[a][b], end=' ')\n",
    "    print()"
   ]
  },
  {
   "cell_type": "code",
   "execution_count": 9,
   "metadata": {},
   "outputs": [
    {
     "data": {
      "text/plain": [
       "[[1000000000, 1000000000, 1000000000, 1000000000, 1000000000],\n",
       " [1000000000, 1000000000, 4, 1000000000, 6],\n",
       " [1000000000, 3, 1000000000, 7, 1000000000],\n",
       " [1000000000, 5, 1000000000, 1000000000, 4],\n",
       " [1000000000, 1000000000, 1000000000, 2, 1000000000]]"
      ]
     },
     "execution_count": 9,
     "metadata": {},
     "output_type": "execute_result"
    }
   ],
   "source": [
    "graph"
   ]
  }
 ],
 "metadata": {
  "kernelspec": {
   "display_name": "Python 3",
   "language": "python",
   "name": "python3"
  },
  "language_info": {
   "codemirror_mode": {
    "name": "ipython",
    "version": 3
   },
   "file_extension": ".py",
   "mimetype": "text/x-python",
   "name": "python",
   "nbconvert_exporter": "python",
   "pygments_lexer": "ipython3",
   "version": "3.7.6"
  }
 },
 "nbformat": 4,
 "nbformat_minor": 4
}
