{
 "cells": [
  {
   "cell_type": "code",
   "execution_count": 5,
   "metadata": {},
   "outputs": [
    {
     "name": "stdout",
     "output_type": "stream",
     "text": [
      "6 11\n",
      "start1\n",
      "1 2 2\n",
      "1 3 5\n",
      "1 4 1\n",
      "2 3 3\n",
      "2 4 2\n",
      "3 2 3\n",
      "3 6 5\n",
      "4 3 3\n",
      "4 5 1\n",
      "5 3 1\n",
      "5 6 2\n",
      "0\n",
      "2\n",
      "3\n",
      "1\n",
      "2\n",
      "4\n"
     ]
    }
   ],
   "source": [
    "# input=int(input())\n",
    "INF=int(1e9)\n",
    "\n",
    "#노드의 개수, 간선의 개수를 입력받기\n",
    "n,m=map(int,input().split())\n",
    "#시작 노드 번호를 입력받기\n",
    "start=int(input('start'))\n",
    "#각 노드에 연결되어 있는 노드에 대한 정보를 담는 리스트를 만들기\n",
    "graph=[[] for i in range(n+1)]\n",
    "#방문한 적이 있는지 체크하는 목적의 리스트를 만들기\n",
    "visited=[False]*(n+1)\n",
    "#최단거리테이블을 모두 무한으로 초기화\n",
    "distance=[INF]*(n+1)\n",
    "\n",
    "#모든 간선 정보를 입력받기\n",
    "for _ in range(m):\n",
    "    a,b,c=map(int,input().split())\n",
    "    #a번 노드에서 b번 노드로 가는 비용이 c라는 의미\n",
    "    graph[a].append((b,c))\n",
    "\n",
    "#방문하지 않은 노드 중에서, 가장 최단거리가 짧은 노드의 번호를 반환\n",
    "def get_smallest_node():\n",
    "    min_value=INF\n",
    "    index=0 #가장 최단 거리가 짧은 노드(인덱스)\n",
    "    for i in range(1,n+1):\n",
    "        if distance[i]<min_value and not visited[i]:\n",
    "            min_value=distance[i]\n",
    "            index=i\n",
    "    return index\n",
    "\n",
    "def dijkstra(start):\n",
    "    #시작노드에 대해서 초기화\n",
    "    distance[start]=0\n",
    "    visited[start]=True\n",
    "    for j in graph[start]:\n",
    "        distance[j[0]]=j[1]\n",
    "    #시작노드를 제외한 전체 n-1개의 노드에 대해 반복\n",
    "    for i in range(n-1):\n",
    "        #현재 최단 거리가 가장 짧은 노드를 꺼내서, 방문처리\n",
    "        now=get_smallest_node()\n",
    "        visited[now]=True\n",
    "        #현재 노드와 연결된 다른 노드를 확인\n",
    "        for j in graph[now]:\n",
    "            cost=distance[now]+j[1]\n",
    "            #현재 노드를 거쳐서 다른 노드로 이동하는 거리가 더 짧은 경우\n",
    "            if cost<distance[j[0]]:\n",
    "                distance[j[0]]=cost\n",
    "\n",
    "#다익스트라 알고리즘 수행\n",
    "dijkstra(start)\n",
    "\n",
    "#모든 노드로 가기 위한 최단거리를 출력\n",
    "for i in range(1,n+1):\n",
    "    #도달할수 없는 경우, 무한(INFINITY)이라고 출력\n",
    "    if distance[i]==INF:\n",
    "        print(\"INFINITY\")\n",
    "    #도달할 수 있는 경우 거리 출력\n",
    "    else:\n",
    "        print(distance[i])"
   ]
  },
  {
   "cell_type": "code",
   "execution_count": 6,
   "metadata": {},
   "outputs": [
    {
     "data": {
      "text/plain": [
       "[[],\n",
       " [(2, 2), (3, 5), (4, 1)],\n",
       " [(3, 3), (4, 2)],\n",
       " [(2, 3), (6, 5)],\n",
       " [(3, 3), (5, 1)],\n",
       " [(3, 1), (6, 2)],\n",
       " []]"
      ]
     },
     "execution_count": 6,
     "metadata": {},
     "output_type": "execute_result"
    }
   ],
   "source": [
    "graph"
   ]
  }
 ],
 "metadata": {
  "kernelspec": {
   "display_name": "Python 3",
   "language": "python",
   "name": "python3"
  },
  "language_info": {
   "codemirror_mode": {
    "name": "ipython",
    "version": 3
   },
   "file_extension": ".py",
   "mimetype": "text/x-python",
   "name": "python",
   "nbconvert_exporter": "python",
   "pygments_lexer": "ipython3",
   "version": "3.7.6"
  }
 },
 "nbformat": 4,
 "nbformat_minor": 4
}
