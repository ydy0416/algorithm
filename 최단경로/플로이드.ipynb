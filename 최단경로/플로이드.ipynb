{
 "cells": [
  {
   "cell_type": "code",
   "execution_count": 30,
   "metadata": {
    "scrolled": true
   },
   "outputs": [
    {
     "name": "stdout",
     "output_type": "stream",
     "text": [
      "1\n",
      "2 2\n",
      "1\n",
      "3 3\n",
      "1\n",
      "4 1\n",
      "1\n",
      "5 10\n",
      "1\n",
      "4 2\n",
      "2\n",
      "4 2\n",
      "3\n",
      "4 1\n",
      "3\n",
      "5 1\n",
      "3\n",
      "5 10\n",
      "3\n",
      "1 8\n",
      "3\n",
      "4 2\n",
      "4\n",
      "5 3\n",
      "5\n",
      "1 7\n",
      "5\n",
      "2 4\n"
     ]
    }
   ],
   "source": [
    "# n=int(input())\n",
    "# m=int(input())\n",
    "# graph=[[] for i in range(n+1)]\n",
    "# for i in range(m):\n",
    "#     a,b,c=map(int,input().split())\n",
    "#     graph[a].append((b,c))\n",
    "n=5\n",
    "m=14\n",
    "graph=[[],\n",
    "     [(2, 2), (3, 3), (4, 1), (5, 10), (4, 2)],\n",
    "     [(4, 2)],\n",
    "     [(4, 1), (5, 1), (5, 10), (1, 8), (4, 2)],\n",
    "     [(5, 3)],\n",
    "     [(1, 7), (2, 4)]]\n",
    "P=[[] for i in range(n*(n-1))]\n",
    "for i in range(1,n+1):\n",
    "    for j in range(len(graph[i])):\n",
    "        print(i)\n",
    "        x,y=graph[i][j]\n",
    "        if \n",
    "        "
   ]
  }
 ],
 "metadata": {
  "kernelspec": {
   "display_name": "Python 3",
   "language": "python",
   "name": "python3"
  },
  "language_info": {
   "codemirror_mode": {
    "name": "ipython",
    "version": 3
   },
   "file_extension": ".py",
   "mimetype": "text/x-python",
   "name": "python",
   "nbconvert_exporter": "python",
   "pygments_lexer": "ipython3",
   "version": "3.7.6"
  }
 },
 "nbformat": 4,
 "nbformat_minor": 4
}
