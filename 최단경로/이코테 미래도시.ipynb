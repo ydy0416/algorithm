{
 "cells": [
  {
   "cell_type": "code",
   "execution_count": 1,
   "metadata": {},
   "outputs": [
    {
     "name": "stdout",
     "output_type": "stream",
     "text": [
      "5 7\n",
      "1 2\n",
      "1 3\n",
      "1 4\n",
      "2 4\n",
      "3 4\n",
      "3 5\n",
      "4 5\n"
     ]
    },
    {
     "data": {
      "text/plain": [
       "[[], [2, 3, 4], [1, 4], [1, 4, 5], [1, 2, 3, 5], [3, 4]]"
      ]
     },
     "execution_count": 1,
     "metadata": {},
     "output_type": "execute_result"
    }
   ],
   "source": [
    "# n,m=map(int,input().split())\n",
    "# graph=[[] for i in range(n+1)]\n",
    "# for i in range(m):\n",
    "#     a,b=map(int,input().split())\n",
    "#     graph[a].append(b)\n",
    "#     graph[b].append(a)\n",
    "# x,k=map(int,input().split())\n",
    "n,m=5,7\n",
    "graph=[[], [2, 3, 4], [1, 4], [1, 4, 5], [1, 2, 3, 5], [3, 4]]\n",
    "x,k=4,5"
   ]
  }
 ],
 "metadata": {
  "kernelspec": {
   "display_name": "Python 3",
   "language": "python",
   "name": "python3"
  },
  "language_info": {
   "codemirror_mode": {
    "name": "ipython",
    "version": 3
   },
   "file_extension": ".py",
   "mimetype": "text/x-python",
   "name": "python",
   "nbconvert_exporter": "python",
   "pygments_lexer": "ipython3",
   "version": "3.7.6"
  }
 },
 "nbformat": 4,
 "nbformat_minor": 4
}
