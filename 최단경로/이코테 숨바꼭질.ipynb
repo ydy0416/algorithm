{
 "cells": [
  {
   "cell_type": "code",
   "execution_count": 4,
   "metadata": {
    "scrolled": true
   },
   "outputs": [
    {
     "name": "stdout",
     "output_type": "stream",
     "text": [
      "6 7\n",
      "3 6\n",
      "4 3\n",
      "3 2\n",
      "1 3\n",
      "1 2\n",
      "2 4\n",
      "5 2\n",
      "4 2 3\n"
     ]
    }
   ],
   "source": [
    "from collections import deque\n",
    "def bfs(graph,start,distance):\n",
    "    queue=deque([start])\n",
    "    stage=0\n",
    "    while queue:\n",
    "        stage+=1\n",
    "        for _ in range(len(queue)):\n",
    "            v=queue.popleft()\n",
    "            for i in graph[v]:\n",
    "                if visited[i]==False:\n",
    "                    visited[i]=True\n",
    "                    distance[i]+=stage\n",
    "                    queue.append(i)\n",
    "    \n",
    "    for i in range(len(distance)):\n",
    "        if distance[i]==max(distance):\n",
    "            first=i\n",
    "            break\n",
    "    print(first, end=' ')\n",
    "    cnt=0\n",
    "    print(max(distance), end=' ')\n",
    "    for i in distance:\n",
    "        if i==max(distance):\n",
    "            cnt+=1\n",
    "    print(cnt)\n",
    "    \n",
    "n,m=map(int,input().split())\n",
    "graph=[[] for i in range(n+1)]\n",
    "\n",
    "for i in range(m):\n",
    "    a,b=map(int,input().split())\n",
    "    graph[a].append(b)\n",
    "    graph[b].append(a)\n",
    "\n",
    "#정렬\n",
    "for i in range(m):\n",
    "    graph[i].sort()\n",
    "    \n",
    "distance=[0]*(n+1)\n",
    "visited=[False]*(n+1)\n",
    "visited[1]=True\n",
    "queue=deque()\n",
    "bfs(graph,1,distance)"
   ]
  },
  {
   "cell_type": "code",
   "execution_count": 6,
   "metadata": {},
   "outputs": [
    {
     "data": {
      "text/plain": [
       "[0, 0, 1, 1, 2, 2, 2]"
      ]
     },
     "execution_count": 6,
     "metadata": {},
     "output_type": "execute_result"
    }
   ],
   "source": [
    "distance"
   ]
  },
  {
   "cell_type": "code",
   "execution_count": 7,
   "metadata": {},
   "outputs": [
    {
     "data": {
      "text/plain": [
       "[[], [2, 3], [1, 3, 4, 5], [1, 2, 4, 6], [2, 3], [2], [3]]"
      ]
     },
     "execution_count": 7,
     "metadata": {},
     "output_type": "execute_result"
    }
   ],
   "source": [
    "graph"
   ]
  },
  {
   "cell_type": "code",
   "execution_count": 69,
   "metadata": {},
   "outputs": [
    {
     "data": {
      "text/plain": [
       "[False, True, True, True, True, True, True]"
      ]
     },
     "execution_count": 69,
     "metadata": {},
     "output_type": "execute_result"
    }
   ],
   "source": [
    "visited"
   ]
  },
  {
   "cell_type": "code",
   "execution_count": 2,
   "metadata": {},
   "outputs": [
    {
     "name": "stdout",
     "output_type": "stream",
     "text": [
      "6 7\n",
      "3 6\n",
      "4 3\n",
      "3 2\n",
      "1 3\n",
      "1 2\n",
      "2 4\n",
      "5 2\n"
     ]
    }
   ],
   "source": [
    "from collections import deque\n",
    "n,m=map(int,input().split())\n",
    "graph=[[] for i in range(n+1)]\n",
    "for i in range(m):\n",
    "    a,b=map(int,input().split())\n",
    "    graph[a].append(b)\n",
    "    graph[b].append(a)"
   ]
  },
  {
   "cell_type": "code",
   "execution_count": 3,
   "metadata": {},
   "outputs": [
    {
     "data": {
      "text/plain": [
       "[[], [3, 2], [3, 1, 4, 5], [6, 4, 2, 1], [3, 2], [2], [3]]"
      ]
     },
     "execution_count": 3,
     "metadata": {},
     "output_type": "execute_result"
    }
   ],
   "source": [
    "graph"
   ]
  }
 ],
 "metadata": {
  "kernelspec": {
   "display_name": "Python 3",
   "language": "python",
   "name": "python3"
  },
  "language_info": {
   "codemirror_mode": {
    "name": "ipython",
    "version": 3
   },
   "file_extension": ".py",
   "mimetype": "text/x-python",
   "name": "python",
   "nbconvert_exporter": "python",
   "pygments_lexer": "ipython3",
   "version": "3.7.6"
  }
 },
 "nbformat": 4,
 "nbformat_minor": 4
}
