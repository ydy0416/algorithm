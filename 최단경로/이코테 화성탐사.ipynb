{
 "cells": [
  {
   "cell_type": "code",
   "execution_count": 3,
   "metadata": {},
   "outputs": [
    {
     "name": "stdout",
     "output_type": "stream",
     "text": [
      "1\n",
      "3\n",
      "5 5 4\n",
      "3 9 1\n",
      "3 2 7\n",
      "[[5, 10, 2147000000], [8, 2147000000, 2147000000], [2147000000, 2147000000, 2147000000]]\n",
      "deque([(0, 1), (1, 0)])\n",
      "[[5, 10, 14], [8, 19, 2147000000], [2147000000, 2147000000, 2147000000]]\n",
      "deque([(1, 0), (0, 2), (1, 1)])\n",
      "[[5, 10, 14], [8, 17, 2147000000], [11, 2147000000, 2147000000]]\n",
      "deque([(0, 2), (1, 1), (1, 1), (2, 0)])\n",
      "[[5, 10, 14], [8, 17, 15], [11, 2147000000, 2147000000]]\n",
      "deque([(1, 1), (1, 1), (2, 0), (1, 2)])\n",
      "[[5, 10, 14], [8, 17, 15], [11, 19, 2147000000]]\n",
      "deque([(1, 1), (2, 0), (1, 2), (2, 1)])\n",
      "[[5, 10, 14], [8, 17, 15], [11, 19, 2147000000]]\n",
      "deque([(2, 0), (1, 2), (2, 1)])\n",
      "[[5, 10, 14], [8, 17, 15], [11, 13, 2147000000]]\n",
      "deque([(1, 2), (2, 1), (2, 1)])\n",
      "[[5, 10, 14], [8, 17, 15], [11, 13, 22]]\n",
      "deque([(2, 1), (2, 1), (2, 2)])\n",
      "[[5, 10, 14], [8, 17, 15], [11, 13, 20]]\n",
      "deque([(2, 1), (2, 2), (2, 2)])\n",
      "[[5, 10, 14], [8, 17, 15], [11, 13, 20]]\n",
      "deque([(2, 2), (2, 2)])\n",
      "[[5, 10, 14], [8, 17, 15], [11, 13, 20]]\n",
      "deque([(2, 2)])\n",
      "[[5, 10, 14], [8, 17, 15], [11, 13, 20]]\n",
      "deque([])\n",
      "20\n"
     ]
    }
   ],
   "source": [
    "from collections import deque\n",
    "def bfs(graph,queue,distance):\n",
    "    while queue:\n",
    "        x,y=queue.popleft()\n",
    "        #동서남북 순회\n",
    "        for i in range(4):\n",
    "            nx=x+dx[i]\n",
    "            ny=y+dy[i]\n",
    "            #범위 이탈시 예외처리\n",
    "            if nx<0 or nx>=n or ny<0 or ny>=n:\n",
    "                continue\n",
    "            #비용이 작은걸로 갱신\n",
    "            if distance[nx][ny]>distance[x][y]+graph[nx][ny]:\n",
    "                distance[nx][ny]=distance[x][y]+graph[nx][ny]\n",
    "                queue.append((nx,ny))\n",
    "        print(distance)\n",
    "        print(queue)\n",
    "T=int(input())\n",
    "for i in range(T):\n",
    "    n=int(input())\n",
    "    graph=[]\n",
    "    for i in range(n):\n",
    "        graph.append(list(map(int,input().split())))\n",
    "    # n=3\n",
    "    # graph=[[5, 5, 4], [3, 9, 1], [3, 2, 7]]\n",
    "    distance=[[2147000000]*n for i in range(n)]\n",
    "    distance[0][0]=graph[0][0]\n",
    "    #동서남북\n",
    "    dx=[0,0,1,-1]\n",
    "    dy=[1,-1,0,0]\n",
    "\n",
    "    #큐생성, (0,0)추가\n",
    "    queue=deque()\n",
    "    queue.append((0,0))\n",
    "    bfs(graph,queue,distance)\n",
    "    print(distance[n-1][n-1])\n"
   ]
  },
  {
   "cell_type": "code",
   "execution_count": 15,
   "metadata": {
    "scrolled": true
   },
   "outputs": [
    {
     "name": "stdout",
     "output_type": "stream",
     "text": [
      "5 0 0\n",
      "8 1 0\n",
      "10 0 1\n",
      "11 2 0\n",
      "13 2 1\n",
      "14 0 2\n",
      "15 1 2\n",
      "17 1 1\n",
      "20 2 2\n",
      "20\n"
     ]
    }
   ],
   "source": [
    "import heapq\n",
    "INF = int(1e9) # 무한을 의미하는 값으로 10억을 설정\n",
    "\n",
    "dx = [-1, 0, 1, 0]\n",
    "dy = [0, 1, 0, -1]\n",
    "\n",
    "# 전체 테스트 케이스(Test Case)만큼 반복\n",
    "for tc in range(1):\n",
    "    # 노드의 개수를 입력받기\n",
    "#     n = int(input())\n",
    "    n=3\n",
    "\n",
    "    # 전체 맵 정보를 입력받기\n",
    "    graph = [[5,5,4],[3,9,1],[3,2,7]]\n",
    "#     for i in range(n):\n",
    "#         graph.append(list(map(int, input().split())))\n",
    "\n",
    "    # 최단 거리 테이블을 모두 무한으로 초기화\n",
    "    distance = [[INF] * n for _ in range(n)]\n",
    "\n",
    "    x, y = 0, 0 # 시작 위치는 (0, 0)\n",
    "    # 시작 노드로 가기 위한 비용은 (0, 0) 위치의 값으로 설정하여, 큐에 삽입\n",
    "    q = [(graph[x][y], x, y)]\n",
    "    distance[x][y] = graph[x][y]\n",
    "    # 다익스트라 알고리즘을 수행\n",
    "    while q:\n",
    "          # 가장 최단 거리가 짧은 노드에 대한 정보를 꺼내기\n",
    "        dist, x, y = heapq.heappop(q)\n",
    "        print(dist,x,y)\n",
    "          # 현재 노드가 이미 처리된 적이 있는 노드라면 무시\n",
    "        if distance[x][y] < dist:\n",
    "            continue\n",
    "          # 현재 노드와 연결된 다른 인접한 노드들을 확인\n",
    "        for i in range(4):\n",
    "            nx = x + dx[i]\n",
    "            ny = y + dy[i]\n",
    "              # 맵의 범위를 벗어나는 경우 무시\n",
    "            if nx < 0 or nx >= n or ny < 0 or ny >= n:\n",
    "                continue\n",
    "            cost = dist + graph[nx][ny]\n",
    "              # 현재 노드를 거쳐서, 다른 노드로 이동하는 거리가 더 짧은 경우\n",
    "            if cost < distance[nx][ny]:\n",
    "                distance[nx][ny] = cost\n",
    "                heapq.heappush(q, (cost, nx, ny))\n",
    "\n",
    "    print(distance[n - 1][n - 1])"
   ]
  }
 ],
 "metadata": {
  "kernelspec": {
   "display_name": "Python 3",
   "language": "python",
   "name": "python3"
  },
  "language_info": {
   "codemirror_mode": {
    "name": "ipython",
    "version": 3
   },
   "file_extension": ".py",
   "mimetype": "text/x-python",
   "name": "python",
   "nbconvert_exporter": "python",
   "pygments_lexer": "ipython3",
   "version": "3.7.6"
  }
 },
 "nbformat": 4,
 "nbformat_minor": 4
}
