{
 "cells": [
  {
   "cell_type": "code",
   "execution_count": 4,
   "metadata": {
    "scrolled": true
   },
   "outputs": [
    {
     "name": "stdout",
     "output_type": "stream",
     "text": [
      "0\n",
      "0\n",
      "1\n",
      "0\n",
      "1\n",
      "2\n",
      "0\n",
      "1\n",
      "2\n",
      "3\n",
      "0\n",
      "1\n",
      "2\n",
      "3\n",
      "4\n",
      "0\n",
      "1\n",
      "2\n",
      "3\n",
      "4\n",
      "5\n"
     ]
    }
   ],
   "source": [
    "# n,m=map(int,input().split())\n",
    "# graph=[[] for i in range(n+1)]\n",
    "# for i in range(m):\n",
    "#     a,b=map(int,input().split())\n",
    "#     graph[a].append(b)\n",
    "n,m=6,6\n",
    "graph=[[], [5], [], [4], [2, 6], [2, 4], []]\n",
    "for i in range(1,n+1):\n",
    "    "
   ]
  },
  {
   "cell_type": "code",
   "execution_count": 5,
   "metadata": {
    "scrolled": true
   },
   "outputs": [
    {
     "name": "stdout",
     "output_type": "stream",
     "text": [
      "6 6\n",
      "1 5\n",
      "3 4\n",
      "4 2\n",
      "4 6\n",
      "5 2\n",
      "5 4\n",
      "1\n"
     ]
    }
   ],
   "source": [
    "# 플로이드 워셜 알고리즘 - 노드의 갯수가 500개 이하일 때 효율적\n",
    "INF = int(1e9)\n",
    "\n",
    "# 노드의 개수 및 간선의 개수 입력\n",
    "n, m = map(int, input().split())\n",
    "# 2차원 리스트(그래프 표현)를 만들고, 모든 값을 무한으로 초기화\n",
    "graph = [[INF] * (n+1) for _ in range(n+1)]\n",
    "\n",
    "# 자기 자신에서 자기 자신으로 가는 비용은 0으로 초기화\n",
    "for a in range(1, n+1):\n",
    "    for b in range(1, n+1):\n",
    "    if a == b:\n",
    "        graph[a][b] = 0\n",
    "\n",
    "# 각 간선에 대한 정보를 입력받아, 그 값으로 초기화\n",
    "for _ in range(m):\n",
    "  # A에서 B로 도달 가능 = A < B 라는 성적 비교 가\n",
    "  a, b = map(int, input().split())\n",
    "    graph[a][b] = 1\n",
    "\n",
    "# 점화식에 따라 플로이드 워셜 알고리즘을 수행\n",
    "for k in range(1, n+1):\n",
    "    for a in range(1, n+1):\n",
    "        for b in range(1, n+1):\n",
    "            graph[a][b] = min(graph[a][b], graph[a][k]+ graph[k][b])\n",
    "\n",
    "count = [0] * (n+1)\n",
    "\n",
    "for i in range(1, n+1):\n",
    "    for j in range(1, n+1):\n",
    "        if (graph[i][j] != INF or graph[j][i] != INF) and (graph[i][j] != 0):\n",
    "            count[i] += 1\n",
    "\n",
    "result = 0\n",
    "\n",
    "# print(count) (도달 가능 노드 수 출력)\n",
    "for p in count:\n",
    "    if p == (n-1):\n",
    "        result += 1\n",
    "\n",
    "print(result)"
   ]
  },
  {
   "cell_type": "code",
   "execution_count": 8,
   "metadata": {},
   "outputs": [
    {
     "data": {
      "text/plain": [
       "[[1000000000,\n",
       "  1000000000,\n",
       "  1000000000,\n",
       "  1000000000,\n",
       "  1000000000,\n",
       "  1000000000,\n",
       "  1000000000],\n",
       " [1000000000, 0, 2, 1000000000, 2, 1, 3],\n",
       " [1000000000, 1000000000, 0, 1000000000, 1000000000, 1000000000, 1000000000],\n",
       " [1000000000, 1000000000, 2, 0, 1, 1000000000, 2],\n",
       " [1000000000, 1000000000, 1, 1000000000, 0, 1000000000, 1],\n",
       " [1000000000, 1000000000, 1, 1000000000, 1, 0, 2],\n",
       " [1000000000, 1000000000, 1000000000, 1000000000, 1000000000, 1000000000, 0]]"
      ]
     },
     "execution_count": 8,
     "metadata": {},
     "output_type": "execute_result"
    }
   ],
   "source": [
    "graph"
   ]
  }
 ],
 "metadata": {
  "kernelspec": {
   "display_name": "Python 3",
   "language": "python",
   "name": "python3"
  },
  "language_info": {
   "codemirror_mode": {
    "name": "ipython",
    "version": 3
   },
   "file_extension": ".py",
   "mimetype": "text/x-python",
   "name": "python",
   "nbconvert_exporter": "python",
   "pygments_lexer": "ipython3",
   "version": "3.7.6"
  }
 },
 "nbformat": 4,
 "nbformat_minor": 4
}
