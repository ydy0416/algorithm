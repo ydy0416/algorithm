{
 "cells": [
  {
   "cell_type": "code",
   "execution_count": 3,
   "metadata": {},
   "outputs": [
    {
     "name": "stdout",
     "output_type": "stream",
     "text": [
      "6 5\n",
      "1\n",
      "1 2 2\n",
      "1 3 5\n",
      "1 4 1\n",
      "2 3 3\n",
      "2 4 2\n"
     ]
    },
    {
     "data": {
      "text/plain": [
       "[[], [(2, 2), (3, 5), (4, 1)], [(3, 3), (4, 2)], [], [], [], []]"
      ]
     },
     "execution_count": 3,
     "metadata": {},
     "output_type": "execute_result"
    }
   ],
   "source": [
    "INF=int(1e9)\n",
    "\n",
    "#노드의 개수, 간선의 개수를 입력받기\n",
    "n,m=map(int,input().split())\n",
    "\n",
    "#시작노드 번호를 입력받기\n",
    "start=int(input())\n",
    "\n",
    "#각 노드에 연결되어 있는 노드에 대한 정보를 담는 리스트를 만들기\n",
    "graph=[[] for i in range(n+1)]\n",
    "\n",
    "#방문한 적 있는지 체크하는 목적의 리스트 만들기\n",
    "visited=[False]*(n+1)\n",
    "\n",
    "#최단거리 테이블을 모두 무한으로 초기화\n",
    "distance=[INF]*(n+1)\n",
    "\n",
    "#모든 간선 정보를 입력받기\n",
    "for _ in range(m):\n",
    "    a,b,c=map(int,input().split())\n",
    "    #a번 노드에서 b번 노드로 가는 비용이 c\n",
    "    graph[a].append((b,c))\n",
    "graph"
   ]
  }
 ],
 "metadata": {
  "kernelspec": {
   "display_name": "Python 3",
   "language": "python",
   "name": "python3"
  },
  "language_info": {
   "codemirror_mode": {
    "name": "ipython",
    "version": 3
   },
   "file_extension": ".py",
   "mimetype": "text/x-python",
   "name": "python",
   "nbconvert_exporter": "python",
   "pygments_lexer": "ipython3",
   "version": "3.7.6"
  }
 },
 "nbformat": 4,
 "nbformat_minor": 4
}
