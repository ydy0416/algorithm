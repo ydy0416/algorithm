{
 "cells": [
  {
   "cell_type": "code",
   "execution_count": 1,
   "metadata": {},
   "outputs": [
    {
     "name": "stdout",
     "output_type": "stream",
     "text": [
      "4 6\n",
      "1 2 3\n",
      "2 3 3\n",
      "3 4 1\n",
      "1 3 5\n",
      "2 4 5\n",
      "1 4 4\n",
      "2 3\n",
      "7\n"
     ]
    }
   ],
   "source": [
    "n,e=map(int,input().split())\n",
    "INF=int(1e9)\n",
    "graph=[[INF]*(n+1) for _ in range(n+1)]\n",
    "#그래프 입력받기\n",
    "for i in range(e):\n",
    "    a,b,c=map(int,input().split())\n",
    "    graph[a][b]=c\n",
    "    graph[b][a]=c\n",
    "\n",
    "q,w=map(int,input().split())\n",
    "\n",
    "# #지우기\n",
    "# INF=int(1e9)\n",
    "# graph=[[1000000000, 1000000000, 1000000000, 1000000000, 1000000000],\n",
    "#  [1000000000, 0, 3, 5, 4],\n",
    "#  [1000000000, 3, 0, 3, 4],\n",
    "#  [1000000000, 5, 3, 0, 1],\n",
    "#  [1000000000, 4, 4, 1, 0]]\n",
    "# q,w=2,3\n",
    "# #지우기\n",
    "\n",
    "# #꼭 거쳐가야하는 노드 입력받기\n",
    "# q,w=map(int,input().split())\n",
    "\n",
    "#플로이드 워셜 알고리즘\n",
    "for k in range(1,n+1):\n",
    "    for a in range(1,n+1):\n",
    "        for b in range(1,n+1):\n",
    "            if a==b:\n",
    "                graph[a][b]=0\n",
    "                continue\n",
    "            graph[a][b]=min(graph[a][b],graph[a][k]+graph[k][b])\n",
    "            \n",
    "#꼭 거쳐가야함\n",
    "ans=min(graph[1][q]+graph[q][w]+graph[w][n],graph[1][w]+graph[w][q]+graph[q][n])\n",
    "print(ans)"
   ]
  },
  {
   "cell_type": "code",
   "execution_count": null,
   "metadata": {},
   "outputs": [],
   "source": [
    "import sys\n",
    "input=sys.stdin.readline\n",
    "n,e=map(int,input().split())\n",
    "INF=int(1e9)\n",
    "graph=[[INF]*(n+1) for _ in range(n+1)]\n",
    "#그래프 입력받기\n",
    "for i in range(e):\n",
    "    a,b,c=map(int,input().split())\n",
    "    graph[a][b]=c\n",
    "    graph[b][a]=c\n",
    "\n",
    "#꼭 거쳐가야하는 노드\n",
    "q,w=map(int,input().split())\n",
    "\n",
    "#플로이드 워셜 알고리즘\n",
    "for k in range(1,n+1):\n",
    "    for a in range(1,n+1):\n",
    "        for b in range(1,n+1):\n",
    "            if a==b:\n",
    "                graph[a][b]=0\n",
    "            graph[a][b]=min(graph[a][b],graph[a][k]+graph[k][b])\n",
    "            \n",
    "#꼭 거쳐가야함\n",
    "ans=min(graph[1][q]+graph[q][w]+graph[w][n],graph[1][w]+graph[w][q]+graph[q][n])\n",
    "\n",
    "if ans==INF:\n",
    "    print(-1)\n",
    "else:\n",
    "    print(ans)"
   ]
  },
  {
   "cell_type": "code",
   "execution_count": 2,
   "metadata": {},
   "outputs": [
    {
     "data": {
      "text/plain": [
       "[[1000000000, 1000000000, 1000000000, 1000000000, 1000000000],\n",
       " [1000000000, 0, 3, 5, 4],\n",
       " [1000000000, 3, 0, 3, 4],\n",
       " [1000000000, 5, 3, 0, 1],\n",
       " [1000000000, 4, 4, 1, 0]]"
      ]
     },
     "execution_count": 2,
     "metadata": {},
     "output_type": "execute_result"
    }
   ],
   "source": [
    "graph"
   ]
  }
 ],
 "metadata": {
  "kernelspec": {
   "display_name": "Python 3",
   "language": "python",
   "name": "python3"
  },
  "language_info": {
   "codemirror_mode": {
    "name": "ipython",
    "version": 3
   },
   "file_extension": ".py",
   "mimetype": "text/x-python",
   "name": "python",
   "nbconvert_exporter": "python",
   "pygments_lexer": "ipython3",
   "version": "3.7.6"
  }
 },
 "nbformat": 4,
 "nbformat_minor": 4
}
